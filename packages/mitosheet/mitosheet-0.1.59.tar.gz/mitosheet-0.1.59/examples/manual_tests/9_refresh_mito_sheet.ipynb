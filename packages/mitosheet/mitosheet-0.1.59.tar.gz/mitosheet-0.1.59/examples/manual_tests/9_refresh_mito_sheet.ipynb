{
 "cells": [
  {
   "cell_type": "code",
   "execution_count": 1,
   "metadata": {},
   "outputs": [
    {
     "data": {
      "application/vnd.jupyter.widget-view+json": {
       "model_id": "6f5c755e79af4affa984e9bdc9563b3a",
       "version_major": 2,
       "version_minor": 0
      },
      "text/plain": [
       "MitoWidget(analysis_name='UUID-6b7d8f6b-4b3a-4a4d-bf6c-27f659646415', code_json='{\"imports\": \"from mitosheet i…"
      ]
     },
     "metadata": {},
     "output_type": "display_data"
    }
   ],
   "source": [
    "\"\"\"\n",
    "This file tests some complex analysis with Mito, where mulitple mito instances\n",
    "exist in the same workbook. \n",
    "\n",
    "Instructions:\n",
    "1. Run this cell. Save the workbook.\n",
    "2. Refresh the page. Make sure the mito sheet reappears.\n",
    "3. Add a column, and set it to = Nums + 1.\n",
    "4. Check the values are correct, and that sheet tab has the correct data frame name at the bottom.\n",
    "5. Update the formula in B to = Nums + 2, and check it updates the sheet and codeblock correctly.  \n",
    "\"\"\"\n",
    "import mitosheet\n",
    "import pandas as pd\n",
    "df1 = pd.DataFrame(data={'Nums': [1, 2]})\n",
    "mitosheet.sheet(df1)"
   ]
  },
  {
   "cell_type": "code",
   "execution_count": null,
   "metadata": {},
   "outputs": [],
   "source": []
  },
  {
   "cell_type": "code",
   "execution_count": null,
   "metadata": {},
   "outputs": [],
   "source": []
  },
  {
   "cell_type": "code",
   "execution_count": null,
   "metadata": {},
   "outputs": [],
   "source": []
  }
 ],
 "metadata": {
  "kernelspec": {
   "display_name": "Python 3",
   "language": "python",
   "name": "python3"
  },
  "language_info": {
   "codemirror_mode": {
    "name": "ipython",
    "version": 3
   },
   "file_extension": ".py",
   "mimetype": "text/x-python",
   "name": "python",
   "nbconvert_exporter": "python",
   "pygments_lexer": "ipython3",
   "version": "3.8.5"
  },
  "widgets": {
   "application/vnd.jupyter.widget-state+json": {
    "state": {
     "6f5c755e79af4affa984e9bdc9563b3a": {
      "model_module": "mitosheet",
      "model_module_version": "^0.1.58",
      "model_name": "ExampleModel",
      "state": {
       "_model_module_version": "^0.1.58",
       "_view_module_version": "^0.1.58",
       "analysis_name": "UUID-6b7d8f6b-4b3a-4a4d-bf6c-27f659646415",
       "code_json": "{\"imports\": \"from mitosheet import *\", \"code\": []}",
       "column_filters_json": "[{\"Nums\": {\"operator\": \"And\", \"filters\": []}}]",
       "column_spreadsheet_code_json": "[{\"Nums\": \"\"}]",
       "column_type_json": "[{\"Nums\": \"number\"}]",
       "df_names_json": "{\"df_names\": [\"df1\"]}",
       "df_shape_json": "[{\"rows\": 2, \"cols\": 1}]",
       "layout": "IPY_MODEL_83c2f36c801a4fc0a2293856d861478d",
       "saved_analysis_names_json": "[\"Testing\"]",
       "sheet_json": "[{\"columns\": [\"Nums\"], \"index\": [0, 1], \"data\": [[1], [2]]}]",
       "user_id": "nate",
       "value": "Hello World"
      }
     },
     "83c2f36c801a4fc0a2293856d861478d": {
      "model_module": "@jupyter-widgets/base",
      "model_module_version": "1.2.0",
      "model_name": "LayoutModel",
      "state": {}
     }
    },
    "version_major": 2,
    "version_minor": 0
   }
  }
 },
 "nbformat": 4,
 "nbformat_minor": 4
}
