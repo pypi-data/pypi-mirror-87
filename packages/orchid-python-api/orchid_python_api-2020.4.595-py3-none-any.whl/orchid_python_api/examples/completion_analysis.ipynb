{
 "cells": [
  {
   "cell_type": "code",
   "execution_count": null,
   "metadata": {
    "collapsed": false,
    "jupyter": {
     "outputs_hidden": false
    },
    "pycharm": {
     "name": "#%%\n"
    }
   },
   "outputs": [],
   "source": [
    "#  Copyright 2017-2020 Reveal Energy Services, Inc\n",
    "#\n",
    "#  Licensed under the Apache License, Version 2.0 (the \"License\");\n",
    "#  you may not use this file except in compliance with the License.\n",
    "#  You may obtain a copy of the License at\n",
    "#\n",
    "#      http://www.apache.org/licenses/LICENSE-2.0\n",
    "#\n",
    "#  Unless required by applicable law or agreed to in writing, software\n",
    "#  distributed under the License is distributed on an \"AS IS\" BASIS,\n",
    "#  WITHOUT WARRANTIES OR CONDITIONS OF ANY KIND, either express or implied.\n",
    "#  See the License for the specific language governing permissions and\n",
    "#  limitations under the License.\n",
    "#\n",
    "# This file is part of Orchid and related technologies.\n",
    "#"
   ]
  },
  {
   "cell_type": "markdown",
   "metadata": {},
   "source": [
    "# Example: Using Pandas to Analyze Completion Parameters"
   ]
  },
  {
   "cell_type": "markdown",
   "metadata": {
    "pycharm": {
     "name": "#%% md\n"
    }
   },
   "source": [
    "This notebook illustrates using the Orchid* Python API and the pandas package to\n",
    "perform completion analysis.\n",
    "\n",
    "(*Orchid is a mark of Reveal Energy Services, Inc)"
   ]
  },
  {
   "cell_type": "markdown",
   "metadata": {
    "pycharm": {
     "name": "#%% md\n"
    }
   },
   "source": [
    "## 0.5 Import packages"
   ]
  },
  {
   "cell_type": "markdown",
   "metadata": {
    "pycharm": {
     "name": "#%% md\n"
    }
   },
   "source": [
    "The only import needed for the Python API is `orchid` itself."
   ]
  },
  {
   "cell_type": "code",
   "execution_count": null,
   "metadata": {
    "collapsed": false,
    "jupyter": {
     "outputs_hidden": false
    },
    "pycharm": {
     "name": "#%%\n"
    }
   },
   "outputs": [],
   "source": [
    "import orchid"
   ]
  },
  {
   "cell_type": "markdown",
   "metadata": {
    "pycharm": {
     "name": "#%% md\n"
    }
   },
   "source": [
    "The remaining imports are standard python packages to support the analysis."
   ]
  },
  {
   "cell_type": "code",
   "execution_count": null,
   "metadata": {
    "collapsed": false,
    "jupyter": {
     "outputs_hidden": false
    },
    "pycharm": {
     "name": "#%%\n"
    }
   },
   "outputs": [],
   "source": [
    "import numpy as np\n",
    "import pandas as pd\n",
    "import matplotlib.pyplot as plt\n",
    "# The following import is included for its \"side-effects\" of an improved color schemes and\n",
    "# plot styles. (See the \"Tip\" in section 9.2 of \"Python for Data Analysis\" for details.)\n",
    "import seaborn as sns\n",
    "from scipy import integrate"
   ]
  },
  {
   "cell_type": "markdown",
   "metadata": {
    "jupyter": {
     "outputs_hidden": false
    },
    "pycharm": {
     "name": "#%% md\n"
    }
   },
   "source": [
    "## 1.0 Load the .ifrac project"
   ]
  },
  {
   "cell_type": "markdown",
   "source": [
    "The following code simply captures the configured location of the Orchid training data. It is not needed to\n",
    "use the Orchid Python API itself, but it is used in this example to load well-known data."
   ],
   "metadata": {
    "collapsed": false
   }
  },
  {
   "cell_type": "code",
   "execution_count": null,
   "outputs": [],
   "source": [
    "orchid_training_data_path = orchid.training_data_path()"
   ],
   "metadata": {
    "collapsed": false,
    "pycharm": {
     "name": "#%%\n"
    }
   }
  },
  {
   "cell_type": "code",
   "execution_count": null,
   "metadata": {
    "collapsed": false,
    "jupyter": {
     "outputs_hidden": false
    },
    "pycharm": {
     "name": "#%%\n"
    }
   },
   "outputs": [],
   "source": [
    "bakken_project = orchid.load_project(str(orchid_training_data_path.joinpath(\n",
    "    'frankNstein_Bakken_UTM13_FEET.ifrac')))"
   ]
  },
  {
   "cell_type": "markdown",
   "metadata": {
    "pycharm": {
     "name": "#%% md\n"
    }
   },
   "source": [
    "## 2.0 Define a function to compute the stage treatment data"
   ]
  },
  {
   "cell_type": "code",
   "execution_count": null,
   "metadata": {
    "collapsed": false,
    "jupyter": {
     "outputs_hidden": false
    },
    "pycharm": {
     "name": "#%%\n"
    }
   },
   "outputs": [],
   "source": [
    "def compute_stage_treatment_aggregates(treatment_stage):\n",
    "    \n",
    "    def slurry_rate_per_min_to_per_second_conversion_factor():\n",
    "        source_slurry_rate_unit = treatment_curves['Slurry Rate'].sampled_quantity_unit()\n",
    "        target_slurry_rate_unit = \\\n",
    "            f'{orchid.slurry_rate_volume_unit(source_slurry_rate_unit)}/s'\n",
    "        local_result = orchid.get_conversion_factor(source_slurry_rate_unit,\n",
    "                                                    target_slurry_rate_unit)\n",
    "        return local_result\n",
    "\n",
    "    def slurry_rate_bbl_per_second_to_gal_per_second_conversion_factor():\n",
    "        local_result = orchid.get_conversion_factor('bbl/s', 'gal/s')\n",
    "        return local_result\n",
    "\n",
    "    treatment_curves = treatment_stage.treatment_curves()\n",
    "    if not treatment_curves:\n",
    "        return None\n",
    "    \n",
    "    raw_treatment_series = {n: c.time_series() for n, c in (treatment_curves.items())}\n",
    "    stage_start_time = np.datetime64(stage.start_time)\n",
    "    stage_stop_time = np.datetime64(stage.stop_time)\n",
    "    \n",
    "    fluid_per_sec = \\\n",
    "        (raw_treatment_series[orchid.SLURRY_RATE][stage_start_time:stage_stop_time] *\n",
    "         slurry_rate_per_min_to_per_second_conversion_factor())\n",
    "    stage_fluid = integrate.trapz(fluid_per_sec.values, \n",
    "                                  (fluid_per_sec.index - stage_start_time).seconds)\n",
    "    \n",
    "    stage_concentration = \\\n",
    "        raw_treatment_series[orchid.PROPPANT_CONCENTRATION][stage_start_time:stage_stop_time]\n",
    "    proppant_per_sec = (fluid_per_sec * \n",
    "                        slurry_rate_bbl_per_second_to_gal_per_second_conversion_factor() *\n",
    "                        stage_concentration)\n",
    "    stage_proppant = integrate.trapz(proppant_per_sec.values, \n",
    "                                     (proppant_per_sec.index - stage_start_time).seconds)\n",
    "    \n",
    "    stage_pressure = \\\n",
    "        raw_treatment_series[orchid.TREATING_PRESSURE][stage_start_time:stage_stop_time]\n",
    "    median_stage_pressure = stage_pressure.median()\n",
    "    \n",
    "    # Assumes that all three curves have the same time basis; that is, \n",
    "    # that the index for each series is equal.\n",
    "    treatment_curves = pd.DataFrame.from_dict(raw_treatment_series)\n",
    "    treatment_curves['dt'] = ((treatment_curves.index.values - stage_start_time) /\n",
    "                              np.timedelta64(1, 's'))\n",
    "    \n",
    "    return stage_fluid, stage_proppant, median_stage_pressure"
   ]
  },
  {
   "cell_type": "markdown",
   "metadata": {
    "pycharm": {
     "name": "#%% md\n"
    }
   },
   "source": [
    "## 3.0 Build a pandas data frame"
   ]
  },
  {
   "cell_type": "code",
   "execution_count": null,
   "metadata": {
    "collapsed": false,
    "jupyter": {
     "outputs_hidden": false
    },
    "pycharm": {
     "name": "#%%\n"
    }
   },
   "outputs": [],
   "source": [
    "# Remember the project units\n",
    "bakken_units = {'length': bakken_project.unit_abbreviation('length'),\n",
    "         'mass': bakken_project.unit_abbreviation('mass'),\n",
    "         'pressure': bakken_project.unit_abbreviation('pressure'),\n",
    "         'slurry volume': orchid.slurry_rate_volume_unit(bakken_project.unit_abbreviation('slurry rate')),\n",
    "         'proppant mass': orchid.proppant_concentration_mass_unit(\n",
    "             bakken_project.unit_abbreviation('proppant concentration'))}"
   ]
  },
  {
   "cell_type": "code",
   "execution_count": null,
   "metadata": {
    "collapsed": false,
    "jupyter": {
     "outputs_hidden": false
    },
    "pycharm": {
     "name": "#%%\n"
    }
   },
   "outputs": [],
   "source": [
    "# Calculate the stage results\n",
    "stage_results = []\n",
    "for well in bakken_project.wells:\n",
    "    stages = list(well.stages)\n",
    "\n",
    "    for stage in stages:\n",
    "        \n",
    "        treatment_aggregates = compute_stage_treatment_aggregates(stage)\n",
    "        # Skip stages with no aggregates. These stages most likely are from \n",
    "        # an untreated monitor well.\n",
    "        if not treatment_aggregates:\n",
    "            continue\n",
    "            \n",
    "        stage_fluid, stage_proppant, median_stage_pressure = treatment_aggregates\n",
    "        stage_results.append((bakken_project.name, well.name, stage.display_stage_number,\n",
    "                              stage.md_top(bakken_units['length']).magnitude,\n",
    "                              stage.md_bottom(bakken_units['length']).magnitude,\n",
    "                              stage_fluid, stage_proppant, median_stage_pressure))"
   ]
  },
  {
   "cell_type": "code",
   "execution_count": null,
   "metadata": {
    "collapsed": false,
    "jupyter": {
     "outputs_hidden": false
    },
    "pycharm": {
     "name": "#%%\n"
    }
   },
   "outputs": [],
   "source": [
    "# Provide a way to manage DataFrame column names (which include units) using simpler,\n",
    "# semantic identifiers. Creating the column names helps me avoid \"typos\" involved in\n",
    "# getting the (project-specific) units correct, but is not necessary in a typical\n",
    "# interactive session.\n",
    "\n",
    "bakken_columns = {'project': 'Project',\n",
    "                  'well': 'Well',\n",
    "                  'stage': 'Stage',\n",
    "                  'md_top': f'MD Top ({bakken_units[\"length\"]})',\n",
    "                  'md_bottom': f'MD Bottom ({bakken_units[\"length\"]})',\n",
    "                  'total_fluid': f'Total Fluid ({bakken_units[\"slurry volume\"]})',\n",
    "                  'total_proppant': f'Total Proppant ({bakken_units[\"proppant mass\"]})',\n",
    "                  'median_treating': f'Median Treating Pressure ({bakken_units[\"pressure\"]})'}"
   ]
  },
  {
   "cell_type": "code",
   "execution_count": null,
   "metadata": {
    "collapsed": false,
    "jupyter": {
     "outputs_hidden": false
    },
    "pycharm": {
     "name": "#%%\n"
    }
   },
   "outputs": [],
   "source": [
    "# Create the data frame\n",
    "bakken_summaries = pd.DataFrame(data=stage_results,\n",
    "                                columns=bakken_columns.values())\n",
    "bakken_summaries.head()"
   ]
  },
  {
   "cell_type": "markdown",
   "metadata": {
    "pycharm": {
     "name": "#%% md\n"
    }
   },
   "source": [
    "### 3.1 Compute the stage length directly from the data frame"
   ]
  },
  {
   "cell_type": "code",
   "execution_count": null,
   "metadata": {
    "collapsed": false,
    "jupyter": {
     "outputs_hidden": false
    },
    "pycharm": {
     "name": "#%%"
    }
   },
   "outputs": [],
   "source": [
    "bakken_summaries[f'Stage Length ({bakken_units[\"length\"]})'] = \\\n",
    "    bakken_summaries.apply(\n",
    "        lambda s: s[bakken_columns['md_bottom']] -\n",
    "                  s[bakken_columns['md_top']], axis=1)\n",
    "bakken_columns['stage_length'] = bakken_summaries.columns[-1]\n",
    "bakken_summaries.head()"
   ]
  },
  {
   "cell_type": "markdown",
   "metadata": {
    "pycharm": {
     "name": "#%% md\n"
    }
   },
   "source": [
    "### 3.2 Now compute the proppant loading for each stage"
   ]
  },
  {
   "cell_type": "code",
   "execution_count": null,
   "metadata": {
    "collapsed": false,
    "jupyter": {
     "outputs_hidden": false
    },
    "pycharm": {
     "name": "#%%\n"
    }
   },
   "outputs": [],
   "source": [
    "bakken_summaries[f'Proppant loading ({bakken_units[\"proppant mass\"]}/{bakken_units[\"length\"]})'] = \\\n",
    "    bakken_summaries.apply(\n",
    "        lambda s: s[bakken_columns['total_proppant']] /\n",
    "                  s[bakken_columns['stage_length']], axis=1)\n",
    "bakken_columns['proppant_loading'] = bakken_summaries.columns[-1]\n",
    "bakken_summaries.head()"
   ]
  },
  {
   "cell_type": "markdown",
   "metadata": {
    "pycharm": {
     "name": "#%% md\n"
    }
   },
   "source": [
    "## 4.0 Completion questions"
   ]
  },
  {
   "cell_type": "markdown",
   "metadata": {
    "pycharm": {
     "name": "#%% md\n"
    }
   },
   "source": [
    "### 4.1 What is the median proppant intensity per well?"
   ]
  },
  {
   "cell_type": "code",
   "execution_count": null,
   "metadata": {
    "collapsed": false,
    "jupyter": {
     "outputs_hidden": false
    },
    "pycharm": {
     "name": "#%%\n"
    }
   },
   "outputs": [],
   "source": [
    "bakken_summaries[[bakken_columns['well'],\n",
    "                  bakken_columns['proppant_loading']]]. \\\n",
    "    groupby(bakken_columns['well']).median()"
   ]
  },
  {
   "cell_type": "code",
   "execution_count": null,
   "metadata": {},
   "outputs": [],
   "source": [
    "groups = bakken_summaries.groupby(bakken_columns['well'])\n",
    "\n",
    "fig, ax = plt.subplots()\n",
    "ax.margins(0.05) # Optional, just adds 5% padding to the autoscaling\n",
    "for name, group in groups:\n",
    "    ax.plot(group[bakken_columns['stage']],\n",
    "            group[bakken_columns['proppant_loading']],\n",
    "            marker='o', linestyle='', ms=6, label=name)\n",
    "ax.legend()\n",
    "plt.rcParams['figure.dpi'] = 150\n",
    "plt.show()"
   ]
  },
  {
   "cell_type": "markdown",
   "metadata": {
    "pycharm": {
     "name": "#%% md\n"
    }
   },
   "source": [
    "That's a little hard to interpret with the outliers"
   ]
  },
  {
   "cell_type": "code",
   "execution_count": null,
   "metadata": {
    "collapsed": false,
    "jupyter": {
     "outputs_hidden": false
    },
    "pycharm": {
     "name": "#%%\n"
    }
   },
   "outputs": [],
   "source": [
    "# Plot\n",
    "groups = bakken_summaries[bakken_summaries[bakken_columns['stage']] > 5]. \\\n",
    "    groupby(bakken_columns['well'])\n",
    "\n",
    "fig, ax = plt.subplots()\n",
    "ax.margins(0.05) # Optional, just adds 5% padding to the autoscaling\n",
    "for name, group in groups:\n",
    "    ax.plot(group[bakken_columns['stage']],\n",
    "            group[bakken_columns['proppant_loading']],\n",
    "            marker='o', linestyle='', ms=6, label=name)\n",
    "ax.legend()\n",
    "ax.set_title(f'Proppant Loading by Stage')\n",
    "ax.set_xlabel('Stage Number')\n",
    "ax.set_ylabel(bakken_columns['proppant_loading'])\n",
    "plt.rcParams['figure.dpi'] = 150\n",
    "plt.show()"
   ]
  },
  {
   "cell_type": "markdown",
   "metadata": {
    "pycharm": {
     "name": "#%% md\n"
    }
   },
   "source": [
    "That's a little busy. Let's clean it up."
   ]
  },
  {
   "cell_type": "code",
   "execution_count": null,
   "metadata": {
    "collapsed": false,
    "jupyter": {
     "outputs_hidden": false
    },
    "pycharm": {
     "name": "#%%\n"
    }
   },
   "outputs": [],
   "source": [
    "def build_proppant_loading_plot(data_frame):\n",
    "    groups = data_frame.groupby(bakken_columns['well'])\n",
    "\n",
    "    fig, ax = plt.subplots(len(groups), sharex=True, sharey=True)\n",
    "    fig.suptitle(f'{bakken_columns[\"proppant_loading\"]} by Stage')\n",
    "    i=0\n",
    "    colors=['tab:blue', 'tab:orange', 'tab:green', 'tab:red', 'tab:purple',\n",
    "            'tab:brown', 'tab:pink', 'tab:gray', 'tab:olive', 'tab:cyan']\n",
    "    for name, group in groups:\n",
    "        ax[i].margins(0.05)\n",
    "        ax[i].plot(group[bakken_columns['stage']],\n",
    "                   group[bakken_columns['proppant_loading']],\n",
    "                   marker='o', linestyle='', ms=6, label=name)\n",
    "        ax[i].legend()\n",
    "        ax[i].set_xlabel('Stage Number')\n",
    "        i = i+1\n",
    "        # Hide x labels and tick labels for all but bottom plot.\n",
    "    for a in ax:\n",
    "        a.label_outer()\n",
    "    plt.rcParams['figure.dpi'] = 150\n",
    "    plt.show()\n",
    "\n",
    "build_proppant_loading_plot(bakken_summaries[bakken_summaries[bakken_columns['stage']]>5])"
   ]
  },
  {
   "cell_type": "markdown",
   "metadata": {
    "pycharm": {
     "name": "#%% md\n"
    }
   },
   "source": [
    "### 4.2 What is the median treating pressure per well?"
   ]
  },
  {
   "cell_type": "code",
   "execution_count": null,
   "metadata": {
    "collapsed": false,
    "jupyter": {
     "outputs_hidden": false
    },
    "pycharm": {
     "name": "#%%\n"
    }
   },
   "outputs": [],
   "source": [
    "bakken_summaries[[bakken_columns['well'],\n",
    "                  bakken_columns['median_treating']]]. \\\n",
    "    groupby(bakken_columns['well']).median()"
   ]
  },
  {
   "cell_type": "code",
   "execution_count": null,
   "metadata": {
    "collapsed": false,
    "jupyter": {
     "outputs_hidden": false
    },
    "pycharm": {
     "name": "#%%\n"
    }
   },
   "outputs": [],
   "source": [
    "groups = bakken_summaries.groupby(bakken_columns['well'])\n",
    "\n",
    "fig, ax = plt.subplots(3, sharex=True, sharey=True)\n",
    "fig.suptitle(f'{bakken_columns[\"median_treating\"]} by Stage')\n",
    "i=0\n",
    "colors=['tab:blue', 'tab:orange', 'tab:green',\n",
    "        'tab:purple', 'tab:yellow', 'tab:red', 'tab:black']\n",
    "for name, group in groups:\n",
    "    ax[i].margins(0.05)\n",
    "    ax[i].plot(group[bakken_columns['stage']],\n",
    "               group[bakken_columns['median_treating']],\n",
    "               colors[i], marker='o', linestyle='', ms=6, label=name)\n",
    "    ax[i].legend()\n",
    "    ax[i].set_xlabel('Stage Number')\n",
    "    i = i+1\n",
    "\n",
    "    # Hide x labels and tick labels for all but bottom plot.\n",
    "for a in ax:\n",
    "    a.label_outer()\n",
    "plt.show()"
   ]
  },
  {
   "cell_type": "markdown",
   "metadata": {
    "pycharm": {
     "name": "#%% md\n"
    }
   },
   "source": [
    "## 5.0 Add another .ifrac project"
   ]
  },
  {
   "cell_type": "code",
   "execution_count": null,
   "metadata": {
    "collapsed": false,
    "jupyter": {
     "outputs_hidden": false
    },
    "pycharm": {
     "name": "#%%\n"
    }
   },
   "outputs": [],
   "source": [
    "montney_project = orchid.load_project(str(orchid_training_data_path.joinpath(\n",
    "    'Project-frankNstein_Montney_UTM13_METERS.ifrac')))"
   ]
  },
  {
   "cell_type": "code",
   "execution_count": null,
   "metadata": {
    "collapsed": false,
    "jupyter": {
     "outputs_hidden": false
    },
    "pycharm": {
     "name": "#%%\n"
    }
   },
   "outputs": [],
   "source": [
    "# Remember the project units\n",
    "montney_units = {'length': montney_project.unit_abbreviation('length'),\n",
    "         'mass': montney_project.unit_abbreviation('mass'),\n",
    "         'pressure': montney_project.unit_abbreviation('pressure'),\n",
    "         'slurry volume': orchid.slurry_rate_volume_unit(\n",
    "             montney_project.unit_abbreviation('slurry rate')),\n",
    "         'proppant mass': orchid.proppant_concentration_mass_unit(\n",
    "             montney_project.unit_abbreviation('proppant concentration'))}"
   ]
  },
  {
   "cell_type": "code",
   "execution_count": null,
   "metadata": {
    "collapsed": false,
    "jupyter": {
     "outputs_hidden": false
    },
    "pycharm": {
     "name": "#%%\n"
    }
   },
   "outputs": [],
   "source": [
    "# Calculate the stage results for the Montney project\n",
    "stage_results = []\n",
    "for well in montney_project.wells:\n",
    "    stages = list(well.stages)\n",
    "\n",
    "    for stage in stages:\n",
    "\n",
    "        treatment_aggregates = compute_stage_treatment_aggregates(stage)\n",
    "        # Skip stages with no aggregates. These stages most likely are from\n",
    "        # an untreated monitor well.\n",
    "        if not treatment_aggregates:\n",
    "            continue\n",
    "\n",
    "        stage_fluid, stage_proppant, median_stage_pressure = treatment_aggregates\n",
    "        stage_results.append((montney_project.name, well.name, stage.display_stage_number,\n",
    "                              stage.md_top(montney_units['length']).magnitude,\n",
    "                              stage.md_bottom(montney_units['length']).magnitude,\n",
    "                              stage_fluid, stage_proppant, median_stage_pressure))"
   ]
  },
  {
   "cell_type": "code",
   "execution_count": null,
   "metadata": {
    "collapsed": false,
    "jupyter": {
     "outputs_hidden": false
    },
    "pycharm": {
     "name": "#%%\n"
    }
   },
   "outputs": [],
   "source": [
    "# Provide a way to manage DataFrame column names (which include units) using simpler,\n",
    "# semantic identifiers.\n",
    "\n",
    "montney_columns = {'project': 'Project',\n",
    "                  'well': 'Well',\n",
    "                  'stage': 'Stage',\n",
    "                  'md_top': f'MD Top ({montney_units[\"length\"]})',\n",
    "                  'md_bottom': f'MD Bottom ({montney_units[\"length\"]})',\n",
    "                  'total_fluid': f'Total Fluid ({montney_units[\"slurry volume\"]})',\n",
    "                  'total_proppant': f'Total Proppant ({montney_units[\"proppant mass\"]})',\n",
    "                  'median_treating': f'Median Treating Pressure ({montney_units[\"pressure\"]})'}"
   ]
  },
  {
   "cell_type": "code",
   "execution_count": null,
   "metadata": {
    "collapsed": false,
    "jupyter": {
     "outputs_hidden": false
    },
    "pycharm": {
     "name": "#%%\n"
    }
   },
   "outputs": [],
   "source": [
    "# Create the Montney data frame\n",
    "montney_summaries = pd.DataFrame(data=stage_results,\n",
    "                                columns=montney_columns.values())\n",
    "\n",
    "montney_summaries[f'Stage Length ({montney_units[\"length\"]})'] = \\\n",
    "    montney_summaries.apply(\n",
    "        lambda s: s[montney_columns['md_bottom']] -\n",
    "                  s[montney_columns['md_top']], axis=1)\n",
    "montney_columns['stage_length'] = montney_summaries.columns[-1]\n",
    "\n",
    "montney_summaries[f'Proppant loading ({montney_units[\"proppant mass\"]}/'\n",
    "                  f'{montney_units[\"length\"]})'] = \\\n",
    "    montney_summaries.apply(\n",
    "        lambda s: s[montney_columns['total_proppant']] /\n",
    "                  s[montney_columns['stage_length']], axis=1)\n",
    "montney_columns['proppant_loading'] = montney_summaries.columns[-1]\n",
    "\n",
    "montney_summaries.head()"
   ]
  },
  {
   "cell_type": "markdown",
   "metadata": {
    "pycharm": {
     "name": "#%% md\n"
    }
   },
   "source": [
    "### 5.1 Combine the data for the two projects."
   ]
  },
  {
   "cell_type": "markdown",
   "metadata": {
    "pycharm": {
     "name": "#%% md\n"
    }
   },
   "source": [
    "Because the frankNstein_Bakken_UTM13_FEET project is in US Oilfield units and the\n",
    "Project-frankNstein_Montney_UTM13_METERS project is in metric units, I'll need to\n",
    "convert one to the other."
   ]
  },
  {
   "cell_type": "code",
   "execution_count": null,
   "metadata": {
    "collapsed": false,
    "jupyter": {
     "outputs_hidden": false
    },
    "pycharm": {
     "name": "#%%\n"
    }
   },
   "outputs": [],
   "source": [
    "# Calculate the stage results in US oilfield units for the Montney project\n",
    "stage_results = []\n",
    "for well in montney_project.wells:\n",
    "    stages = list(well.stages)\n",
    "\n",
    "    for stage in stages:\n",
    "\n",
    "        treatment_aggregates = compute_stage_treatment_aggregates(stage)\n",
    "        if not treatment_aggregates:\n",
    "            continue\n",
    "\n",
    "        # Convert stage aggregates to US oilfield units\n",
    "        stage_fluid = treatment_aggregates[0] * \\\n",
    "                      orchid.get_conversion_factor(montney_units['slurry volume'],\n",
    "                                                   bakken_units['slurry volume'])\n",
    "        stage_proppant = treatment_aggregates[1] *\\\n",
    "                         orchid.get_conversion_factor(montney_units['proppant mass'],\n",
    "                                                      bakken_units['proppant mass'])\n",
    "        median_stage_pressure = treatment_aggregates[2] * \\\n",
    "                                orchid.get_conversion_factor(montney_units['pressure'],\n",
    "                                                             bakken_units['pressure'])\n",
    "\n",
    "        stage_results.append((montney_project.name, well.name,\n",
    "                              stage.display_stage_number,\n",
    "                              stage.md_top(bakken_units['length']).magnitude,\n",
    "                              stage.md_bottom(bakken_units['length']).magnitude,\n",
    "                              stage_fluid, stage_proppant, median_stage_pressure))"
   ]
  },
  {
   "cell_type": "code",
   "execution_count": null,
   "metadata": {
    "collapsed": false,
    "jupyter": {
     "outputs_hidden": false
    },
    "pycharm": {
     "name": "#%%\n"
    }
   },
   "outputs": [],
   "source": [
    "# Create the converted Montney data frame\n",
    "montney_us_summaries = pd.DataFrame(data=stage_results,\n",
    "                                    columns=list(bakken_columns.values())[:-2])\n",
    "\n",
    "montney_us_summaries[f'Stage Length ({bakken_units[\"length\"]})'] = \\\n",
    "    montney_us_summaries.apply(\n",
    "        lambda s: s[bakken_columns['md_bottom']] -\n",
    "                  s[bakken_columns['md_top']], axis=1)\n",
    "\n",
    "montney_us_summaries[f'Proppant loading ({bakken_units[\"proppant mass\"]}/'\n",
    "                  f'{bakken_units[\"length\"]})'] = \\\n",
    "    montney_us_summaries.apply(\n",
    "        lambda s: s[bakken_columns['total_proppant']] /\n",
    "                  s[bakken_columns['stage_length']], axis=1)\n",
    "\n",
    "montney_us_summaries.head()"
   ]
  },
  {
   "cell_type": "code",
   "execution_count": null,
   "metadata": {
    "collapsed": false,
    "jupyter": {
     "outputs_hidden": false
    },
    "pycharm": {
     "name": "#%%\n"
    }
   },
   "outputs": [],
   "source": [
    "combined = bakken_summaries[bakken_summaries[bakken_columns['stage']] > 5]\\\n",
    "    .append(montney_us_summaries)\n",
    "combined.head()"
   ]
  },
  {
   "cell_type": "code",
   "execution_count": null,
   "metadata": {
    "collapsed": false,
    "jupyter": {
     "outputs_hidden": false
    },
    "pycharm": {
     "name": "#%%\n"
    }
   },
   "outputs": [],
   "source": [
    "combined[[bakken_columns['well'], bakken_columns['proppant_loading']]]\\\n",
    "    .groupby(bakken_columns['well'])\\\n",
    "    .median()"
   ]
  },
  {
   "cell_type": "code",
   "execution_count": null,
   "metadata": {
    "collapsed": false,
    "jupyter": {
     "outputs_hidden": false
    },
    "pycharm": {
     "name": "#%%\n"
    }
   },
   "outputs": [],
   "source": [
    "combined[[bakken_columns['well'], bakken_columns['proppant_loading']]]\\\n",
    "    .groupby(bakken_columns['well'])\\\n",
    "    .agg({bakken_columns['proppant_loading']:['median', 'std']})"
   ]
  },
  {
   "cell_type": "code",
   "execution_count": null,
   "metadata": {
    "collapsed": false,
    "jupyter": {
     "outputs_hidden": false
    },
    "pycharm": {
     "name": "#%%\n"
    }
   },
   "outputs": [],
   "source": [
    "build_proppant_loading_plot(combined)"
   ]
  }
 ],
 "metadata": {
  "kernelspec": {
   "display_name": "Python 3",
   "language": "python",
   "name": "python3"
  },
  "language_info": {
   "codemirror_mode": {
    "name": "ipython",
    "version": 3
   },
   "file_extension": ".py",
   "mimetype": "text/x-python",
   "name": "python",
   "nbconvert_exporter": "python",
   "pygments_lexer": "ipython3",
   "version": "3.7.7"
  }
 },
 "nbformat": 4,
 "nbformat_minor": 4
}