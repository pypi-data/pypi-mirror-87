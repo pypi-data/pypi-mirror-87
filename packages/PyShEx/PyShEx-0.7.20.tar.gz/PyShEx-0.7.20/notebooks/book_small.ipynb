{
 "cells": [
  {
   "cell_type": "markdown",
   "metadata": {},
   "source": [
    "This example assumes that PyShEx has been installed in jupyter environment"
   ]
  },
  {
   "cell_type": "code",
   "execution_count": 1,
   "metadata": {},
   "outputs": [],
   "source": [
    "from typing import Optional\n",
    "from pyshex import ShExEvaluator\n",
    "import requests\n",
    "from rdflib import Namespace"
   ]
  },
  {
   "cell_type": "code",
   "execution_count": 2,
   "metadata": {},
   "outputs": [],
   "source": [
    "def fetch_uri(uri: str) -> Optional[str]:\n",
    "    print(f\"Fetching: {uri}...\", end=\"\")\n",
    "    req = requests.get(uri)\n",
    "    if not req.ok:\n",
    "        print(req.text)\n",
    "        return None\n",
    "    print(\"Done\")\n",
    "    return req.text"
   ]
  },
  {
   "cell_type": "code",
   "execution_count": 3,
   "metadata": {},
   "outputs": [],
   "source": [
    "BASE = Namespace(\"https://www.w3.org/2017/10/bibframe-shex/\")"
   ]
  },
  {
   "cell_type": "code",
   "execution_count": 4,
   "metadata": {},
   "outputs": [
    {
     "name": "stdout",
     "output_type": "stream",
     "text": [
      "Fetching: https://www.w3.org/2017/10/bibframe-shex/book-small.shex...Done\n",
      "Fetching: https://www.w3.org/2017/10/bibframe-shex/book-small.ttl...Done\n",
      "BASE <https://www.w3.org/2017/10/bibframe-shex/>\n",
      "PREFIX bf: <http://bibframe.org/vocab/>\n",
      "PREFIX madsrdf: <http://www.loc.gov/mads/rdf/v1#>\n",
      "PREFIX locid: <http://id.loc.gov/vocabulary/identifiers/>\n",
      "PREFIX rdf: <http://www.w3.org/1999/02/22-rdf-syntax-ns#>\n",
      "\n",
      "<Work> EXTRA a {\n",
      "  a [bf:Work] ;\n",
      "  bf:class @<Classification> ;\n",
      "  bf:creator @<Person> ;\n",
      "  bf:derivedFrom IRI ;\n",
      "  bf:hasRelationship @<Relationship> ;\n",
      "  bf:language [<http://id.loc.gov/vocabulary/languages/>~] ;\n",
      "  bf:subject @<Topic>* ;\n",
      " ^bf:instanceOf @<Instance> ;\n",
      "}\n",
      "\n",
      "<Classification> [<http://id.loc.gov/authorities/classification/>~] AND {\n",
      "  a [bf:LCC] ;\n",
      "  bf:label LITERAL\n",
      "}\n",
      "\n",
      "<Instance> {\n",
      "  a [bf:Instance] ;\n",
      "  bf:contributor @<Person> ;\n",
      "  bf:derivedFrom IRI ;\n",
      "  bf:instanceOf @<Work> ;\n",
      "}\n",
      "\n",
      "<Person> {\n",
      "  a [bf:Person] ;\n",
      "  bf:label LITERAL ;\n",
      "  madsrdf:elementList @<ElementList>\n",
      "}\n",
      "\n",
      "<ElementList> CLOSED {\n",
      "  rdf:first @<MadsElement> ;\n",
      "  rdf:rest  [rdf:nil] OR @<ElementList>\n",
      "}\n",
      "\n",
      "<MadsElement> {\n",
      "  a [ madsrdf:NameElement\n",
      "      madsrdf:DateNameElement\n",
      "      madsrdf:TopicElement\n",
      " ] ;\n",
      "  madsrdf:elementValue LITERAL\n",
      "}\n",
      "\n",
      "<Relationship> {\n",
      "  a [bf:Work] ;\n",
      "  bf:title LITERAL ;\n",
      "  bf:contributor {\n",
      "    a [bf:name] ;\n",
      "    bf:label LITERAL ;\n",
      "    madsrdf:elementList @<ElementList>\n",
      "  }\n",
      "}\n",
      "\n",
      "<MadsTopic> {\n",
      "  a [madsrdf:Topic] ;\n",
      "  a [madsrdf:Authority] ;\n",
      "  madsrdf:authoritativeLabel [@en @fr @de] ;\n",
      "  madsrdf:elementList @<ElementList>\n",
      "}\n",
      "\n",
      "<Topic> {\n",
      "  a [bf:Topic]? ;\n",
      "  a [madsrdf:ComplexSubject] ;\n",
      "  bf:label LITERAL ;\n",
      "  madsrdf:authoritativeLabel [@en @fr @de] ;\n",
      "  madsrdf:componentList @<TopicList>\n",
      "}\n",
      "\n",
      "<TopicList> CLOSED {\n",
      "  rdf:first @<MadsTopic> ;\n",
      "  rdf:rest  [rdf:nil] OR @<TopicList>\n",
      "}\n",
      "\n",
      "\n",
      "PASS\n"
     ]
    }
   ],
   "source": [
    "shex = f\"BASE <{BASE}>\\n\" + fetch_uri(BASE['book-small.shex'])\n",
    "rdf = f\"@base <{BASE}> .\\n\" + fetch_uri(BASE['book-small.ttl'])\n",
    "print(shex)\n",
    "\n",
    "results = ShExEvaluator().evaluate(rdf, shex, focus=BASE.samples9298996,start=BASE.Work)\n",
    "for r in results:\n",
    "    if r.result:\n",
    "        print(\"PASS\")\n",
    "    else:\n",
    "        print(f\"FAIL: {r.reason}\")"
   ]
  },
  {
   "cell_type": "code",
   "execution_count": null,
   "metadata": {},
   "outputs": [],
   "source": []
  }
 ],
 "metadata": {
  "kernelspec": {
   "display_name": "Python 3",
   "language": "python",
   "name": "python3"
  },
  "language_info": {
   "codemirror_mode": {
    "name": "ipython",
    "version": 3
   },
   "file_extension": ".py",
   "mimetype": "text/x-python",
   "name": "python",
   "nbconvert_exporter": "python",
   "pygments_lexer": "ipython3",
   "version": "3.7.5"
  }
 },
 "nbformat": 4,
 "nbformat_minor": 2
}
