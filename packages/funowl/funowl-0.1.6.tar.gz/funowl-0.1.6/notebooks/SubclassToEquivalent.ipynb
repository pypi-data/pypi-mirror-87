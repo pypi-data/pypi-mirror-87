{
 "cells": [
  {
   "cell_type": "markdown",
   "metadata": {
    "collapsed": true,
    "pycharm": {
     "name": "#%% md\n"
    }
   },
   "source": [
    "# Solution to [Conversion use case](../UseCase.md)"
   ]
  },
  {
   "cell_type": "code",
   "execution_count": 3,
   "metadata": {
    "pycharm": {
     "is_executing": true,
     "name": "#%%\n"
    }
   },
   "outputs": [
    {
     "name": "stdout",
     "output_type": "stream",
     "text": [
      "Prefix( xml: = <http://www.w3.org/XML/1998/namespace> )\n",
      "Prefix( rdf: = <http://www.w3.org/1999/02/22-rdf-syntax-ns#> )\n",
      "Prefix( rdfs: = <http://www.w3.org/2000/01/rdf-schema#> )\n",
      "Prefix( xsd: = <http://www.w3.org/2001/XMLSchema#> )\n",
      "Prefix( owl: = <http://www.w3.org/2002/07/owl#> )\n",
      "Prefix( : = <https://loinc.org/document_ontology/> )\n",
      "Prefix( obda: = <https://w3id.org/obda/vocabulary#> )\n",
      "Prefix( document_ontology: = <https://loinc.org/document_ontology#> )\n",
      "Prefix( untitled-ontology-17: = <https://loinc.org/dmbaorto/ontologies/2019/5/untitled-ontology-17#> )\n",
      "\n",
      "Ontology( <https://loinc.org/document_ontology/>\n",
      "    AnnotationAssertion( rdfs:label <https://loinc.org/document_ontology#93024-8> \"Pharmacist Consult note (D)\" )\n",
      "    AnnotationAssertion( document_ontology:hasCode <https://loinc.org/document_ontology#93024-8> \"93024-8\" )\n",
      "    EquivalentClasses(\n",
      "        <https://loinc.org/document_ontology#93024-8>\n",
      "            ObjectIntersectionOf(\n",
      "        document_ontology:Loincs\n",
      "            ObjectSomeValuesFrom( document_ontology:document-kind document_ontology:LP173418-7 )\n",
      "            ObjectSomeValuesFrom( document_ontology:document-role document_ontology:LP181523-4 )\n",
      "            ObjectSomeValuesFrom( document_ontology:document-type-of-service document_ontology:LP173110-0 )\n",
      "    )\n",
      "    )\n",
      ")\n"
     ]
    }
   ],
   "source": [
    "from typing import Dict, Tuple, List\n",
    "from funowl import SubClassOf, EquivalentClasses, Annotation\n",
    "from funowl.axioms import Axiom\n",
    "from funowl.class_expressions import ClassExpression, ObjectIntersectionOf\n",
    "from funowl.converters.functional_converter import to_python\n",
    "owl_functional = \"\"\"\n",
    "Prefix(:=<https://loinc.org/document_ontology/>)\n",
    "Prefix(owl:=<http://www.w3.org/2002/07/owl#>)\n",
    "Prefix(rdf:=<http://www.w3.org/1999/02/22-rdf-syntax-ns#>)\n",
    "Prefix(xml:=<http://www.w3.org/XML/1998/namespace>)\n",
    "Prefix(xsd:=<http://www.w3.org/2001/XMLSchema#>)\n",
    "Prefix(obda:=<https://w3id.org/obda/vocabulary#>)\n",
    "Prefix(rdfs:=<http://www.w3.org/2000/01/rdf-schema#>)\n",
    "Prefix(document_ontology:=<https://loinc.org/document_ontology#>)\n",
    "Prefix(untitled-ontology-17:=<https://loinc.org/dmbaorto/ontologies/2019/5/untitled-ontology-17#>)\n",
    "\n",
    "\n",
    "Ontology(<https://loinc.org/document_ontology/>\n",
    "\n",
    "AnnotationAssertion(rdfs:label <https://loinc.org/document_ontology#93024-8> \"Pharmacist Consult note (D)\"^^xsd:string)\n",
    "AnnotationAssertion(document_ontology:hasCode <https://loinc.org/document_ontology#93024-8> \"93024-8\"^^xsd:string)\n",
    "SubClassOf(<https://loinc.org/document_ontology#93024-8> document_ontology:Loincs)\n",
    "SubClassOf(<https://loinc.org/document_ontology#93024-8> ObjectSomeValuesFrom(document_ontology:document-kind document_ontology:LP173418-7))\n",
    "SubClassOf(<https://loinc.org/document_ontology#93024-8> ObjectSomeValuesFrom(document_ontology:document-role document_ontology:LP181523-4))\n",
    "SubClassOf(<https://loinc.org/document_ontology#93024-8> ObjectSomeValuesFrom(document_ontology:document-type-of-service document_ontology:LP173110-0))\n",
    ")\n",
    "\"\"\"\n",
    "\n",
    "ontology = to_python(owl_functional)\n",
    "\n",
    "equivalents: Dict[ClassExpression, List[Axiom]] = dict()\n",
    "\n",
    "# Convert all subclass expressions into the equivalents\n",
    "for axiom in ontology.axioms:\n",
    "    # Note that we can't use isinstance because of type cooercion\n",
    "    if issubclass(type(axiom), SubClassOf):\n",
    "        equivalents.setdefault(axiom.subClassExpression, []).append(axiom)\n",
    "\n",
    "for class_expression, axioms in equivalents.items():\n",
    "    if len(axioms) == 1:\n",
    "        ontology.equivalentClasses(class_expression,\n",
    "                                   axioms[0].superClassExpression)\n",
    "    else:\n",
    "        ontology.equivalentClasses(class_expression,\n",
    "                                   ObjectIntersectionOf(*[axiom.superClassExpression for axiom in axioms]))\n",
    "    for axiom in axioms:\n",
    "        ontology.axioms.remove(axiom)\n",
    "\n",
    "\n",
    "print(ontology.to_functional().getvalue())"
   ]
  },
  {
   "cell_type": "code",
   "execution_count": null,
   "metadata": {},
   "outputs": [],
   "source": []
  }
 ],
 "metadata": {
  "kernelspec": {
   "display_name": "Python 3",
   "language": "python",
   "name": "python3"
  },
  "language_info": {
   "codemirror_mode": {
    "name": "ipython",
    "version": 3
   },
   "file_extension": ".py",
   "mimetype": "text/x-python",
   "name": "python",
   "nbconvert_exporter": "python",
   "pygments_lexer": "ipython3",
   "version": "3.8.0"
  },
  "pycharm": {
   "stem_cell": {
    "cell_type": "raw",
    "metadata": {
     "collapsed": false
    },
    "source": []
   }
  }
 },
 "nbformat": 4,
 "nbformat_minor": 1
}
