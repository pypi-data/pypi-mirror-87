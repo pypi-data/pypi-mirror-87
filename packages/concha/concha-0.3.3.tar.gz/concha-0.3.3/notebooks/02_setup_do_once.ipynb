{
 "cells": [
  {
   "cell_type": "markdown",
   "metadata": {},
   "source": [
    "## Google Drive\n",
    "\n",
    "These are things you only need to do once to connect all the data pipelines.\n",
    "\n",
    "(*Skip these steps if this is open in a colab notebook in your Google Drive.*)\n",
    "\n",
    "1.) open this notebook up in Google Colab:\n",
    "\n",
    "https://colab.research.google.com/github/Ready4theCrush/concha/blob/master/notebooks/02_setup_do_once.ipynb\n",
    "\n",
    "2.) Go to \"File\" -> \"Save a copy in Drive\"\n",
    "This makes your own copy in you drive in a folder called \"Colab Notebooks\".\n",
    "\n",
    "3.) Connect to Google Drive to save your work by running the next cell."
   ]
  },
  {
   "cell_type": "code",
   "execution_count": null,
   "metadata": {},
   "outputs": [],
   "source": [
    "from google.colab import drive\n",
    "drive.mount('/content/drive')"
   ]
  },
  {
   "cell_type": "code",
   "execution_count": null,
   "metadata": {},
   "outputs": [],
   "source": [
    "# Run this cell first to bring in the concha code\n",
    "!pip -q install concha\n",
    "from concha import Planner"
   ]
  },
  {
   "cell_type": "markdown",
   "metadata": {},
   "source": [
    "## Square\n",
    "\n",
    "Concha learns from how each product sold to determine how much to make in the future. That history is saved\n",
    "by Square.\n",
    "\n",
    "1.) Activate yourself as a developer here: https://developer.squareup.com/apps.\n",
    "\n",
    "2.) Create an \"app\", you can call it anything you want.\n",
    "\n",
    "3.) Click \"Open\" on the card shaped icon for the \"Application\" you just created.\n",
    "\n",
    "4.) On the menu on left side, click on \"OAuth\".\n",
    "\n",
    "5.) Set \"Production Redirect URL\" to \"http://www.google.com\"\n",
    "\n",
    "6.) Copy and paste the \"Production Application ID\" and the \"Production Application Secret\" (Click \"Show\"\n",
    "    first) into the next cell.\n",
    "\n",
    "The app you are creating is like a data \"agent\" to pull detailed records of exactly when each item was ordered each day. The \"Application ID\" and \"Application Secret\" are for the \"agent\". In the next cell \n",
    "you are granting the agent (limited) access to your own sales history. It requests access to read order histories (\"ORDERS READ\") and store locations (\"MERCHANT PROFILE READ\"). Setting the redirect URL to www.google.com\n",
    "is just a trick to get the code Square creates once you grant access."
   ]
  },
  {
   "cell_type": "code",
   "execution_count": 2,
   "metadata": {},
   "outputs": [
    {
     "name": "stdout",
     "output_type": "stream",
     "text": [
      "Copy this url into a browswer to request data access for the agent you created: \n",
      "\n",
      "https://connect.squareup.com/oauth2/authorize?client_id=sq0idp-FRq67m8D9NyTbO8sOblH1Q&scope=ORDERS_READ+MERCHANT_PROFILE_READ\n"
     ]
    }
   ],
   "source": [
    "#@title Square Application Information\n",
    "\n",
    "production_application_id = \"\" #@param {type:\"string\"}\n",
    "production_application_secret = \"\" #@param {type:\"string\"}\n",
    "\n",
    "from concha.importers import Square\n",
    "sqr = Square()\n",
    "request_url = sqr.create_access_request_url(production_application_id, production_application_secret)\n",
    "print(\"Copy this url into a browswer to request data access for the agent you created: \\n\")\n",
    "print(request_url)"
   ]
  },
  {
   "cell_type": "markdown",
   "metadata": {},
   "source": [
    "After going to the url printed out above, you should be redirected to the google homepage, except that the authorization code is now listed in the url. Copy the\n",
    "new url, paste it below and run the cell to get the access token."
   ]
  },
  {
   "cell_type": "code",
   "execution_count": 3,
   "metadata": {},
   "outputs": [
    {
     "data": {
      "text/plain": [
       "<ApiResponse [{\n",
       "  \"access_token\": \"EAAAEGq5qB3yf1-HieRTGdM25TIqXcTkqb8xJko5_7SW36wmoluXlxFXJWeA44bn\",\n",
       "  \"token_type\": \"bearer\",\n",
       "  \"expires_at\": \"2020-12-12T22:13:51Z\",\n",
       "  \"merchant_id\": \"MLCSFP53YAJA6\",\n",
       "  \"refresh_token\": \"EQAAELrHzSYKxv1sK2ZCRzGTGTjWZN-x-l5FjDlcZmugw5kfs3aUkJhAe4dWtm6D\"\n",
       "}]>"
      ]
     },
     "execution_count": 3,
     "metadata": {},
     "output_type": "execute_result"
    }
   ],
   "source": [
    "#@title Square Application Information\n",
    "\n",
    "redirect_url = \"\" #@param {type:\"string\"}\n",
    "response = sqr.get_access_token(redirect_url)\n",
    "response.body"
   ]
  },
  {
   "cell_type": "markdown",
   "metadata": {},
   "source": [
    "If you see an \"access_token\" in the response, then it worked!\n",
    "\n",
    "Why go through all this trouble to create an access token instead of just using the \"Production Access Token provided on the developer website? Because the token we created is safer: it only allows access for reading orders and business locations. The one on the website gives access to everything.\n",
    "\n",
    "The new Square credentials are stored on your drive in:\n",
    "`/content/drive/My Drive/concha_planners/importers/square.json`"
   ]
  },
  {
   "cell_type": "code",
   "execution_count": 5,
   "metadata": {},
   "outputs": [
    {
     "data": {
      "text/plain": [
       "{'Center City': {'id': 'L074SHENBT3WK',\n",
       "  'name': 'Center City',\n",
       "  'address': '275 S Raymond Ave, CA, US, Pasadena, 91105',\n",
       "  'lat': 34.141888,\n",
       "  'lng': -118.149274,\n",
       "  'timezone': 'America/Los_Angeles'},\n",
       " 'Concha West': {'id': 'LPZBW2H2WPS6M',\n",
       "  'name': 'Concha West',\n",
       "  'address': '415 S Arroyo Blvd, CA, US, Pasadena, 91105',\n",
       "  'lat': 34.13827779625123,\n",
       "  'lng': -118.1661243381397,\n",
       "  'timezone': 'America/Los_Angeles'}}"
      ]
     },
     "execution_count": 5,
     "metadata": {},
     "output_type": "execute_result"
    }
   ],
   "source": [
    "# Now let's see the list of vendor locations.\n",
    "locs = sqr.get_locations()\n",
    "locs"
   ]
  },
  {
   "cell_type": "markdown",
   "metadata": {},
   "source": [
    "## Weather\n",
    "\n",
    "To look up the past weather conditions on each day, you need an API key for NOAA.\n",
    "\n",
    "1.) Go here: https://www.ncdc.noaa.gov/cdo-web/token and put in your email.\n",
    "\n",
    "2.) Enter the API key they send you in the next cell."
   ]
  },
  {
   "cell_type": "code",
   "execution_count": 14,
   "metadata": {},
   "outputs": [],
   "source": [
    "#@title NOAA (Weather) API Key\n",
    "\n",
    "noaa_api_key = \"\" #@param {type:\"string\"}\n",
    "\n",
    "from concha.weather import NOAA\n",
    "weather = NOAA()\n",
    "weather.set_api_key(noaa_api_key)"
   ]
  },
  {
   "cell_type": "markdown",
   "metadata": {},
   "source": [
    "## Check Everything\n",
    "\n",
    "Let's make a planner to make sure it all worked."
   ]
  },
  {
   "cell_type": "code",
   "execution_count": 12,
   "metadata": {},
   "outputs": [
    {
     "name": "stdout",
     "output_type": "stream",
     "text": [
      "location for example set to Center City.\n"
     ]
    },
    {
     "data": {
      "text/html": [
       "<div>\n",
       "<style scoped>\n",
       "    .dataframe tbody tr th:only-of-type {\n",
       "        vertical-align: middle;\n",
       "    }\n",
       "\n",
       "    .dataframe tbody tr th {\n",
       "        vertical-align: top;\n",
       "    }\n",
       "\n",
       "    .dataframe thead th {\n",
       "        text-align: right;\n",
       "    }\n",
       "</style>\n",
       "<table border=\"1\" class=\"dataframe\">\n",
       "  <thead>\n",
       "    <tr style=\"text-align: right;\">\n",
       "      <th></th>\n",
       "      <th>date</th>\n",
       "      <th>day_of_week</th>\n",
       "      <th>tmin</th>\n",
       "      <th>tmax</th>\n",
       "      <th>prcp</th>\n",
       "      <th>snow</th>\n",
       "    </tr>\n",
       "  </thead>\n",
       "  <tbody>\n",
       "    <tr>\n",
       "      <th>0</th>\n",
       "      <td>2020-11-13</td>\n",
       "      <td>Fri</td>\n",
       "      <td>45.0</td>\n",
       "      <td>70.0</td>\n",
       "      <td>False</td>\n",
       "      <td>False</td>\n",
       "    </tr>\n",
       "    <tr>\n",
       "      <th>1</th>\n",
       "      <td>2020-11-14</td>\n",
       "      <td>Sat</td>\n",
       "      <td>47.0</td>\n",
       "      <td>73.0</td>\n",
       "      <td>False</td>\n",
       "      <td>False</td>\n",
       "    </tr>\n",
       "    <tr>\n",
       "      <th>2</th>\n",
       "      <td>2020-11-15</td>\n",
       "      <td>Sun</td>\n",
       "      <td>48.0</td>\n",
       "      <td>81.0</td>\n",
       "      <td>False</td>\n",
       "      <td>False</td>\n",
       "    </tr>\n",
       "    <tr>\n",
       "      <th>3</th>\n",
       "      <td>2020-11-16</td>\n",
       "      <td>Mon</td>\n",
       "      <td>52.0</td>\n",
       "      <td>89.0</td>\n",
       "      <td>False</td>\n",
       "      <td>False</td>\n",
       "    </tr>\n",
       "    <tr>\n",
       "      <th>4</th>\n",
       "      <td>2020-11-17</td>\n",
       "      <td>Tue</td>\n",
       "      <td>55.0</td>\n",
       "      <td>83.0</td>\n",
       "      <td>False</td>\n",
       "      <td>False</td>\n",
       "    </tr>\n",
       "    <tr>\n",
       "      <th>5</th>\n",
       "      <td>2020-11-18</td>\n",
       "      <td>Wed</td>\n",
       "      <td>55.0</td>\n",
       "      <td>78.0</td>\n",
       "      <td>False</td>\n",
       "      <td>False</td>\n",
       "    </tr>\n",
       "  </tbody>\n",
       "</table>\n",
       "</div>"
      ],
      "text/plain": [
       "        date day_of_week  tmin  tmax   prcp   snow\n",
       "0 2020-11-13         Fri  45.0  70.0  False  False\n",
       "1 2020-11-14         Sat  47.0  73.0  False  False\n",
       "2 2020-11-15         Sun  48.0  81.0  False  False\n",
       "3 2020-11-16         Mon  52.0  89.0  False  False\n",
       "4 2020-11-17         Tue  55.0  83.0  False  False\n",
       "5 2020-11-18         Wed  55.0  78.0  False  False"
      ]
     },
     "execution_count": 12,
     "metadata": {},
     "output_type": "execute_result"
    }
   ],
   "source": [
    "from concha import Planner\n",
    "example = Planner(planner_name=\"example\")\n",
    "example.set_importer(sqr)\n",
    "first_location = list(sqr.settings['locations'].keys())[0]\n",
    "example.set_location(first_location)\n",
    "example.set_weather_agent(weather)\n",
    "example.set_weather_station()\n",
    "forecast = example.generate_daily_forecast_metadata()\n",
    "forecast"
   ]
  },
  {
   "cell_type": "markdown",
   "metadata": {},
   "source": [
    "If `forecast` is the weather for the next six days at the specified location\n",
    "then everything is working."
   ]
  }
 ],
 "metadata": {
  "kernelspec": {
   "display_name": "concha",
   "language": "python",
   "name": "concha"
  },
  "language_info": {
   "codemirror_mode": {
    "name": "ipython",
    "version": 3
   },
   "file_extension": ".py",
   "mimetype": "text/x-python",
   "name": "python",
   "nbconvert_exporter": "python",
   "pygments_lexer": "ipython3",
   "version": "3.7.7"
  }
 },
 "nbformat": 4,
 "nbformat_minor": 4
}
