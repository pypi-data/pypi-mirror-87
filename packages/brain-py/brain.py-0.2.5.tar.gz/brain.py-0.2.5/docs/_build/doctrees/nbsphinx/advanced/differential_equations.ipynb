{
 "cells": [
  {
   "cell_type": "markdown",
   "metadata": {},
   "source": [
    "# Differential equations"
   ]
  },
  {
   "cell_type": "code",
   "execution_count": 1,
   "metadata": {},
   "outputs": [],
   "source": [
    "import brainpy as bp"
   ]
  },
  {
   "cell_type": "markdown",
   "metadata": {},
   "source": [
    "In BrainPy, the difinition of differential equations is supportted by a powerfull decorator ``@bp.integrate``. Users should only explicitly write out the right hand of the differential equations, and BrainPy will automatically integerates your defined differential equations. \n",
    "\n",
    "BrainPy supports the numerical integration of ordinary differential equations (ODEs) and stochastic differential equations (SDEs). "
   ]
  },
  {
   "cell_type": "markdown",
   "metadata": {},
   "source": [
    "## ODEs"
   ]
  },
  {
   "cell_type": "markdown",
   "metadata": {},
   "source": [
    "\n",
    "For an ordinary differential equation\n",
    "\n",
    "$$\n",
    "\\frac{dx}{dt} = f(x, t)\n",
    "$$\n",
    "\n",
    "the coding in BrainPy has a general form of:\n",
    "\n",
    "```python\n",
    "\n",
    "@bp.integrate\n",
    "def func(x, t, other_arguments):\n",
    "    # ... do some computation\n",
    "    f = ...\n",
    "    return f\n",
    "\n",
    "x_t_plus = func(x_t, t, other_arguments)\n",
    "```"
   ]
  },
  {
   "cell_type": "markdown",
   "metadata": {},
   "source": [
    "## SDEs"
   ]
  },
  {
   "cell_type": "markdown",
   "metadata": {},
   "source": [
    "\n",
    "For the stochastic differential equation:\n",
    "\n",
    "$$\n",
    "\\frac{dx}{dt} = f(x, t) + g(x, t) dW\n",
    "$$\n",
    "\n",
    "the coding in BrainPy can be conducted as:\n",
    "\n",
    "```python\n",
    "\n",
    "@bp.integrate\n",
    "def func(x, t, other_arguments):\n",
    "    # ... do some computation\n",
    "    f = ...\n",
    "    g = ...\n",
    "    return f, g\n",
    "\n",
    "x_t_plus = func(x_t, t, other_arguments)\n",
    "```"
   ]
  },
  {
   "cell_type": "markdown",
   "metadata": {
    "ExecuteTime": {
     "end_time": "2020-11-08T13:31:02.326207Z",
     "start_time": "2020-11-08T13:31:02.147805Z"
    }
   },
   "source": [
    "## Return intermediate values"
   ]
  },
  {
   "cell_type": "markdown",
   "metadata": {},
   "source": [
    "BrainPy also supports the user return the intermediate computed results. Let's take the differential equation of $V$ in  Hodgkin–Huxley (HH) neuron model as an example. In HH model, the stochastic differential equation $V$ is expressed as:\n",
    "\n",
    "\\begin{align}\n",
    "C_{m}{\\frac {d V}{dt}}&=-{\\bar {g}}_{K}n^{4}(V-V_{K}) - {\\bar {g}}_{Na}m^{3}h(V-V_{Na}) -{\\bar {g}}_{l}(V-V_{l}) + I^{ext} + I^{noise} * dW, \n",
    "\\end{align}\n",
    "\n",
    "where \n",
    "\n",
    "- the potassium channel current is $I_{K} = {\\bar {g}}_{K}n^{4}(V-V_{K})$, \n",
    "- the sodium channel current is $I_{Na} = {\\bar {g}}_{Na}m^{3}h(V-V_{Na})$, and \n",
    "- the leaky current is $I_{L} = {\\bar {g}}_{l}(V-V_{l})$.\n",
    "\n",
    "The user may not only has the interest of the final value $V$, but also take care of the intermediate value $I_{Na}$, $I_K$ and $I_L$. In BrainPy, this kind of requirement can be coded as:\n",
    "\n",
    "```python\n",
    "\n",
    "@bp.integrate\n",
    "def func(V, t, m, h, n, Iext):\n",
    "    INa = gNa * m ** 3 * h * (V - ENa)\n",
    "    IK = gK * n ** 4 * (V - EK)\n",
    "    IL = gLeak * (V - ELeak)\n",
    "    f = (- INa - IK - IL + Isyn) / C\n",
    "    g = noise / C\n",
    "    return (f, g), INa, IK, IL\n",
    "\n",
    "V_t_plus, INa, IK, IL = func(V_t, t, m, h, n, Iext)\n",
    "```"
   ]
  },
  {
   "cell_type": "markdown",
   "metadata": {},
   "source": [
    "\n",
    "Generally, return intermediate values in ODE function can be coded as:\n",
    "\n",
    "```python\n",
    "\n",
    "@bp.integrate\n",
    "def func(x, t, other_arguments):\n",
    "    # ... do some computation\n",
    "    f = ...\n",
    "    return (f, ), some_values\n",
    "```\n",
    "\n",
    "Return intermediate values in SDE function can be coded as:\n",
    "\n",
    "```python\n",
    "\n",
    "@bp.integrate\n",
    "def func(x, t, other_arguments):\n",
    "    # ... do some computation\n",
    "    f = ...\n",
    "    g = ...\n",
    "    return (f, g), some_values\n",
    "```"
   ]
  }
 ],
 "metadata": {
  "hide_input": false,
  "kernelspec": {
   "display_name": "Python 3",
   "language": "python",
   "name": "python3"
  },
  "language_info": {
   "codemirror_mode": {
    "name": "ipython",
    "version": 3
   },
   "file_extension": ".py",
   "mimetype": "text/x-python",
   "name": "python",
   "nbconvert_exporter": "python",
   "pygments_lexer": "ipython3",
   "version": "3.7.7"
  },
  "toc": {
   "base_numbering": 1,
   "nav_menu": {},
   "number_sections": false,
   "sideBar": true,
   "skip_h1_title": false,
   "title_cell": "Table of Contents",
   "title_sidebar": "Contents",
   "toc_cell": false,
   "toc_position": {},
   "toc_section_display": true,
   "toc_window_display": false
  },
  "varInspector": {
   "cols": {
    "lenName": 16,
    "lenType": 16,
    "lenVar": 40
   },
   "kernels_config": {
    "python": {
     "delete_cmd_postfix": "",
     "delete_cmd_prefix": "del ",
     "library": "var_list.py",
     "varRefreshCmd": "print(var_dic_list())"
    },
    "r": {
     "delete_cmd_postfix": ") ",
     "delete_cmd_prefix": "rm(",
     "library": "var_list.r",
     "varRefreshCmd": "cat(var_dic_list()) "
    }
   },
   "types_to_exclude": [
    "module",
    "function",
    "builtin_function_or_method",
    "instance",
    "_Feature"
   ],
   "window_display": false
  }
 },
 "nbformat": 4,
 "nbformat_minor": 4
}
