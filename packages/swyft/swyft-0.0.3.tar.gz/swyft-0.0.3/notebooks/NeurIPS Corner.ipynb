{
 "cells": [
  {
   "cell_type": "code",
   "execution_count": null,
   "metadata": {},
   "outputs": [],
   "source": [
    "import numpy as np\n",
    "import pylab as plt\n",
    "import swyft\n",
    "import torch\n",
    "from scipy import stats\n",
    "%load_ext autoreload\n",
    "%autoreload 2\n",
    "\n",
    "np.random.seed(25)\n",
    "torch.manual_seed(25)"
   ]
  },
  {
   "cell_type": "code",
   "execution_count": null,
   "metadata": {},
   "outputs": [],
   "source": [
    "DEVICE = 'cuda:0'\n",
    "MAX_EPOCHS = 100\n",
    "EXPECTED_N = 10000"
   ]
  },
  {
   "cell_type": "markdown",
   "metadata": {},
   "source": [
    "## Torus model"
   ]
  },
  {
   "cell_type": "code",
   "execution_count": null,
   "metadata": {},
   "outputs": [],
   "source": [
    "def simulator(z, center = np.array([0.6, 0.8])):\n",
    "    r = sum((z[:2]-center)**2)**0.5  # Return radial distance from center\n",
    "    x = np.array([z[0], r, z[2]])\n",
    "    return x\n",
    "\n",
    "def noise(x, z = None, noise = np.array([0.03, 0.005, 0.2])):\n",
    "    n = np.random.randn(*x.shape)*noise\n",
    "    return x + n\n",
    "\n",
    "z0 = np.array([0.57, 0.8, 1.0])\n",
    "zdim = len(z0)\n",
    "x0 = simulator(z0)  # Using Asimov data"
   ]
  },
  {
   "cell_type": "code",
   "execution_count": null,
   "metadata": {},
   "outputs": [],
   "source": [
    "cache = swyft.MemoryCache(zdim = zdim, xshape = x0.shape)"
   ]
  },
  {
   "cell_type": "markdown",
   "metadata": {},
   "source": [
    "## Inference"
   ]
  },
  {
   "cell_type": "code",
   "execution_count": null,
   "metadata": {},
   "outputs": [],
   "source": [
    "intensity = None\n",
    "\n",
    "for _ in range(4):\n",
    "    if intensity is None:\n",
    "        intensity = swyft.get_unit_intensity(expected_n=EXPECTED_N, dim=zdim)\n",
    "    else:\n",
    "        intensity = swyft.get_constrained_intensity(\n",
    "            expected_n=EXPECTED_N,\n",
    "            ratio_estimator=re,\n",
    "            x0=x0,\n",
    "            threshold=1e-4,\n",
    "        )\n",
    "    cache.grow(intensity)\n",
    "    cache.simulate(simulator)\n",
    "    points = swyft.Points(cache, intensity, noise)\n",
    "    re = swyft.RatioEstimator(points, device=DEVICE)\n",
    "    re.train(max_epochs=MAX_EPOCHS, batch_size=32, lr_schedule=[1e-3, 3e-4, 1e-4])"
   ]
  },
  {
   "cell_type": "code",
   "execution_count": null,
   "metadata": {},
   "outputs": [],
   "source": [
    "swyft.plot1d(re, x0 = x0, z0 = z0, cmap = 'Greys', dims = (12, 4))"
   ]
  },
  {
   "cell_type": "code",
   "execution_count": null,
   "metadata": {},
   "outputs": [],
   "source": [
    "re2 = swyft.RatioEstimator(points, combinations = [[0, 1], [0, 2], [1, 2]], device=DEVICE)"
   ]
  },
  {
   "cell_type": "code",
   "execution_count": null,
   "metadata": {},
   "outputs": [],
   "source": [
    "re2.train(max_epochs=MAX_EPOCHS, batch_size=32, lr_schedule=[1e-3, 3e-4, 1e-4])"
   ]
  },
  {
   "cell_type": "code",
   "execution_count": null,
   "metadata": {},
   "outputs": [],
   "source": [
    "swyft.corner(re, re2, x0 = x0, z0 = z0, cmap = 'Greys', dim = 10)"
   ]
  },
  {
   "cell_type": "code",
   "execution_count": null,
   "metadata": {},
   "outputs": [],
   "source": []
  }
 ],
 "metadata": {
  "kernelspec": {
   "display_name": "Python 3",
   "language": "python",
   "name": "python3"
  },
  "language_info": {
   "codemirror_mode": {
    "name": "ipython",
    "version": 3
   },
   "file_extension": ".py",
   "mimetype": "text/x-python",
   "name": "python",
   "nbconvert_exporter": "python",
   "pygments_lexer": "ipython3",
   "version": "3.8.2"
  }
 },
 "nbformat": 4,
 "nbformat_minor": 4
}
