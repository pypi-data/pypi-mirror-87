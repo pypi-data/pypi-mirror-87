{
 "cells": [
  {
   "cell_type": "markdown",
   "metadata": {},
   "source": [
    "This example assumes that PyShEx has been installed in jupyter environment"
   ]
  },
  {
   "cell_type": "code",
   "execution_count": 1,
   "metadata": {},
   "outputs": [],
   "source": [
    "from pyshex import ShExEvaluator, PrefixLibrary\n"
   ]
  },
  {
   "cell_type": "code",
   "execution_count": 2,
   "metadata": {},
   "outputs": [],
   "source": [
    "schema = \"\"\"\n",
    "PREFIX ex: <http://ex.example/#>\n",
    "PREFIX xsd: <http://www.w3.org/2001/XMLSchema#>\n",
    "PREFIX school: <http://school.example/#>\n",
    "PREFIX foaf: <http://xmlns.com/foaf/0.1/>\n",
    "\n",
    "school:enrolleeAge xsd:integer MinInclusive 13 MaxInclusive 20 \n",
    "\n",
    "school:Enrollee {\n",
    "  foaf:age @school:enrolleeAge ;\n",
    "  ex:hasGuardian IRI {1,2}\n",
    "}\n",
    "\"\"\""
   ]
  },
  {
   "cell_type": "code",
   "execution_count": 3,
   "metadata": {},
   "outputs": [],
   "source": [
    "rdf = \"\"\"\n",
    "PREFIX ex: <http://ex.example/#>\n",
    "PREFIX inst: <http://example.com/users/>\n",
    "PREFIX school: <http://school.example/#>\n",
    "PREFIX foaf: <http://xmlns.com/foaf/0.1/>\n",
    "\n",
    "inst:Alice foaf:age 13 ;                     \n",
    "  ex:hasGuardian inst:Person2, inst:Person3 .\n",
    "\n",
    "inst:Bob foaf:age 15 ;                       \n",
    "  ex:hasGuardian inst:Person4 .  \n",
    "\n",
    "inst:Claire foaf:age 12 ;                     \n",
    "  ex:hasGuardian inst:Person5 .               \n",
    "\n",
    "inst:Don foaf:age 14 . \n",
    "\n",
    "inst:Eric foaf:age 20 ;\n",
    "  ex:hasGuardian inst:PersonA, inst:PersonB, inst:PersonC .\n",
    "\"\"\""
   ]
  },
  {
   "cell_type": "code",
   "execution_count": 4,
   "metadata": {},
   "outputs": [
    {
     "name": "stdout",
     "output_type": "stream",
     "text": [
      "http://example.com/users/Alice: Passing\n",
      "http://example.com/users/Bob: Passing\n",
      "http://example.com/users/Claire: Failing\n",
      "  Testing inst:Claire against shape http://school.example/#Enrollee\n",
      "    Numeric value volation - minimum inclusive: 13 actual: 12\n",
      "http://example.com/users/Don: Failing\n",
      "  Testing inst:Don against shape http://school.example/#Enrollee\n",
      "       No matching triples found for predicate ex:hasGuardian\n",
      "http://example.com/users/Eric: Failing\n",
      "  Testing inst:Eric against shape http://school.example/#Enrollee\n",
      "    Triples:\n",
      "      inst:Eric ex:hasGuardian inst:PersonA .\n",
      "      inst:Eric ex:hasGuardian inst:PersonB .\n",
      "      inst:Eric ex:hasGuardian inst:PersonC .\n",
      "   3 triples exceeds max {1,2}\n"
     ]
    }
   ],
   "source": [
    "p = PrefixLibrary(rdf)\n",
    "for result in ShExEvaluator(rdf=rdf, \n",
    "                            schema=schema, \n",
    "                            focus=[p.INST.Alice, p.INST.Bob, p.INST.Claire, p.INST.Don, p.INST.Eric], \n",
    "                            start=p.SCHOOL.Enrollee).evaluate():\n",
    "    print(f\"{result.focus}: {'Passing' if result.result else 'Failing'}\")\n",
    "    if not result.result:\n",
    "        print(result.reason)"
   ]
  },
  {
   "cell_type": "code",
   "execution_count": null,
   "metadata": {},
   "outputs": [],
   "source": []
  }
 ],
 "metadata": {
  "kernelspec": {
   "display_name": "Python 3",
   "language": "python",
   "name": "python3"
  },
  "language_info": {
   "codemirror_mode": {
    "name": "ipython",
    "version": 3
   },
   "file_extension": ".py",
   "mimetype": "text/x-python",
   "name": "python",
   "nbconvert_exporter": "python",
   "pygments_lexer": "ipython3",
   "version": "3.7.5"
  }
 },
 "nbformat": 4,
 "nbformat_minor": 2
}
