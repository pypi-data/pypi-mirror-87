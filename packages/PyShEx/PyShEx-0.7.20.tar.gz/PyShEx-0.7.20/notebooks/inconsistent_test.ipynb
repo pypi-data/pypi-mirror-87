{
 "cells": [
  {
   "cell_type": "markdown",
   "metadata": {},
   "source": [
    "# PyShEx Shape inconsistency detection\n",
    "If `satisfiesShape` is recursively called with the same focus node and shape definition, it:\n",
    "\n",
    "1) Conditionally asserts that the result is `True`.  If this asserts results in the outermost evaluation to also be `True`, the focus node is reported as conforming to the shape definition.\n",
    "\n",
    "2) If assertion 1 results in an evaluation of `False`, it then conditionally asserts that the result is `False`.  If this results in the entire evaluation being `False`, the focus node is reported as not conforming to the shape definition.  \n",
    "\n",
    "3) Otherwise, the focus node is reported as \"not conforming\" with the reason being that the definition is inconsistent.  (Quotes because it isn't actually possible to determine conformance to an inconsistent shape, but the return structure doesn't support a third alternative)"
   ]
  },
  {
   "cell_type": "code",
   "execution_count": 1,
   "metadata": {},
   "outputs": [],
   "source": [
    "!pip install PyShEx --upgrade -q"
   ]
  },
  {
   "cell_type": "code",
   "execution_count": 2,
   "metadata": {},
   "outputs": [],
   "source": [
    "from rdflib import Graph, Namespace\n",
    "from pyshex import ShExEvaluator\n",
    "\n",
    "\n",
    "EX = Namespace(\"http://a.example/\")"
   ]
  },
  {
   "cell_type": "code",
   "execution_count": 3,
   "metadata": {},
   "outputs": [
    {
     "name": "stdout",
     "output_type": "stream",
     "text": [
      "True\n"
     ]
    }
   ],
   "source": [
    "shex = \"\"\"<http://a.example/S> {<http://a.example/p> @<http://a.example/S>}\"\"\"\n",
    "g = Graph()\n",
    "g.add((EX.x, EX.p, EX.x))\n",
    "e = ShExEvaluator(rdf=g, schema=shex, focus=EX.x, start=EX.S, debug=False)\n",
    "print(e.evaluate()[0].result)"
   ]
  },
  {
   "cell_type": "code",
   "execution_count": 4,
   "metadata": {},
   "outputs": [
    {
     "name": "stdout",
     "output_type": "stream",
     "text": [
      "False:   Testing <http://a.example/x> against shape http://a.example/S\n",
      "    Testing <http://a.example/x> against shape http://a.example/S\n",
      "      http://a.example/S: Inconsistent recursive shape reference\n"
     ]
    }
   ],
   "source": [
    "shex = \"\"\"<http://a.example/S> {<http://a.example/p> not @<http://a.example/S>}\"\"\"\n",
    "g = Graph()\n",
    "g.add((EX.x, EX.p, EX.x))\n",
    "e = ShExEvaluator(rdf=g, schema=shex, focus=EX.x, start=EX.S, debug=False)\n",
    "rslt = e.evaluate()\n",
    "print(f\"{rslt[0].result}: {rslt[0].reason}\")"
   ]
  },
  {
   "cell_type": "code",
   "execution_count": null,
   "metadata": {},
   "outputs": [],
   "source": []
  }
 ],
 "metadata": {
  "kernelspec": {
   "display_name": "Python 3",
   "language": "python",
   "name": "python3"
  },
  "language_info": {
   "codemirror_mode": {
    "name": "ipython",
    "version": 3
   },
   "file_extension": ".py",
   "mimetype": "text/x-python",
   "name": "python",
   "nbconvert_exporter": "python",
   "pygments_lexer": "ipython3",
   "version": "3.7.5"
  }
 },
 "nbformat": 4,
 "nbformat_minor": 2
}
