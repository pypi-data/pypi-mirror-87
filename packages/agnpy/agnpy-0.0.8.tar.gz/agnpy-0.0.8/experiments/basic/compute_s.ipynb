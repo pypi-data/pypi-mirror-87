{
 "cells": [
  {
   "cell_type": "markdown",
   "metadata": {},
   "source": [
    "## notebook to check the threshold s for gamma-gamma absorption for the SS Disk case"
   ]
  },
  {
   "cell_type": "code",
   "execution_count": 1,
   "metadata": {},
   "outputs": [],
   "source": [
    "import sys\n",
    "sys.path.append(\"../../\")\n",
    "import numpy as np\n",
    "from astropy.constants import h, m_e, M_sun, c\n",
    "import astropy.units as u\n",
    "from agnpy.targets import SSDisk\n",
    "from agnpy.absorption import sigma\n",
    "import matplotlib.pyplot as plt\n",
    "from matplotlib import ticker, cm\n",
    "from agnpy.utils.conversion import mec2, nu_to_epsilon_prime"
   ]
  },
  {
   "cell_type": "markdown",
   "metadata": {},
   "source": [
    "## disk in Finke 2016"
   ]
  },
  {
   "cell_type": "code",
   "execution_count": 2,
   "metadata": {},
   "outputs": [],
   "source": [
    "# disk parameters\n",
    "M_BH = 1.2 * 1e9 * M_sun.cgs\n",
    "L_disk = 2 * 1e46 * u.Unit(\"erg s-1\")\n",
    "eta = 1 / 12\n",
    "R_in = 6\n",
    "R_out = 200\n",
    "disk = SSDisk(M_BH, L_disk, eta, R_in, R_out, R_g_units=True)"
   ]
  },
  {
   "cell_type": "markdown",
   "metadata": {},
   "source": [
    "### considering a single distance, $r = 10^{-1} R(Ly\\alpha)$"
   ]
  },
  {
   "cell_type": "code",
   "execution_count": 3,
   "metadata": {},
   "outputs": [
    {
     "name": "stdout",
     "output_type": "stream",
     "text": [
      "r_tilde:  62.07849948671599\n"
     ]
    }
   ],
   "source": [
    "# consider a fixed distance of the blob from the target fields\n",
    "r = 1.1e16 * u.cm\n",
    "r_tilde = (r / disk.R_g).to_value(\"\")\n",
    "print(\"r_tilde: \", r_tilde)"
   ]
  },
  {
   "cell_type": "code",
   "execution_count": 4,
   "metadata": {},
   "outputs": [],
   "source": [
    "# compute mu and energies seen at each cosine of zenith\n",
    "mu = disk.evaluate_mu_from_r_tilde(disk.R_in_tilde, disk.R_out_tilde, r_tilde, size=50)\n",
    "R_tilde = r_tilde * np.sqrt(mu**(-2) - 1)\n",
    "# energies seen at this height, r_tilde, at each zenith angle \n",
    "epsilon = disk.epsilon_mu(mu, r_tilde)\n",
    "# reshape both cosines and energies in a column\n",
    "mu = np.reshape(mu, (mu.size, 1))\n",
    "epsilon = np.reshape(epsilon, (epsilon.size, 1))"
   ]
  },
  {
   "cell_type": "code",
   "execution_count": 5,
   "metadata": {},
   "outputs": [],
   "source": [
    "# energies of the scattering photons, as in figure 12 of Finke\n",
    "E = np.logspace(0, 5) * u.GeV \n",
    "nu = E.to(\"Hz\", equivalencies=u.spectral())\n",
    "epsilon_1 = nu_to_epsilon_prime(nu)\n",
    "# reshape it in a row\n",
    "epsilon_1 = np.reshape(epsilon_1, (1, epsilon_1.size))"
   ]
  },
  {
   "cell_type": "code",
   "execution_count": 6,
   "metadata": {},
   "outputs": [],
   "source": [
    "s = epsilon_1 * epsilon * (1 - mu) / 2"
   ]
  },
  {
   "cell_type": "code",
   "execution_count": 7,
   "metadata": {},
   "outputs": [
    {
     "data": {
      "image/png": "[encoded data removed]",
      "text/plain": [
       "<Figure size 432x288 with 2 Axes>"
      ]
     },
     "metadata": {
      "needs_background": "light"
     },
     "output_type": "display_data"
    }
   ],
   "source": [
    "# plot the values\n",
    "fig, ax = plt.subplots()\n",
    "_E, _R_tilde = np.meshgrid(E, R_tilde)\n",
    "# plot log-scaled contours\n",
    "contours = ax.contourf(_E, _R_tilde, s, origin=\"lower\", locator=ticker.LogLocator(), cmap=cm.PuBu)\n",
    "# plot red line with contour at s = 1\n",
    "ax.contour(_E, _R_tilde, s, origin=\"lower\", levels=[1], colors=\"crimson\")\n",
    "cbar = fig.colorbar(contours)\n",
    "cbar.set_label(\"s\", rotation=90, fontsize=12)\n",
    "ax.set_xscale(\"log\")\n",
    "ax.set_title(f\"r = {r_tilde:.1f} \" + r\"$R_g$\", fontsize=12)\n",
    "ax.set_xlabel(\"E / GeV\", fontsize=12)\n",
    "ax.set_ylabel(r\"$R\\,/\\,R_g$\", fontsize=12)\n",
    "plt.show()"
   ]
  },
  {
   "cell_type": "markdown",
   "metadata": {},
   "source": [
    "As in Finke 2016, the absorption pf the disk becomes efficient at $\\sim {\\rm TeV}$ energies. Particularly for the innermost part of the disk ($R = 6 R_g$) where $s$ is above threshold for $E\\sim5\\,{\\rm TeV}$. Which is the same value for which the absorption for the disk rises in Figure 12 of Finke 2016."
   ]
  }
 ],
 "metadata": {
  "kernelspec": {
   "display_name": "Python 3",
   "language": "python",
   "name": "python3"
  },
  "language_info": {
   "codemirror_mode": {
    "name": "ipython",
    "version": 3
   },
   "file_extension": ".py",
   "mimetype": "text/x-python",
   "name": "python",
   "nbconvert_exporter": "python",
   "pygments_lexer": "ipython3",
   "version": "3.7.7"
  }
 },
 "nbformat": 4,
 "nbformat_minor": 4
}
