{
 "cells": [
  {
   "cell_type": "markdown",
   "metadata": {},
   "source": [
    "# PyJSG -- JSON Schema Grammar Bindings for Python\n",
    "Translate [JSON Schema Grammar](http://github.com/ericprud/jsg) into Python objects.\n",
    "\n",
    "This tool generates Python 3 objects that represent the JSON objects defined in a JSG schema.  It uses the [Python Typing library](https://docs.python.org/3/library/typing.html) to add type hints to Python IDE's and includes a library to validate the python objects against the library definitions.\n",
    "\n",
    "[![Pyversions](https://img.shields.io/pypi/pyversions/PyJSG.svg)](https://pypi.python.org/pypi/PyJSG)\n",
    "\n",
    "[![PyPi](https://version-image.appspot.com/pypi/?name=PyJSG)](https://pypi.python.org/pypi/PyJSG)\n",
    "\n",
    "## History\n",
    "* 0.5.3 -- Simplified Logger - now uses StringIO instead of MemLogger\n",
    "* 0.5.4 -- Runs with python 3.6 and python 3.7.0b3\n",
    "* 0.6.0 -- Beginning of cleanup and jupyter documentation\n",
    "\n",
    "\n",
    "## Testing Framework\n",
    "The code below allows us to compile a JSG definition into Python and then execute the python classes against sample JSON.  One of the key benefits of PyJSG -- the formally typed python classes, which allows type checking in an IDE -- is not shown here."
   ]
  },
  {
   "cell_type": "code",
   "execution_count": 79,
   "metadata": {},
   "outputs": [],
   "source": [
    "from types import ModuleType\n",
    "from io import StringIO\n",
    "\n",
    "from pyjsg.jsglib.jsg import loads, JSGException, Logger\n",
    "from pyjsg.parser_impl.generate_python import parse"
   ]
  },
  {
   "cell_type": "code",
   "execution_count": 82,
   "metadata": {},
   "outputs": [],
   "source": [
    "class TestModule:\n",
    "    def __init__(self, jsg: str, test_name: str, print_python: bool=False) -> None:\n",
    "        \"\"\" Generate python from jsg and compile it into module named test_name \"\"\"\n",
    "        python = parse(jsg, test_name)\n",
    "        if print_python:\n",
    "            print(python)\n",
    "        spec = compile(python, test_name, 'exec')\n",
    "        self._module = ModuleType(test_name)\n",
    "        exec(spec,self._module.__dict__)\n",
    "\n",
    "    def test(self, *jsons: str) -> None:\n",
    "        \"\"\" Test list of json strings against jsg specification \"\"\"\n",
    "        npass = nfail = 0\n",
    "        for i, json in enumerate(jsons):\n",
    "            try:\n",
    "                obj = loads(json, self._module)\n",
    "            except ValueError as v:\n",
    "                print(f\"String {i+1}: Error: {v}\")\n",
    "                nfail += 1\n",
    "                continue\n",
    "            except JSGException as v:\n",
    "                print(f\"String {i+1}: Exception: {v}\")\n",
    "                nfail += 1\n",
    "                continue\n",
    "            logfile = StringIO()\n",
    "            logger = Logger(logfile)\n",
    "            if not obj._is_valid(logger):\n",
    "                print(f\"String {i+1}: {logfile.getvalue()}\")\n",
    "                nfail += 1\n",
    "        print(f\"{i+1} tests, {nfail} failures\")\n",
    "        print()"
   ]
  },
  {
   "cell_type": "markdown",
   "metadata": {},
   "source": [
    "## Examples\n",
    "\n",
    "**Example 1**: A JSON document that must have exactly one property named \"status\" whose value must be one of \"ready\" or \"pending\""
   ]
  },
  {
   "cell_type": "code",
   "execution_count": 83,
   "metadata": {},
   "outputs": [
    {
     "name": "stdout",
     "output_type": "stream",
     "text": [
      "String 3: Error: Unknown attribute: state=new\n",
      "String 4: doc: Type mismatch for status. Expecting: <class 'ex1._Anon1'> Got: <class 'str'>\n",
      "\n",
      "String 5: Error: Unknown attribute: statis=pending\n",
      "String 6: doc: Missing required field: status\n",
      "\n",
      "6 tests, 4 failures\n",
      "\n"
     ]
    }
   ],
   "source": [
    "jsg = \"\"\"\n",
    "doc {status: (\"ready\"|\"pending\")}\n",
    "\"\"\"\n",
    "\n",
    "# Passing JSON documents\n",
    "e1pass = \"\"\"\n",
    "{\"status\": \"pending\"}\n",
    "\"\"\"\n",
    "e2pass = \"\"\"\n",
    "{\"status\": \"ready\"\n",
    "}\n",
    "\"\"\"\n",
    "\n",
    "# Fails because of \"state\" attribute\n",
    "e1f1 = \"\"\"\n",
    "{\"status\": \"pending\",\n",
    " \"state\": \"new\"\n",
    "}\n",
    "\"\"\"\n",
    "\n",
    "# Fails because of unknown value\n",
    "e1f2 = \"\"\"\n",
    "{\"status\": \"complete\"}\n",
    "\"\"\"\n",
    "\n",
    "# Fails because \"statis\" attribute\n",
    "e1f3 = \"\"\"\n",
    "{\"statis\": \"pending\"}\n",
    "\"\"\"\n",
    "\n",
    "# Fails because of missing \"state\"\n",
    "e1f4 = \"\"\"\n",
    "{}\n",
    "\"\"\"\n",
    "TestModule(jsg, \"ex1\", print_python=False).test(e1pass, e2pass, e1f1, e1f2, e1f3, e1f4)"
   ]
  },
  {
   "cell_type": "markdown",
   "metadata": {},
   "source": [
    "**Example 2**: Define a JSON document that must have at least two properties, `\"street\"` represented as a JSON string a `\"number\"` represented as a JSON number and an optional `\"state\"`.  The trailing comma on `state` indicates an \"open\" spec -- additional tags are allowed"
   ]
  },
  {
   "cell_type": "code",
   "execution_count": 85,
   "metadata": {},
   "outputs": [
    {
     "name": "stdout",
     "output_type": "stream",
     "text": [
      "String 3: Error: Invalid Integer value: \"17a\"\n",
      "String 4: addr: Missing required field: street\n",
      "\n",
      "4 tests, 2 failures\n",
      "\n"
     ]
    }
   ],
   "source": [
    "jsg = \"\"\"\n",
    "addr { street:@string,\n",
    "       number:@int,\n",
    "       state:@string?,\n",
    "      }\n",
    "\"\"\"\n",
    "\n",
    "# A vanilla example\n",
    "e2p1 = \"\"\"\n",
    "{ \"street\": \"South Fanning\",\n",
    "  \"number\": 608,\n",
    "  \"state\": \"ID\",\n",
    "  \"zip\": 83401\n",
    "}\"\"\"\n",
    "\n",
    "# Omitting the state is ok\n",
    "e2p2 = \"\"\"\n",
    "{ \"street\": \"1st Street\",\n",
    "  \"number\": 1217\n",
    "}\"\"\"\n",
    "\n",
    "# Non-numeric number fails\n",
    "e2f2 = \"\"\"\n",
    "{ \"street\": \"1st Street\",\n",
    "  \"number\": \"17a\"\n",
    "}\n",
    "\"\"\"\n",
    "\n",
    "# Missing street fails\n",
    "e2f3 = \"\"\"\n",
    "{ \"location\": \"South Fanning\",\n",
    "  \"number\": 608,\n",
    "  \"state\": \"ID\",\n",
    "  \"zip\": 83401\n",
    "}\"\"\"\n",
    "TestModule(jsg, \"ex2\").test(e2p1, e2p2, e2f2, e2f3)"
   ]
  },
  {
   "cell_type": "markdown",
   "metadata": {},
   "source": [
    "## Directives\n",
    "### The `.TYPE` directive:\n",
    "\n",
    "1. Names a unique property that identifies the JSG object being represented\n",
    "2. (Optional) lists one or more production types that do not use the `.TYPE` discriminator\n",
    "\n",
    "#### Syntax\n",
    "`.TYPE <type> [ - <type> [<type>...]] ;`\n",
    "\n",
    "#### No type directive"
   ]
  },
  {
   "cell_type": "code",
   "execution_count": 52,
   "metadata": {},
   "outputs": [
    {
     "name": "stdout",
     "output_type": "stream",
     "text": [
      "String 2: Error: Unknown attribute: type=doc\n",
      "2 tests, 1 failures\n",
      "\n"
     ]
    }
   ],
   "source": [
    "jsg = 'doc { a:. }'\n",
    "\n",
    "t1pass = '{\"a\":\"hello\"}'\n",
    "t1fail = '{\"type\": \"doc\", \"a\":\"hello\"}'\n",
    "\n",
    "TestModule(jsg, \"test1\").test(t1pass, t1fail)"
   ]
  },
  {
   "cell_type": "markdown",
   "metadata": {},
   "source": [
    "#### Type directive\n",
    "The following example defines two JSG types, `doc` and `id`.  `doc` has a single element of any type named 'a'.  'id' has a single element named 'e' that must be a JSON number."
   ]
  },
  {
   "cell_type": "code",
   "execution_count": 53,
   "metadata": {},
   "outputs": [
    {
     "name": "stdout",
     "output_type": "stream",
     "text": [
      "String 3: Exception: Unknown type: dac\n",
      "4 tests, 1 failures\n",
      "\n",
      "String 1: Exception: Missing type var\n",
      "1 tests, 1 failures\n",
      "\n",
      "1 tests, 0 failures\n",
      "\n"
     ]
    }
   ],
   "source": [
    "jsg = \"\"\"\n",
    ".TYPE type;\n",
    "\n",
    "doc {a:.}\n",
    "id {e: @int}\n",
    "\"\"\"\n",
    "t2p1 = '{\"type\": \"doc\", \"a\": \"hello\"}'\n",
    "t2p2 = '{\"type\": \"doc\", \"a\": {\"type\": \"id\", \"e\": 42}}'\n",
    "\n",
    "# Fails due to unrecognized type\n",
    "t2f1 = '{\"type\": \"dac\", \"a\": \"hello\"}'\n",
    "\n",
    "# Passes - schema allows nested types\n",
    "t2p3 = '{\"type\": \"doc\", \"a\":{\"type\": \"doc\", \"a\":0}}'\n",
    "\n",
    "TestModule(jsg, \"test2\").test(t2p1, t2p2, t2f1, t2p3)\n",
    "\n",
    "\n",
    "# Fails for lack of a type on the inner element\n",
    "t2f2 = '{\"type\": \"doc\", \"a\":{\"e\":0}}'\n",
    "TestModule(jsg, \"test2\").test(t2f2)\n",
    "\n",
    "# Add a type exception\n",
    "jsg = \"\"\"\n",
    ".TYPE type - id;\n",
    "\n",
    "doc {a:.}\n",
    "id {e: @int}\n",
    "\"\"\"\n",
    "\n",
    "# Test now passes\n",
    "TestModule(jsg, \"test2a\").test(t2f2)"
   ]
  },
  {
   "cell_type": "code",
   "execution_count": null,
   "metadata": {
    "collapsed": true
   },
   "outputs": [],
   "source": []
  },
  {
   "cell_type": "code",
   "execution_count": null,
   "metadata": {
    "collapsed": true
   },
   "outputs": [],
   "source": []
  }
 ],
 "metadata": {
  "kernelspec": {
   "display_name": "Python 3",
   "language": "python",
   "name": "python3"
  },
  "language_info": {
   "codemirror_mode": {
    "name": "ipython",
    "version": 3
   },
   "file_extension": ".py",
   "mimetype": "text/x-python",
   "name": "python",
   "nbconvert_exporter": "python",
   "pygments_lexer": "ipython3",
   "version": "3.6.3"
  }
 },
 "nbformat": 4,
 "nbformat_minor": 2
}
