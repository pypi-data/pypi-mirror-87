{
 "cells": [
  {
   "cell_type": "markdown",
   "metadata": {},
   "source": [
    "# Build Neurons"
   ]
  },
  {
   "cell_type": "markdown",
   "metadata": {},
   "source": [
    "In BrainPy, the *definition* and *usage* of the neuron model is separated from each other. In such a way, users can recycle the defined models to generate different neuron groups, or can use models defined by other people. Specifically, two classses should be used:\n",
    "\n",
    "- ``brainpy.NeuType``: Define the abstract neuron model.\n",
    "- ``brainpy.NeuGroup``: Use the abstract neuron model to generate a concrete neuron group."
   ]
  },
  {
   "cell_type": "code",
   "execution_count": 1,
   "metadata": {
    "ExecuteTime": {
     "end_time": "2020-11-24T03:12:37.820385Z",
     "start_time": "2020-11-24T03:12:34.962065Z"
    }
   },
   "outputs": [],
   "source": [
    "import brainpy as bp\n",
    "import brainpy.numpy as np"
   ]
  },
  {
   "cell_type": "markdown",
   "metadata": {},
   "source": [
    "## brainpy.NeuType"
   ]
  },
  {
   "cell_type": "markdown",
   "metadata": {},
   "source": [
    "Three items should be specified to initialize a ``NeuType``:\n",
    "\n",
    "- ``name``: The neuron model name.\n",
    "- ``steps``: The step functions to update at each time step.\n",
    "- ``requires``: The data required to run this neuron model."
   ]
  },
  {
   "cell_type": "markdown",
   "metadata": {},
   "source": [
    "Two kinds of definition provided in BrainPy to define a ``NeuType``: \n",
    "\n",
    "- ``vector-based``:  Neuron state ``ST`` represents the state of a group of neurons. And each item in ``ST`` is a vector, \n",
    "- ``scalar-based``: Neuron state ``ST`` represents the state of a single neuron. And, each item in ``ST`` is a scalar. \n",
    "\n",
    "The definition logic of ``scalar-based`` models may be more straightforward than ``vector-based`` models. We will see this in the example of LIF model."
   ]
  },
  {
   "cell_type": "markdown",
   "metadata": {},
   "source": [
    "### Hodgkin-Huxley model"
   ]
  },
  {
   "cell_type": "markdown",
   "metadata": {},
   "source": [
    "Let's first take the Hodgkin-Huxley (HH) neuron model as an example to see how to define a ``NeuType`` in BrainPy. "
   ]
  },
  {
   "cell_type": "code",
   "execution_count": 2,
   "metadata": {
    "ExecuteTime": {
     "end_time": "2020-11-24T03:30:37.766010Z",
     "start_time": "2020-11-24T03:30:37.760029Z"
    }
   },
   "outputs": [],
   "source": [
    "# parameters we need # \n",
    "# ------------------ #\n",
    "\n",
    "C = 1.0  # Membrane capacity per unit area (assumed constant).\n",
    "g_Na = 120.  # Voltage-controlled conductance per unit area\n",
    "             # associated with the Sodium (Na) ion-channel.\n",
    "E_Na = 50.   # The equilibrium potentials for the sodium ions.\n",
    "E_K = -77.   # The equilibrium potentials for the potassium ions.\n",
    "g_K = 36.  # Voltage-controlled conductance per unit area\n",
    "           # associated with the Potassium (K) ion-channel.\n",
    "E_Leak = -54.402  # The equilibrium potentials for the potassium ions.\n",
    "g_Leak = 0.003 # Conductance per unit area associated with the leak channels.\n",
    "Vth = 20.  # membrane potential threshold for spike"
   ]
  },
  {
   "cell_type": "markdown",
   "metadata": {},
   "source": [
    "Four differential equations exist in HH neuron model. Please check [Differential equations](https://brainpy.readthedocs.io/en/latest/advanced/differential_equations.html) to see how BrainPy supports differential equations. "
   ]
  },
  {
   "cell_type": "markdown",
   "metadata": {},
   "source": [
    "For $m$ channel, the difinition of the corresponding equations can be:"
   ]
  },
  {
   "cell_type": "markdown",
   "metadata": {},
   "source": [
    "$$\n",
    "\\begin{align}\n",
    "{\\frac {dm}{dt}} &=\\alpha _{m}(V)(1-m)-\\beta _{m}(V)m  \\\\\n",
    "\\alpha_m(V) &= {0.1 (V+ 40) \\over 1-\\exp\\big(-{ V+40 \\over 10}\\big)} \\\\\n",
    "\\beta_m(V) &= 4.0 \\cdot \\exp\\big(-{V+65 \\over 18}\\big)\n",
    "\\end{align}\n",
    "$$"
   ]
  },
  {
   "cell_type": "code",
   "execution_count": 3,
   "metadata": {
    "ExecuteTime": {
     "end_time": "2020-11-24T03:13:17.628936Z",
     "start_time": "2020-11-24T03:13:17.615937Z"
    }
   },
   "outputs": [],
   "source": [
    "@bp.integrate\n",
    "def int_m(m, t, V):\n",
    "    alpha = 0.1 * (V + 40) / (1 - np.exp(-(V + 40) / 10))\n",
    "    beta = 4.0 * np.exp(-(V + 65) / 18)\n",
    "    dmdt = alpha * (1 - m) - beta * m\n",
    "    return dmdt"
   ]
  },
  {
   "cell_type": "markdown",
   "metadata": {},
   "source": [
    "The $h$ channel is defined as:\n",
    "\n",
    "$$\n",
    "\\begin{align}\n",
    "{\\frac {dm}{dt}} &=\\alpha _{m}(V)(1-m)-\\beta _{m}(V)m  \\\\\n",
    "\\alpha_m(V) &= {0.1 (V+ 40) \\over 1-\\exp\\big(-{ V+40 \\over 10}\\big)} \\\\\n",
    "\\beta_m(V) &= 4.0 \\cdot \\exp\\big(-{V+65 \\over 18}\\big)\n",
    "\\end{align}\n",
    "$$"
   ]
  },
  {
   "cell_type": "code",
   "execution_count": 4,
   "metadata": {
    "ExecuteTime": {
     "end_time": "2020-11-24T03:13:33.719989Z",
     "start_time": "2020-11-24T03:13:33.712010Z"
    }
   },
   "outputs": [],
   "source": [
    "@bp.integrate\n",
    "def int_h(h, t, V):\n",
    "    alpha = 0.07 * np.exp(-(V + 65) / 20.)\n",
    "    beta = 1 / (1 + np.exp(-(V + 35) / 10))\n",
    "    dhdt = alpha * (1 - h) - beta * h\n",
    "    return dhdt"
   ]
  },
  {
   "cell_type": "markdown",
   "metadata": {},
   "source": [
    "The $n$ channel is defined as:\n",
    "\n",
    "$$\n",
    "\\begin{align}\n",
    "{\\frac {dn}{dt}} &=\\alpha _{n}(V)(1-n)-\\beta _{n}(V)n \\\\\n",
    "\\alpha_n(V) &= {0.1 \\cdot (V+55) \\over 1-\\exp\\big(-{V+55 \\over10}\\big)} \\\\\n",
    "\\beta_n(V) &= 0.125 \\cdot \\exp\\big(-{V+65 \\over 80}\\big)\n",
    "\\end{align}\n",
    "$$"
   ]
  },
  {
   "cell_type": "code",
   "execution_count": 5,
   "metadata": {
    "ExecuteTime": {
     "end_time": "2020-11-24T03:13:58.080211Z",
     "start_time": "2020-11-24T03:13:58.072228Z"
    }
   },
   "outputs": [],
   "source": [
    "@bp.integrate\n",
    "def int_n(n, t, V):\n",
    "    alpha = 0.01 * (V + 55) / (1 - np.exp(-(V + 55) / 10))\n",
    "    beta = 0.125 * np.exp(-(V + 65) / 80)\n",
    "    dndt = alpha * (1 - n) - beta * n\n",
    "    return dndt"
   ]
  },
  {
   "cell_type": "markdown",
   "metadata": {},
   "source": [
    "The membrane potential $V$ is defined as:\n",
    "\n",
    "$$\n",
    "\\begin{align}\n",
    "C_{m}{\\frac {d V}{dt}}&=-{\\bar {g}}_{\\text{K}}n^{4}(V-V_{K}) - {\\bar {g}}_{\\text{Na}}m^{3}h(V-V_{Na}) -{\\bar {g}}_{l}(V-V_{l}) + I_{syn}\n",
    "\\end{align}\n",
    "$$"
   ]
  },
  {
   "cell_type": "code",
   "execution_count": 6,
   "metadata": {
    "ExecuteTime": {
     "end_time": "2020-11-24T03:14:17.809645Z",
     "start_time": "2020-11-24T03:14:17.798673Z"
    }
   },
   "outputs": [],
   "source": [
    "@bp.integrate\n",
    "def int_V(V, t, m, h, n, Isyn):\n",
    "    INa = g_Na * m ** 3 * h * (V - E_Na)\n",
    "    IK = g_K * n ** 4 * (V - E_K)\n",
    "    IL = g_Leak * (V - E_Leak)\n",
    "    dvdt = (- INa - IK - IL + Isyn) / C\n",
    "    return dvdt"
   ]
  },
  {
   "cell_type": "markdown",
   "metadata": {},
   "source": [
    "In BrainPy, most of the integration of differential equations are implemented by the numerical methods, such as Euler, Exponential Euler, RK2, RK4 (please see [Numerical integrators](https://brainpy.readthedocs.io/en/latest/advanced/numerical_integrators.html)). Therefore, after defining the differential equations, the next important thing is to define the update logic for each variable from the current time point to next. "
   ]
  },
  {
   "cell_type": "markdown",
   "metadata": {},
   "source": [
    "Here, let's first define the state of a HH model. We provide a data structure ``brainpy.types.NeuState`` to support the neuron state management."
   ]
  },
  {
   "cell_type": "code",
   "execution_count": 7,
   "metadata": {
    "ExecuteTime": {
     "end_time": "2020-11-24T03:29:35.517510Z",
     "start_time": "2020-11-24T03:29:35.511496Z"
    }
   },
   "outputs": [],
   "source": [
    "ST = bp.types.NeuState(\n",
    "    {'V': -65.,  # denotes membrane potential.\n",
    "     'm': 0.,  # denotes potassium channel activation probability.\n",
    "     'h': 0.,  # denotes sodium channel activation probability.\n",
    "     'n': 0.,  # denotes sodium channel inactivation probability.\n",
    "     'spike': 0.,  # denotes spiking state.\n",
    "     'input': 0.  # denotes synaptic input.\n",
    "     }\n",
    ")"
   ]
  },
  {
   "cell_type": "markdown",
   "metadata": {},
   "source": [
    "In ``ST``, the dynamical variable $V$, $m$, $h$, and $n$ are inluded. We also care about whether the neuron provide a $spike$ at current time. Moreover, we define a $input$ item to receive the synaptic inputs and the external inputs."
   ]
  },
  {
   "cell_type": "markdown",
   "metadata": {},
   "source": [
    "Based on the neuron state ``ST``, the update logic of the HH model from the current time point ($t$) to the next time point $(t + dt)$ can be defined as:"
   ]
  },
  {
   "cell_type": "code",
   "execution_count": 8,
   "metadata": {
    "ExecuteTime": {
     "end_time": "2020-11-24T03:29:44.199256Z",
     "start_time": "2020-11-24T03:29:44.186295Z"
    }
   },
   "outputs": [],
   "source": [
    "def update(ST, _t_):\n",
    "    m = np.clip(int_m(ST['m'], _t_, ST['V']), 0., 1.)\n",
    "    h = np.clip(int_h(ST['h'], _t_, ST['V']), 0., 1.)\n",
    "    n = np.clip(int_n(ST['n'], _t_, ST['V']), 0., 1.)\n",
    "    V = int_V(ST['V'], _t_, ST['m'], ST['h'], ST['n'], ST['inp'])\n",
    "    \n",
    "    ST['spike'] = np.logical_and(ST['V'] < Vth, V >= Vth)\n",
    "    ST['V'] = V\n",
    "    ST['m'] = m\n",
    "    ST['h'] = h\n",
    "    ST['n'] = n\n",
    "    ST['input'] = 0."
   ]
  },
  {
   "cell_type": "markdown",
   "metadata": {},
   "source": [
    "In this example, the ``update()`` function of HH model needs two data:\n",
    "\n",
    "- ``ST``: The neuron state.\n",
    "- ``_t_``: The system time at current point."
   ]
  },
  {
   "cell_type": "markdown",
   "metadata": {},
   "source": [
    "Putting together, a HH neuron model is defined as:"
   ]
  },
  {
   "cell_type": "code",
   "execution_count": 9,
   "metadata": {
    "ExecuteTime": {
     "end_time": "2020-11-24T03:34:33.455980Z",
     "start_time": "2020-11-24T03:34:33.450999Z"
    }
   },
   "outputs": [],
   "source": [
    "HH = bp.NeuType(name='HH_neuron', \n",
    "                requires={\"ST\": ST}, \n",
    "                steps=update,\n",
    "                vector_based=True)"
   ]
  },
  {
   "cell_type": "markdown",
   "metadata": {},
   "source": [
    "Here, we should note that we just define an abstract HH neuron model. This model can run with any number of neurons, and with any geometry (one dimension, or two dimension). Only after define a concrete [neuron group](#brainpy.NeuGroup), can we run it or use it to construct a network."
   ]
  },
  {
   "cell_type": "markdown",
   "metadata": {},
   "source": [
    "### LIF model (vector-based)"
   ]
  },
  {
   "cell_type": "markdown",
   "metadata": {},
   "source": [
    "Here, same with [HH model](#Hodgkin-Huxley-model) defined above, let's define a vector-based LIF model. The formal equations of a LIF model is given by:\n",
    "\n",
    "$$\n",
    "\\tau_m \\frac{dV}{dt} = - (V(t) - V_{rest}) + I(t) \n",
    "\\\\\n",
    "\\text{after}\\, V(t) \\gt V_{th}, V(t) =V_{rest}\n",
    "\\,\n",
    "\\text{last}\\, \\tau_{ref}\\, \\text{ms} \n",
    "$$\n",
    "\n",
    "where $V$ is the membrane potential, $V_{rest}$ is the rest membrane potential, $V_{th}$ is the spike threshold, $\\tau_m$ is the time constant, $\\tau_{ref}$ is the refractory time period, and $I$ is the time-variant synaptic inputs. "
   ]
  },
  {
   "cell_type": "markdown",
   "metadata": {},
   "source": [
    "Let's define the following item in neuron state:\n",
    "\n",
    "- ``V``: The membrane potential.\n",
    "- ``input``: The synaptic input.\n",
    "- ``spike``: Whether produce a spike.\n",
    "- ``refractory``: Whether the neuron is in refractory state.\n",
    "- ``t_last_spike``: The last spike time for calculating refractory state."
   ]
  },
  {
   "cell_type": "code",
   "execution_count": 10,
   "metadata": {
    "ExecuteTime": {
     "end_time": "2020-11-24T04:25:05.900622Z",
     "start_time": "2020-11-24T04:25:05.890683Z"
    }
   },
   "outputs": [],
   "source": [
    "ST = bp.types.NeuState(\n",
    "        {'V': 0,     # membrane potential\n",
    "         'input':0,  # synaptic input\n",
    "         'spike':0,  # spike state\n",
    "         'refractory': 0,  # refractory state\n",
    "         't_last_spike': -1e7  # last spike time\n",
    "        }\n",
    "    )"
   ]
  },
  {
   "cell_type": "markdown",
   "metadata": {},
   "source": [
    "Assume the items in the neuron state ``ST`` of a LIF model are vectors, the update logic of vector-based LIF neuron model is:"
   ]
  },
  {
   "cell_type": "code",
   "execution_count": 11,
   "metadata": {
    "ExecuteTime": {
     "end_time": "2020-11-24T04:39:13.231721Z",
     "start_time": "2020-11-24T04:39:13.216761Z"
    }
   },
   "outputs": [],
   "source": [
    "tau_m=10.; Vr=0.; Vth=10.; tau_ref=0.\n",
    "\n",
    "@bp.integrate\n",
    "def int_f(V, t, Isyn):\n",
    "    return (-V + Vr + Isyn) / tau_m\n",
    "\n",
    "def update(ST, _t_):\n",
    "    V = int_f(ST['V'], _t_, ST['input'])\n",
    "    is_ref = _t_ - ST['t_last_spike'] < tau_ref\n",
    "    V = np.where(is_ref, ST['V'], V)\n",
    "    is_spike = V > Vth\n",
    "    spike_idx = np.where(is_spike)[0]\n",
    "    if len(spike_idx):\n",
    "        V[spike_idx] = Vr\n",
    "        is_ref[spike_idx] = 1.\n",
    "        ST['t_last_spike'][spike_idx] = _t_\n",
    "    ST['V'] = V\n",
    "    ST['spike'] = is_spike\n",
    "    ST['refractory'] = is_ref\n",
    "    ST['input'] = 0.\n",
    "\n",
    "lif = bp.NeuType(name='LIF', \n",
    "                 requires=dict(ST=ST), \n",
    "                 steps=update, \n",
    "                 vector_based=True)"
   ]
  },
  {
   "cell_type": "markdown",
   "metadata": {},
   "source": [
    "Here, for vector-based LIF model, we must differentiate the states for each neuron at every time point. For neurons in refractory period (``is_ref``), we must keep its $V$ unchange. For neurons in spiking state (``is_spike``), we must reset its membrane potential. So, it looks like the definition of vector-based LIF mode is somewhat complex. However, the good news is that BrainPy support the difinition of neuron models in scalar mode, which means at each time point, your model difinition can only consider the behavior of one single neuron. Let's take a look."
   ]
  },
  {
   "cell_type": "markdown",
   "metadata": {},
   "source": [
    "### LIF model (scalar-based)"
   ]
  },
  {
   "cell_type": "code",
   "execution_count": 12,
   "metadata": {
    "ExecuteTime": {
     "end_time": "2020-11-24T04:47:43.050010Z",
     "start_time": "2020-11-24T04:47:43.041032Z"
    }
   },
   "outputs": [],
   "source": [
    "def update(ST, _t_):\n",
    "    if _t_ - ST['t_last_spike'] > tau_ref:\n",
    "        V = int_f(ST['V'], _t_, ST['input'])\n",
    "        if V >= Vth:\n",
    "            V = Vr\n",
    "            ST['t_last_spike'] = _t_\n",
    "            ST['spike'] = True\n",
    "        ST['V'] = V\n",
    "    else:\n",
    "        ST['spike'] = False\n",
    "    ST['input'] = 0.\n",
    "    \n",
    "lif = bp.NeuType(name='LIF', \n",
    "                 requires=dict(ST=ST), \n",
    "                 steps=update, \n",
    "                 vector_based=False)"
   ]
  },
  {
   "cell_type": "markdown",
   "metadata": {},
   "source": [
    "As you can see, the scalar-based LIF model is intuitive and straightforward in BrainPy. If the neuron is not in refractory period (``_t_ - ST['t_last_spike'] > tau_ref``), integrate the membrane potential by calling ``int_f()``. If the neuron reaches the spike threshold (``V >= Vth``), then reset the membrane potential (``V = Vr``) and set the spike state is ``True``."
   ]
  },
  {
   "cell_type": "markdown",
   "metadata": {},
   "source": [
    "### Reconcile the scalar-based and vector-based model"
   ]
  },
  {
   "cell_type": "markdown",
   "metadata": {},
   "source": [
    "Although BrainPy provides a convenient way to define neuron models in scalar mode, it doesn't mean that we should give up the vector-based model. Actually, when the user choose the ``NumPy`` (or ``TensorFlow``/``PyTorch`` etc. frameworks without JIT acceleration) as the running backend, the vector-based model is much more efficient than the scalar-based model, for the powerful array-oriented programming support. On the contrary, the scalar-based LIF model is usually efficient than the vector-based ones in ``Numba`` mode. This is because the JIT acceleration of for loop provided in Numba. Therefore, we recommend you choose different difinition mode for different running backend. For example, we can define a unified LIF model with the explicit backend judgement:"
   ]
  },
  {
   "cell_type": "code",
   "execution_count": 13,
   "metadata": {
    "ExecuteTime": {
     "end_time": "2020-11-24T05:04:09.328819Z",
     "start_time": "2020-11-24T05:04:09.310904Z"
    }
   },
   "outputs": [],
   "source": [
    "def get_lif(tau_m=10., Vr=0., Vth=10., tau_ref=0.):\n",
    "    ST = bp.types.NeuState({'V': 0, 'input':0, 'spike':0, \n",
    "                            'refractory': 0, 't_last_spike': -1e7})\n",
    "    \n",
    "    @bp.integrate\n",
    "    def int_f(V, t, Isyn):\n",
    "        return (-V + Vr + Isyn) / tau_m\n",
    "\n",
    "    if bp.profile.is_numba_bk:\n",
    "    \n",
    "        def update(ST, _t_):\n",
    "            if _t_ - ST['t_last_spike'] > tau_ref:\n",
    "                V = int_f(ST['V'], _t_, ST['input'])\n",
    "                if V >= Vth:\n",
    "                    V = Vr\n",
    "                    ST['t_last_spike'] = _t_\n",
    "                    ST['spike'] = True\n",
    "                ST['V'] = V\n",
    "            else:\n",
    "                ST['spike'] = False\n",
    "            ST['input'] = 0.\n",
    "\n",
    "        lif = bp.NeuType(name='LIF', requires=dict(ST=ST), steps=update, vector_based=False)\n",
    "    else:\n",
    "        \n",
    "        def update(ST, _t_):\n",
    "            V = int_f(ST['V'], _t_, ST['input'])\n",
    "            is_ref = _t_ - ST['t_last_spike'] < tau_ref\n",
    "            V = np.where(is_ref, ST['V'], V)\n",
    "            is_spike = V > Vth\n",
    "            spike_idx = np.where(is_spike)[0]\n",
    "            if len(spike_idx):\n",
    "                V[spike_idx] = Vr\n",
    "                is_ref[spike_idx] = 1.\n",
    "                ST['t_last_spike'][spike_idx] = _t_\n",
    "            ST['V'] = V\n",
    "            ST['spike'] = is_spike\n",
    "            ST['refractory'] = is_ref\n",
    "            ST['input'] = 0.\n",
    "\n",
    "        lif = bp.NeuType(name='LIF',requires=dict(ST=ST), steps=update, vector_based=True)\n",
    "    \n",
    "    return lif"
   ]
  },
  {
   "cell_type": "markdown",
   "metadata": {},
   "source": [
    "In such a way, you can alway get the most efficient way to run your LIF neuron groups:\n",
    "\n",
    "- Choose the JIT accelerator ``Numba`` as the running backend, get the scalar-based LIF model.\n",
    "- Choose the array-oriented accelrator ``NumPy``, ``TensorFlow`` or ``PyTorch`` as the running backend, get the vector-based LIF model."
   ]
  },
  {
   "cell_type": "markdown",
   "metadata": {},
   "source": [
    "## brainpy.NeuGroup"
   ]
  },
  {
   "cell_type": "markdown",
   "metadata": {},
   "source": [
    "After we talk about ``brainpy.NeuType``, the uasge of ``brainpy.NeuGroup`` is a piece of cake. This is because in a real project the most efforts we pay is the difinition of the models, and BrainPy provide a very convenient way to use your defined models. Specifically, a ``brainpy.NeuGroup`` receives the following specifications:\n",
    "\n",
    "- ``model``: The neuron type will be used to generate a neuron group.\n",
    "- ``geometry``: The geometry of the neuron group. Can be a int, or a tuple/list of int.\n",
    "- ``monitors``: The items to monitor (record the history values.)"
   ]
  },
  {
   "cell_type": "markdown",
   "metadata": {},
   "source": [
    "Let's take our defined HH model as an example."
   ]
  },
  {
   "cell_type": "code",
   "execution_count": 14,
   "metadata": {
    "ExecuteTime": {
     "end_time": "2020-11-24T05:22:26.727483Z",
     "start_time": "2020-11-24T05:22:26.715548Z"
    }
   },
   "outputs": [],
   "source": [
    "group = bp.NeuGroup(HH, geometry=10, monitors=['V', 'm', 'n', 'h'])"
   ]
  },
  {
   "cell_type": "markdown",
   "metadata": {},
   "source": [
    "Each group has a powerful function: ``.run()``. In this function, it receives the following arguments:\n",
    "\n",
    "- ``duration``: Specify the simulation duration. Can be a tuple with ``(start time, end time)``. Or it can be a int to specify the duration ``length`` (then the default start time is ``0``).\n",
    "- ``inputs``: Specify the inputs for each model component. With the format of ``(target, value, [operation])``. The default operation is ``+``, which means the input ``value`` will be added to the ``target``. Or, the operation can be ``-``, ``*``, ``/``, or ``=``."
   ]
  },
  {
   "cell_type": "code",
   "execution_count": null,
   "metadata": {},
   "outputs": [],
   "source": []
  },
  {
   "cell_type": "markdown",
   "metadata": {},
   "source": [
    "## BrainPy is more flexbile than what you think"
   ]
  },
  {
   "cell_type": "markdown",
   "metadata": {},
   "source": [
    "Actually, the above illustration is just a tip of the iceberg. BrainPy is much more flebible than what you think. We will come back this section lator."
   ]
  }
 ],
 "metadata": {
  "hide_input": false,
  "kernelspec": {
   "display_name": "Python 3",
   "language": "python",
   "name": "python3"
  },
  "language_info": {
   "codemirror_mode": {
    "name": "ipython",
    "version": 3
   },
   "file_extension": ".py",
   "mimetype": "text/x-python",
   "name": "python",
   "nbconvert_exporter": "python",
   "pygments_lexer": "ipython3",
   "version": "3.8.1"
  },
  "toc": {
   "base_numbering": 1,
   "nav_menu": {},
   "number_sections": false,
   "sideBar": true,
   "skip_h1_title": false,
   "title_cell": "Table of Contents",
   "title_sidebar": "Contents",
   "toc_cell": false,
   "toc_position": {
    "height": "calc(100% - 180px)",
    "left": "10px",
    "top": "150px",
    "width": "243.07px"
   },
   "toc_section_display": true,
   "toc_window_display": true
  },
  "varInspector": {
   "cols": {
    "lenName": 16,
    "lenType": 16,
    "lenVar": 40
   },
   "kernels_config": {
    "python": {
     "delete_cmd_postfix": "",
     "delete_cmd_prefix": "del ",
     "library": "var_list.py",
     "varRefreshCmd": "print(var_dic_list())"
    },
    "r": {
     "delete_cmd_postfix": ") ",
     "delete_cmd_prefix": "rm(",
     "library": "var_list.r",
     "varRefreshCmd": "cat(var_dic_list()) "
    }
   },
   "types_to_exclude": [
    "module",
    "function",
    "builtin_function_or_method",
    "instance",
    "_Feature"
   ],
   "window_display": false
  }
 },
 "nbformat": 4,
 "nbformat_minor": 4
}
