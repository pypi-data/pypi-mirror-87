{
 "cells": [
  {
   "cell_type": "code",
   "execution_count": 1,
   "metadata": {},
   "outputs": [],
   "source": [
    "import numpy as np\n",
    "from astropy.table import Table\n",
    "import astropy.units as u\n",
    "from astropy.coordinates import Distance\n",
    "import matplotlib.pyplot as plt"
   ]
  },
  {
   "cell_type": "code",
   "execution_count": 2,
   "metadata": {},
   "outputs": [],
   "source": [
    "#agnpy\n",
    "import sys\n",
    "sys.path.append(\"../\")\n",
    "from agnpy.emission_regions import Blob\n",
    "from agnpy.synchrotron import Synchrotron\n",
    "from agnpy.compton import SynchrotronSelfCompton"
   ]
  },
  {
   "cell_type": "code",
   "execution_count": 3,
   "metadata": {},
   "outputs": [],
   "source": [
    "# gammapy\n",
    "from gammapy.estimators import FluxPoints\n",
    "from gammapy.datasets import FluxPointsDataset\n",
    "from gammapy.modeling.models import SpectralModel, SkyModel\n",
    "from gammapy.modeling import Parameter, Fit"
   ]
  },
  {
   "cell_type": "code",
   "execution_count": 4,
   "metadata": {},
   "outputs": [],
   "source": [
    "# load the SED data\n",
    "ecsv_tab = Table.read(\"data/sed_mrk421.ecsv\")\n",
    "fluxpoints_tab = Table() \n",
    "fluxpoints_tab[\"e_ref\"] = ecsv_tab[\"x\"].to(\"eV\", equivalencies=u.spectral())\n",
    "fluxpoints_tab[\"e2dnde\"] = ecsv_tab[\"y\"]\n",
    "fluxpoints_tab[\"e2dnde_err\"] = ecsv_tab[\"dy\"]\n",
    "fluxpoints_tab.meta['SED_TYPE'] = \"e2dnde\"\n",
    "flux_points = FluxPoints(fluxpoints_tab)"
   ]
  },
  {
   "cell_type": "code",
   "execution_count": 5,
   "metadata": {},
   "outputs": [
    {
     "name": "stdout",
     "output_type": "stream",
     "text": [
      "* normalising BrokenPowerLaw in integral mode\n",
      "normalising broken power-law to total energy density u_e: 1.91e-03 erg / cm3\n"
     ]
    }
   ],
   "source": [
    "# let's draw a tentative SED, before the fit\n",
    "# blob definition\n",
    "spectrum_norm = 1e48 * u.erg\n",
    "parameters = {\n",
    "        \"p1\": 2.0,\n",
    "        \"p2\": 3.6,\n",
    "        \"gamma_b\": 1e5,\n",
    "        \"gamma_min\": 50,\n",
    "        \"gamma_max\": 2e6,\n",
    "}\n",
    "spectrum_dict = {\"type\": \"BrokenPowerLaw\", \"parameters\": parameters}\n",
    "R_b = 5e16 * u.cm\n",
    "B = 0.1 * u.G\n",
    "z = 0.03\n",
    "delta_D = 10\n",
    "Gamma = 10\n",
    "blob = Blob(R_b, z, delta_D, Gamma, B, spectrum_norm, spectrum_dict)"
   ]
  },
  {
   "cell_type": "code",
   "execution_count": 6,
   "metadata": {},
   "outputs": [
    {
     "name": "stderr",
     "output_type": "stream",
     "text": [
      "../agnpy/compton.py:24: RuntimeWarning: invalid value encountered in log\n",
      "  term_1 = 2 * q * np.log(q)\n"
     ]
    },
    {
     "data": {
      "image/png": "[encoded data removed]",
      "text/plain": [
       "<Figure size 432x288 with 1 Axes>"
      ]
     },
     "metadata": {
      "needs_background": "light"
     },
     "output_type": "display_data"
    }
   ],
   "source": [
    "# synch and ssc radiation definition\n",
    "synch = Synchrotron(blob)\n",
    "ssc = SynchrotronSelfCompton(blob, synch)\n",
    "nu = np.logspace(9, 27) * u.Hz\n",
    "sed = synch.sed_flux(nu) + ssc.sed_flux(nu)\n",
    "\n",
    "fig, ax = plt.subplots()\n",
    "flux_points.plot(energy_unit=\"eV\", ax=ax)\n",
    "e = nu.to(\"eV\", equivalencies=u.spectral())\n",
    "ax.loglog(e, sed)\n",
    "ax.set_ylim([1e-15, 1e-9])\n",
    "plt.show()"
   ]
  },
  {
   "cell_type": "code",
   "execution_count": 7,
   "metadata": {},
   "outputs": [],
   "source": [
    "class SSC(SpectralModel):\n",
    "    \"\"\"Spectral model with agnpy synchrotron self Compton Radiation and a broken power law of electrons\n",
    "    \"\"\"\n",
    "    tag = \"agnpySSC\"\n",
    "    spectrum_norm = Parameter(name=\"spectrum_norm\", value=1, scale=1e48, unit=\"erg\", min=1e-2, max=1e2)\n",
    "    p1 = Parameter(name=\"p1\", value=2.0, unit=\"\", min=1.5, max=3.5)\n",
    "    p2 = Parameter(name=\"p2\", value=3.6, unit=\"\", min=2, max=5)\n",
    "    gamma_b = Parameter(name=\"gamma_b\", value=1, scale=1e5, unit=\"\", min=1e-2, max=1e2)\n",
    "    B = Parameter(name=\"B\", value=0.1, unit=\"G\", min=0.01, max=10)\n",
    "\n",
    "    def __init__(self, R_b, z, delta_D, Gamma, spectrum_norm, p1, p2, gamma_b, B):\n",
    "        bpwl_parameters = {\n",
    "            \"p1\": p1,\n",
    "            \"p2\": p2,\n",
    "            \"gamma_b\": gamma_b,\n",
    "            \"gamma_min\": 50,\n",
    "            \"gamma_max\": 2e6,\n",
    "        }\n",
    "        spectrum_dict = {\"type\": \"BrokenPowerLaw\", \"parameters\": bpwl_parameters}\n",
    "        self.blob = Blob(R_b, z, delta_D, Gamma, B, spectrum_norm, spectrum_dict)\n",
    "    \n",
    "        super().__init__(specrtrum_norm=spectrum_norm, p1=p1, p2=p2, gamma_b=gamma_b, B=B)\n",
    "    \n",
    "    def evaluate(self, energy, spectrum_norm, p1, p2, gamma_b, B):\n",
    "        # change the blob\n",
    "        self.blob.spectrum_norm = spectrum_norm\n",
    "        self.blob.n_e.p1 = p1\n",
    "        self.blob.n_e.p2 = p2\n",
    "        self.blob.n_e.gamma_b = gamma_b\n",
    "        self.blob.B = B\n",
    "        # recompute the radiation\n",
    "        synch = Synchrotron(blob)\n",
    "        ssc = SynchrotronSelfCompton(blob, synch)\n",
    "        # convert to frequencies\n",
    "        nu = energy.to(\"Hz\", equivalencies = u.spectral())\n",
    "        sed = synch.sed_flux(nu) + ssc.sed_flux(nu)\n",
    "        \n",
    "        return (sed / np.power(energy, 2)).to(\"erg-1 cm-2 s-1\")"
   ]
  },
  {
   "cell_type": "code",
   "execution_count": 8,
   "metadata": {},
   "outputs": [
    {
     "name": "stdout",
     "output_type": "stream",
     "text": [
      "* normalising BrokenPowerLaw in integral mode\n",
      "normalising broken power-law to total energy density u_e: 1.91e-03 erg / cm3\n"
     ]
    },
    {
     "name": "stderr",
     "output_type": "stream",
     "text": [
      "../agnpy/compton.py:24: RuntimeWarning: invalid value encountered in log\n",
      "  term_1 = 2 * q * np.log(q)\n"
     ]
    },
    {
     "data": {
      "image/png": "[encoded data removed]",
      "text/plain": [
       "<Figure size 432x288 with 1 Axes>"
      ]
     },
     "metadata": {
      "needs_background": "light"
     },
     "output_type": "display_data"
    }
   ],
   "source": [
    "# spectral parameters\n",
    "spectrum_norm = 1e48 * u.erg\n",
    "p1 = 2.0\n",
    "p2 = 3.6\n",
    "gamma_b = 1e5\n",
    "\n",
    "ssc_model = SSC(R_b, z, delta_D, Gamma, spectrum_norm, p1, p2, gamma_b, B)\n",
    "ssc_model.plot(energy_range=[1e-5, 1e12] * u.eV, energy_power=2, energy_unit=\"eV\", flux_unit=\"erg-1 cm-2 s-1\")\n",
    "plt.show()"
   ]
  },
  {
   "cell_type": "code",
   "execution_count": 9,
   "metadata": {},
   "outputs": [
    {
     "name": "stderr",
     "output_type": "stream",
     "text": [
      "../agnpy/compton.py:24: RuntimeWarning: invalid value encountered in log\n",
      "  term_1 = 2 * q * np.log(q)\n"
     ]
    }
   ],
   "source": [
    "# define the SkyModel and fit the FluxPoints\n",
    "model = SkyModel(spectral_model=ssc_model)\n",
    "dataset_ssc = FluxPointsDataset(model, flux_points.to_sed_type(\"dnde\"))\n",
    "fitter = Fit([dataset_ssc])\n",
    "result_ssc = fitter.run()"
   ]
  },
  {
   "cell_type": "code",
   "execution_count": 10,
   "metadata": {},
   "outputs": [
    {
     "name": "stdout",
     "output_type": "stream",
     "text": [
      "OptimizeResult\n",
      "\n",
      "\tbackend    : minuit\n",
      "\tmethod     : minuit\n",
      "\tsuccess    : False\n",
      "\tmessage    : Optimization failed.\n",
      "\tnfev       : 16\n",
      "\ttotal stat : 64053211608416020632436736.00\n",
      "\n",
      "SSC\n",
      "\n",
      "     name       value   unit    min       max    frozen error\n",
      "------------- --------- ---- --------- --------- ------ -----\n",
      "spectrum_norm 1.000e+02  erg 1.000e-02 1.000e+02  False   nan\n",
      "           p1 2.000e+00      1.500e+00 3.500e+00  False   nan\n",
      "           p2 3.600e+00      2.000e+00 5.000e+00  False   nan\n",
      "      gamma_b 1.000e+02      1.000e-02 1.000e+02  False   nan\n",
      "            B 1.000e-01    G 1.000e-02 1.000e+01  False   nan\n"
     ]
    },
    {
     "data": {
      "image/png": "[encoded data removed]",
      "text/plain": [
       "<Figure size 432x288 with 1 Axes>"
      ]
     },
     "metadata": {
      "needs_background": "light"
     },
     "output_type": "display_data"
    }
   ],
   "source": [
    "print(result_ssc)\n",
    "print(ssc_model)\n",
    "\n",
    "flux_points.plot(energy_unit=\"eV\")\n",
    "ssc_model.plot(energy_range=[1e-5, 1e12] * u.eV, energy_power=2, energy_unit=\"eV\")\n",
    "plt.show()"
   ]
  },
  {
   "cell_type": "code",
   "execution_count": null,
   "metadata": {},
   "outputs": [],
   "source": []
  }
 ],
 "metadata": {
  "kernelspec": {
   "display_name": "Python 3",
   "language": "python",
   "name": "python3"
  },
  "language_info": {
   "codemirror_mode": {
    "name": "ipython",
    "version": 3
   },
   "file_extension": ".py",
   "mimetype": "text/x-python",
   "name": "python",
   "nbconvert_exporter": "python",
   "pygments_lexer": "ipython3",
   "version": "3.7.0"
  }
 },
 "nbformat": 4,
 "nbformat_minor": 4
}
