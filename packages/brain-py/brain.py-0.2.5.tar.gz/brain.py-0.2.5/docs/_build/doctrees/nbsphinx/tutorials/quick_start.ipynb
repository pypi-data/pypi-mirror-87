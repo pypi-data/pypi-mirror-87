{
 "cells": [
  {
   "cell_type": "markdown",
   "metadata": {},
   "source": [
    "# BrainPy Quickstart"
   ]
  },
  {
   "cell_type": "markdown",
   "metadata": {},
   "source": [
    "**BrainPy is a lightweight framework for prototyping and building your neuronal models on computational neuroscience and brain-inspired computation.** "
   ]
  },
  {
   "cell_type": "markdown",
   "metadata": {},
   "source": [
    "Two main functions are provided in BrainPy: *dynamics simulation* and *dynamics analysis*. In this part, I will focus on neuronal dynamics simulation, and tell you how to code a dynamics network in BrainPy."
   ]
  },
  {
   "cell_type": "markdown",
   "metadata": {},
   "source": [
    "First of all, import the package."
   ]
  },
  {
   "cell_type": "code",
   "execution_count": 1,
   "metadata": {},
   "outputs": [],
   "source": [
    "import brainpy as bp"
   ]
  },
  {
   "cell_type": "markdown",
   "metadata": {},
   "source": [
    "BrainPy provide a unified backend for NumPy and Numba (and further we will support JAX, TensorFlow, PyTorch). Using the same NumPy-like API, your codes can run everywhere, such as CPU, multi-core and GPU (will support in the next cycle of development). Therefore, compare to use ``import numpy as np``, we recommond you to import our unified backend as ``import brainpy.numpy as np``. "
   ]
  },
  {
   "cell_type": "code",
   "execution_count": 2,
   "metadata": {},
   "outputs": [],
   "source": [
    "import brainpy.numpy as np"
   ]
  },
  {
   "cell_type": "markdown",
   "metadata": {},
   "source": [
    "In this section, I will illustrate how to use BrainPy by implementing the paper of *(Wang & Buzsáki, 1996)*.\n",
    "\n",
    "- Wang, Xiao-Jing, and György Buzsáki. \"Gamma oscillation by synaptic inhibition in a hippocampal interneuronal network model.\" Journal of neuroscience 16.20 (1996): 6402-6413.\n",
    "\n",
    "*(Wang & Buzsáki, 1996)* demonstrates how a group of neuron with mutual inhibition produce the gamma oscillation (20–80 Hz) observed in the neocortex and hippocampus. In this network model, the neurons are modeled as a variant of Hodgkin–Huxley (HH) neuron model, and the inhibition connections between neurons are modeled as the GABA<sub>A</sub> synapses.\n",
    "\n",
    "In this section, we will first build a HH neuron model. Then, construct a GABA<sub>A</sub> synapse model. Finally, combining the HH model and GABA<sub>A</sub> moldel together, we will build a network model. We expect at the suitable parameter regions, the network will produce gamma oscillation."
   ]
  },
  {
   "cell_type": "markdown",
   "metadata": {},
   "source": [
    "In BrainPy, all the system-level settings are implmented in ``bp.profile``. By using ``bp.profile``, you can set the backend or the device of the models going to run on, the method and the precision of the numerical integrator, etc. Before dive into this tutorial, let's set the necessary profiles:"
   ]
  },
  {
   "cell_type": "code",
   "execution_count": 3,
   "metadata": {},
   "outputs": [],
   "source": [
    "bp.profile.set(backend='numba',\n",
    "               device='cpu',\n",
    "               dt=0.04,\n",
    "               numerical_method='exponential')"
   ]
  },
  {
   "cell_type": "markdown",
   "metadata": {},
   "source": [
    "This setting means we will compile our model on ``numba`` backend, and run our model on ``cpu`` device; the default numerical method is set to exponential euler method (``exponential``), and the numerical step is set to ``0.04``."
   ]
  },
  {
   "cell_type": "markdown",
   "metadata": {},
   "source": [
    "## How to build a neuron model?"
   ]
  },
  {
   "cell_type": "markdown",
   "metadata": {},
   "source": [
    "In BrainPy, the solving of differential equations is based on numerical methods, such as Euler method, Runge–Kutta methods. Therefore, the definition of a neuron/synapse model is the definition of the *step functions* which explicitly point out how variable state at the current time point $x(t)$ is transited to the next time point $x(t+1)$."
   ]
  },
  {
   "cell_type": "markdown",
   "metadata": {},
   "source": [
    "Let's take the neuron model as an example. To build a neuron model in BrainPy is to create an instance of ``NeuType``. The instantiation of ``NeuType`` requires three items:\n",
    "\n",
    "- *name* : The name of the neuron model (will be useful in error reporting and debugging).\n",
    "- *steps*: The step function to update at each cycle of run.\n",
    "- *requires*: The data required to create before the users run this neuron model."
   ]
  },
  {
   "cell_type": "markdown",
   "metadata": {},
   "source": [
    "Here, we are going to create a HH neuron model. The parameters of HH model are defined in the follows:"
   ]
  },
  {
   "cell_type": "code",
   "execution_count": 4,
   "metadata": {},
   "outputs": [],
   "source": [
    "V_th = 0.  # the spike threshold\n",
    "C = 1.0  # the membrane capacitance\n",
    "gLeak = 0.1  # the conductance of leaky channel\n",
    "ELeak = -65  # the reversal potential of the leaky channel\n",
    "gNa = 35.  # the conductance of sodium channel\n",
    "ENa = 55.  # the reversal potential of sodium\n",
    "gK = 9.  # the conductance of potassium channel\n",
    "EK = -90.  # the reversal potential of potassium\n",
    "phi = 5.0  # the temperature depdendent scaling  "
   ]
  },
  {
   "cell_type": "markdown",
   "metadata": {},
   "source": [
    "In this variant of HH model, three dynamical variables ($V$, $h$ and $n$) exist."
   ]
  },
  {
   "cell_type": "markdown",
   "metadata": {},
   "source": [
    "**h channel**"
   ]
  },
  {
   "cell_type": "markdown",
   "metadata": {},
   "source": [
    "Specifically, the differential equation of $h$ channel is mathematically formed as:\n",
    "\n",
    "$$\n",
    "\\begin{align}\n",
    "{\\frac {dh}{dt}} &=\\alpha _{h}(V)(1-h)-\\beta _{h}(V)h \\\\\n",
    "\\alpha_h(V) &= 0.07 \\cdot \\exp\\big(-{V+58 \\over 20}\\big) \\\\\n",
    "\\beta_h(V) &= {1 \\over 1 + \\exp\\big(-{V+28\\over 10}\\big)}\n",
    "\\end{align}\n",
    "$$"
   ]
  },
  {
   "cell_type": "markdown",
   "metadata": {},
   "source": [
    "Code this equation in BrainPy is very simple. For any ordinary differential equation \n",
    "\n",
    "$$\n",
    "{dx \\over dt} = f(x, t)\n",
    "$$\n",
    "\n",
    "you only need write down the right-hand part of the differential equations $f(x, t)$. By adding a powerfull decorator porovided by BrainPy, ``@bp.integrate``, the framework will automatically numerically integrate the defined equations. Generally, an ordinary differential equation in BrainPy can be coded as:"
   ]
  },
  {
   "cell_type": "code",
   "execution_count": 5,
   "metadata": {},
   "outputs": [],
   "source": [
    "@bp.integrate\n",
    "def func(x, t, other_arguments):\n",
    "    # ... some computation ...\n",
    "    dxdt = ...\n",
    "    return dxdt"
   ]
  },
  {
   "cell_type": "markdown",
   "metadata": {},
   "source": [
    "For this $h$ channel equation, you can code like this:"
   ]
  },
  {
   "cell_type": "code",
   "execution_count": 6,
   "metadata": {},
   "outputs": [],
   "source": [
    "@bp.integrate\n",
    "def int_h(h, t, V):\n",
    "    alpha = 0.07 * np.exp(-(V + 58) / 20)\n",
    "    beta = 1 / (np.exp(-0.1 * (V + 28)) + 1)\n",
    "    dhdt = alpha * (1 - h) - beta * h\n",
    "    return phi * dhdt"
   ]
  },
  {
   "cell_type": "markdown",
   "metadata": {},
   "source": [
    "``@bp.integrate`` receives ``method`` keyword to specify the numerical method you want to choose. For example, adding ``@bp.integrate(method='rk4')`` means you integrate the decorated function by using Fouth-order Runge–Kutta method (The full list of supportted numerical integrators please see the document of [Numerical integrators](https://brainpy.readthedocs.io/en/latest/guides/numerical_integrators.html)). Otherwise, the differential function will be integrated by the system default method."
   ]
  },
  {
   "cell_type": "markdown",
   "metadata": {},
   "source": [
    "**n channel**"
   ]
  },
  {
   "cell_type": "markdown",
   "metadata": {},
   "source": [
    "The differential equation of $n$ channel is mathematically formed as: \n",
    "\n",
    "$$\n",
    "\\begin{align}\n",
    "{\\frac {dn}{dt}} &=\\alpha _{n}(V)(1-n)-\\beta _{n}(V)n \\\\\n",
    "\\alpha_n(V) &= {0.01 \\cdot (V+34) \\over 1-\\exp\\big(-{V+34 \\over10}\\big)} \\\\\n",
    "\\beta_n(V) &= 0.125 \\cdot \\exp\\big(-{V+44 \\over 80}\\big)\n",
    "\\end{align}\n",
    "$$\n",
    "\n",
    "Likely, this equation can be coded as:"
   ]
  },
  {
   "cell_type": "code",
   "execution_count": 7,
   "metadata": {},
   "outputs": [],
   "source": [
    "@bp.integrate\n",
    "def int_n(n, t, V):\n",
    "    alpha = -0.01 * (V + 34) / (np.exp(-0.1 * (V + 34)) - 1)\n",
    "    beta = 0.125 * np.exp(-(V + 44) / 80)\n",
    "    dndt = alpha * (1 - n) - beta * n\n",
    "    return phi * dndt"
   ]
  },
  {
   "cell_type": "markdown",
   "metadata": {},
   "source": [
    "**Membrane potential V**"
   ]
  },
  {
   "cell_type": "markdown",
   "metadata": {},
   "source": [
    "Finally, the differential equation of membrane potential $V$ is expressed as:\n",
    "\n",
    "$$\n",
    "\\begin{align}\n",
    "C_{m}{\\frac {d V}{dt}}&=-{\\bar {g}}_{\\text{K}}n^{4}(V-V_{K}) - {\\bar {g}}_{\\text{Na}}m^{3}h(V-V_{Na}) -{\\bar {g}}_{l}(V-V_{l}) + I_{syn}\n",
    "\\end{align}\n",
    "$$\n",
    "\n",
    "where $m$ is modeled as an instaneous channel (fast enough and substituted by its steady-state function)\n",
    "\n",
    "\n",
    "$$\n",
    "\\begin{align}\n",
    "\\alpha_m(V) &= {0.1 (V+ 40) \\over 1-\\exp\\big(-{ V+40 \\over 10}\\big)} \\\\\n",
    "\\beta_m(V) &= 4.0 \\cdot \\exp\\big(-{V+65 \\over 18}\\big) \\\\\n",
    "m &= {\\alpha_m(V) \\over \\alpha_m(V) + \\beta_m(V)}\n",
    "\\end{align}\n",
    "$$\n",
    "\n",
    "Therefore, the differential equations of $V$ is coded as:"
   ]
  },
  {
   "cell_type": "code",
   "execution_count": 8,
   "metadata": {},
   "outputs": [],
   "source": [
    "@bp.integrate\n",
    "def int_V(V, t, h, n, Isyn):\n",
    "    m_alpha = -0.1 * (V + 35) / (np.exp(-0.1 * (V + 35)) - 1)\n",
    "    m_beta = 4 * np.exp(-(V + 60) / 18)\n",
    "    m = m_alpha / (m_alpha + m_beta)\n",
    "    INa = gNa * m ** 3 * h * (V - ENa)\n",
    "    IK = gK * n ** 4 * (V - EK)\n",
    "    IL = gLeak * (V - ELeak)\n",
    "    dvdt = (- INa - IK - IL + Isyn) / C\n",
    "    return dvdt"
   ]
  },
  {
   "cell_type": "markdown",
   "metadata": {},
   "source": [
    "**Define state**"
   ]
  },
  {
   "cell_type": "markdown",
   "metadata": {},
   "source": [
    "In order to support the convenient state management, BrainPy provides ``NeuState`` to help you manage your model state. In HH neuron, there are $V$, $h$ and $n$ dynamical variables. Moreover, the *input* of the neuron is time-variant. We can add a ``input`` item in HH neuron state to receive the varying input. Further, the neuron *spike* is also we take care of. So, the neuron state of HH model can be specified as"
   ]
  },
  {
   "cell_type": "code",
   "execution_count": 9,
   "metadata": {},
   "outputs": [],
   "source": [
    "HH_ST = bp.types.NeuState({\n",
    "    'V': -55.,  # membrane potential, default initial value is -55.\n",
    "    'h': 0.,  # h channel, default initial value is 0.\n",
    "    'n': 0.,  # n channel, default initial value is 0.\n",
    "    'spike': 0.,  # neuron spike state, default initial value is 0., \n",
    "                  # if neuron emits a spike, it will be 1.\n",
    "    'input': 0.  # neuron synaptic input, default initial value is 0.\n",
    "})"
   ]
  },
  {
   "cell_type": "markdown",
   "metadata": {},
   "source": [
    "The instantiation of ``bp.types.NeuState`` can receive a dict (which means the fields and their default initial values), or a list/tuple of fields (in this case the default initial value will be set to 0.)."
   ]
  },
  {
   "cell_type": "markdown",
   "metadata": {},
   "source": [
    "**Define step functions**"
   ]
  },
  {
   "cell_type": "code",
   "execution_count": 10,
   "metadata": {},
   "outputs": [],
   "source": [
    "def update(ST, _t_):\n",
    "    h = int_h(ST['h'], _t_, ST['V'])\n",
    "    n = int_n(ST['n'], _t_, ST['V'])\n",
    "    V = int_V(ST['V'], _t_, ST['h'], ST['n'], ST['input'])\n",
    "    sp = np.logical_and(ST['V'] < V_th, V >= V_th)\n",
    "    ST['spike'] = sp\n",
    "    ST['V'] = V\n",
    "    ST['h'] = h\n",
    "    ST['n'] = n\n",
    "    ST['input'] = 0."
   ]
  },
  {
   "cell_type": "markdown",
   "metadata": {},
   "source": [
    "The definition of HH model update function requires two arguments: \n",
    "\n",
    "- ``ST``: the neuron state\n",
    "- ``_t_``: the current time.\n",
    "\n",
    "At each transition step, function ``update`` utilizes ``ST`` at the last time to acquire ``ST`` at the current time. ``_t_`` is a system keyword, which denotes the current time point. In BrainPy, there are three system keywords: ``_t_``, ``_i_`` (the current running step number), and ``_dt_`` (the numerical integration step).\n",
    "\n",
    "The order of the arguments in each step function can be arbitrary. BrainPy will automatically pass the required data into your defined functions."
   ]
  },
  {
   "cell_type": "markdown",
   "metadata": {},
   "source": [
    "**Define a NeuType**"
   ]
  },
  {
   "cell_type": "markdown",
   "metadata": {},
   "source": [
    "Finally, putting the above together, we get our HH neuron model as:"
   ]
  },
  {
   "cell_type": "code",
   "execution_count": 11,
   "metadata": {},
   "outputs": [],
   "source": [
    "HH = bp.NeuType(name='HH_neuron', \n",
    "                requires={\"ST\": HH_ST}, \n",
    "                steps=update)"
   ]
  },
  {
   "cell_type": "markdown",
   "metadata": {},
   "source": [
    "## How to build a synapse model?"
   ]
  },
  {
   "cell_type": "markdown",
   "metadata": {},
   "source": [
    "First of all, let's announce the parameter all we need in the follows:"
   ]
  },
  {
   "cell_type": "code",
   "execution_count": 12,
   "metadata": {},
   "outputs": [],
   "source": [
    "g_max = 0.1  # the maximal synaptic conductance\n",
    "E = -75.  # the reversal potential\n",
    "alpha = 12.  # the channel opening rate\n",
    "beta = 0.1  # the channel closing rate"
   ]
  },
  {
   "cell_type": "markdown",
   "metadata": {},
   "source": [
    "**Synaptic connectivity**"
   ]
  },
  {
   "cell_type": "markdown",
   "metadata": {},
   "source": [
    "Different from the construction of the neuron model, the definition of the synapse model should consider the conncection structure between two neuron groups. "
   ]
  },
  {
   "cell_type": "markdown",
   "metadata": {},
   "source": [
    "Suppose two neuron groups (each group is expanded to 1D array and each neuron is assign to a unique index) are connected by the following structures:\n",
    "\n",
    "<img src=\"../images/syn-example-pre_ids-post_ids.png\" width=\"800 px\">"
   ]
  },
  {
   "cell_type": "markdown",
   "metadata": {},
   "source": [
    "In BrainPy, all synaptic connections are expanded to one-dimensional vectors. Want to know why do we design synapses like this structure, please see the document of [Explore the connectivity for efficient synapse computation]()."
   ]
  },
  {
   "cell_type": "markdown",
   "metadata": {},
   "source": [
    "Then, we define the connection structure of ``pre2syn`` and ``post2syn`` like the follows: "
   ]
  },
  {
   "cell_type": "markdown",
   "metadata": {},
   "source": [
    "<img src=\"../images/syn-example-pre2syn.png\" width=\"200 px\" align=\"left\">\n",
    "\n",
    "<img src=\"../images/syn-example-post2syn.png\" width=\"200 px\" align=\"left\">"
   ]
  },
  {
   "cell_type": "markdown",
   "metadata": {},
   "source": [
    "``pre2syn`` is a reference between pre-synaptic neurons and the connected synaptic positions. It is a list of synaptic index arraies. This means that ``pre2syn[0]`` get the synapse computing nodes (in the above example, ``pre2syn[0] = [0, 1, 2]``) connected with the pre-synaptic neuron ``0``. Likely, ``post2syn`` get the mapping between the post-synaptic neurons and the connected synapse nodes. In the above example, ``post2syn[0] = [3]``."
   ]
  },
  {
   "cell_type": "markdown",
   "metadata": {},
   "source": [
    "**Define a SynType**"
   ]
  },
  {
   "cell_type": "markdown",
   "metadata": {},
   "source": [
    "After get the synaptic structure betweem two neuron groups, let's start to define the inner logic of the synaptic computation."
   ]
  },
  {
   "cell_type": "markdown",
   "metadata": {},
   "source": [
    "The GABA<sub>A</sub> synapse defined in *(Wang & Buzsáki, 1996)* is mathematically expressed as "
   ]
  },
  {
   "cell_type": "markdown",
   "metadata": {},
   "source": [
    "$$\n",
    "\\begin{align}\n",
    "\\frac{ds}{dt} &= \\alpha F(V_{pre})(1-s)-\\beta s \\\\\n",
    "F(V_{pre}) &= {1 \\over 1+\\exp\\left(-{V_{pre}- V_{th} \\over 2}\\right)}\n",
    "\\end{align}\n",
    "$$"
   ]
  },
  {
   "cell_type": "markdown",
   "metadata": {},
   "source": [
    "The synaptic current output onto the post-synaptic neuron is expressed as\n",
    "\n",
    "$$\n",
    "I_{ syn }=g_{max} s\\left(V-E\\right)\n",
    "$$"
   ]
  },
  {
   "cell_type": "markdown",
   "metadata": {},
   "source": [
    "The running of the GABA<sub>A</sub> synapse requires the following data:\n",
    "\n",
    "- ``ST``: The synaptic state, where ``g`` is the conductance onto the post-synaptic neurons, ``s`` is the synaptic channel state, and ``pre_above_th`` is the function result of $F(V_{pre})$.\n",
    "- ``pre``: The pre-synaptic neuron state, in which the field ``V`` is needed to compute the synapatic state.\n",
    "- ``post``: The post-synaptic neuron state, in which the fields ``V`` and ``input`` are needed.\n",
    "- ``pre2syn``: The `pre2syn` connectivity structure.\n",
    "- ``post2syn``: The `post2syn` connectivity structure."
   ]
  },
  {
   "cell_type": "code",
   "execution_count": 13,
   "metadata": {},
   "outputs": [],
   "source": [
    "requires = dict(\n",
    "    ST=bp.types.SynState(['g', 's', 'pre_above_th']),\n",
    "    pre=bp.types.NeuState(['V']),\n",
    "    post=bp.types.NeuState(['V', 'input']),\n",
    "    pre2syn=bp.types.ListConn(),\n",
    "    post2syn=bp.types.ListConn(),\n",
    ")"
   ]
  },
  {
   "cell_type": "markdown",
   "metadata": {},
   "source": [
    "The state updating of GABA<sub>A</sub> synapse is based on the differential equation ``ds/dt``. The real-time conductance onto the post-synaptic neurons is computed as ``ST['g'] = g_max * s``. Thus, the overall step function about GABA<sub>A</sub> state update is coded as: "
   ]
  },
  {
   "cell_type": "code",
   "execution_count": 14,
   "metadata": {},
   "outputs": [],
   "source": [
    "@bp.integrate\n",
    "def int_s(s, t, TT):\n",
    "    return alpha * TT * (1 - s) - beta * s\n",
    "\n",
    "def update(ST, _t_, pre, pre2syn):\n",
    "    for pre_id, syn_ids in enumerate(pre2syn):\n",
    "        ST['pre_above_th'][syn_ids] = pre['V'][pre_id] - V_th\n",
    "    T = 1 / (1 + np.exp(-ST['pre_above_th'] / 2))\n",
    "    s = int_s(ST['s'], _t_, T)\n",
    "    ST['s'] = s\n",
    "    ST['g'] = g_max * s"
   ]
  },
  {
   "cell_type": "markdown",
   "metadata": {},
   "source": [
    "Moreover, at each time step, GABA<sub>A</sub> synpase will output the synaptic value onto the post-synaptic neurons. The corresponding step function is coded as:"
   ]
  },
  {
   "cell_type": "code",
   "execution_count": 15,
   "metadata": {},
   "outputs": [],
   "source": [
    "def output(ST, post, post2syn):\n",
    "    post_cond = np.empty(len(post2syn), dtype=np.float_)\n",
    "    for post_id, syn_ids in enumerate(post2syn):\n",
    "        post_cond[post_id] = np.sum(ST['g'][syn_ids])\n",
    "    post['input'] -= post_cond * (post['V'] - E)"
   ]
  },
  {
   "cell_type": "markdown",
   "metadata": {},
   "source": [
    "Finally, let's put the above difinition above together, and we get our wantted synapse model:"
   ]
  },
  {
   "cell_type": "code",
   "execution_count": 16,
   "metadata": {},
   "outputs": [],
   "source": [
    "GABAa = bp.SynType('GABAa', requires=requires, steps=(update, output))"
   ]
  },
  {
   "cell_type": "markdown",
   "metadata": {},
   "source": [
    "## How to construct a network?"
   ]
  },
  {
   "cell_type": "markdown",
   "metadata": {},
   "source": [
    "It is worthy to note that the above defined ``HH`` NeuType and ``GABAa`` SynType are abstract models. They can not be used for concrete computation. Instead, we should define the ``NeuGroup`` and ``SynConn``. "
   ]
  },
  {
   "cell_type": "markdown",
   "metadata": {},
   "source": [
    "Here, by using ``bp.NeuGroup``, let's define a neuron group which contains 100 neurons. At the same time, we monitor the history trajectory of membrane potential ``V`` and spikes ``spike``."
   ]
  },
  {
   "cell_type": "code",
   "execution_count": 17,
   "metadata": {},
   "outputs": [],
   "source": [
    "num = 100\n",
    "neu = bp.NeuGroup(HH, geometry=num, monitors=['spike', 'V'])"
   ]
  },
  {
   "cell_type": "markdown",
   "metadata": {},
   "source": [
    "The initial state values of neurons in the group can be updated by set ``neu_group.ST[key] = value``."
   ]
  },
  {
   "cell_type": "code",
   "execution_count": 18,
   "metadata": {},
   "outputs": [],
   "source": [
    "v_init = -70. + np.random.random(num) * 20\n",
    "h_alpha = 0.07 * np.exp(-(v_init + 58) / 20)\n",
    "h_beta = 1 / (np.exp(-0.1 * (v_init + 28)) + 1)\n",
    "h_init = h_alpha / (h_alpha + h_beta)\n",
    "n_alpha = -0.01 * (v_init + 34) / (np.exp(-0.1 * (v_init + 34)) - 1)\n",
    "n_beta = 0.125 * np.exp(-(v_init + 44) / 80)\n",
    "n_init = n_alpha / (n_alpha + n_beta)\n",
    "\n",
    "neu.ST['V'] = v_init\n",
    "neu.ST['h'] = h_init\n",
    "neu.ST['n'] = n_init"
   ]
  },
  {
   "cell_type": "markdown",
   "metadata": {},
   "source": [
    "Similarly, the concrete synaptic connection can be constructed by using ``bp.SynConn``. It receives an instance of SynType (argument ``model``), the pre-synaptic neuron group (argument ``pre_group``), the post-synaptic neuron group (argument ``post_group``), and connection methods between the two groups (argument ``conn``)."
   ]
  },
  {
   "cell_type": "code",
   "execution_count": 19,
   "metadata": {},
   "outputs": [],
   "source": [
    "syn = bp.SynConn(model=GABAa, \n",
    "                 pre_group=neu, \n",
    "                 post_group=neu,\n",
    "                 conn=bp.connect.All2All(include_self=False),\n",
    "                 monitors=['s', 'g'])"
   ]
  },
  {
   "cell_type": "markdown",
   "metadata": {},
   "source": [
    "The parameters of the created synapse connection can be updated by using ``syn_conn.pars[key] = value``."
   ]
  },
  {
   "cell_type": "code",
   "execution_count": 20,
   "metadata": {},
   "outputs": [],
   "source": [
    "syn.pars['g_max'] = 0.1 / num"
   ]
  },
  {
   "cell_type": "markdown",
   "metadata": {},
   "source": [
    "Finally, by adding the created neuron groups and synapse connection into the ``bp.Network``, we get an instance of the network. Each ``bp.Network`` has a powerful function ``.run()``. You can specify the total duration to run (argument ``duration``), the inputs to various components (argument ``inputs``), and the option for progress reporting (arguments ``report`` and ``report_percent``). "
   ]
  },
  {
   "cell_type": "code",
   "execution_count": 21,
   "metadata": {},
   "outputs": [
    {
     "name": "stdout",
     "output_type": "stream",
     "text": [
      "Compilation used 4.0593 ms.\n",
      "Start running ...\n",
      "Run 20.0% used 0.384 s.\n",
      "Run 40.0% used 0.760 s.\n",
      "Run 60.0% used 1.136 s.\n",
      "Run 80.0% used 1.512 s.\n",
      "Run 100.0% used 1.888 s.\n",
      "Simulation is done in 1.888 s.\n"
     ]
    }
   ],
   "source": [
    "net = bp.Network(neu, syn)\n",
    "net.run(duration=500., inputs=[neu, 'ST.input', 1.2], report=True, report_percent=0.2)"
   ]
  },
  {
   "cell_type": "markdown",
   "metadata": {},
   "source": [
    "Let's visualize the network running results."
   ]
  },
  {
   "cell_type": "code",
   "execution_count": 22,
   "metadata": {
    "scrolled": false
   },
   "outputs": [
    {
     "data": {
      "image/png": "[encoded data removed]",
      "text/plain": [
       "<Figure size 864x432 with 2 Axes>"
      ]
     },
     "metadata": {
      "needs_background": "light"
     },
     "output_type": "display_data"
    }
   ],
   "source": [
    "import matplotlib.pyplot as plt\n",
    "\n",
    "ts = net.ts\n",
    "fig, gs = bp.visualize.get_figure(2, 1, 3, 12)\n",
    "\n",
    "fig.add_subplot(gs[0, 0])\n",
    "plt.plot(ts, neu.mon.V[:, 0])\n",
    "plt.ylabel('Membrane potential (N0)')\n",
    "plt.xlim(net.t_start - 0.1, net.t_end + 0.1)\n",
    "\n",
    "fig.add_subplot(gs[1, 0])\n",
    "index, time = bp.measure.raster_plot(neu.mon.spike, net.ts)\n",
    "plt.plot(time, index, '.')\n",
    "plt.xlim(net.t_start - 0.1, net.t_end + 0.1)\n",
    "plt.xlabel('Time (ms)')\n",
    "plt.ylabel('Raster plot')\n",
    "\n",
    "plt.show()"
   ]
  },
  {
   "cell_type": "markdown",
   "metadata": {},
   "source": [
    "The full file of this example model can be obtained in [gamma_oscillation.py](https://github.com/PKU-NIP-Lab/BrainPy/blob/master/examples/networks/gamma_oscillation.py)."
   ]
  }
 ],
 "metadata": {
  "kernelspec": {
   "display_name": "py37",
   "language": "python",
   "name": "py37"
  },
  "language_info": {
   "codemirror_mode": {
    "name": "ipython",
    "version": 3
   },
   "file_extension": ".py",
   "mimetype": "text/x-python",
   "name": "python",
   "nbconvert_exporter": "python",
   "pygments_lexer": "ipython3",
   "version": "3.7.7"
  },
  "toc": {
   "base_numbering": 1,
   "nav_menu": {
    "height": "151px",
    "width": "305px"
   },
   "number_sections": false,
   "sideBar": true,
   "skip_h1_title": false,
   "title_cell": "Table of Contents",
   "title_sidebar": "Contents",
   "toc_cell": false,
   "toc_position": {
    "height": "calc(100% - 180px)",
    "left": "10px",
    "top": "150px",
    "width": "279.273px"
   },
   "toc_section_display": true,
   "toc_window_display": true
  }
 },
 "nbformat": 4,
 "nbformat_minor": 4
}
