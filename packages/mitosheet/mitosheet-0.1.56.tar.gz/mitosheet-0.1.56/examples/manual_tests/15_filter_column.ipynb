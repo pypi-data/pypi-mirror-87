{
 "cells": [
  {
   "cell_type": "code",
   "execution_count": 2,
   "metadata": {},
   "outputs": [
    {
     "data": {
      "application/vnd.jupyter.widget-view+json": {
       "model_id": "e9f01c7392cb4b05a64f0387b8c593f3",
       "version_major": 2,
       "version_minor": 0
      },
      "text/plain": [
       "MitoWidget(analysis_name='UUID-ce68e444-8480-4cc1-902f-963c28dc3a6a', code_json='{\"imports\": \"from mitosheet i…"
      ]
     },
     "metadata": {},
     "output_type": "display_data"
    }
   ],
   "source": [
    "\"\"\"\n",
    "This file should tests all the filter conditions on\n",
    "\n",
    "Instructions:\n",
    "- Run this cell. \n",
    "- Add three columns and set them equal to A, B, and C respectively (put them in parens, to avoid the suggestion box bug).\n",
    "- Test filter D to each of the possible conditions, choosing random values.\n",
    "- Test filter E to each of the possible conditions, choosing random values.\n",
    "- Test filter F to each of the possible conditions, choosing random values.\n",
    "- Check that the code is being generated and updated as you cycle through conditions.\n",
    "\"\"\"\n",
    "import mitosheet\n",
    "import pandas as pd\n",
    "df1 = pd.DataFrame(data={'A': [\"123\", \"1\", \"2\", \"3\", \"4\", \"5\", \"5\", \"6\", \"7\", \"8\", \"9\"], \n",
    "                        'B': [123, 1, 2, 3, 4, 5, 5, 6, 7, 8, 9],\n",
    "                        'C': [123, \"1\", \"2\", \"3\", 4, 5, 5, 6, 7, 8, 9]})\n",
    "\n",
    "mitosheet.sheet(df1)"
   ]
  }
 ],
 "metadata": {
  "kernelspec": {
   "display_name": "Python 3",
   "language": "python",
   "name": "python3"
  },
  "language_info": {
   "codemirror_mode": {
    "name": "ipython",
    "version": 3
   },
   "file_extension": ".py",
   "mimetype": "text/x-python",
   "name": "python",
   "nbconvert_exporter": "python",
   "pygments_lexer": "ipython3",
   "version": "3.8.5"
  },
  "widgets": {
   "application/vnd.jupyter.widget-state+json": {
    "state": {
     "224da9e674fc4d86b1111789072f3bc5": {
      "model_module": "mitosheet",
      "model_module_version": "^0.1.55",
      "model_name": "ExampleModel",
      "state": {
       "_model_module_version": "^0.1.55",
       "_view_module_version": "^0.1.55",
       "analysis_name": "UUID-4823a1bd-f448-4f3a-be7e-6e761b7379de",
       "code_json": "{\"imports\": \"from mitosheet import *\", \"code\": [\"# Step 1\", \"df1['D'] = 0\", \"# Step 2\", \"df1['E'] = 0\", \"# Step 3\", \"df1['D'] = OFFSET(df1['B'], -1)\", \"# Step 4\", \"df1.drop('D', axis=1, inplace=True)\"]}",
       "column_filters_json": "[{\"A\": {\"operator\": \"And\", \"filters\": []}, \"B\": {\"operator\": \"And\", \"filters\": []}, \"C\": {\"operator\": \"And\", \"filters\": []}, \"D\": {\"operator\": \"And\", \"filters\": []}, \"E\": {\"operator\": \"And\", \"filters\": []}}]",
       "column_spreadsheet_code_json": "[{\"A\": \"\", \"B\": \"\", \"C\": \"\", \"E\": \"=0\"}]",
       "column_type_json": "[{\"A\": \"string\", \"B\": \"number\", \"C\": \"string\", \"E\": \"number\"}]",
       "df_names_json": "{\"df_names\": [\"df1\"]}",
       "df_shape_json": "[{\"rows\": 11, \"cols\": 4}]",
       "layout": "IPY_MODEL_25fcfde6c5934500a4c33525a06d2da0",
       "saved_analysis_names_json": "[\"Testing\"]",
       "sheet_json": "[{\"columns\": [\"A\", \"B\", \"C\", \"E\"], \"index\": [0, 1, 2, 3, 4, 5, 6, 7, 8, 9, 10], \"data\": [[\"123\", 123, 123, 0], [\"1\", 1, \"1\", 0], [\"2\", 2, \"2\", 0], [\"3\", 3, \"3\", 0], [\"4\", 4, 4, 0], [\"5\", 5, 5, 0], [\"5\", 5, 5, 0], [\"6\", 6, 6, 0], [\"7\", 7, 7, 0], [\"8\", 8, 8, 0], [\"9\", 9, 9, 0]]}]",
       "user_id": "nate",
       "value": "Hello World"
      }
     },
     "25fcfde6c5934500a4c33525a06d2da0": {
      "model_module": "@jupyter-widgets/base",
      "model_module_version": "1.2.0",
      "model_name": "LayoutModel",
      "state": {}
     },
     "3ef4748bbd0d4430935dc731f27d0bb3": {
      "model_module": "@jupyter-widgets/base",
      "model_module_version": "1.2.0",
      "model_name": "LayoutModel",
      "state": {}
     },
     "e9f01c7392cb4b05a64f0387b8c593f3": {
      "model_module": "mitosheet",
      "model_module_version": "^0.1.55",
      "model_name": "ExampleModel",
      "state": {
       "_model_module_version": "^0.1.55",
       "_view_module_version": "^0.1.55",
       "analysis_name": "UUID-ce68e444-8480-4cc1-902f-963c28dc3a6a",
       "code_json": "{\"imports\": \"from mitosheet import *\", \"code\": [\"# Step 1\", \"df1['D'] = 0\", \"# Step 2\", \"df1['E'] = 0\", \"# Step 3\", \"df1['D'] = OFFSET(df1['B'], -1)\", \"# Step 4\", \"df1.drop('D', axis=1, inplace=True)\", \"# Step 5\", \"df1['E'] = df1['B'] - OFFSET(df1['B'], -1)\"]}",
       "column_filters_json": "[{\"A\": {\"operator\": \"And\", \"filters\": []}, \"B\": {\"operator\": \"And\", \"filters\": []}, \"C\": {\"operator\": \"And\", \"filters\": []}, \"D\": {\"operator\": \"And\", \"filters\": []}, \"E\": {\"operator\": \"And\", \"filters\": []}}]",
       "column_spreadsheet_code_json": "[{\"A\": \"\", \"B\": \"\", \"C\": \"\", \"E\": \"=B - OFFSET(B, -1)\"}]",
       "column_type_json": "[{\"A\": \"string\", \"B\": \"number\", \"C\": \"string\", \"E\": \"number\"}]",
       "df_names_json": "{\"df_names\": [\"df1\"]}",
       "df_shape_json": "[{\"rows\": 11, \"cols\": 4}]",
       "layout": "IPY_MODEL_3ef4748bbd0d4430935dc731f27d0bb3",
       "saved_analysis_names_json": "[\"Testing\"]",
       "sheet_json": "[{\"columns\": [\"A\", \"B\", \"C\", \"E\"], \"index\": [0, 1, 2, 3, 4, 5, 6, 7, 8, 9, 10], \"data\": [[\"123\", 123, 123, \"NaN\"], [\"1\", 1, \"1\", -122.0], [\"2\", 2, \"2\", 1.0], [\"3\", 3, \"3\", 1.0], [\"4\", 4, 4, 1.0], [\"5\", 5, 5, 1.0], [\"5\", 5, 5, 0.0], [\"6\", 6, 6, 1.0], [\"7\", 7, 7, 1.0], [\"8\", 8, 8, 1.0], [\"9\", 9, 9, 1.0]]}]",
       "user_id": "nate",
       "value": "Hello World"
      }
     }
    },
    "version_major": 2,
    "version_minor": 0
   }
  }
 },
 "nbformat": 4,
 "nbformat_minor": 4
}
