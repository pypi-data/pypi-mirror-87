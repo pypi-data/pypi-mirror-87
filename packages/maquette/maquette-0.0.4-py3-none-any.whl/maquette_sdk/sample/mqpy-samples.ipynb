{
 "cells": [
  {
   "cell_type": "code",
   "execution_count": 5,
   "metadata": {},
   "outputs": [
    {
     "ename": "ModuleNotFoundError",
     "evalue": "No module named 'pandavro'",
     "output_type": "error",
     "traceback": [
      "\u001b[0;31m---------------------------------------------------------------------------\u001b[0m",
      "\u001b[0;31mModuleNotFoundError\u001b[0m                       Traceback (most recent call last)",
      "\u001b[0;32m<ipython-input-5-58c9785acf85>\u001b[0m in \u001b[0;36m<module>\u001b[0;34m\u001b[0m\n\u001b[0;32m----> 1\u001b[0;31m \u001b[0;32mfrom\u001b[0m \u001b[0m__mq\u001b[0m \u001b[0;32mimport\u001b[0m \u001b[0mEProjectPrivilege\u001b[0m\u001b[0;34m,\u001b[0m \u001b[0mEDatasetPrivilege\u001b[0m\u001b[0;34m,\u001b[0m \u001b[0mEAuthorizationType\u001b[0m\u001b[0;34m\u001b[0m\u001b[0;34m\u001b[0m\u001b[0m\n\u001b[0m\u001b[1;32m      2\u001b[0m \u001b[0;34m\u001b[0m\u001b[0m\n\u001b[1;32m      3\u001b[0m \u001b[0;32mimport\u001b[0m \u001b[0mmaquette_sdk\u001b[0m\u001b[0;34m\u001b[0m\u001b[0;34m\u001b[0m\u001b[0m\n",
      "\u001b[0;32m~/git/maquette/maquette-py/maquette_sdk/__mq.py\u001b[0m in \u001b[0;36m<module>\u001b[0;34m\u001b[0m\n\u001b[1;32m      1\u001b[0m \u001b[0;32mimport\u001b[0m \u001b[0mpandas\u001b[0m \u001b[0;32mas\u001b[0m \u001b[0mpd\u001b[0m\u001b[0;34m\u001b[0m\u001b[0;34m\u001b[0m\u001b[0m\n\u001b[0;32m----> 2\u001b[0;31m \u001b[0;32mimport\u001b[0m \u001b[0mpandavro\u001b[0m\u001b[0;34m\u001b[0m\u001b[0;34m\u001b[0m\u001b[0m\n\u001b[0m\u001b[1;32m      3\u001b[0m \u001b[0;34m\u001b[0m\u001b[0m\n\u001b[1;32m      4\u001b[0m \u001b[0;32mfrom\u001b[0m \u001b[0menum\u001b[0m \u001b[0;32mimport\u001b[0m \u001b[0mEnum\u001b[0m\u001b[0;34m\u001b[0m\u001b[0;34m\u001b[0m\u001b[0m\n\u001b[1;32m      5\u001b[0m \u001b[0;32mfrom\u001b[0m \u001b[0mio\u001b[0m \u001b[0;32mimport\u001b[0m \u001b[0mBytesIO\u001b[0m\u001b[0;34m\u001b[0m\u001b[0;34m\u001b[0m\u001b[0m\n",
      "\u001b[0;31mModuleNotFoundError\u001b[0m: No module named 'pandavro'"
     ]
    }
   ],
   "source": [
    "\n",
    "\n",
    "from __mq import EProjectPrivilege, EDatasetPrivilege, EAuthorizationType\n",
    "\n",
    "import maquette_sdk\n"
   ]
  },
  {
   "cell_type": "markdown",
   "metadata": {},
   "source": [
    "## Working with namespaces"
   ]
  },
  {
   "cell_type": "code",
   "execution_count": 2,
   "metadata": {},
   "outputs": [
    {
     "data": {
      "text/html": [
       "<div>\n",
       "<style scoped>\n",
       "    .dataframe tbody tr th:only-of-type {\n",
       "        vertical-align: middle;\n",
       "    }\n",
       "\n",
       "    .dataframe tbody tr th {\n",
       "        vertical-align: top;\n",
       "    }\n",
       "\n",
       "    .dataframe thead th {\n",
       "        text-align: right;\n",
       "    }\n",
       "</style>\n",
       "<table border=\"1\" class=\"dataframe\">\n",
       "  <thead>\n",
       "    <tr style=\"text-align: right;\">\n",
       "      <th></th>\n",
       "      <th>NAME</th>\n",
       "      <th>OWNER</th>\n",
       "      <th>MODIFIED</th>\n",
       "      <th>DATASETS</th>\n",
       "    </tr>\n",
       "  </thead>\n",
       "  <tbody>\n",
       "    <tr>\n",
       "      <th>0</th>\n",
       "      <td>hippo</td>\n",
       "      <td>hippo</td>\n",
       "      <td>2019-09-22 12:13:17</td>\n",
       "      <td>1</td>\n",
       "    </tr>\n",
       "    <tr>\n",
       "      <th>1</th>\n",
       "      <td>mwellner</td>\n",
       "      <td>hippo</td>\n",
       "      <td>2019-09-22 12:13:03</td>\n",
       "      <td>0</td>\n",
       "    </tr>\n",
       "  </tbody>\n",
       "</table>\n",
       "</div>"
      ],
      "text/plain": [
       "       NAME  OWNER             MODIFIED  DATASETS\n",
       "0     hippo  hippo  2019-09-22 12:13:17         1\n",
       "1  mwellner  hippo  2019-09-22 12:13:03         0"
      ]
     },
     "execution_count": 2,
     "metadata": {},
     "output_type": "execute_result"
    }
   ],
   "source": [
    "mqpy.Namespace('mwellner').create()\n",
    "mqpy.namespaces()"
   ]
  },
  {
   "cell_type": "code",
   "execution_count": 4,
   "metadata": {},
   "outputs": [
    {
     "data": {
      "text/html": [
       "<div>\n",
       "<style scoped>\n",
       "    .dataframe tbody tr th:only-of-type {\n",
       "        vertical-align: middle;\n",
       "    }\n",
       "\n",
       "    .dataframe tbody tr th {\n",
       "        vertical-align: top;\n",
       "    }\n",
       "\n",
       "    .dataframe thead th {\n",
       "        text-align: right;\n",
       "    }\n",
       "</style>\n",
       "<table border=\"1\" class=\"dataframe\">\n",
       "  <thead>\n",
       "    <tr style=\"text-align: right;\">\n",
       "      <th></th>\n",
       "      <th>NAME</th>\n",
       "      <th>VERSIONS</th>\n",
       "      <th>OWNER</th>\n",
       "      <th>IS PRIVATE</th>\n",
       "      <th>MODIFIED</th>\n",
       "      <th>MODIFIED BY</th>\n",
       "    </tr>\n",
       "  </thead>\n",
       "  <tbody>\n",
       "    <tr>\n",
       "      <th>0</th>\n",
       "      <td>hippo/my-data</td>\n",
       "      <td>3</td>\n",
       "      <td>hippo</td>\n",
       "      <td>no</td>\n",
       "      <td>2019-09-29 15:11:18</td>\n",
       "      <td>hippo</td>\n",
       "    </tr>\n",
       "  </tbody>\n",
       "</table>\n",
       "</div>"
      ],
      "text/plain": [
       "            NAME  VERSIONS  OWNER IS PRIVATE             MODIFIED MODIFIED BY\n",
       "0  hippo/my-data         3  hippo         no  2019-09-29 15:11:18       hippo"
      ]
     },
     "execution_count": 4,
     "metadata": {},
     "output_type": "execute_result"
    }
   ],
   "source": [
    "mqpy.datasets()"
   ]
  },
  {
   "cell_type": "code",
   "execution_count": 5,
   "metadata": {},
   "outputs": [],
   "source": [
    "ns = mqpy.Namespace()"
   ]
  },
  {
   "cell_type": "code",
   "execution_count": 6,
   "metadata": {},
   "outputs": [
    {
     "name": "stdout",
     "output_type": "stream",
     "text": [
      "PROPERTIES\n",
      "----------\n",
      "OWNER          hippo                  \n",
      "                                      \n",
      "CREATED        2019-09-22 12:13:03    \n",
      "CREATED BY     hippo                  \n",
      "                                      \n",
      "MODIFIED       2019-09-29 15:11:33    \n",
      "MODIFIED BY    hippo                  \n",
      "                                      \n",
      "DATASETS       1                      \n",
      "\n",
      "\n",
      "ACCESS CONTROL\n",
      "--------------\n",
      "GRANTED TO    PRIVILEGE    GRANTED BY    GRANTED AT             \n",
      "foo           member       hippo         2019-09-29 15:11:33    \n",
      "\n",
      "\n",
      "\n",
      "---\n",
      "\n"
     ]
    },
    {
     "data": {
      "text/plain": [
       "PROPERTIES\n",
       "----------\n",
       "OWNER          hippo                  \n",
       "                                      \n",
       "CREATED        2019-09-22 12:13:03    \n",
       "CREATED BY     hippo                  \n",
       "                                      \n",
       "MODIFIED       2019-09-29 15:11:33    \n",
       "MODIFIED BY    hippo                  \n",
       "                                      \n",
       "DATASETS       1                      \n",
       "\n",
       "\n",
       "ACCESS CONTROL\n",
       "--------------\n",
       "GRANTED TO    PRIVILEGE    GRANTED BY    GRANTED AT    \n"
      ]
     },
     "execution_count": 6,
     "metadata": {},
     "output_type": "execute_result"
    }
   ],
   "source": [
    "ns \\\n",
    "    .grant(NsPrivilege.MEMBER, Auth.USER, 'foo') \\\n",
    "    .print()\n",
    "\n",
    "print()\n",
    "print('---')\n",
    "print()\n",
    "\n",
    "ns.revoke(NsPrivilege.MEMBER, Auth.USER, 'foo')"
   ]
  },
  {
   "cell_type": "markdown",
   "metadata": {},
   "source": [
    "## Working with Datasets\n",
    "\n",
    "Datasets can be access via their parent namespace object."
   ]
  },
  {
   "cell_type": "code",
   "execution_count": 7,
   "metadata": {},
   "outputs": [
    {
     "data": {
      "text/html": [
       "<div>\n",
       "<style scoped>\n",
       "    .dataframe tbody tr th:only-of-type {\n",
       "        vertical-align: middle;\n",
       "    }\n",
       "\n",
       "    .dataframe tbody tr th {\n",
       "        vertical-align: top;\n",
       "    }\n",
       "\n",
       "    .dataframe thead th {\n",
       "        text-align: right;\n",
       "    }\n",
       "</style>\n",
       "<table border=\"1\" class=\"dataframe\">\n",
       "  <thead>\n",
       "    <tr style=\"text-align: right;\">\n",
       "      <th></th>\n",
       "      <th>NAME</th>\n",
       "      <th>VERSIONS</th>\n",
       "      <th>OWNER</th>\n",
       "      <th>IS PRIVATE</th>\n",
       "      <th>MODIFIED</th>\n",
       "      <th>MODIFIED BY</th>\n",
       "    </tr>\n",
       "  </thead>\n",
       "  <tbody>\n",
       "    <tr>\n",
       "      <th>0</th>\n",
       "      <td>hippo/my-data</td>\n",
       "      <td>3</td>\n",
       "      <td>hippo</td>\n",
       "      <td>no</td>\n",
       "      <td>2019-09-29 15:11:18</td>\n",
       "      <td>hippo</td>\n",
       "    </tr>\n",
       "  </tbody>\n",
       "</table>\n",
       "</div>"
      ],
      "text/plain": [
       "            NAME  VERSIONS  OWNER IS PRIVATE             MODIFIED MODIFIED BY\n",
       "0  hippo/my-data         3  hippo         no  2019-09-29 15:11:18       hippo"
      ]
     },
     "execution_count": 7,
     "metadata": {},
     "output_type": "execute_result"
    }
   ],
   "source": [
    "ns.datasets()"
   ]
  },
  {
   "cell_type": "code",
   "execution_count": 8,
   "metadata": {},
   "outputs": [
    {
     "data": {
      "text/plain": [
       "PROPERTIES\n",
       "----------\n",
       "OWNER          hippo                  \n",
       "                                      \n",
       "CREATED        2019-09-29 15:11:18    \n",
       "CREATED BY     hippo                  \n",
       "                                      \n",
       "MODIFIED       2019-09-29 15:11:18    \n",
       "MODIFIED BY    hippo                  \n",
       "                                      \n",
       "VERSIONS       3                      \n",
       "\n",
       "\n",
       "ACCESS CONTROL\n",
       "--------------\n",
       "GRANTED TO    PRIVILEGE    GRANTED BY    GRANTED AT    \n"
      ]
     },
     "execution_count": 8,
     "metadata": {},
     "output_type": "execute_result"
    }
   ],
   "source": [
    "ds = ns.dataset('my-data')\n",
    "ds.create()"
   ]
  },
  {
   "cell_type": "code",
   "execution_count": 9,
   "metadata": {},
   "outputs": [
    {
     "name": "stdout",
     "output_type": "stream",
     "text": [
      "PROPERTIES\n",
      "----------\n",
      "OWNER          hippo                  \n",
      "                                      \n",
      "CREATED        2019-09-29 15:11:18    \n",
      "CREATED BY     hippo                  \n",
      "                                      \n",
      "MODIFIED       2019-09-29 15:11:18    \n",
      "MODIFIED BY    hippo                  \n",
      "                                      \n",
      "VERSIONS       3                      \n",
      "\n",
      "\n",
      "ACCESS CONTROL\n",
      "--------------\n",
      "GRANTED TO    PRIVILEGE    GRANTED BY    GRANTED AT             \n",
      "*             consumer     hippo         2019-09-29 15:11:53    \n",
      "\n",
      "\n",
      "\n",
      "---\n",
      "\n"
     ]
    },
    {
     "data": {
      "text/plain": [
       "PROPERTIES\n",
       "----------\n",
       "OWNER          hippo                  \n",
       "                                      \n",
       "CREATED        2019-09-29 15:11:18    \n",
       "CREATED BY     hippo                  \n",
       "                                      \n",
       "MODIFIED       2019-09-29 15:11:18    \n",
       "MODIFIED BY    hippo                  \n",
       "                                      \n",
       "VERSIONS       3                      \n",
       "\n",
       "\n",
       "ACCESS CONTROL\n",
       "--------------\n",
       "GRANTED TO    PRIVILEGE    GRANTED BY    GRANTED AT    \n"
      ]
     },
     "execution_count": 9,
     "metadata": {},
     "output_type": "execute_result"
    }
   ],
   "source": [
    "ds \\\n",
    "    .grant(DsPrivilege.CONSUMER, Auth.WILDCARD) \\\n",
    "    .print()\n",
    "\n",
    "print()\n",
    "print('---')\n",
    "print()\n",
    "\n",
    "ds \\\n",
    "    .revoke(DsPrivilege.CONSUMER, Auth.WILDCARD)"
   ]
  },
  {
   "cell_type": "code",
   "execution_count": 16,
   "metadata": {},
   "outputs": [
    {
     "name": "stdout",
     "output_type": "stream",
     "text": [
      "Created consumer token 'consumer-0025b895' with secret 'ef8899db-382e-43d6-8b20-722e5d62aab2'\n",
      "Created producer token 'producer-f89bb6cc' with secret '2c1d83c3-69da-424e-8a3a-a7bc9663f5ab'\n"
     ]
    },
    {
     "data": {
      "text/plain": [
       "PROPERTIES\n",
       "----------\n",
       "OWNER          hippo                  \n",
       "                                      \n",
       "CREATED        2019-09-29 15:11:18    \n",
       "CREATED BY     hippo                  \n",
       "                                      \n",
       "MODIFIED       2019-09-29 15:11:18    \n",
       "MODIFIED BY    hippo                  \n",
       "                                      \n",
       "VERSIONS       3                      \n",
       "\n",
       "\n",
       "ACCESS CONTROL\n",
       "--------------\n",
       "GRANTED TO                                     PRIVILEGE    GRANTED BY    GRANTED AT             \n",
       "token(36ef5d66-830f-45fc-8ae8-26d0e07a913e)    consumer     hippo         2019-09-29 15:12:29    \n",
       "token(fc872b2b-2f3e-43fd-9537-86c94e5d11f5)    producer     hippo         2019-09-29 15:12:29    \n"
      ]
     },
     "execution_count": 16,
     "metadata": {},
     "output_type": "execute_result"
    }
   ],
   "source": [
    "ds \\\n",
    "   .create_consumer() \\\n",
    "   .create_producer()"
   ]
  },
  {
   "cell_type": "code",
   "execution_count": 11,
   "metadata": {},
   "outputs": [
    {
     "data": {
      "text/plain": [
       "PROPERTIES\n",
       "----------\n",
       "OWNER          hippo                  \n",
       "                                      \n",
       "CREATED        2019-09-29 15:11:18    \n",
       "CREATED BY     hippo                  \n",
       "                                      \n",
       "MODIFIED       2019-09-29 15:11:18    \n",
       "MODIFIED BY    hippo                  \n",
       "                                      \n",
       "VERSIONS       3                      \n",
       "\n",
       "\n",
       "ACCESS CONTROL\n",
       "--------------\n",
       "GRANTED TO    PRIVILEGE    GRANTED BY    GRANTED AT    \n"
      ]
     },
     "execution_count": 11,
     "metadata": {},
     "output_type": "execute_result"
    }
   ],
   "source": [
    "ds"
   ]
  },
  {
   "cell_type": "code",
   "execution_count": 12,
   "metadata": {},
   "outputs": [
    {
     "data": {
      "text/html": [
       "<div>\n",
       "<style scoped>\n",
       "    .dataframe tbody tr th:only-of-type {\n",
       "        vertical-align: middle;\n",
       "    }\n",
       "\n",
       "    .dataframe tbody tr th {\n",
       "        vertical-align: top;\n",
       "    }\n",
       "\n",
       "    .dataframe thead th {\n",
       "        text-align: right;\n",
       "    }\n",
       "</style>\n",
       "<table border=\"1\" class=\"dataframe\">\n",
       "  <thead>\n",
       "    <tr style=\"text-align: right;\">\n",
       "      <th></th>\n",
       "      <th>VERSION</th>\n",
       "      <th>RECORDS</th>\n",
       "      <th>MODIFIED</th>\n",
       "      <th>BY</th>\n",
       "      <th>ID</th>\n",
       "    </tr>\n",
       "  </thead>\n",
       "  <tbody>\n",
       "    <tr>\n",
       "      <th>0</th>\n",
       "      <td>1.2.0</td>\n",
       "      <td>700</td>\n",
       "      <td>2019-09-22 14:11:07</td>\n",
       "      <td>hippo</td>\n",
       "      <td>c59a8708-72c6-4255-b353-ee7d833ff283</td>\n",
       "    </tr>\n",
       "    <tr>\n",
       "      <th>1</th>\n",
       "      <td>1.1.0</td>\n",
       "      <td>700</td>\n",
       "      <td>2019-09-22 12:32:33</td>\n",
       "      <td>hippo</td>\n",
       "      <td>429febcf-9bbd-4e79-9b76-3d1f124ec02e</td>\n",
       "    </tr>\n",
       "    <tr>\n",
       "      <th>2</th>\n",
       "      <td>1.0.0</td>\n",
       "      <td>700</td>\n",
       "      <td>2019-09-22 12:13:55</td>\n",
       "      <td>hippo</td>\n",
       "      <td>cf56dfb3-0fbc-4cd3-980a-143e325f3d77</td>\n",
       "    </tr>\n",
       "  </tbody>\n",
       "</table>\n",
       "</div>"
      ],
      "text/plain": [
       "  VERSION  RECORDS             MODIFIED     BY  \\\n",
       "0   1.2.0      700  2019-09-22 14:11:07  hippo   \n",
       "1   1.1.0      700  2019-09-22 12:32:33  hippo   \n",
       "2   1.0.0      700  2019-09-22 12:13:55  hippo   \n",
       "\n",
       "                                     ID  \n",
       "0  c59a8708-72c6-4255-b353-ee7d833ff283  \n",
       "1  429febcf-9bbd-4e79-9b76-3d1f124ec02e  \n",
       "2  cf56dfb3-0fbc-4cd3-980a-143e325f3d77  "
      ]
     },
     "execution_count": 12,
     "metadata": {},
     "output_type": "execute_result"
    }
   ],
   "source": [
    "ds.versions()"
   ]
  },
  {
   "cell_type": "code",
   "execution_count": 13,
   "metadata": {},
   "outputs": [
    {
     "data": {
      "text/plain": [
       "VERSION 1.0.0\n",
       "\n",
       "PROPERTIES\n",
       "----------\n",
       "ID                   cf56dfb3-0fbc-4cd3-980a-143e325f3d77    \n",
       "RECORDS              700                                     \n",
       "                                                             \n",
       "SHORT DESCRIPTION    Published from Java                     \n",
       "COMMITTED            2019-09-22 12:13:55                     \n",
       "COMMITTED BY         hippo                                   \n",
       "                                                             \n",
       "CREATED              2019-09-22 12:13:55                     \n",
       "CREATED BY           hippo                                   \n",
       "                                                             \n",
       "MODIFIED             2019-09-22 12:13:55                     \n",
       "MODIFIED BY          hippo                                   \n",
       "\n",
       "\n",
       "SCHEMA\n",
       "------\n",
       "{\n",
       "  \"type\" : \"record\",\n",
       "  \"name\" : \"Country\",\n",
       "  \"namespace\" : \"maquette.sdk.sample\",\n",
       "  \"fields\" : [ {\n",
       "    \"name\" : \"name\",\n",
       "    \"type\" : \"string\"\n",
       "  }, {\n",
       "    \"name\" : \"capital\",\n",
       "    \"type\" : \"string\"\n",
       "  }, {\n",
       "    \"name\" : \"population\",\n",
       "    \"type\" : \"int\"\n",
       "  }, {\n",
       "    \"name\" : \"area\",\n",
       "    \"type\" : \"int\"\n",
       "  } ]\n",
       "}"
      ]
     },
     "execution_count": 13,
     "metadata": {},
     "output_type": "execute_result"
    }
   ],
   "source": [
    "version = ds.version('1.0.0')\n",
    "version"
   ]
  },
  {
   "cell_type": "markdown",
   "metadata": {},
   "source": [
    "## Get and Put datasets "
   ]
  },
  {
   "cell_type": "code",
   "execution_count": 14,
   "metadata": {},
   "outputs": [
    {
     "data": {
      "text/html": [
       "<div>\n",
       "<style scoped>\n",
       "    .dataframe tbody tr th:only-of-type {\n",
       "        vertical-align: middle;\n",
       "    }\n",
       "\n",
       "    .dataframe tbody tr th {\n",
       "        vertical-align: top;\n",
       "    }\n",
       "\n",
       "    .dataframe thead th {\n",
       "        text-align: right;\n",
       "    }\n",
       "</style>\n",
       "<table border=\"1\" class=\"dataframe\">\n",
       "  <thead>\n",
       "    <tr style=\"text-align: right;\">\n",
       "      <th></th>\n",
       "      <th>area</th>\n",
       "      <th>capital</th>\n",
       "      <th>name</th>\n",
       "      <th>population</th>\n",
       "    </tr>\n",
       "  </thead>\n",
       "  <tbody>\n",
       "    <tr>\n",
       "      <th>0</th>\n",
       "      <td>9388211</td>\n",
       "      <td>Peking</td>\n",
       "      <td>China</td>\n",
       "      <td>1433783686</td>\n",
       "    </tr>\n",
       "    <tr>\n",
       "      <th>1</th>\n",
       "      <td>2973190</td>\n",
       "      <td>New-Dehli</td>\n",
       "      <td>India</td>\n",
       "      <td>1366417754</td>\n",
       "    </tr>\n",
       "    <tr>\n",
       "      <th>2</th>\n",
       "      <td>9147420</td>\n",
       "      <td>Washington D.C</td>\n",
       "      <td>United States</td>\n",
       "      <td>329064917</td>\n",
       "    </tr>\n",
       "    <tr>\n",
       "      <th>3</th>\n",
       "      <td>8400000</td>\n",
       "      <td>Sao Paolo</td>\n",
       "      <td>Brazil</td>\n",
       "      <td>211000000</td>\n",
       "    </tr>\n",
       "    <tr>\n",
       "      <th>4</th>\n",
       "      <td>164000000</td>\n",
       "      <td>Moscow</td>\n",
       "      <td>Russia</td>\n",
       "      <td>146000000</td>\n",
       "    </tr>\n",
       "  </tbody>\n",
       "</table>\n",
       "</div>"
      ],
      "text/plain": [
       "        area         capital           name  population\n",
       "0    9388211          Peking          China  1433783686\n",
       "1    2973190       New-Dehli          India  1366417754\n",
       "2    9147420  Washington D.C  United States   329064917\n",
       "3    8400000       Sao Paolo         Brazil   211000000\n",
       "4  164000000          Moscow         Russia   146000000"
      ]
     },
     "execution_count": 14,
     "metadata": {},
     "output_type": "execute_result"
    }
   ],
   "source": [
    "df = version.get()\n",
    "df.head()"
   ]
  },
  {
   "cell_type": "code",
   "execution_count": 18,
   "metadata": {},
   "outputs": [
    {
     "data": {
      "text/plain": [
       "VERSION 2.0.0\n",
       "\n",
       "PROPERTIES\n",
       "----------\n",
       "ID                   11388a48-2501-4c35-b334-336794882529    \n",
       "RECORDS              700                                     \n",
       "                                                             \n",
       "SHORT DESCRIPTION    some descritpion                        \n",
       "COMMITTED            2019-09-18 23:50:17                     \n",
       "COMMITTED BY         hippo                                   \n",
       "                                                             \n",
       "CREATED              2019-09-18 23:50:17                     \n",
       "CREATED BY           hippo                                   \n",
       "                                                             \n",
       "MODIFIED             2019-09-18 23:50:17                     \n",
       "MODIFIED BY          hippo                                   \n",
       "\n",
       "\n",
       "SCHEMA\n",
       "------\n",
       "{\n",
       "  \"type\" : \"record\",\n",
       "  \"name\" : \"Root\",\n",
       "  \"fields\" : [ {\n",
       "    \"name\" : \"area\",\n",
       "    \"type\" : [ \"null\", \"long\" ]\n",
       "  }, {\n",
       "    \"name\" : \"capital\",\n",
       "    \"type\" : [ \"null\", \"string\" ]\n",
       "  }, {\n",
       "    \"name\" : \"name\",\n",
       "    \"type\" : [ \"null\", \"string\" ]\n",
       "  }, {\n",
       "    \"name\" : \"population\",\n",
       "    \"type\" : [ \"null\", \"long\" ]\n",
       "  } ]\n",
       "}"
      ]
     },
     "execution_count": 18,
     "metadata": {},
     "output_type": "execute_result"
    }
   ],
   "source": [
    "ds.put(df, 'some descritpion')"
   ]
  },
  {
   "cell_type": "code",
   "execution_count": null,
   "metadata": {},
   "outputs": [],
   "source": []
  },
  {
   "cell_type": "markdown",
   "metadata": {},
   "source": [
    "# Admin functions"
   ]
  },
  {
   "cell_type": "code",
   "execution_count": 17,
   "metadata": {},
   "outputs": [
    {
     "data": {
      "text/html": [
       "<div>\n",
       "<style scoped>\n",
       "    .dataframe tbody tr th:only-of-type {\n",
       "        vertical-align: middle;\n",
       "    }\n",
       "\n",
       "    .dataframe tbody tr th {\n",
       "        vertical-align: top;\n",
       "    }\n",
       "\n",
       "    .dataframe thead th {\n",
       "        text-align: right;\n",
       "    }\n",
       "</style>\n",
       "<table border=\"1\" class=\"dataframe\">\n",
       "  <thead>\n",
       "    <tr style=\"text-align: right;\">\n",
       "      <th></th>\n",
       "      <th>NAME</th>\n",
       "      <th>ID</th>\n",
       "      <th>CREATED</th>\n",
       "      <th>CREATED BY</th>\n",
       "      <th>MODIFIED</th>\n",
       "      <th>MODIFIED BY</th>\n",
       "    </tr>\n",
       "  </thead>\n",
       "  <tbody>\n",
       "    <tr>\n",
       "      <th>0</th>\n",
       "      <td>consumer-0025b895</td>\n",
       "      <td>36ef5d66-830f-45fc-8ae8-26d0e07a913e</td>\n",
       "      <td>2019-09-29 15:12:29</td>\n",
       "      <td>hippo</td>\n",
       "      <td>2019-09-29 15:12:29</td>\n",
       "      <td>hippo</td>\n",
       "    </tr>\n",
       "    <tr>\n",
       "      <th>1</th>\n",
       "      <td>producer-f89bb6cc</td>\n",
       "      <td>fc872b2b-2f3e-43fd-9537-86c94e5d11f5</td>\n",
       "      <td>2019-09-29 15:12:29</td>\n",
       "      <td>hippo</td>\n",
       "      <td>2019-09-29 15:12:29</td>\n",
       "      <td>hippo</td>\n",
       "    </tr>\n",
       "  </tbody>\n",
       "</table>\n",
       "</div>"
      ],
      "text/plain": [
       "                NAME                                    ID  \\\n",
       "0  consumer-0025b895  36ef5d66-830f-45fc-8ae8-26d0e07a913e   \n",
       "1  producer-f89bb6cc  fc872b2b-2f3e-43fd-9537-86c94e5d11f5   \n",
       "\n",
       "               CREATED CREATED BY             MODIFIED MODIFIED BY  \n",
       "0  2019-09-29 15:12:29      hippo  2019-09-29 15:12:29       hippo  \n",
       "1  2019-09-29 15:12:29      hippo  2019-09-29 15:12:29       hippo  "
      ]
     },
     "execution_count": 17,
     "metadata": {},
     "output_type": "execute_result"
    }
   ],
   "source": [
    "mqpy.admin().tokens()"
   ]
  },
  {
   "cell_type": "code",
   "execution_count": 18,
   "metadata": {},
   "outputs": [
    {
     "name": "stdout",
     "output_type": "stream",
     "text": [
      "Renewed token 'producer-f89bb6cc' with secret '57af9e75-568a-44ea-b322-940cd2695d64'\n"
     ]
    }
   ],
   "source": [
    "mqpy.admin().renew_token('producer-f89bb6cc')"
   ]
  },
  {
   "cell_type": "code",
   "execution_count": 19,
   "metadata": {},
   "outputs": [
    {
     "data": {
      "text/html": [
       "<div>\n",
       "<style scoped>\n",
       "    .dataframe tbody tr th:only-of-type {\n",
       "        vertical-align: middle;\n",
       "    }\n",
       "\n",
       "    .dataframe tbody tr th {\n",
       "        vertical-align: top;\n",
       "    }\n",
       "\n",
       "    .dataframe thead th {\n",
       "        text-align: right;\n",
       "    }\n",
       "</style>\n",
       "<table border=\"1\" class=\"dataframe\">\n",
       "  <thead>\n",
       "    <tr style=\"text-align: right;\">\n",
       "      <th></th>\n",
       "      <th>NAME</th>\n",
       "      <th>ID</th>\n",
       "      <th>CREATED</th>\n",
       "      <th>CREATED BY</th>\n",
       "      <th>MODIFIED</th>\n",
       "      <th>MODIFIED BY</th>\n",
       "    </tr>\n",
       "  </thead>\n",
       "  <tbody>\n",
       "    <tr>\n",
       "      <th>0</th>\n",
       "      <td>producer-f89bb6cc</td>\n",
       "      <td>fc872b2b-2f3e-43fd-9537-86c94e5d11f5</td>\n",
       "      <td>2019-09-29 15:12:29</td>\n",
       "      <td>hippo</td>\n",
       "      <td>2019-09-29 15:12:42</td>\n",
       "      <td>hippo</td>\n",
       "    </tr>\n",
       "    <tr>\n",
       "      <th>1</th>\n",
       "      <td>consumer-0025b895</td>\n",
       "      <td>36ef5d66-830f-45fc-8ae8-26d0e07a913e</td>\n",
       "      <td>2019-09-29 15:12:29</td>\n",
       "      <td>hippo</td>\n",
       "      <td>2019-09-29 15:12:29</td>\n",
       "      <td>hippo</td>\n",
       "    </tr>\n",
       "  </tbody>\n",
       "</table>\n",
       "</div>"
      ],
      "text/plain": [
       "                NAME                                    ID  \\\n",
       "0  producer-f89bb6cc  fc872b2b-2f3e-43fd-9537-86c94e5d11f5   \n",
       "1  consumer-0025b895  36ef5d66-830f-45fc-8ae8-26d0e07a913e   \n",
       "\n",
       "               CREATED CREATED BY             MODIFIED MODIFIED BY  \n",
       "0  2019-09-29 15:12:29      hippo  2019-09-29 15:12:42       hippo  \n",
       "1  2019-09-29 15:12:29      hippo  2019-09-29 15:12:29       hippo  "
      ]
     },
     "execution_count": 19,
     "metadata": {},
     "output_type": "execute_result"
    }
   ],
   "source": [
    "mqpy.admin().tokens()"
   ]
  },
  {
   "cell_type": "code",
   "execution_count": null,
   "metadata": {},
   "outputs": [],
   "source": []
  }
 ],
 "metadata": {
  "kernelspec": {
   "display_name": "Python 3",
   "language": "python",
   "name": "python3"
  },
  "language_info": {
   "codemirror_mode": {
    "name": "ipython",
    "version": 3
   },
   "file_extension": ".py",
   "mimetype": "text/x-python",
   "name": "python",
   "nbconvert_exporter": "python",
   "pygments_lexer": "ipython3",
   "version": "3.8.5"
  }
 },
 "nbformat": 4,
 "nbformat_minor": 2
}
