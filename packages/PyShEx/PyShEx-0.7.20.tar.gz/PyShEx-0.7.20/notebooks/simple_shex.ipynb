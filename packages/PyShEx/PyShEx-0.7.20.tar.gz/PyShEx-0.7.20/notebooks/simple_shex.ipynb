{
 "cells": [
  {
   "cell_type": "markdown",
   "metadata": {},
   "source": [
    "This example assumes that PyShEx has been installed in jupyter environment"
   ]
  },
  {
   "cell_type": "code",
   "execution_count": 1,
   "metadata": {},
   "outputs": [
    {
     "name": "stdout",
     "output_type": "stream",
     "text": [
      "Valid: True\n",
      "{\n",
      "   \"type\": \"Schema\",\n",
      "   \"@context\": \"http://www.w3.org/ns/shex.jsonld\",\n",
      "   \"shapes\": [\n",
      "      {\n",
      "         \"type\": \"Shape\",\n",
      "         \"id\": \"http://a.example/S1\",\n",
      "         \"expression\": {\n",
      "            \"type\": \"TripleConstraint\",\n",
      "            \"predicate\": \"http://a.example/p1\",\n",
      "            \"valueExpr\": {\n",
      "               \"type\": \"NodeConstraint\",\n",
      "               \"values\": [\n",
      "                  \"http://a.example/o1\"\n",
      "               ]\n",
      "            }\n",
      "         }\n",
      "      }\n",
      "   ]\n",
      "}\n",
      "CONFORMS!\n"
     ]
    }
   ],
   "source": [
    "from ShExJSG import Schema\n",
    "from ShExJSG.ShExJ import Shape, IRIREF, TripleConstraint, NodeConstraint\n",
    "from rdflib import Namespace, Graph\n",
    "from pyshex.evaluate import evaluate\n",
    "\n",
    "EX = Namespace(\"http://a.example/\")\n",
    "\n",
    "schema = Schema()\n",
    "schema.shapes = [Shape(id=IRIREF(EX.S1),\n",
    "                       expression=TripleConstraint(predicate=IRIREF(EX.p1),\n",
    "                                                   valueExpr=NodeConstraint(values=[IRIREF(EX.o1)])))\n",
    "                 ]\n",
    "print(f\"Valid: {schema._is_valid()}\")\n",
    "print(f\"{schema._as_json_dumps()}\")\n",
    "\n",
    "g = Graph()\n",
    "g.add((EX.s1, EX.p1, EX.o1))\n",
    "\n",
    "if evaluate(g, schema, focus=EX.s1, start=EX.S1)[0]:\n",
    "    print(\"CONFORMS!\")\n",
    "else:\n",
    "    print(\"** ERROR\")\n",
    "\n",
    "\n",
    "\n"
   ]
  },
  {
   "cell_type": "code",
   "execution_count": null,
   "metadata": {},
   "outputs": [],
   "source": []
  }
 ],
 "metadata": {
  "kernelspec": {
   "display_name": "Python 3",
   "language": "python",
   "name": "python3"
  },
  "language_info": {
   "codemirror_mode": {
    "name": "ipython",
    "version": 3
   },
   "file_extension": ".py",
   "mimetype": "text/x-python",
   "name": "python",
   "nbconvert_exporter": "python",
   "pygments_lexer": "ipython3",
   "version": "3.7.5"
  }
 },
 "nbformat": 4,
 "nbformat_minor": 1
}
