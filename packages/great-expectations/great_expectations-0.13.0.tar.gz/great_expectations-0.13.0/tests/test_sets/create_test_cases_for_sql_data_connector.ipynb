{
 "cells": [
  {
   "cell_type": "code",
   "execution_count": 1,
   "metadata": {},
   "outputs": [],
   "source": [
    "import random\n",
    "import datetime\n",
    "from hashlib import md5\n",
    "import sqlite3\n",
    "\n",
    "import pandas as pd"
   ]
  },
  {
   "cell_type": "code",
   "execution_count": 2,
   "metadata": {},
   "outputs": [],
   "source": [
    "# ! test_cases_for_sql_data_connector.db"
   ]
  },
  {
   "cell_type": "code",
   "execution_count": 3,
   "metadata": {},
   "outputs": [],
   "source": [
    "filename = \"test_cases_for_sql_data_connector.db\"\n",
    "db = sqlite3.connect(filename)"
   ]
  },
  {
   "cell_type": "code",
   "execution_count": 4,
   "metadata": {},
   "outputs": [
    {
     "data": {
      "text/plain": [
       "[datetime.datetime(2020, 1, 15, 20, 21, 27),\n",
       " datetime.datetime(2020, 2, 17, 11, 41, 59),\n",
       " datetime.datetime(2020, 2, 24, 22, 15, 34),\n",
       " datetime.datetime(2020, 3, 24, 19, 38, 13),\n",
       " datetime.datetime(2020, 4, 16, 1, 32, 54),\n",
       " datetime.datetime(2020, 5, 8, 18, 37, 28),\n",
       " datetime.datetime(2020, 6, 26, 9, 9, 1),\n",
       " datetime.datetime(2020, 8, 14, 16, 47, 23),\n",
       " datetime.datetime(2020, 10, 31, 7, 8, 30),\n",
       " datetime.datetime(2020, 11, 28, 13, 36, 31)]"
      ]
     },
     "execution_count": 4,
     "metadata": {},
     "output_type": "execute_result"
    }
   ],
   "source": [
    "def generate_ascending_list_of_datetimes(\n",
    "    k,\n",
    "    start_date=datetime.date(2020,1,1),\n",
    "    end_date=datetime.date(2020,12,31)\n",
    "):\n",
    "    start_time = datetime.datetime(start_date.year, start_date.month, start_date.day)\n",
    "    days_between_dates = (end_date - start_date).total_seconds()\n",
    "    \n",
    "    datetime_list = [start_time + datetime.timedelta(seconds=random.randrange(days_between_dates)) for i in range(k)]\n",
    "    datetime_list.sort()\n",
    "    return datetime_list\n",
    "\n",
    "generate_ascending_list_of_datetimes(10)"
   ]
  },
  {
   "cell_type": "code",
   "execution_count": 5,
   "metadata": {},
   "outputs": [],
   "source": [
    "k = 120\n",
    "random.seed(1)\n",
    "\n",
    "timestamp_list = generate_ascending_list_of_datetimes(k, end_date=datetime.date(2020,1,31))\n",
    "date_list = [datetime.date(ts.year, ts.month, ts.day) for ts in timestamp_list]\n",
    "\n",
    "batch_ids = [random.randint(0,10) for i in range(k)]\n",
    "batch_ids.sort()\n",
    "\n",
    "session_ids = [random.randint(2,60) for i in range(k)]\n",
    "session_ids.sort()\n",
    "session_ids = [i-random.randint(0,2) for i in session_ids]\n",
    "\n",
    "events_df = pd.DataFrame({\n",
    "    \"id\" : range(k),\n",
    "    \"batch_id\" : batch_ids,\n",
    "    \"date\" : date_list,\n",
    "    \"y\" : [d.year for d in date_list],\n",
    "    \"m\" : [d.month for d in date_list],\n",
    "    \"d\" : [d.day for d in date_list],\n",
    "    \"timestamp\" : timestamp_list,\n",
    "    \"session_id\" : session_ids,\n",
    "    \"event_type\" : [random.choice([\"start\", \"stop\", \"continue\"]) for i in range(k)],\n",
    "    \"favorite_color\" : [\"#\"+\"\".join([random.choice(list(\"0123456789ABCDEF\")) for j in range(6)]) for i in range(k)]\n",
    "})\n",
    "\n",
    "# NOTE: in this fake example, id, batch_id, date, and timestamp are all sorted in strictly the same order\n",
    "# This would not necessarily be true in the real world.\n",
    "# Events might arrive and be indexed out of order.\n",
    "# Batches might not correspond strictly with units in time.\n",
    "# etc.\n",
    "\n",
    "# events_df.to_sql(\"events_df\", db)"
   ]
  },
  {
   "cell_type": "code",
   "execution_count": 6,
   "metadata": {},
   "outputs": [],
   "source": [
    "events_df[[\"id\", \"date\", \"event_type\", \"favorite_color\"]].to_sql(\"table_partitioned_by_date_column__A\", db)"
   ]
  },
  {
   "cell_type": "code",
   "execution_count": 7,
   "metadata": {},
   "outputs": [],
   "source": [
    "events_df[[\"id\", \"timestamp\", \"event_type\", \"favorite_color\"]].to_sql(\"table_partitioned_by_timestamp_column__B\", db)"
   ]
  },
  {
   "cell_type": "code",
   "execution_count": 8,
   "metadata": {},
   "outputs": [],
   "source": [
    "df = events_df[[\"id\", \"event_type\", \"favorite_color\"]].to_sql(\"table_partitioned_by_regularly_spaced_incrementing_id_column__C\", db)"
   ]
  },
  {
   "cell_type": "code",
   "execution_count": 9,
   "metadata": {},
   "outputs": [],
   "source": [
    "events_df[[\"id\", \"event_type\", \"favorite_color\"]].to_sql(\"table_partitioned_by_irregularly_spaced_incrementing_id_with_spacing_in_a_second_table__D\", db)\n",
    "lookup_df = events_df.groupby(\"date\").id.min()\n",
    "lookup_df.to_sql(\"table_containing_id_spacers_for_D\", db)"
   ]
  },
  {
   "cell_type": "code",
   "execution_count": 10,
   "metadata": {},
   "outputs": [],
   "source": [
    "events_df[[\"id\", \"batch_id\", \"event_type\", \"favorite_color\"]].to_sql(\"table_partitioned_by_incrementing_batch_id__E\", db)"
   ]
  },
  {
   "cell_type": "code",
   "execution_count": 11,
   "metadata": {},
   "outputs": [],
   "source": [
    "events_df[[\"id\", \"session_id\", \"event_type\", \"favorite_color\"]].to_sql(\"table_partitioned_by_foreign_key__F\", db)\n",
    "sessions_df = events_df.groupby(\"date\").id.min()\n",
    "sessions_df.to_sql(\"table_with_fk_reference_from_F\", db)"
   ]
  },
  {
   "cell_type": "code",
   "execution_count": 12,
   "metadata": {},
   "outputs": [],
   "source": [
    "events_df[[\"id\", \"y\", \"m\", \"d\", \"event_type\", \"favorite_color\"]].to_sql(\"table_partitioned_by_multiple_columns__G\", db)"
   ]
  },
  {
   "cell_type": "code",
   "execution_count": 13,
   "metadata": {},
   "outputs": [],
   "source": [
    "events_df[[\"id\", \"event_type\", \"favorite_color\"]].to_sql(\"table_that_should_be_partitioned_by_random_hash__H\", db)"
   ]
  },
  {
   "cell_type": "code",
   "execution_count": null,
   "metadata": {},
   "outputs": [],
   "source": []
  }
 ],
 "metadata": {
  "kernelspec": {
   "display_name": "Python 3",
   "language": "python",
   "name": "python3"
  },
  "language_info": {
   "codemirror_mode": {
    "name": "ipython",
    "version": 3
   },
   "file_extension": ".py",
   "mimetype": "text/x-python",
   "name": "python",
   "nbconvert_exporter": "python",
   "pygments_lexer": "ipython3",
   "version": "3.7.4"
  }
 },
 "nbformat": 4,
 "nbformat_minor": 4
}
