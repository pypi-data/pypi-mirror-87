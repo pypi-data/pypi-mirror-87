{
 "cells": [
  {
   "cell_type": "code",
   "execution_count": 2,
   "metadata": {
    "collapsed": true
   },
   "outputs": [],
   "source": [
    "#!pip install -e .. --upgrade"
   ]
  },
  {
   "cell_type": "code",
   "execution_count": 3,
   "metadata": {
    "collapsed": true
   },
   "outputs": [],
   "source": [
    "from pyjsg.validate_json import JSGPython"
   ]
  },
  {
   "cell_type": "markdown",
   "metadata": {
    "collapsed": true
   },
   "source": [
    "# JSG Syntax\n",
    "The names of the various components defined in [Introducing JSON](https://json.org/) are referenced in ***bold italics*** in the document below.  Example: A member definition defines the ***string***/***value*** pairs that may appear as ***members*** in an ***object*** definition.\n",
    "\n",
    "A JSG Syntax definition consists of the following components:\n",
    "1. [Type](#type) and/or [Ignore](#ignore) directives.  The `.TYPE` directive identifies the ***string*** (if any) that identifies the JSG \"type\" of an ***object***.  It also names any JSG objects that do not have a `.TYPE` identifier.  The `.IGNORE` directive identifies a set of ***strings*** that may appear in any JSON object.\n",
    "2. [Grammar rules](#grammar).  These define valid (conformant) JSON ***objects*** and ***arrays***.\n",
    "3. Lexer rules.  Lexer rules define the regular expressions that can be used to constrain the range of a JSON ***value***.\n",
    "\n",
    "<hr/>\n",
    "\n",
    "## Directives\n",
    "<a id='type'></a>\n",
    "### The `.TYPE` directive:\n",
    "\n",
    "1. Names a unique property that identifies the JSG object being represented\n",
    "2. (Optional) lists one or more production types that do not use the `.TYPE` discriminator\n",
    "\n",
    "### Syntax\n",
    "`.TYPE <type> [ - <type> [<type>...]] ;`\n",
    "\n",
    "### No type directive"
   ]
  },
  {
   "cell_type": "code",
   "execution_count": 20,
   "metadata": {},
   "outputs": [
    {
     "name": "stdout",
     "output_type": "stream",
     "text": [
      "p1: Conforms to doc\n",
      "p2: Conforms to doc\n",
      "f1: FAIL - doc: Missing required field: 'a'\n"
     ]
    }
   ],
   "source": [
    "# A conforming document must have an element named \"a\" that can have any value. \n",
    "# The trailing comma indicates that any other elements are allowed\n",
    "jsg = 'doc { a:., }'\n",
    "\n",
    "p1 = '{\"a\":\"hello\"}'\n",
    "p2 = '{\"a\":17.2, \"b\": true}'\n",
    "f1 = '{\"b\":\"test\"}'\n",
    "\n",
    "x = JSGPython(jsg)\n",
    "print(x.conforms(p1, 'p1'))\n",
    "print(x.conforms(p2, 'p2'))\n",
    "print(x.conforms(f1, 'f1'))"
   ]
  },
  {
   "cell_type": "markdown",
   "metadata": {},
   "source": [
    "### Simple type directive\n",
    "`TYPE <type> ;`"
   ]
  },
  {
   "cell_type": "code",
   "execution_count": 30,
   "metadata": {},
   "outputs": [
    {
     "name": "stdout",
     "output_type": "stream",
     "text": [
      "p1: Conforms to doc\n",
      "f1: FAIL - Wrong type for b: 'text' - expected: <class 'pyjsg.jsglib.jsg_strings.Integer'> got str\n",
      "f2: FAIL - doc: Missing required field: 'a'\n",
      "f3: FAIL - Unknown reference type: \"t\": \"missing\"\n"
     ]
    }
   ],
   "source": [
    "# The JSON element name 't' determines the type of the object.\n",
    "# \"t\": \"doc\" says that it is a doc object, \"t\": \"id\" an id object\n",
    "jsg = '''\n",
    ".TYPE t ;\n",
    "doc {a:.,}\n",
    "id {b: @int}\n",
    "'''\n",
    "\n",
    "# P1 is a 'doc', with element 'a' referencing an object of type 'id'\n",
    "p1 = '''\n",
    "{\"t\": \"doc\", \n",
    " \"a\": {\n",
    "     \"t\":\"id\",\n",
    "     \"b\": 173\n",
    "  }\n",
    "}'''\n",
    "\n",
    "f1 = '{\"t\": \"id\", \"b\":\"text\"}'           # Fails because \"b\" isn't an integer\n",
    "f2 = '{\"t\": \"doc\", \"b\": 173}'            # Fails because no \"a\" element\n",
    "f3 = '{\"t\": \"missing\", \"val\": -143}'     # Fails because no \"missing\" JSG object definition\n",
    "\n",
    "x = JSGPython(jsg)\n",
    "print(x.conforms(p1, 'p1'))\n",
    "print(x.conforms(f1, 'f1'))\n",
    "print(x.conforms(f2, 'f2'))\n",
    "print(x.conforms(f3, 'f3'))"
   ]
  },
  {
   "cell_type": "markdown",
   "metadata": {},
   "source": [
    "### Type directive with one exception\n",
    "`.TYPE <type> - <type>;`"
   ]
  },
  {
   "cell_type": "code",
   "execution_count": 31,
   "metadata": {},
   "outputs": [
    {
     "name": "stdout",
     "output_type": "stream",
     "text": [
      "p1: Conforms to doc\n",
      "p2: Conforms to id\n",
      "p3: FAIL - Unknown reference type: \"t\": \"42\"\n",
      "f1: FAIL - Wrong type for t: 'val' - expected: <class 'pyjsg.jsglib.jsg_strings.Number'> got str\n",
      "f2: FAIL - Missing \"t\" element\n",
      "f3: FAIL - Missing \"t\" element\n"
     ]
    }
   ],
   "source": [
    "# Everything has a type identifier of \"t\" except the 'id' object\n",
    "jsg = '''\n",
    ".TYPE t - id ;\n",
    "\n",
    "doc {a:.,}\n",
    "id  {b: @int}\n",
    "val {t: @number}\n",
    "'''\n",
    "\n",
    "p1 = '{\"t\": \"doc\", \"a\": \"Fred\"}'    # Explicit type identifier\n",
    "p2 = '{\"b\": 140}'                   # Matches id exception\n",
    "p3 = '{\"t\": 42}'                    # Impossible to instantiate \"val\" object\n",
    "f1 = '{\"t\": \"val\"}'                 # Impossible to instantiate \"val\" object\n",
    "f2 = '{\"a\": \"Fred\"}'                # Type required\n",
    "f3 = '{\"t\": \"ele\"}'                 # Type references an unknown object\n",
    "\n",
    "x = JSGPython(jsg)\n",
    "print(x.conforms(p1, 'p1'))\n",
    "print(x.conforms(p2, 'p2'))\n",
    "print(x.conforms(p3, 'p3'))\n",
    "print(x.conforms(f1, 'f1'))\n",
    "print(x.conforms(f2, 'f2'))\n",
    "print(x.conforms(f2, 'f3'))"
   ]
  },
  {
   "cell_type": "markdown",
   "metadata": {},
   "source": [
    "### Type directive with two exceptions\n",
    "`.TYPE <type> - <type> <type>;`"
   ]
  },
  {
   "cell_type": "code",
   "execution_count": 32,
   "metadata": {},
   "outputs": [
    {
     "name": "stdout",
     "output_type": "stream",
     "text": [
      "p3: Conforms to val\n"
     ]
    }
   ],
   "source": [
    "# Same as the above except 'val' doesn't need an id as well\n",
    "# Note that \"t\" references a number rather than a type in the 'f2' case\n",
    "jsg = '''\n",
    ".TYPE t - id val;\n",
    "\n",
    "doc {a:.,}\n",
    "id  {b: @int}\n",
    "val {t: @number}\n",
    "'''\n",
    "\n",
    "x = JSGPython(jsg)\n",
    "print(x.conforms(p3, 'p3'))         # P3 now words as expected"
   ]
  },
  {
   "cell_type": "markdown",
   "metadata": {},
   "source": [
    "<a id='ignore'></a>\n",
    "### The `.IGNORE` directive\n",
    "The `.IGNORE` directive identifies a list of property names to be globally ignored\n",
    "\n",
    "#### Syntax\n",
    "`.IGNORE <type> [<type> ...] ;`\n",
    "\n",
    "### No ignore directive"
   ]
  },
  {
   "cell_type": "code",
   "execution_count": 33,
   "metadata": {},
   "outputs": [
    {
     "name": "stdout",
     "output_type": "stream",
     "text": [
      "Conforms to doc\n",
      "FAIL - Unknown attribute: target=earthling\n"
     ]
    }
   ],
   "source": [
    "# Exactly one element, \"a\", of type string\n",
    "jsg = 'doc {a:@string}'\n",
    "\n",
    "x = JSGPython(jsg)\n",
    "print(x.conforms('{\"a\":\"hello\"}'))\n",
    "print(x.conforms('{\"a\":\"hello\", \"target\":\"earthling\"}'))   # Additional element"
   ]
  },
  {
   "cell_type": "markdown",
   "metadata": {},
   "source": [
    "### With ignore directive"
   ]
  },
  {
   "cell_type": "code",
   "execution_count": 34,
   "metadata": {},
   "outputs": [
    {
     "name": "stdout",
     "output_type": "stream",
     "text": [
      "Conforms to doc\n",
      "Conforms to doc\n",
      "FAIL - Unknown attribute: mode=formal\n"
     ]
    }
   ],
   "source": [
    "# Same definition except 'target' is ignored\n",
    "jsg = '''\n",
    ".IGNORE target;\n",
    "doc {a:@string}\n",
    "'''\n",
    "x = JSGPython(jsg)\n",
    "print(x.conforms('{\"a\":\"hello\"}'))\n",
    "print(x.conforms('{\"a\":\"hello\", \"target\":\"earthling\"}'))\n",
    "print(x.conforms('{\"a\":\"hello\", \"target\":\"earthling\", \"mode\": \"formal\"}'))"
   ]
  },
  {
   "cell_type": "markdown",
   "metadata": {},
   "source": [
    "<hr/>\n",
    "<a id='grammar'></a>\n",
    "## Grammar Rules\n",
    "\n",
    "<a id='objectdef'></a>\n",
    "### Object Definitions\n",
    "A JSG object definition consists of the definition name followed by the definition enclosed in curly braces ({ ... })\n",
    "\n",
    "#### Syntax\n",
    "`<identifier> : { [<element definitions>] }` \n",
    "\n",
    "Where identifier must either be a single, upper case character or, if there are two or more characters, at least one of them must be lower case alphabetic.\n",
    "\n",
    "* valid identifiers:  `A`,  `Type`,  `type`, `a17`, `a_abc`, `DOCx`\n",
    "* invalid identifiers: `AA`, `A17`, `DOCX`, `A_`\n",
    "\n",
    "### Simple object definition\n",
    "An object definition with no element definitions describes an empty object"
   ]
  },
  {
   "cell_type": "code",
   "execution_count": 35,
   "metadata": {},
   "outputs": [
    {
     "name": "stdout",
     "output_type": "stream",
     "text": [
      "empty object: Conforms to mtdoc\n",
      "non-empty object: FAIL - Unknown attribute: name=Fred\n",
      "empty object: Conforms to mtdoc\n",
      "object with ignored name: Conforms to mtdoc\n",
      "object w/o ignored name: FAIL - Unknown attribute: location=Spain\n"
     ]
    }
   ],
   "source": [
    "jsg = 'mtdoc {}'          # The only thing that passes is an empty object\n",
    "\n",
    "x = JSGPython(jsg)\n",
    "print(x.conforms('{}', 'empty object'))\n",
    "print(x.conforms('{\"name\":\"Fred\"}', 'non-empty object'))\n",
    "\n",
    "# .IGNORE elements can always appear - even in empty documents\n",
    "x = JSGPython('.IGNORE name; mtdoc {}')\n",
    "print(x.conforms('{}', 'empty object'))\n",
    "print(x.conforms('{\"name\":\"Fred\"}', 'object with ignored name'))\n",
    "print(x.conforms('{\"location\":\"Spain\"}', 'object w/o ignored name'))"
   ]
  },
  {
   "cell_type": "markdown",
   "metadata": {},
   "source": [
    "A trailing comma in an object definition indicates that the definition is \"open\", meaning that additional elements are allowed"
   ]
  },
  {
   "cell_type": "code",
   "execution_count": 36,
   "metadata": {},
   "outputs": [
    {
     "name": "stdout",
     "output_type": "stream",
     "text": [
      "empty document: Conforms to anydoc\n",
      "complex JSON: Conforms to anydoc\n",
      "empty document: FAIL - doc: Missing required field: 'name'\n",
      "with name: Conforms to doc\n"
     ]
    }
   ],
   "source": [
    "jsg = 'anydoc {,}'                # Trailing comma means anything is allowed\n",
    "jsg2 = 'doc {\"name\": @string, }'  # Object must have a name element, but anything else is still allowed\n",
    "\n",
    "x = JSGPython(jsg)\n",
    "print(x.conforms('{}', \"empty document\"))\n",
    "print(x.conforms('{\"a\": 17, \"b\": true, \"c\" : {\"x\": -12, \"y\": 143}}', \"complex JSON\"))\n",
    "x = JSGPython(jsg2)\n",
    "print(x.conforms('{}', \"empty document\"))\n",
    "print(x.conforms('{\"name\": \"Fred\", \"attitude\": [\"bad\", \"worse\", \"off the scale\"]}', \"with name\"))"
   ]
  },
  {
   "cell_type": "markdown",
   "metadata": {},
   "source": [
    "### Element definitions\n",
    "An **`element definition`** consist of either:\n",
    "\n",
    " 1. a list of one or more `[member definitions](#memberdef)` or ...\n",
    " 2. ... a `mapping definition`\n",
    "\n",
    "<a id='memberdef'></a>\n",
    "### member definition\n",
    "A **`member definition`** identifies the name (string), type, possible values and cardinality for a JSON object member.\n",
    "\n",
    "#### Syntax\n",
    "`<name> : <valueType> [<cardinality>]`<br/>\n",
    "&nbsp;&nbsp;&nbsp;&nbsp;\n",
    "or<br/>\n",
    "`(<name> <name> ...) : <valuetype> [<cardinality>]`<br/>\n",
    "&nbsp;&nbsp;&nbsp;&nbsp;or<br/>\n",
    "`<objectId>`<br/>\n",
    "\n",
    "\n",
    "**`<name> : <valueType> [<cardinality]`** format:<br/>\n",
    "* `<name>` - can be any valid JSON *string* as defined by the ECMA-404 standard<br/>\n",
    "* `<valuetype>` and `<cardinality>` are defined later in this document<br/>\n",
    "\n",
    "#### Example\n",
    "The following example defines four elements:\n",
    "\n",
    "1) A required string, '`last_name`'\n",
    "\n",
    "2) A non-empty list of required strings, '`first name`' (note that this identifier is a valid JSON string but NOT a valid python identifier)\n",
    "\n",
    "3) An optional integer, '`age`'\n",
    "\n",
    "4) A (possibly empty) list of numbers named '`weight`'"
   ]
  },
  {
   "cell_type": "code",
   "execution_count": 37,
   "metadata": {},
   "outputs": [
    {
     "name": "stdout",
     "output_type": "stream",
     "text": [
      "p1: Conforms to doc\n",
      "f1: FAIL - doc: Missing required field: 'first name'\n"
     ]
    }
   ],
   "source": [
    "jsg = '''\n",
    "doc {\n",
    "    last_name : @string,       # exactly one last name of type string\n",
    "    \"first name\" : @string+    # array or one or more first names\n",
    "    age : @int?,               # optional age of type int\n",
    "    weight : @number*          # required array of zero or more weights\n",
    "}\n",
    "'''\n",
    "# last_name, first name and empty weight array passes\n",
    "p1 = '''\n",
    "{ \"last_name\" : \"snooter\",\n",
    "  \"first name\" : [\"grunt\", \"peter\"],\n",
    "  \"weight\" : []\n",
    "}'''\n",
    "# First name is missing\n",
    "f1 = '''\n",
    "{ \"last_name\" : \"snooter\", \"weight\" : []\n",
    "}'''\n",
    "\n",
    "x = JSGPython(jsg)\n",
    "print(x.conforms(p1, 'p1'))\n",
    "print(x.conforms(f1, 'f1'))"
   ]
  },
  {
   "cell_type": "markdown",
   "metadata": {},
   "source": [
    "Note that the `weight` array above is required, even if empty.  An optional array is defined as:"
   ]
  },
  {
   "cell_type": "code",
   "execution_count": 53,
   "metadata": {},
   "outputs": [
    {
     "name": "stdout",
     "output_type": "stream",
     "text": [
      "p1: Conforms to doc\n",
      "p2: Conforms to doc\n",
      "f1: FAIL - doc: Missing required field: 'weight'\n",
      "doc: Missing required field: 'weight2'\n",
      "f2: FAIL - Wrong type for heights2: [] - expected: typing.Union[pyjsg.jsglib.jsg_array.heights2, NoneType] got list\n"
     ]
    }
   ],
   "source": [
    "jsg = '''\n",
    "doc {\n",
    "    weight : @number*           # required array of zero or more weights\n",
    "    weight2 : [@number]         # required array of zero or more weights (alternative format)\n",
    "    heights : [@number]?        # optional array of zero or more heights\n",
    "    heights2 : [@number+]?      # optional array or one or more heights\n",
    "}\n",
    "'''\n",
    "p1 = '{\"weight\": [], \"weight2\": [], \"heights\": [], \"heights2\": [1]}'   # Everything present\n",
    "p2 = '{\"weight\": [], \"weight2\": []}'                                   # Heights arrays missing\n",
    "f1 = '{\"heights\": []}'                                                 # Weights arrays missing\n",
    "f2 = '{\"weight\": [], \"weight2\": [], \"heights2\": []}'                    # Empty heights2 array\n",
    "\n",
    "x = JSGPython(jsg)\n",
    "print(x.conforms(p1, 'p1'))\n",
    "print(x.conforms(p2, 'p2'))\n",
    "print(x.conforms(f1, 'f1'))\n",
    "print(x.conforms(f2, 'f2'))"
   ]
  },
  {
   "cell_type": "markdown",
   "metadata": {},
   "source": [
    "<a id='memberdeflist'></a>\n",
    "### member definition as a list\n",
    "A shorthand format exists to allow multiple members of the same type to be defined together.\n",
    "\n",
    "#### Syntax\n",
    "`(<name> <name> ...) : <valuetype> [<cardinality>]`<br/>\n"
   ]
  },
  {
   "cell_type": "code",
   "execution_count": 57,
   "metadata": {},
   "outputs": [
    {
     "name": "stdout",
     "output_type": "stream",
     "text": [
      "Conforms to doc\n"
     ]
    }
   ],
   "source": [
    "x = JSGPython('doc { (t b l r) : @int}')   # 4 required entries of type integer\n",
    "print(x.conforms('{\"t\": 17, \"b\": -142, \"l\": 12048, \"r\": 0}'))\n"
   ]
  },
  {
   "cell_type": "markdown",
   "metadata": {
    "collapsed": true
   },
   "source": [
    "### **`<valueType>`**:\n",
    "\n",
    "valueType can be:\n",
    "\n",
    "1) [A built in value type](#builtin types):\n",
    "* @string   - a JSON string\n",
    "* @number   - a JSON number\n",
    "* @int      - a JSON number with no decimal value\n",
    "* @bool     - `true` or `false`\n",
    "* @null     - the JSON null value\n",
    "* @array    - any JSON array (`[ ... ]`)\n",
    "* @object   - any JSON object (`{ ... }`)\n",
    "\n",
    "2) [The identifier of a pattern defined in the lexer section](#lexer id)\n",
    "\n",
    "3) [A JSON string enclosed in quotes](#string types)\n",
    "\n",
    "4) [A JSG object definition of the form](#embedded object): `{ ... }`\n",
    "\n",
    "5) A JSG array definition of the form: `[ ... ]`\n",
    "\n",
    "6) A dot ('.') indicating any value\n",
    "\n",
    "7) One or more type choices enclosed in parenthesis: `(<type> [| <type]...)`\n",
    "\n",
    "<a id='builtin types'></a>\n",
    "### Built In  Types"
   ]
  },
  {
   "cell_type": "code",
   "execution_count": 13,
   "metadata": {},
   "outputs": [
    {
     "name": "stdout",
     "output_type": "stream",
     "text": [
      "Conforms to doc\n",
      "Wrong type for v1: True - expected: <class 'pyjsg.jsglib.jsg_strings.String'> got bool\n",
      "Wrong type for v4: 17 - expected: <class 'pyjsg.jsglib.jsg_strings.Boolean'> got int\n"
     ]
    }
   ],
   "source": [
    "x = JSGPython(\n",
    "'''\n",
    "doc {\n",
    "    v1: @string,\n",
    "    v2: @number,\n",
    "    v3: @int,\n",
    "    v4: @bool,\n",
    "    v5: @null,\n",
    "    v6: @array,\n",
    "    v7: @object \n",
    "}\n",
    "\n",
    "obj {a: . , }\n",
    "''')\n",
    "\n",
    "print(x.conforms('''\n",
    "{ \"v1\": \"This is text!\",\n",
    "  \"v2\": -117.432e+2,\n",
    "  \"v3\": -100173,\n",
    "  \"v4\": false,\n",
    "  \"v5\": null,\n",
    "  \"v6\": [12, \"text\", null],\n",
    "  \"v7\": {\"q\": \"life\", \"a\": 42}\n",
    "}'''))\n",
    "\n",
    "doc = getattr(x.module, 'doc')          # Reference to the class named 'doc'\n",
    "d1 = doc()                              # Instance\n",
    "\n",
    "try:\n",
    "    d1.v1 = True\n",
    "except ValueError as e:\n",
    "    print(str(e))\n",
    "try:\n",
    "    d2 = doc(v4=17)\n",
    "except ValueError as e:\n",
    "    print(str(e))"
   ]
  },
  {
   "cell_type": "markdown",
   "metadata": {
    "collapsed": true
   },
   "source": [
    "<a id='lexer id'></a>\n",
    "### Lexer Patterns\n",
    "\n",
    "Lexer patterns can be used to constrain the possible values for strings, numbers, integers or boolean types.\n",
    "\n",
    "Lexer patterns follow the JSG type definitions and begin with:\n",
    "`@terminals` followed by a list of lexer patterns.\n",
    "\n",
    "A lexer pattern takes the form:\n",
    "`<LEXER_ID> : (pattern) ;`\n",
    "\n",
    "Where <LEXER_ID> must be at least two characters in length, where the first is a capital letter and the succeeding characters are capital letters, numbers or an underscore (_).\n",
    "\n",
    "Valid Lexer ID's:\n",
    "\n",
    "'`AA`', '`A01B`', '`A_LEXER\\_ID\\_`', '`INT`'\n",
    "\n",
    "Invalid Lexer ID's\n",
    "* '`1A`'     -- starts with a digit\n",
    "* '`A`'      -- single character\n",
    "* '`A_LeXER_ID`' -- lower case 'e'\n",
    "* '`A-ID`'   -- illegal character\n",
    "\n",
    "Examples:"
   ]
  },
  {
   "cell_type": "code",
   "execution_count": 58,
   "metadata": {},
   "outputs": [
    {
     "name": "stdout",
     "output_type": "stream",
     "text": [
      "Conforms to doc\n",
      "FAIL - Wrong type for a: 0 - expected: <class 'JSGPython.POSINT'> got int\n",
      "FAIL - Wrong type for b: False - expected: typing.Union[JSGPython.TRUE, NoneType] got bool\n",
      "FAIL - Wrong type for c: 'An_ID1' - expected: <class 'JSGPython.ID'> got str\n"
     ]
    }
   ],
   "source": [
    "jsg = \"\"\"\n",
    "doc {a: POSINT,\n",
    "     b: TRUE?\n",
    "     c: ID}\n",
    "     \n",
    "@terminals\n",
    "POSINT: [1-9][0-9]* @number ;\n",
    "TRUE: [Tt] 'rue' @bool ;\n",
    "ID: [A-Z][A-Z0-9_]+ ;\n",
    "\"\"\"\n",
    "\n",
    "x = JSGPython(jsg)\n",
    "print(x.conforms('{\"a\": 1, \"b\": true, \"c\": \"AN_ID1\"}'))\n",
    "print(x.conforms('{\"a\": 0, \"b\": false, \"c\": \"An_ID1\"}'))\n",
    "print(x.conforms('{\"a\": 1, \"b\": false, \"c\": \"An_ID1\"}'))\n",
    "print(x.conforms('{\"a\": 1, \"c\": \"An_ID1\"}'))"
   ]
  },
  {
   "cell_type": "markdown",
   "metadata": {},
   "source": [
    "We will go into more depth on lexer patterns later in this document.  For the time being, \n",
    "however, what we have serves to show the second form of a value type definition.\n",
    "\n",
    "<a id='string types'></a>\n",
    "### String Types\n",
    "The third form of a `<valueType>` definition is in the form of a JSON string, and identifies a fixed value.\n",
    "\n",
    "##### Examples:"
   ]
  },
  {
   "cell_type": "code",
   "execution_count": 59,
   "metadata": {},
   "outputs": [
    {
     "name": "stdout",
     "output_type": "stream",
     "text": [
      "p1: Conforms to doc\n",
      "f1: FAIL - Wrong type for a: 'John' - expected: <class 'JSGPython._Anon1'> got str\n",
      "f2: FAIL - Wrong type for c: ['Albatross', 'Aardvark'] - expected: <class 'pyjsg.jsglib.jsg_array.c'> got list\n"
     ]
    }
   ],
   "source": [
    "# A valid document consists of:\n",
    "#  1) Exactly one element \"a\" that just have the value \"Fred\"\n",
    "#  2) An optional element, \"b\", that, if present, must be \"Penguins\"\n",
    "#  3) A list of zero of more elements, \"c\", that must all be \"Albatross\"\n",
    "jsg = \"\"\"\n",
    "doc {a: \"Fred\",\n",
    "     b: \"Penguins\"?,\n",
    "     c: \"Albatross\"*\n",
    "}\"\"\"\n",
    "p1 = '{\"a\": \"Fred\", \"c\": [\"Albatross\", \"Albatross\"]}'\n",
    "f1 = '{\"a\": \"John\"}'\n",
    "f2 = '{\"a\": \"Fred\", \"b\": \"Penguins\", \"c\": [\"Albatross\", \"Aardvark\"]}'\n",
    "\n",
    "x = JSGPython(jsg)\n",
    "print(x.conforms(p1, 'p1'))\n",
    "print(x.conforms(f1, 'f1'))\n",
    "print(x.conforms(f2, 'f2'))\n"
   ]
  },
  {
   "cell_type": "markdown",
   "metadata": {},
   "source": [
    "<a id='embedded object'></a>\n",
    "### Embedded Object Definitions\n",
    "Object definitions can be nested, which leads to the fourth form of `<valueType>`\n"
   ]
  },
  {
   "cell_type": "code",
   "execution_count": 16,
   "metadata": {},
   "outputs": [
    {
     "name": "stdout",
     "output_type": "stream",
     "text": [
      "p1: Conforms to directory\n"
     ]
    }
   ],
   "source": [
    "# A document that consists of zero or more entries, each of which has an 8 digit 'id',\n",
    "# a name consisting of a first, last and zero or more middle initials\n",
    "# and one or more addresses\n",
    "jsg = \"\"\"\n",
    "directory {\n",
    "    entries: {\n",
    "        id: ID,\n",
    "        name: {\n",
    "            first: @string,\n",
    "            middle: [@string]?,\n",
    "            last: @string\n",
    "        },\n",
    "        address: {\n",
    "            city: @string,\n",
    "            state: @string,\n",
    "            zip: @int?\n",
    "        }+\n",
    "    }*\n",
    "}\n",
    "\n",
    "@terminals\n",
    "ID: [1-9][0-9]{7} @int;\n",
    "\"\"\"\n",
    "\n",
    "\n",
    "p1 = '''\n",
    "{\n",
    "\"entries\": [\n",
    "    {\"id\": 11725433,\n",
    "      \"name\": {\n",
    "          \"first\": \"Sam\",\n",
    "          \"last\": \"Sneed\"\n",
    "      },\n",
    "      \"address\": [\n",
    "        {\n",
    "          \"city\": \"Southwark\",\n",
    "          \"state\": \"Bliss\"\n",
    "        }\n",
    "      ]\n",
    "    },\n",
    "    {\"id\": 10000001,\n",
    "      \"name\": {\n",
    "          \"first\": \"Julie\",\n",
    "          \"middle\": [\"Mary\", \"Elizabeth\"],\n",
    "          \"last\": \"Sneed\"\n",
    "      },\n",
    "      \"address\": [\n",
    "        {\n",
    "          \"city\": \"Southwark\",\n",
    "          \"state\": \"Agony\"\n",
    "        }\n",
    "      ]\n",
    "    }\n",
    "]\n",
    "}  \n",
    "'''\n",
    "\n",
    "x = JSGPython(jsg, print_python=False)\n",
    "print(x.conforms(p1, 'p1'))\n"
   ]
  },
  {
   "cell_type": "markdown",
   "metadata": {
    "collapsed": true
   },
   "source": [
    "<a id='embedded array'></a>\n",
    "### Embedded Array Definition\n",
    "A `<valueType>` can be take the form of an embedded array definition.\n",
    "\n",
    "#### Example"
   ]
  },
  {
   "cell_type": "code",
   "execution_count": 19,
   "metadata": {},
   "outputs": [
    {
     "name": "stdout",
     "output_type": "stream",
     "text": [
      "P1: Conforms to doc\n"
     ]
    }
   ],
   "source": [
    "# A sequence document consists of list of sequences\n",
    "jsg = '''\n",
    "doc {\n",
    "    sequences: [(RNASEQ|DNASEQ)]\n",
    "}\n",
    "\n",
    "@terminals\n",
    "RNASEQ: [ACGU]+ ;\n",
    "DNASEQ: [ACGT]+ ;\n",
    "'''\n",
    "\n",
    "p1 = '''\n",
    "{ \"sequences\": [\n",
    "    \"GCUACGGAGCUUGGAGCUAG\",\n",
    "    \"ATTTTGCGAGGTCCC\"\n",
    "   ]\n",
    "}'''\n",
    "\n",
    "x = JSGPython(jsg, print_python=False)\n",
    "print(x.conforms(p1, 'P1'))"
   ]
  },
  {
   "cell_type": "code",
   "execution_count": null,
   "metadata": {
    "collapsed": true
   },
   "outputs": [],
   "source": []
  }
 ],
 "metadata": {
  "kernelspec": {
   "display_name": "Python 3",
   "language": "python",
   "name": "python3"
  },
  "language_info": {
   "codemirror_mode": {
    "name": "ipython",
    "version": 3
   },
   "file_extension": ".py",
   "mimetype": "text/x-python",
   "name": "python",
   "nbconvert_exporter": "python",
   "pygments_lexer": "ipython3",
   "version": "3.6.3"
  }
 },
 "nbformat": 4,
 "nbformat_minor": 2
}
