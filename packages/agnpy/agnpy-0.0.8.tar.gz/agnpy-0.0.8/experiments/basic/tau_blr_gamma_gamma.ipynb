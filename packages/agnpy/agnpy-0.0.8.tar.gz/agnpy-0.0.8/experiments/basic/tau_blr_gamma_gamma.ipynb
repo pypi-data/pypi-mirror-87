{
 "cells": [
  {
   "cell_type": "code",
   "execution_count": 1,
   "metadata": {},
   "outputs": [],
   "source": [
    "import numpy as np\n",
    "import astropy.units as u\n",
    "from astropy.constants import h, m_e, M_sun, c\n",
    "from agnpy.emission_regions import Blob\n",
    "from agnpy.targets import SSDisk, SphericalShellBLR, RingDustTorus\n",
    "from agnpy.absorption import Absorption, sigma\n",
    "from agnpy.compton import cos_psi\n",
    "import matplotlib.pyplot as plt"
   ]
  },
  {
   "cell_type": "code",
   "execution_count": 2,
   "metadata": {},
   "outputs": [],
   "source": [
    "mec2 = m_e.to(\"erg\", equivalencies=u.mass_energy())\n",
    "# equivalency to transform frequencies to energies in electron rest mass units\n",
    "epsilon_equivalency = [\n",
    "    (u.Hz, u.Unit(\"\"), lambda x: h.cgs * x / mec2, lambda x: x * mec2 / h.cgs)\n",
    "]"
   ]
  },
  {
   "cell_type": "code",
   "execution_count": 3,
   "metadata": {},
   "outputs": [],
   "source": [
    "# define the blob\n",
    "spectrum_norm = 1e47 * u.erg\n",
    "parameters = {\"p\": 2.8, \"gamma_min\": 10, \"gamma_max\": 1e6}\n",
    "spectrum_dict = {\"type\": \"PowerLaw\", \"parameters\": parameters}\n",
    "R_b = 1e16 * u.cm\n",
    "B = 0.56 * u.G\n",
    "z = 0\n",
    "delta_D = 40\n",
    "Gamma = 40\n",
    "blob = Blob(R_b, z, delta_D, Gamma, B, spectrum_norm, spectrum_dict)"
   ]
  },
  {
   "cell_type": "code",
   "execution_count": 4,
   "metadata": {},
   "outputs": [],
   "source": [
    "L_disk = 2 * 1e46 * u.Unit(\"erg s-1\")\n",
    "csi_line = 0.024\n",
    "R_line = 1e17 * u.cm\n",
    "blr = SphericalShellBLR(L_disk, csi_line, \"Lyalpha\", R_line)"
   ]
  },
  {
   "cell_type": "code",
   "execution_count": 5,
   "metadata": {},
   "outputs": [
    {
     "name": "stderr",
     "output_type": "stream",
     "text": [
      "/home/cosimo/software/miniconda3/lib/python3.7/site-packages/astropy/units/quantity.py:477: RuntimeWarning: invalid value encountered in sqrt\n",
      "  result = super().__array_ufunc__(function, method, *arrays, **kwargs)\n"
     ]
    }
   ],
   "source": [
    "# compute tau\n",
    "r = 1.1 * 1e16 * u.cm\n",
    "absorption_blr = Absorption(blob, blr, r=r)\n",
    "E = np.logspace(0, 5) * u.GeV\n",
    "nu = E.to(\"Hz\", equivalencies=u.spectral())\n",
    "tau_blr = absorption_blr.tau(nu)"
   ]
  },
  {
   "cell_type": "code",
   "execution_count": 6,
   "metadata": {},
   "outputs": [],
   "source": [
    "# array of sampled taus\n",
    "sampled_tau = np.loadtxt(\n",
    "    f\"agnpy/tests/sampled_taus/tau_blr_lyman_alpha_figure_14_finke_2016.txt\", delimiter=\",\", comments=\"#\",\n",
    ")\n",
    "E_ref = sampled_tau[:, 0] * u.GeV\n",
    "taus_ref = sampled_tau[:, 1] "
   ]
  },
  {
   "cell_type": "code",
   "execution_count": 7,
   "metadata": {},
   "outputs": [
    {
     "data": {
      "text/plain": [
       "<matplotlib.legend.Legend at 0x7f1c7c6d5ad0>"
      ]
     },
     "execution_count": 7,
     "metadata": {},
     "output_type": "execute_result"
    },
    {
     "data": {
      "image/png": "[encoded data removed]",
      "text/plain": [
       "<Figure size 432x288 with 1 Axes>"
      ]
     },
     "metadata": {
      "needs_background": "light"
     },
     "output_type": "display_data"
    }
   ],
   "source": [
    "plt.loglog(E_ref, taus_ref, ls=\"-\", marker=\"o\", label=\"reference\")\n",
    "plt.loglog(E, tau_blr, ls=\"--\", marker=\".\", label=\"agnpy\")\n",
    "plt.legend()"
   ]
  },
  {
   "cell_type": "code",
   "execution_count": null,
   "metadata": {},
   "outputs": [],
   "source": []
  }
 ],
 "metadata": {
  "kernelspec": {
   "display_name": "Python 3",
   "language": "python",
   "name": "python3"
  },
  "language_info": {
   "codemirror_mode": {
    "name": "ipython",
    "version": 3
   },
   "file_extension": ".py",
   "mimetype": "text/x-python",
   "name": "python",
   "nbconvert_exporter": "python",
   "pygments_lexer": "ipython3",
   "version": "3.7.7"
  }
 },
 "nbformat": 4,
 "nbformat_minor": 4
}
