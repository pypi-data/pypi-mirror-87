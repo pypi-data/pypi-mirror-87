{
 "cells": [
  {
   "cell_type": "markdown",
   "metadata": {},
   "source": [
    "# BloodPressure example\n",
    "This example assumes that PyShEx has been installed in jupyter environment"
   ]
  },
  {
   "cell_type": "code",
   "execution_count": 1,
   "metadata": {},
   "outputs": [],
   "source": [
    "from pyshex import ShExEvaluator\n",
    "from rdflib import Namespace"
   ]
  },
  {
   "cell_type": "code",
   "execution_count": 2,
   "metadata": {},
   "outputs": [],
   "source": [
    "shex = \"\"\"\n",
    "BASE <http://example.org/ex/>\n",
    "PREFIX xsd: <http://www.w3.org/2001/XMLSchema#>\n",
    "PREFIX ex: <http://ex.example/#>\n",
    "PREFIX foaf: <http://xmlns.com/foaf/0.1/>\n",
    "PREFIX : <http://hl7.org/fhir/>\n",
    "PREFIX rdfs: <http://www.w3.org/2000/01/rdf-schema#>\n",
    "PREFIX foaf: <http://xmlns.com/foaf/0.1/>\n",
    "start = @<BloodPressureMeasurementShape>\n",
    "<PatientShape> {                    # A Patient has:\n",
    ":name xsd:string*;                        #   one or more names\n",
    ":birthdate xsd:date?   ;          #   and an optional birthdate.\n",
    "}\n",
    "<BloodPressureMeasurementShape> {\n",
    "  rdfs:label  xsd:string ;\n",
    "  :subject @<PatientShape> ;\n",
    "  :hasmeasurementDate  @<BPDateShape> ;\n",
    "  :valueSBP @<SBPvalueShape> ;\n",
    "  :valueDBP @<DBPvalueShape> ;\n",
    "  :valueABP @<ABPvalueShape>? ;\n",
    "  (:hasMethod  @<BPMeasurementInvasiveMethodShape> |\n",
    "   :hasMethod @<BPMeasurementNoninvasiveMethodShape> ) ;\n",
    "  :hasLocation @<BPMeasurementLocationShape>? ;\n",
    "  :hasType @<DEPShape>? ;\n",
    "  :isAffectedBy @<BodyPositionShape>?\n",
    "}\n",
    "<SBPvalueShape> {\n",
    "   :valueS  xsd:integer;\n",
    "}\n",
    "<DBPvalueShape> {\n",
    "   :valueD  xsd:integer;\n",
    "}\n",
    "<ABPvalueShape> {\n",
    "   :valueA  xsd:integer;\n",
    "}\n",
    "<BPMeasurementMethodShape> {\n",
    "   :method [<invasive> <non-invasive>];\n",
    "}\n",
    "<BPMeasurementInvasiveMethodShape> {\n",
    "   :method [<invasive>];\n",
    "}\n",
    "<BPMeasurementNoninvasiveMethodShape> {\n",
    "   :method [<non-invasive>];\n",
    "}\n",
    "<BPDateShape> {\n",
    "   :date  xsd:date;\n",
    "}\n",
    "<BPMeasurementLocationShape> {\n",
    "   :location [<arm> <leg> <ankle>];\n",
    "}\n",
    "<DEPShape> {\n",
    "   :type [<typeIV> <typeV>];\n",
    "}\n",
    "<BodyPositionShape> {\n",
    "   :position [<sittingposition> <recumbentbodyposition> <orthostaticbodyposition> <positionwithtilt> <trendelenburgposition>];\n",
    "}\n",
    "\"\"\""
   ]
  },
  {
   "cell_type": "code",
   "execution_count": 3,
   "metadata": {},
   "outputs": [],
   "source": [
    "rdf = \"\"\"\n",
    "BASE <http://example.org/ex/>\n",
    " \n",
    "PREFIX xsd: <http://www.w3.org/2001/XMLSchema#>\n",
    "PREFIX ex: <http://ex.example/#>\n",
    "PREFIX foaf: <http://xmlns.com/foaf/0.1/>\n",
    "PREFIX : <http://hl7.org/fhir/>\n",
    "PREFIX rdfs: <http://www.w3.org/2000/01/rdf-schema#>\n",
    "PREFIX foaf: <http://xmlns.com/foaf/0.1/>\n",
    "<Patient2>\n",
    "  :name \"Bob\" ;\n",
    "  :birthdate \"1999-12-31\"^^xsd:date ;\n",
    "  :has :BloodPressureMeasurementShape .\n",
    "<BPDate1>\n",
    "  :date \"2010-12-31\"^^xsd:date.\n",
    "<SBP1>\n",
    "  :valueS 140 .\n",
    "<DBP1>\n",
    "  :valueD 90 .\n",
    "<ABP1>\n",
    "  :valueA 97 .\n",
    "<BPMMethod1>\n",
    "  :method <non-invasive> .\n",
    "<BPMLocation1>\n",
    "  :location <arm> .\n",
    "<BodyPosition1>\n",
    "  :position <sittingposition> .\n",
    "<DEP1>\n",
    "  :type <typeIV>.\n",
    "  \n",
    "<BPM1>\n",
    "  a :BloodPressureMeasurementShape ;\n",
    "  rdfs:label \"First BP measurement\" ;\n",
    "  :subject  <Patient2> ;\n",
    "  :hasmeasurementDate <BPDate1> ;\n",
    "  :valueSBP <SBP1> ;\n",
    "  :valueDBP <DBP1> ;\n",
    "  :valueABP <ABP1> ;\n",
    "  :method <BPMMethod1> ;\n",
    "  :location <BPMLocation1> ;\n",
    "  :type <DEP1> ;\n",
    "  :position <BodyPosition1> .\n",
    "\"\"\""
   ]
  },
  {
   "cell_type": "code",
   "execution_count": 4,
   "metadata": {},
   "outputs": [
    {
     "name": "stdout",
     "output_type": "stream",
     "text": [
      "FAIL:\n",
      "   Testing <http://example.org/ex/BPM1> against shape http://example.org/ex/BloodPressureMeasurementShape\n",
      "       No matching triples found for predicate :hasMethod\n",
      "  Testing <http://example.org/ex/BPM1> against shape http://example.org/ex/BloodPressureMeasurementShape\n",
      "       No matching triples found for predicate :hasMethod\n"
     ]
    }
   ],
   "source": [
    "results = ShExEvaluator().evaluate(rdf, shex, focus=\"http://example.org/ex/BPM1\")\n",
    "for r in results:\n",
    "    if r.result:\n",
    "        print(\"PASS\")\n",
    "    else:\n",
    "        print(f\"FAIL:\\n {r.reason}\")"
   ]
  },
  {
   "cell_type": "code",
   "execution_count": null,
   "metadata": {},
   "outputs": [],
   "source": []
  }
 ],
 "metadata": {
  "kernelspec": {
   "display_name": "Python 3",
   "language": "python",
   "name": "python3"
  },
  "language_info": {
   "codemirror_mode": {
    "name": "ipython",
    "version": 3
   },
   "file_extension": ".py",
   "mimetype": "text/x-python",
   "name": "python",
   "nbconvert_exporter": "python",
   "pygments_lexer": "ipython3",
   "version": "3.7.5"
  }
 },
 "nbformat": 4,
 "nbformat_minor": 2
}
