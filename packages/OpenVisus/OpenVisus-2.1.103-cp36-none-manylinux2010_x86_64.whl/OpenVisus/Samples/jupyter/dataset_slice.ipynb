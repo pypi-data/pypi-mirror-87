{
 "cells": [
  {
   "cell_type": "code",
   "execution_count": 1,
   "metadata": {},
   "outputs": [
    {
     "name": "stdout",
     "output_type": "stream",
     "text": [
      "Starting OpenVisus c:\\python38\\lib\\site-packages\\OpenVisus\\__init__.py 3.8.6 (tags/v3.8.6:db45529, Sep 23 2020, 15:52:53) [MSC v.1927 64 bit (AMD64)] sys.version_info(major=3, minor=8, micro=6, releaselevel='final', serial=0) ...\n"
     ]
    }
   ],
   "source": [
    "# IMPORTANT: FOR VALERIO run this\n",
    "# c:\\Python38\\python.exe -m pip install ipywidgets\n",
    "# c:\\Python38\\python.exe -m pip install ipycanvas\n",
    "# c:\\Python38\\python.exe -m pip install --upgrade OpenVisus\n",
    "# c:\\Python38\\Scripts\\jupyter.exe nbextension enable --py widgetsnbextension\n",
    "\n",
    "import os,sys,math,random\n",
    "import numpy as np\n",
    "import matplotlib\n",
    "import matplotlib.pyplot as plt\n",
    "import ipywidgets\n",
    "\n",
    "from PIL            import Image\n",
    "from urllib.request import urlopen\n",
    "from ipycanvas      import Canvas, hold_canvas\n",
    "\n",
    "from OpenVisus import *\n",
    "\n",
    "\"\"\"\n",
    "///////////////////////////////\n",
    "CONFIG SECTION\n",
    "///////////////////////////////\n",
    "\"\"\"\n",
    "\n",
    "dataset_url=r'D:\\GoogleSci\\visus_dataset\\llnl\\battery.idx'\n",
    "\n",
    "\n",
    "#'flag', 'prism', 'ocean', 'gist_earth', 'terrain', 'gist_stern', 'gnuplot', 'gnuplot2', 'CMRmap', \n",
    "#'cubehelix', 'brg', 'gist_rainbow', 'rainbow', 'jet', 'nipy_spectral', 'gist_ncar'\n",
    "cmap='gist_rainbow'\n",
    "cmap='rainbow'\n",
    "field='xray'\n",
    "offset_step=4\n",
    "canvas_width,canvas_height=600,600"
   ]
  },
  {
   "cell_type": "code",
   "execution_count": 2,
   "metadata": {},
   "outputs": [
    {
     "name": "stdout",
     "output_type": "stream",
     "text": [
      "logic_box ([0, 0, 0], [2160, 2160, 2560])\n",
      "dims [2160, 2160, 2560]\n",
      "Field xray float32 44GB\n",
      "Field neutron float32 44GB\n"
     ]
    }
   ],
   "source": [
    "db=LoadDataset(dataset_url)\n",
    "logic_box=db.getLogicBox()\n",
    "dims=logic_box[1]\n",
    "\n",
    "# /////////////////////////////////////////////////////////\n",
    "def LoadImage(filename):\n",
    "\treturn np.asarray(PIL.Image.open(urlopen(filename)  if filename.startswith('http') else filename))\n",
    "    \n",
    "# /////////////////////////////////////////////////////////\n",
    "def PrintDatasetInfo():\n",
    "    print(\"logic_box\",logic_box)\n",
    "    print(\"dims\",dims)\n",
    "    fields=[db.getField(name) for name in db.getFields()]\n",
    "    for field in fields:\n",
    "        dtype=field.dtype\n",
    "        GB=int(dims[0]*dims[1]*dims[2]*dtype.getByteSize()/(1024*1024*1024))\n",
    "        print(\"Field\",field.name, dtype.toString(), \"{}GB\".format(GB))\n",
    "    \n",
    "# /////////////////////////////////////////////////////////\n",
    "def ShowImage(data):\n",
    "    m,M = np.min(data),np.max(data) \n",
    "    data=(data - m) / (M - m) # normalize 0,1\n",
    "    data=plt.get_cmap(cmap)(data) # apply palette\n",
    "    data = np.uint8(data*255) # convert uint8\n",
    "    canvas.save()\n",
    "    canvas.scale(canvas.width/data.shape[1],canvas.height/data.shape[0])\n",
    "    canvas.put_image_data(data, 0, 0)\n",
    "    canvas.restore()    \n",
    "    \n",
    "# /////////////////////////////////////////////////////////\n",
    "def ExtractSlice(axis ,offset, num_refinements): \n",
    "\n",
    "    \n",
    "    ranges=[(logic_box[0][I],logic_box[1][I]) for I in range(3)]\n",
    "    \n",
    "    x,y,z=(\n",
    "        ranges[0] if axis!=0 else [offset,offset+1],\n",
    "        ranges[1] if axis!=1 else [offset,offset+1],\n",
    "        ranges[2] if axis!=2 else [offset,offset+1])\n",
    "\n",
    "    # guess quality\n",
    "    quality=0\n",
    "    tot_pixels=(x[1]-x[0]) * (y[1]-y[0]) * (z[1]-z[0])\n",
    "    MAX_PIXELS=canvas.width*canvas.height\n",
    "    while tot_pixels >= MAX_PIXELS:\n",
    "        quality-=1\n",
    "        tot_pixels=int(tot_pixels/2) \n",
    "\n",
    "    print(\"Extracting slice\",\"quality\",quality,\"num_refinements\",num_refinements,\"x\",x,\"y\",y,\"z\",z)   \n",
    "    \n",
    "    while True:\n",
    "        try:\n",
    "            cont=0\n",
    "            for data in db.read(x=x,y=y,z=z,num_refinements=num_refinements,quality=quality,field=field):\n",
    "                # print(\"cont\",cont,\"{} {} quality({})\".format(data.shape,data.dtype,quality));cont+=1\n",
    "                if len(data.shape)==3 and data.shape[0]==1: data=data[0,:,:]\n",
    "                if len(data.shape)==3 and data.shape[1]==1: data=data[:,0,:]   \n",
    "                if len(data.shape)==3 and data.shape[2]==1: data=data[:,:,0] \n",
    "                ShowImage(data)\n",
    "                print(\"{} {})\".format(data.shape,data.dtype),end=' ')\n",
    "            print(\"\")\n",
    "            break\n",
    "        except  Exception as e:\n",
    "            #it can fail because the quality is too low\n",
    "            # print(\"increasing quality\",\"error\",e)\n",
    "            quality+=1\n",
    "\n",
    "\n",
    "# /////////////////////////////////////////////////////////\n",
    "def ShowUI():\n",
    "    \n",
    "    axis_slider=ipywidgets.IntSlider(min=0, max=2, step=1, value=0)\n",
    "    offset_slider=ipywidgets.IntSlider(min=0, max=dims[0]-1, step=offset_step, value=int(dims[0]/2))\n",
    "    num_refinements_slider=ipywidgets.IntSlider(min=1, max=6, step=1, value=3)\n",
    "    \n",
    "    def OnAxisChange(*args):\n",
    "        axis=axis_slider.value\n",
    "        offset_slider.max=dims[axis]-1\n",
    "        offset_slider.value=int(dims[axis]/2)       \n",
    "    \n",
    "    axis_slider.observe(OnAxisChange, 'value')\n",
    "    #ipywidgets.interact_manual(ExtractSlice,  axis=axis_slider,  offset= offset_slider, num_refinements=num_refinements_slider)    \n",
    "    ipywidgets.interact(ExtractSlice,  axis=axis_slider,  offset= offset_slider, num_refinements=num_refinements_slider)    \n",
    "\n",
    "    \n",
    "PrintDatasetInfo()"
   ]
  },
  {
   "cell_type": "code",
   "execution_count": 3,
   "metadata": {},
   "outputs": [
    {
     "data": {
      "application/vnd.jupyter.widget-view+json": {
       "model_id": "deeac1059a8048fa8996b828637698b3",
       "version_major": 2,
       "version_minor": 0
      },
      "text/plain": [
       "Canvas(height=600, width=600)"
      ]
     },
     "metadata": {},
     "output_type": "display_data"
    }
   ],
   "source": [
    "    canvas = Canvas(width=canvas_width, height=canvas_height);canvas"
   ]
  },
  {
   "cell_type": "code",
   "execution_count": 4,
   "metadata": {},
   "outputs": [
    {
     "data": {
      "application/vnd.jupyter.widget-view+json": {
       "model_id": "6f12701060864c44bce625eb321cab17",
       "version_major": 2,
       "version_minor": 0
      },
      "text/plain": [
       "interactive(children=(IntSlider(value=0, description='axis', max=2), IntSlider(value=1080, description='offset…"
      ]
     },
     "metadata": {},
     "output_type": "display_data"
    }
   ],
   "source": [
    "ShowUI()"
   ]
  },
  {
   "cell_type": "code",
   "execution_count": null,
   "metadata": {},
   "outputs": [],
   "source": []
  },
  {
   "cell_type": "code",
   "execution_count": null,
   "metadata": {},
   "outputs": [],
   "source": []
  }
 ],
 "metadata": {
  "kernelspec": {
   "display_name": "Python 3",
   "language": "python",
   "name": "python3"
  },
  "language_info": {
   "codemirror_mode": {
    "name": "ipython",
    "version": 3
   },
   "file_extension": ".py",
   "mimetype": "text/x-python",
   "name": "python",
   "nbconvert_exporter": "python",
   "pygments_lexer": "ipython3",
   "version": "3.8.6"
  }
 },
 "nbformat": 4,
 "nbformat_minor": 4
}
