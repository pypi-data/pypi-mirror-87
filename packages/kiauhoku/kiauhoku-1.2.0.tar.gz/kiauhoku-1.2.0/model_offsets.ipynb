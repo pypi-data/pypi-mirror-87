{
 "cells": [
  {
   "cell_type": "markdown",
   "metadata": {},
   "source": [
    "## This notebook is a tutorial on estimating the systematic uncertainties associated with various stellar model grids."
   ]
  },
  {
   "cell_type": "code",
   "execution_count": 1,
   "metadata": {},
   "outputs": [],
   "source": [
    "import numpy as np\n",
    "import matplotlib.pyplot as plt\n",
    "import kiauhoku as kh\n",
    "\n",
    "# Solar surface metallicity Z/X from Grevesse & Sauval 1998.\n",
    "solar_z_x = 0.02289\n",
    "\n",
    "# data/err are [teff, L/Lsun, [M/H]]\n",
    "data = [5772, 1, 0]\n",
    "err = [100, 0.1, 0.1]"
   ]
  },
  {
   "cell_type": "markdown",
   "metadata": {},
   "source": [
    "### load various interpolators and define log probability functions for mcmc."
   ]
  },
  {
   "cell_type": "code",
   "execution_count": 2,
   "metadata": {},
   "outputs": [],
   "source": [
    "yrec = kh.load_interpolator('yrec')\n",
    "mist = kh.load_interpolator('mist')\n",
    "dart = kh.load_interpolator('dartmouth')\n",
    "gars = kh.load_interpolator('garstec')"
   ]
  },
  {
   "cell_type": "code",
   "execution_count": 3,
   "metadata": {},
   "outputs": [],
   "source": [
    "def yrec_prob(theta, grid, data, error):\n",
    "    model = grid.get_star_eep(theta)\n",
    "    if model.isnull().any():\n",
    "        return -np.inf, None\n",
    "\n",
    "    model_teff = 10**model['Log Teff(K)']\n",
    "    model_lum = 10**model['L/Lsun']\n",
    "    model_met = np.log10(model['Zsurf']/model['Xsurf']/solar_z_x)\n",
    "\n",
    "    model_params = np.array([model_teff, model_lum, model_met])\n",
    "    data = np.array(data)\n",
    "    error = np.array(error)\n",
    "\n",
    "    chisq = -0.5 * np.sum(((model_params - data)/error)**2)\n",
    "\n",
    "    model['teff'] = model_teff\n",
    "    model['luminosity'] = model_lum\n",
    "    model['metallicity'] = model_met\n",
    "    model['age'] = model['Age(Gyr)']\n",
    "    model['lnprob'] = chisq\n",
    "    \n",
    "    return chisq, model\n",
    "\n",
    "def mist_prob(theta, grid, data, error):\n",
    "    model = grid.get_star_eep(theta)\n",
    "    if model.isnull().any():\n",
    "        return -np.inf, None\n",
    "    \n",
    "    model_teff = 10**model['log_Teff']\n",
    "    model_lum = 10**model['log_L']\n",
    "    model_met = model['log_surf_z'] - np.log10(model['surface_h1']*solar_z_x)\n",
    "\n",
    "    model_params = np.array([model_teff, model_lum, model_met])\n",
    "    data = np.array(data)\n",
    "    error = np.array(error)\n",
    "\n",
    "    chisq = -0.5 * np.sum(((model_params - data)/error)**2)\n",
    "\n",
    "    model['teff'] = model_teff\n",
    "    model['luminosity'] = model_lum\n",
    "    model['metallicity'] = model_met\n",
    "    model['age'] = model['star_age'] / 1e9\n",
    "    model['lnprob'] = chisq\n",
    "\n",
    "    return chisq, model\n",
    "\n",
    "def dart_prob(theta, grid, data, error):\n",
    "    model = grid.get_star_eep(theta)\n",
    "    if model.isnull().any():\n",
    "        return -np.inf, None\n",
    "    \n",
    "    model_teff = 10**model['Log T']\n",
    "    model_lum = 10**model['Log L']\n",
    "    model_met = np.log10(model['(Z/X)_surf']/solar_z_x)\n",
    "\n",
    "    model_params = np.array([model_teff, model_lum, model_met])\n",
    "    data = np.array(data)\n",
    "    error = np.array(error)\n",
    "\n",
    "    chisq = -0.5 * np.sum(((model_params - data)/error)**2)\n",
    "\n",
    "    model['teff'] = model_teff\n",
    "    model['luminosity'] = model_lum\n",
    "    model['metallicity'] = model_met\n",
    "    model['age'] = model['Age (yrs)'] / 1e9\n",
    "    model['lnprob'] = chisq\n",
    "\n",
    "    return chisq, model\n",
    "\n",
    "def gars_prob(theta, grid, data, error):\n",
    "    model = grid.get_star_eep(theta)\n",
    "    if model.isnull().any():\n",
    "        return -np.inf, None\n",
    "    \n",
    "    model_teff = model['Teff']\n",
    "    model_lum = 10**model['Log L/Lsun']\n",
    "    model_met = np.log10(model['Zsurf']/model['Xsurf']/solar_z_x)\n",
    "\n",
    "    model_params = np.array([model_teff, model_lum, model_met])\n",
    "    data = np.array(data)\n",
    "    error = np.array(error)\n",
    "\n",
    "    chisq = -0.5 * np.sum(((model_params - data)/error)**2)\n",
    "\n",
    "    model['teff'] = model_teff\n",
    "    model['luminosity'] = model_lum\n",
    "    model['metallicity'] = model_met\n",
    "    model['age'] = model['Age(Myr)'] / 1e3\n",
    "    model['lnprob'] = chisq\n",
    "\n",
    "    return chisq, model"
   ]
  },
  {
   "cell_type": "markdown",
   "metadata": {},
   "source": [
    "### quick mcmc wrapper and computation of model parameter offsets"
   ]
  },
  {
   "cell_type": "code",
   "execution_count": 4,
   "metadata": {},
   "outputs": [],
   "source": [
    "def mcmc(grid, lnprob, data, err):\n",
    "    sampler, chains = grid.mcmc_star(\n",
    "        lnprob,\n",
    "        args=(data, err),\n",
    "        initial_guess=(1, 0, 300),\n",
    "        guess_width=(0.1, 0.1, 25),\n",
    "        n_walkers=12,\n",
    "        n_burnin=100,\n",
    "        n_iter=10000\n",
    "    )\n",
    "    \n",
    "    return sampler, chains\n",
    "\n",
    "def compute_offsets(label, ref='yrec'):\n",
    "    if ref == 'yrec':\n",
    "        ref_val = yrec_chains[label].median()\n",
    "    elif ref == 'mist':\n",
    "        ref_val = mist_chains[label].median()\n",
    "    elif ref == 'dart':\n",
    "        ref_val = dart_chains[label].median()\n",
    "    elif ref == 'gars':\n",
    "        ref_val = gars_chains[label].median()\n",
    "\n",
    "    offsets = {\n",
    "        f'yrec-{ref}': yrec_chains[label].median() - ref_val,\n",
    "        f'mist-{ref}': mist_chains[label].median() - ref_val,\n",
    "        f'dart-{ref}': dart_chains[label].median() - ref_val,\n",
    "        f'gars-{ref}': gars_chains[label].median() - ref_val\n",
    "    }\n",
    "\n",
    "    offsets.pop(f'{ref}-{ref}')\n",
    "    return offsets"
   ]
  },
  {
   "cell_type": "markdown",
   "metadata": {},
   "source": [
    "### Finally, run mcmc and evaluate offsets."
   ]
  },
  {
   "cell_type": "code",
   "execution_count": 5,
   "metadata": {},
   "outputs": [
    {
     "output_type": "stream",
     "name": "stderr",
     "text": "100%|██████████| 100/100 [00:03<00:00, 27.52it/s]\n100%|██████████| 10000/10000 [05:49<00:00, 28.59it/s]\n100%|██████████| 100/100 [00:03<00:00, 27.21it/s]\n100%|██████████| 10000/10000 [06:01<00:00, 27.65it/s]\n100%|██████████| 100/100 [00:03<00:00, 27.72it/s]\n100%|██████████| 10000/10000 [05:44<00:00, 29.00it/s]\n100%|██████████| 100/100 [00:03<00:00, 29.89it/s]\n100%|██████████| 10000/10000 [05:34<00:00, 29.91it/s]\n{'mist-yrec': -3.5505250379475566, 'dart-yrec': -1.1668742098274567, 'gars-yrec': -2.129883357450942}\n{'mist-yrec': 0.06077208340146101, 'dart-yrec': 0.01969603640165052, 'gars-yrec': 0.019770636324987767}\n"
    }
   ],
   "source": [
    "yrec_sampler, yrec_chains = mcmc(yrec, yrec_prob, data, err)\n",
    "mist_sampler, mist_chains = mcmc(mist, mist_prob, data, err)\n",
    "dart_sampler, dart_chains = mcmc(dart, dart_prob, data, err)\n",
    "gars_sampler, gars_chains = mcmc(gars, gars_prob, data, err)\n",
    "\n",
    "print(compute_offsets('age'))\n",
    "print(compute_offsets('initial_mass'))"
   ]
  }
 ],
 "metadata": {
  "language_info": {
   "codemirror_mode": {
    "name": "ipython",
    "version": 3
   },
   "file_extension": ".py",
   "mimetype": "text/x-python",
   "name": "python",
   "nbconvert_exporter": "python",
   "pygments_lexer": "ipython3",
   "version": "3.7.6-final"
  },
  "orig_nbformat": 2,
  "kernelspec": {
   "name": "python37664bitgyroconda7de233c15b184ade952d04cc15ac25c2",
   "display_name": "Python 3.7.6 64-bit ('gyro': conda)"
  }
 },
 "nbformat": 4,
 "nbformat_minor": 2
}