{
 "cells": [
  {
   "cell_type": "markdown",
   "metadata": {
    "collapsed": "f"
   },
   "source": [
    " # Start Shapes and Focus nodes\n",
    "There are four parameters that are needed to evaluate Shape Expression conformance:\n",
    "\n",
    "1. The ShEx shape definition -- a set of one or more named shapes that are used to test graph conformance\n",
    "2. An RDF dataset -- a collection of triples a (proper or improper) subset of which are to be evaluated\n",
    "3. A list of focus nodes -- one or more URI's that are to be tested for conformance.  *(Note: Literal values can also be focus nodes, but this is an advance topic)*\n",
    "4. A list of one or more starting shapes that are used to evaluate the the focus nodes for conformance\n",
    "\n"
   ]
  },
  {
   "cell_type": "code",
   "execution_count": null,
   "metadata": {},
   "outputs": [],
   "source": []
  },
  {
   "cell_type": "code",
   "execution_count": null,
   "metadata": {},
   "outputs": [],
   "source": []
  },
  {
   "cell_type": "code",
   "execution_count": null,
   "metadata": {},
   "outputs": [],
   "source": []
  }
 ],
 "metadata": {
  "kernelspec": {
   "display_name": "Python 2",
   "language": "python",
   "name": "python2"
  },
  "language_info": {
   "codemirror_mode": {
    "name": "ipython",
    "version": 2
   },
   "file_extension": ".py",
   "mimetype": "text/x-python",
   "name": "python",
   "nbconvert_exporter": "python",
   "pygments_lexer": "ipython2",
   "version": "2.7.6"
  }
 },
 "nbformat": 4,
 "nbformat_minor": 0
}
