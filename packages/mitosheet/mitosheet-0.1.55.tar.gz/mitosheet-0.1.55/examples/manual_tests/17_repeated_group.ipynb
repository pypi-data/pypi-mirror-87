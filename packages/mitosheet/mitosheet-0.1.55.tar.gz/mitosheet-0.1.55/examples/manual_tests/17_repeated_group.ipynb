{
 "cells": [
  {
   "cell_type": "code",
   "execution_count": 2,
   "metadata": {},
   "outputs": [
    {
     "data": {
      "application/vnd.jupyter.widget-view+json": {
       "model_id": "fd55dd92c29a4bcaa21120bbe32f7a19",
       "version_major": 2,
       "version_minor": 0
      },
      "text/plain": [
       "MitoWidget(analysis_name='UUID-f8fb8bfb-4c4f-42eb-85fb-1da5245afdd3', code_json='{\"imports\": \"from mitosheet i…"
      ]
     },
     "metadata": {},
     "output_type": "display_data"
    }
   ],
   "source": [
    "\"\"\"\n",
    "Tests grouping in a variety of different ways with all the aggregation options.\n",
    "\n",
    "Steps:\n",
    "- Run this cell.\n",
    "- Click the group button:\n",
    "    - Select Name in rows. Set the value to height sum.\n",
    "    - Click group.\n",
    "- Rerun this cell, and check that the dataframes are still defined properly.\n",
    "- Redo the above, 3 more times, from the most recently defined dataframe.\n",
    "\"\"\"\n",
    "import mitosheet\n",
    "import pandas as pd\n",
    "df1 = pd.DataFrame(data={'Name': ['Nate', 'Nate', 'Aaron', 'Aaron'], 'Height': [4, 5, 6, 7]})\n",
    "mitosheet.sheet(df1)"
   ]
  },
  {
   "cell_type": "code",
   "execution_count": null,
   "metadata": {},
   "outputs": [],
   "source": [
    "# MITO CODE START (DO NOT EDIT)\n",
    "# SAVED-ANALYSIS-STARTUUID-f8fb8bfb-4c4f-42eb-85fb-1da5245afdd3SAVED-ANALYSIS-END\n",
    "\n",
    "from mitosheet import *\n",
    "\n",
    "# Step 1\n",
    "\n",
    "df1['B'] = 1\n",
    "\n",
    "# Step 2\n",
    "\n",
    "# Pivot the data\n",
    "pivot_table = df1.pivot_table(\n",
    "    index=['Name'],\n",
    "    values=['Height'],\n",
    "    aggfunc={'Height': 'sum'}\n",
    ")\n",
    "\n",
    "# Reset the column name and the indexes\n",
    "df2 = pivot_table.rename_axis(None, axis=1).reset_index()\n",
    "  \n",
    "# MITO CODE END (DO NOT EDIT)"
   ]
  },
  {
   "cell_type": "code",
   "execution_count": null,
   "metadata": {},
   "outputs": [],
   "source": []
  },
  {
   "cell_type": "code",
   "execution_count": null,
   "metadata": {},
   "outputs": [],
   "source": []
  },
  {
   "cell_type": "code",
   "execution_count": null,
   "metadata": {},
   "outputs": [],
   "source": []
  }
 ],
 "metadata": {
  "kernelspec": {
   "display_name": "Python 3",
   "language": "python",
   "name": "python3"
  },
  "language_info": {
   "codemirror_mode": {
    "name": "ipython",
    "version": 3
   },
   "file_extension": ".py",
   "mimetype": "text/x-python",
   "name": "python",
   "nbconvert_exporter": "python",
   "pygments_lexer": "ipython3",
   "version": "3.8.5"
  },
  "widgets": {
   "application/vnd.jupyter.widget-state+json": {
    "state": {
     "6c3a3b100edb435f90484713c448603d": {
      "model_module": "mitosheet",
      "model_module_version": "^0.1.54",
      "model_name": "ExampleModel",
      "state": {
       "_model_module_version": "^0.1.54",
       "_view_module_version": "^0.1.54",
       "analysis_name": "UUID-ad8f17dd-f7fe-42c5-a9fd-c90d4be1f212",
       "code_json": "{\"imports\": \"from mitosheet import *\", \"code\": [\"# Step 1\", \"# Pivot the data\\npivot_table = df1.pivot_table(\\n    index=['Name'],\\n    values=['Height'],\\n    aggfunc={'Height': 'sum'}\\n)\", \"# Reset the column name and the indexes\\ndf2 = pivot_table.rename_axis(None, axis=1).reset_index()\"]}",
       "column_filters_json": "[{\"Name\": {\"operator\": \"And\", \"filters\": []}, \"Height\": {\"operator\": \"And\", \"filters\": []}}, {\"Name\": {\"operator\": \"And\", \"filters\": []}, \"Height\": {\"operator\": \"And\", \"filters\": []}}]",
       "column_spreadsheet_code_json": "[{\"Name\": \"\", \"Height\": \"\"}, {\"Name\": \"\", \"Height\": \"\"}]",
       "column_type_json": "[{\"Name\": \"string\", \"Height\": \"number\"}, {\"Name\": \"string\", \"Height\": \"number\"}]",
       "df_names_json": "{\"df_names\": [\"df1\"]}",
       "df_shape_json": "[{\"rows\": 4, \"cols\": 2}, {\"rows\": 2, \"cols\": 2}]",
       "layout": "IPY_MODEL_6c5f81e7193543cb8d417b4fead692bc",
       "saved_analysis_names_json": "[\"Testing\"]",
       "sheet_json": "[{\"columns\": [\"Name\", \"Height\"], \"index\": [0, 1, 2, 3], \"data\": [[\"Nate\", 4], [\"Nate\", 5], [\"Aaron\", 6], [\"Aaron\", 7]]}, {\"columns\": [\"Name\", \"Height\"], \"index\": [0, 1], \"data\": [[\"Aaron\", 13], [\"Nate\", 9]]}]",
       "user_id": "nate",
       "value": "Hello World"
      }
     },
     "6c5f81e7193543cb8d417b4fead692bc": {
      "model_module": "@jupyter-widgets/base",
      "model_module_version": "1.2.0",
      "model_name": "LayoutModel",
      "state": {}
     },
     "acdf22cec0e749569bae3d43971cc480": {
      "model_module": "@jupyter-widgets/base",
      "model_module_version": "1.2.0",
      "model_name": "LayoutModel",
      "state": {}
     },
     "fd55dd92c29a4bcaa21120bbe32f7a19": {
      "model_module": "mitosheet",
      "model_module_version": "^0.1.54",
      "model_name": "ExampleModel",
      "state": {
       "_model_module_version": "^0.1.54",
       "_view_module_version": "^0.1.54",
       "analysis_name": "UUID-f8fb8bfb-4c4f-42eb-85fb-1da5245afdd3",
       "code_json": "{\"imports\": \"from mitosheet import *\", \"code\": [\"# Step 1\", \"df1['B'] = 1\", \"# Step 2\", \"# Pivot the data\\npivot_table = df1.pivot_table(\\n    index=['Name'],\\n    values=['Height'],\\n    aggfunc={'Height': 'sum'}\\n)\", \"# Reset the column name and the indexes\\ndf2 = pivot_table.rename_axis(None, axis=1).reset_index()\"]}",
       "column_filters_json": "[{\"Name\": {\"operator\": \"And\", \"filters\": []}, \"Height\": {\"operator\": \"And\", \"filters\": []}, \"B\": {\"operator\": \"And\", \"filters\": []}}, {\"Name\": {\"operator\": \"And\", \"filters\": []}, \"Height\": {\"operator\": \"And\", \"filters\": []}}]",
       "column_spreadsheet_code_json": "[{\"Name\": \"\", \"Height\": \"\", \"B\": \"=1\"}, {\"Name\": \"\", \"Height\": \"\"}]",
       "column_type_json": "[{\"Name\": \"string\", \"Height\": \"number\", \"B\": \"number\"}, {\"Name\": \"string\", \"Height\": \"number\"}]",
       "df_names_json": "{\"df_names\": [\"df1\"]}",
       "df_shape_json": "[{\"rows\": 4, \"cols\": 3}, {\"rows\": 2, \"cols\": 2}]",
       "layout": "IPY_MODEL_acdf22cec0e749569bae3d43971cc480",
       "saved_analysis_names_json": "[\"Testing\"]",
       "sheet_json": "[{\"columns\": [\"Name\", \"Height\", \"B\"], \"index\": [0, 1, 2, 3], \"data\": [[\"Nate\", 4, 1], [\"Nate\", 5, 1], [\"Aaron\", 6, 1], [\"Aaron\", 7, 1]]}, {\"columns\": [\"Name\", \"Height\"], \"index\": [0, 1], \"data\": [[\"Aaron\", 13], [\"Nate\", 9]]}]",
       "user_id": "nate",
       "value": "Hello World"
      }
     }
    },
    "version_major": 2,
    "version_minor": 0
   }
  }
 },
 "nbformat": 4,
 "nbformat_minor": 4
}
