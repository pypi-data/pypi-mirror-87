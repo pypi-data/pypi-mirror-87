{
 "cells": [
  {
   "cell_type": "markdown",
   "metadata": {
    "collapsed": true
   },
   "source": [
    "# PyShEx command line usage \n",
    "## Installation\n",
    "We are assuming that you have already done one of:\n",
    "* `pip install pyshex`  \n",
    "-- or --\n",
    "* `pipenv install pyshex`\n",
    "\n",
    "Within a jupyter environment"
   ]
  },
  {
   "cell_type": "code",
   "execution_count": 1,
   "metadata": {},
   "outputs": [],
   "source": [
    "from pyshex.shex_evaluator import evaluate_cli as shexeval, PrefixLibrary"
   ]
  },
  {
   "cell_type": "code",
   "execution_count": 2,
   "metadata": {},
   "outputs": [
    {
     "name": "stdout",
     "output_type": "stream",
     "text": [
      "usage: shexeval [-h] [-f FORMAT] [-s START] [-ut] [-sp STARTPREDICATE]\n",
      "                [-fn FOCUS] [-A] [-d] [-ss] [-cf] [-sq SPARQL] [-se]\n",
      "                [--stopafter STOPAFTER] [-ps] [-pr] [-gn GRAPHNAME] [-pb]\n",
      "                [--useragent USERAGENT]\n",
      "                rdf shex\n",
      "\n",
      "positional arguments:\n",
      "  rdf                   Input RDF file or SPARQL endpoint if slurper or sparql\n",
      "                        options\n",
      "  shex                  ShEx specification\n",
      "\n",
      "optional arguments:\n",
      "  -h, --help            show this help message and exit\n",
      "  -f FORMAT, --format FORMAT\n",
      "                        Input RDF Format\n",
      "  -s START, --start START\n",
      "                        Start shape. If absent use ShEx start node.\n",
      "  -ut, --usetype        Start shape is rdf:type of focus\n",
      "  -sp STARTPREDICATE, --startpredicate STARTPREDICATE\n",
      "                        Start shape is object of this predicate\n",
      "  -fn FOCUS, --focus FOCUS\n",
      "                        RDF focus node\n",
      "  -A, --allsubjects     Evaluate all non-bnode subjects in the graph\n",
      "  -d, --debug           Add debug output\n",
      "  -ss, --slurper        Use SPARQL slurper graph\n",
      "  -cf, --flattener      Use RDF Collections flattener graph\n",
      "  -sq SPARQL, --sparql SPARQL\n",
      "                        SPARQL query to generate focus nodes\n",
      "  -se, --stoponerror    Stop on an error\n",
      "  --stopafter STOPAFTER\n",
      "                        Stop after N nodes\n",
      "  -ps, --printsparql    Print SPARQL queries as they are executed\n",
      "  -pr, --printsparqlresults\n",
      "                        Print SPARQL query and results\n",
      "  -gn GRAPHNAME, --graphname GRAPHNAME\n",
      "                        Specific SPARQL graph to query - use '' for any named\n",
      "                        graph\n",
      "  -pb, --persistbnodes  Treat BNodes as persistent in SPARQL endpoint\n",
      "  --useragent USERAGENT\n",
      "                        Use this user agent in the SPARQL Queries (Default:\n",
      "                        \"PyShEx/0.7.14 (https://github.com/hsolbrig/PyShEx;\n",
      "                        solbrig@jhu.edu)\")\n"
     ]
    },
    {
     "ename": "SystemExit",
     "evalue": "0",
     "output_type": "error",
     "traceback": [
      "An exception has occurred, use %tb to see the full traceback.\n",
      "\u001b[0;31mSystemExit\u001b[0m\u001b[0;31m:\u001b[0m 0\n"
     ]
    },
    {
     "name": "stderr",
     "output_type": "stream",
     "text": [
      "/Users/solbrig/.local/share/virtualenvs/pyshex-asKIUj5-/lib/python3.7/site-packages/IPython/core/interactiveshell.py:3334: UserWarning: To exit: use 'exit', 'quit', or Ctrl-D.\n",
      "  warn(\"To exit: use 'exit', 'quit', or Ctrl-D.\", stacklevel=1)\n"
     ]
    }
   ],
   "source": [
    "shexeval(\"-h\", prog=\"shexeval\")"
   ]
  },
  {
   "cell_type": "markdown",
   "metadata": {},
   "source": [
    "## Validate FHIR instance\n",
    "###  f205-egfr passes"
   ]
  },
  {
   "cell_type": "code",
   "execution_count": 3,
   "metadata": {},
   "outputs": [
    {
     "data": {
      "text/plain": [
       "0"
      ]
     },
     "execution_count": 3,
     "metadata": {},
     "output_type": "execute_result"
    }
   ],
   "source": [
    "shexeval(\"http://build.fhir.org/observation-example-f205-egfr.ttl \"\n",
    "         \"http://build.fhir.org/observation.shex \"\n",
    "         \"-fn http://hl7.org/fhir/Observation/f205\")"
   ]
  },
  {
   "cell_type": "markdown",
   "metadata": {},
   "source": [
    "### haplotype2 fails because  `fhir.Extension.url is a value and ShEx expects a direct URI`"
   ]
  },
  {
   "cell_type": "code",
   "execution_count": 4,
   "metadata": {},
   "outputs": [
    {
     "data": {
      "text/plain": [
       "0"
      ]
     },
     "execution_count": 4,
     "metadata": {},
     "output_type": "execute_result"
    }
   ],
   "source": [
    "shexeval(\"http://build.fhir.org/observation-example-haplotype2.ttl \"\n",
    "         \"http://build.fhir.org/observation.shex \"\n",
    "         \"-fn http://hl7.org/fhir/Observation/example-haplotype2\")"
   ]
  },
  {
   "cell_type": "markdown",
   "metadata": {},
   "source": [
    "### Debug Biolink model against NCATS Red knowledge graph\n",
    "The following example selects every item of type Protein and validates it against the biolink-model shex definition.\n",
    "Parameters:\n",
    "* http://graphdb.dumontierlab.com/repositories/ncats-red-kg - SPARQL endpoing\n",
    "* https://raw.githubusercontent.com/biolink/biolink-model/master/shex/biolink-modelnc.shex - ShEx \n",
    "* -ss      Use SparqlSlurper\n",
    "* -gn ''   Don't slurp the default graph (if there is a name in the quotes, restrict it to that graph)\n",
    "* -pr      Print Slurper query results\n",
    "* -ps      Print Slurper queries\n",
    "* -ut      The RDF types of the subjects are the start nodes in the ShEx\n",
    "* -se      Stop on the first error\n",
    "* -sq 'select ?item where{?item a <http://w3id.org/biolink/vocab/Protein>}'  - the initial SPARQL query"
   ]
  },
  {
   "cell_type": "code",
   "execution_count": 5,
   "metadata": {},
   "outputs": [
    {
     "name": "stdout",
     "output_type": "stream",
     "text": [
      "SPARQL:\n",
      "select ?item where{?item a <http://w3id.org/biolink/vocab/Protein>}\n",
      "\thttp://identifiers.org/uniprot/P00734\n",
      "\thttp://identifiers.org/uniprot/P00533\n",
      "\thttp://identifiers.org/uniprot/O75015\n",
      "\thttp://identifiers.org/uniprot/P00736\n",
      "\thttp://identifiers.org/uniprot/P02745\n",
      "\thttp://identifiers.org/uniprot/P02746\n",
      "\thttp://identifiers.org/uniprot/P02747\n",
      "\thttp://identifiers.org/uniprot/P08637\n",
      "\thttp://identifiers.org/uniprot/P09871\n",
      "\thttp://identifiers.org/uniprot/P12314\n",
      "\n",
      "\t     ...\n",
      "\n",
      "\n",
      "SPARQL: (SELECT ?s ?p ?o {graph ?g {<http://identifiers.org/uniprot/P00734> <http://www.w3.org/1999/02/22-rdf-syntax-ns#type> ?o}}) (0.32 secs) - 4 triples\n",
      "RESULTS:\n",
      "\t<http://identifiers.org/uniprot/P00734> a <http://w3id.org/biolink/vocab/Protein> .\n",
      "SPARQL: (SELECT ?s ?p ?o {graph ?g {<http://identifiers.org/uniprot/P00734> ?p ?o}}) (0.31 secs) - 38 triples\n",
      "RESULTS:\n",
      "\t<http://identifiers.org/uniprot/P00734> a ns1:Protein ;\n",
      "\t    ns2:identifier <http://identifiers.org/uniprot/P00734> ;\n",
      "\t    ns1:id \"http://identifiers.org/uniprot/P00734\" ;\n",
      "\t    ns1:name \"10xCbxE-F2(25-622)\",\n",
      "\t        \"10xCbxE-F2(44-327)\",\n",
      "\t        \"10xCbxE-F2(44-622)\",\n",
      "\t        \"F2(25-622)\",\n",
      "\t        \"prothrombin (factor II) propeptide\",\n",
      "\t        \"thrombin heavy chain\",\n",
      "\t        \"thrombin light chain\" ;\n",
      "\t    ns1:part_of <http://identifiers.org/wikipathways/WP1818_r101320>,\n",
      "\t        <http://identifiers.org/wikipathways/WP1884_r101399>,\n",
      "\t        <http://identifiers.org/wikipathways/WP1929_r101361>,\n",
      "\t        <http://identifiers.org/wikipathways/WP2762_r101409>,\n",
      "\t        <http://identifiers.org/wikipathways/WP4419_r101720>,\n",
      "\t        <http://rdf.wikipathways.org/Pathway/WP1818_r101320/Complex/a6d12>,\n",
      "\t        <http://rdf.wikipathways.org/Pathway/WP1818_r101320/Complex/b607a>,\n",
      "\t        <http://rdf.wikipathways.org/Pathway/WP1818_r101320/Complex/b9727>,\n",
      "\t        <http://rdf.wikipathways.org/Pathway/WP1818_r101320/Complex/d6bb0>,\n",
      "\t        <http://rdf.wikipathways.org/Pathway/WP1818_r101320/Complex/da774>,\n",
      "\t        <http://rdf.wikipathways.org/Pathway/WP1818_r101320/Complex/e0f44>,\n",
      "\t        <http://rdf.wikipathways.org/Pathway/WP1818_r101320/Complex/e7688>,\n",
      "\t        <http://rdf.wikipathways.org/Pathway/WP1818_r101320/Complex/eddd5>,\n",
      "\t        <http://rdf.wikipathways.org/Pathway/WP1818_r101320/Complex/f0c44>,\n",
      "\t        <http://rdf.wikipathways.org/Pathway/WP1818_r101320/Complex/f7a7d>,\n",
      "\t        <http://rdf.wikipathways.org/Pathway/WP1818_r101320/WP/Interaction/ccf28>,\n",
      "\t        <http://rdf.wikipathways.org/Pathway/WP1818_r101320/WP/Interaction/f8e40>,\n",
      "\t        <http://rdf.wikipathways.org/Pathway/WP1884_r101399/Complex/a8341>,\n",
      "\t        <http://rdf.wikipathways.org/Pathway/WP1884_r101399/Complex/e1e8e>,\n",
      "\t        <http://rdf.wikipathways.org/Pathway/WP1929_r101361/Complex/eb678>,\n",
      "\t        <http://rdf.wikipathways.org/Pathway/WP2762_r101409/WP/Interaction/b538d>,\n",
      "\t        <http://rdf.wikipathways.org/Pathway/WP2762_r101409/WP/Interaction/da6fc>,\n",
      "\t        <http://rdf.wikipathways.org/Pathway/WP2762_r101409/WP/Interaction/fc444>,\n",
      "\t        <http://rdf.wikipathways.org/Pathway/WP4419_r101720/Complex/d0cd7>,\n",
      "\t        <http://rdf.wikipathways.org/Pathway/WP4419_r101720/Complex/f1433> .\n",
      "Errors:\n",
      "  Focus: http://identifiers.org/uniprot/P00734\n",
      "  Start: http://w3id.org/biolink/vocab/Protein\n",
      "  Reason:   Shape: http://w3id.org/biolink/vocab/Protein not found in Schema\n"
     ]
    },
    {
     "data": {
      "text/plain": [
       "1"
      ]
     },
     "execution_count": 5,
     "metadata": {},
     "output_type": "execute_result"
    }
   ],
   "source": [
    "shexeval([\"http://graphdb.dumontierlab.com/repositories/ncats-red-kg\",\n",
    "          \"https://github.com/biolink/biolink-model/raw/master/biolink-modeln.shexj\",\n",
    "          \"-ss\", \"-gn\", \"\", \"-pr\", \"-ps\", \"-ut\", \"-se\", \"-sq\",\n",
    "          \"select ?item where{?item a <http://w3id.org/biolink/vocab/Protein>}\"])"
   ]
  },
  {
   "cell_type": "code",
   "execution_count": null,
   "metadata": {},
   "outputs": [],
   "source": []
  }
 ],
 "metadata": {
  "kernelspec": {
   "display_name": "Python 3",
   "language": "python",
   "name": "python3"
  },
  "language_info": {
   "codemirror_mode": {
    "name": "ipython",
    "version": 3
   },
   "file_extension": ".py",
   "mimetype": "text/x-python",
   "name": "python",
   "nbconvert_exporter": "python",
   "pygments_lexer": "ipython3",
   "version": "3.7.5"
  }
 },
 "nbformat": 4,
 "nbformat_minor": 1
}
