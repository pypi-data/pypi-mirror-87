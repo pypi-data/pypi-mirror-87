{
 "cells": [
  {
   "cell_type": "markdown",
   "metadata": {},
   "source": [
    "# HH model in ANNarchy"
   ]
  },
  {
   "cell_type": "markdown",
   "metadata": {},
   "source": [
    "When I first encounter [ANNarchy](https://annarchy.readthedocs.io), I am \n",
    "exciting and feel happy, because ANNarchy is much more easy-to-use than [Brian2](https://brian2.readthedocs.io/).\n",
    "However, one day I want to implement a complex Hodgkin-Huxley-like conductance neuron model,\n",
    "I tried my best and cannot get what I want. \n",
    "\n",
    "I gradually knewn this is the bug of ANNarchy for Hodgkin-Huxley implementation. \n",
    "And more sadly, although I knewn it is wrong, I cannot fix it. All the things seem to be right,\n",
    "but I don't what's wrong. \n",
    "\n",
    "In the next, I will show the bugs of `Hodgkin-Huxley model` provided by ANNarchy official \n",
    "[examples](https://annarchy.readthedocs.io/en/latest/example/HodgkinHuxley.html)."
   ]
  },
  {
   "cell_type": "markdown",
   "metadata": {},
   "source": [
    "First, let's import the library, and define the visualzation functions."
   ]
  },
  {
   "cell_type": "code",
   "execution_count": 1,
   "metadata": {},
   "outputs": [
    {
     "name": "stdout",
     "output_type": "stream",
     "text": [
      "ANNarchy 4.6 (4.6.8.1) on linux (posix). \n"
     ]
    }
   ],
   "source": [
    "import sys\n",
    "from ANNarchy import *\n",
    "import matplotlib.pyplot as plt"
   ]
  },
  {
   "cell_type": "code",
   "execution_count": 2,
   "metadata": {},
   "outputs": [],
   "source": [
    "def show_mon(ts, mon):\n",
    "    data = mon.get()\n",
    "    plt.subplot(2, 2, 1)\n",
    "    plt.plot(ts, data['V'][:, 0])\n",
    "    plt.title('V')\n",
    "    plt.subplot(2, 2, 2)\n",
    "    plt.plot(ts, data['n'][:, 0])\n",
    "    plt.title('n')\n",
    "    plt.ylim((0.0, 1.0))\n",
    "    plt.subplot(2, 2, 3)\n",
    "    plt.plot(ts, data['m'][:, 0])\n",
    "    plt.title('m')\n",
    "    plt.ylim((0.0, 1.0))\n",
    "    plt.subplot(2, 2, 4)\n",
    "    plt.plot(ts, data['h'][:, 0])\n",
    "    plt.title('h')\n",
    "    plt.ylim((0.0, 1.0))\n",
    "    plt.show()"
   ]
  },
  {
   "cell_type": "markdown",
   "metadata": {
    "lines_to_next_cell": 2
   },
   "source": [
    "Then, let's define the running function of the model."
   ]
  },
  {
   "cell_type": "code",
   "execution_count": 3,
   "metadata": {},
   "outputs": [],
   "source": [
    "def run_model(Iext):\n",
    "    dt = 0.01\n",
    "    setup(dt=dt)\n",
    "\n",
    "    HH = Neuron(\n",
    "        parameters=\"\"\"\n",
    "        C = 1.0 # Capacitance\n",
    "        VL = -59.387 # Leak voltage\n",
    "        VK = -82.0 # Potassium reversal voltage\n",
    "        VNa = 45.0 # Sodium reveral voltage\n",
    "        gK = 36.0 # Maximal Potassium conductance\n",
    "        gNa = 120.0 # Maximal Sodium conductance\n",
    "        gL = 0.3 # Leak conductance\n",
    "        vt = 30.0 # Threshold for spike emission\n",
    "        I = 0.0 # External current\n",
    "        \"\"\",\n",
    "\n",
    "        equations=\"\"\"\n",
    "        # Previous membrane potential\n",
    "        prev_V = V\n",
    "\n",
    "        # Voltage-dependency parameters\n",
    "        an = 0.01 * (V + 60.0) / (1.0 - exp(-0.1* (V + 60.0) ) )\n",
    "        am = 0.1 * (V + 45.0) / (1.0 - exp (- 0.1 * ( V + 45.0 )))\n",
    "        ah = 0.07 * exp(- 0.05 * ( V + 70.0 ))\n",
    "\n",
    "        bn = 0.125 * exp (- 0.0125 * (V + 70.0))\n",
    "        bm = 4.0 *  exp (- (V + 70.0) / 80.0)\n",
    "        bh = 1.0/(1.0 + exp (- 0.1 * ( V + 40.0 )) )\n",
    "\n",
    "        # Alpha/Beta functions\n",
    "        dn/dt = an * (1.0 - n) - bn * n : init = 0.3, midpoint\n",
    "        dm/dt = am * (1.0 - m) - bm * m : init = 0.0, midpoint\n",
    "        dh/dt = ah * (1.0 - h) - bh * h : init = 0.6, midpoint\n",
    "\n",
    "        # Membrane equation\n",
    "        C * dV/dt = gL * (VL - V ) + gK * n**4 * (VK - V) + gNa * m**3 * h * (VNa - V) + I : midpoint\n",
    "\n",
    "        \"\"\",\n",
    "\n",
    "        spike=\"\"\"\n",
    "        # Spike is emitted when the membrane potential crosses the threshold from below\n",
    "        (V > vt) and (prev_V <= vt)    \n",
    "        \"\"\",\n",
    "\n",
    "        reset=\"\"\"\n",
    "        # Nothing to do, it is built-in...\n",
    "        \"\"\"\n",
    "    )\n",
    "\n",
    "    pop = Population(neuron=HH, geometry=1)\n",
    "    pop.V = -50.0\n",
    "\n",
    "    compile(clean=True)\n",
    "\n",
    "    m = Monitor(pop, ['spike', 'V', 'n', 'm', 'h'])\n",
    "\n",
    "    duration = sum([d for _, d in Iext])\n",
    "\n",
    "    for I, dur in Iext:\n",
    "        pop.I = I\n",
    "        simulate(dur)\n",
    "\n",
    "    ts = np.arange(0, duration, dt)\n",
    "    show_mon(ts, m)"
   ]
  },
  {
   "cell_type": "markdown",
   "metadata": {},
   "source": [
    "The official example provide the external inputs like this:\n",
    "- The first 100 ms, warm up the model;\n",
    "- The next 1 ms, provide the curren `I=200.0`;\n",
    "- Final 100 ms, no external inputs.\n",
    "\n",
    "The results are shown as in the following."
   ]
  },
  {
   "cell_type": "code",
   "execution_count": 4,
   "metadata": {},
   "outputs": [
    {
     "name": "stdout",
     "output_type": "stream",
     "text": [
      "WARNING: unrecognized arguments: ['-f', '/home/chaoming/.local/share/jupyter/runtime/kernel-40129879-e6c5-4d19-ad25-104c13d99d87.json'] \n"
     ]
    },
    {
     "data": {
      "image/png": "[encoded data removed]",
      "text/plain": [
       "<Figure size 432x288 with 4 Axes>"
      ]
     },
     "metadata": {
      "needs_background": "light"
     },
     "output_type": "display_data"
    }
   ],
   "source": [
    "run_model([(0., 100.), (200., 1.), (0., 100.)])"
   ]
  },
  {
   "cell_type": "markdown",
   "metadata": {},
   "source": [
    "However, when we sightly change the external inputs. For example, provide\n",
    "the current `I=200.0` with the length of `101 ms`. We would expect that the model\n",
    "will produce repetive firing. However, the actual running results"
   ]
  },
  {
   "cell_type": "code",
   "execution_count": 4,
   "metadata": {},
   "outputs": [
    {
     "name": "stdout",
     "output_type": "stream",
     "text": [
      "WARNING: unrecognized arguments: ['-f', '/home/chaoming/.local/share/jupyter/runtime/kernel-40129879-e6c5-4d19-ad25-104c13d99d87.json'] \n"
     ]
    },
    {
     "data": {
      "image/png": "[encoded data removed]",
      "text/plain": [
       "<Figure size 432x288 with 4 Axes>"
      ]
     },
     "metadata": {
      "needs_background": "light"
     },
     "output_type": "display_data"
    }
   ],
   "source": [
    "run_model([(0., 100.), (200., 101.)])"
   ]
  },
  {
   "cell_type": "markdown",
   "metadata": {},
   "source": [
    "So, how can I fix the wrong scripts? \n",
    "\n",
    "All the things seems right, what is wrong?\n",
    "\n",
    "How can I/you do?"
   ]
  }
 ],
 "metadata": {
  "hide_input": false,
  "jupytext": {
   "cell_metadata_filter": "-all",
   "notebook_metadata_filter": "-all"
  },
  "kernelspec": {
   "display_name": "py37",
   "language": "python",
   "name": "py37"
  },
  "language_info": {
   "codemirror_mode": {
    "name": "ipython",
    "version": 3
   },
   "file_extension": ".py",
   "mimetype": "text/x-python",
   "name": "python",
   "nbconvert_exporter": "python",
   "pygments_lexer": "ipython3",
   "version": "3.7.7"
  },
  "toc": {
   "base_numbering": 1,
   "nav_menu": {},
   "number_sections": false,
   "sideBar": true,
   "skip_h1_title": false,
   "title_cell": "Table of Contents",
   "title_sidebar": "Contents",
   "toc_cell": false,
   "toc_position": {},
   "toc_section_display": true,
   "toc_window_display": true
  }
 },
 "nbformat": 4,
 "nbformat_minor": 4
}
