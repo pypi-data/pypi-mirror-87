{
 "cells": [
  {
   "cell_type": "code",
   "execution_count": null,
   "metadata": {},
   "outputs": [],
   "source": [
    "\"\"\"\n",
    "This file should tests all the filter conditions on\n",
    "\n",
    "Instructions:\n",
    "- Run this cell. \n",
    "- Add three columns and set them equal to A, B, and C respectively (put them in parens, to avoid the suggestion box bug).\n",
    "- Test filter D to each of the possible conditions, choosing random values.\n",
    "- Test filter E to each of the possible conditions, choosing random values.\n",
    "- Test filter F to each of the possible conditions, choosing random values.\n",
    "- Check that the code is being generated and updated as you cycle through conditions.\n",
    "\"\"\"\n",
    "import mitosheet\n",
    "import pandas as pd\n",
    "df1 = pd.DataFrame(data={'A': [\"123\", \"1\", \"2\", \"3\", \"4\", \"5\", \"5\", \"6\", \"7\", \"8\", \"9\"], \n",
    "                        'B': [123, 1, 2, 3, 4, 5, 5, 6, 7, 8, 9],\n",
    "                        'C': [123, \"1\", \"2\", \"3\", 4, 5, 5, 6, 7, 8, 9]})\n",
    "\n",
    "mitosheet.sheet(df1)"
   ]
  }
 ],
 "metadata": {
  "kernelspec": {
   "display_name": "Python 3",
   "language": "python",
   "name": "python3"
  },
  "language_info": {
   "codemirror_mode": {
    "name": "ipython",
    "version": 3
   },
   "file_extension": ".py",
   "mimetype": "text/x-python",
   "name": "python",
   "nbconvert_exporter": "python",
   "pygments_lexer": "ipython3",
   "version": "3.8.5"
  },
  "widgets": {
   "application/vnd.jupyter.widget-state+json": {
    "state": {
     "4193941a6d5946f1a1091b08efef9724": {
      "model_module": "mitosheet",
      "model_module_version": "^0.1.50",
      "model_name": "ExampleModel",
      "state": {
       "_model_module_version": "^0.1.50",
       "_view_module_version": "^0.1.50",
       "analysis_name": "UUID-d6c70cae-82d9-4ccb-a84b-f644d622ab07",
       "code_json": "{\"imports\": \"from mitosheet import *\", \"code\": [\"# Step 1\", \"# Pivot the data\\npivot_table = df1.pivot_table(\\n    index=['A'],\\n    columns=['B'],\\n    values=['C'],\\n    aggfunc={'C': 'sum'}\\n)\", \"# Flatten the column headers\\npivot_table.columns = [\\n    '_'.join([str(c) for c in col]).strip() if isinstance(col, tuple) else col\\n    for col in pivot_table.columns.values\\n]\", \"# Reset the column name and the indexes\\ndf2 = pivot_table.rename_axis(None, axis=1).reset_index()\"]}",
       "column_filters_json": "[{\"A\": {\"operator\": \"And\", \"filters\": []}, \"B\": {\"operator\": \"And\", \"filters\": []}, \"C\": {\"operator\": \"And\", \"filters\": []}}, {\"A\": {\"operator\": \"And\", \"filters\": []}, \"C_1\": {\"operator\": \"And\", \"filters\": []}, \"C_2\": {\"operator\": \"And\", \"filters\": []}, \"C_3\": {\"operator\": \"And\", \"filters\": []}, \"C_4\": {\"operator\": \"And\", \"filters\": []}, \"C_5\": {\"operator\": \"And\", \"filters\": []}, \"C_6\": {\"operator\": \"And\", \"filters\": []}, \"C_7\": {\"operator\": \"And\", \"filters\": []}, \"C_8\": {\"operator\": \"And\", \"filters\": []}, \"C_9\": {\"operator\": \"And\", \"filters\": []}, \"C_123\": {\"operator\": \"And\", \"filters\": []}}]",
       "column_spreadsheet_code_json": "[{\"A\": \"\", \"B\": \"\", \"C\": \"\"}, {\"A\": \"\", \"C_1\": \"\", \"C_2\": \"\", \"C_3\": \"\", \"C_4\": \"\", \"C_5\": \"\", \"C_6\": \"\", \"C_7\": \"\", \"C_8\": \"\", \"C_9\": \"\", \"C_123\": \"\"}]",
       "column_type_json": "[{\"A\": \"string\", \"B\": \"number\", \"C\": \"string\"}, {\"A\": \"string\", \"C_1\": \"string\", \"C_2\": \"string\", \"C_3\": \"string\", \"C_4\": \"string\", \"C_5\": \"string\", \"C_6\": \"string\", \"C_7\": \"string\", \"C_8\": \"string\", \"C_9\": \"string\", \"C_123\": \"string\"}]",
       "df_names_json": "{\"df_names\": [\"df1\", \"df2\"]}",
       "df_shape_json": "[{\"rows\": 11, \"cols\": 3}, {\"rows\": 10, \"cols\": 11}]",
       "layout": "IPY_MODEL_de682184b56a430e81fc74fbbcf0f341",
       "saved_analysis_names_json": "[\"Test1\"]",
       "sheet_json": "[{\"columns\": [\"A\", \"B\", \"C\"], \"index\": [0, 1, 2, 3, 4, 5, 6, 7, 8, 9, 10], \"data\": [[\"123\", 123, 123], [\"1\", 1, \"1\"], [\"2\", 2, \"2\"], [\"3\", 3, \"3\"], [\"4\", 4, 4], [\"5\", 5, 5], [\"5\", 5, 5], [\"6\", 6, 6], [\"7\", 7, 7], [\"8\", 8, 8], [\"9\", 9, 9]]}, {\"columns\": [\"A\", \"C_1\", \"C_2\", \"C_3\", \"C_4\", \"C_5\", \"C_6\", \"C_7\", \"C_8\", \"C_9\", \"C_123\"], \"index\": [0, 1, 2, 3, 4, 5, 6, 7, 8, 9], \"data\": [[\"1\", \"1\", \"NaN\", \"NaN\", \"NaN\", \"NaN\", \"NaN\", \"NaN\", \"NaN\", \"NaN\", \"NaN\"], [\"123\", \"NaN\", \"NaN\", \"NaN\", \"NaN\", \"NaN\", \"NaN\", \"NaN\", \"NaN\", \"NaN\", 123], [\"2\", \"NaN\", \"2\", \"NaN\", \"NaN\", \"NaN\", \"NaN\", \"NaN\", \"NaN\", \"NaN\", \"NaN\"], [\"3\", \"NaN\", \"NaN\", \"3\", \"NaN\", \"NaN\", \"NaN\", \"NaN\", \"NaN\", \"NaN\", \"NaN\"], [\"4\", \"NaN\", \"NaN\", \"NaN\", 4, \"NaN\", \"NaN\", \"NaN\", \"NaN\", \"NaN\", \"NaN\"], [\"5\", \"NaN\", \"NaN\", \"NaN\", \"NaN\", 10, \"NaN\", \"NaN\", \"NaN\", \"NaN\", \"NaN\"], [\"6\", \"NaN\", \"NaN\", \"NaN\", \"NaN\", \"NaN\", 6, \"NaN\", \"NaN\", \"NaN\", \"NaN\"], [\"7\", \"NaN\", \"NaN\", \"NaN\", \"NaN\", \"NaN\", \"NaN\", 7, \"NaN\", \"NaN\", \"NaN\"], [\"8\", \"NaN\", \"NaN\", \"NaN\", \"NaN\", \"NaN\", \"NaN\", \"NaN\", 8, \"NaN\", \"NaN\"], [\"9\", \"NaN\", \"NaN\", \"NaN\", \"NaN\", \"NaN\", \"NaN\", \"NaN\", \"NaN\", 9, \"NaN\"]]}]",
       "user_id": "nate",
       "value": "Hello World"
      }
     },
     "de682184b56a430e81fc74fbbcf0f341": {
      "model_module": "@jupyter-widgets/base",
      "model_module_version": "1.2.0",
      "model_name": "LayoutModel",
      "state": {}
     }
    },
    "version_major": 2,
    "version_minor": 0
   }
  }
 },
 "nbformat": 4,
 "nbformat_minor": 4
}
