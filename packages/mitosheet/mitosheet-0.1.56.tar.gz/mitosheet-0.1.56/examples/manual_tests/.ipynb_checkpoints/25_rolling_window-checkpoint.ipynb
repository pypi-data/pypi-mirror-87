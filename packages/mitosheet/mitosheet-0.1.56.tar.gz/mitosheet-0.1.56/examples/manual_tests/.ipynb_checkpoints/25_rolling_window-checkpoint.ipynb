{
 "cells": [
  {
   "cell_type": "code",
   "execution_count": 4,
   "metadata": {},
   "outputs": [
    {
     "data": {
      "application/vnd.jupyter.widget-view+json": {
       "model_id": "5d49dd1f55dd4f57aa74d2820d48a449",
       "version_major": 2,
       "version_minor": 0
      },
      "text/plain": [
       "MitoWidget(analysis_name='UUID-965e442b-a3fb-4546-9bdc-3eb9b0c735b8', code_json='{\"imports\": \"from mitosheet i…"
      ]
     },
     "metadata": {},
     "output_type": "display_data"
    }
   ],
   "source": [
    "\"\"\"\n",
    "This file tests that rolling window calculations work correctly. \n",
    "\n",
    "1. Run this cell.\n",
    "2. Find how much the score has increased per day.\n",
    "3. Use a formula to tag all the days for which there has been an increase\n",
    "   in the score (from the previous day) of greater than 50. Then filter\n",
    "   to only include the scores on these days.\n",
    "\"\"\"\n",
    "import mitosheet\n",
    "import pandas as pd\n",
    "df = pd.DataFrame({\n",
    "    'day': [1, 2, 3, 4, 5, 6, 7, 8],\n",
    "    'score': [-100, -50, 0, 10, 61, 100, 151, 1000],\n",
    "})\n",
    "mitosheet.sheet(df)"
   ]
  }
 ],
 "metadata": {
  "kernelspec": {
   "display_name": "Python 3",
   "language": "python",
   "name": "python3"
  },
  "language_info": {
   "codemirror_mode": {
    "name": "ipython",
    "version": 3
   },
   "file_extension": ".py",
   "mimetype": "text/x-python",
   "name": "python",
   "nbconvert_exporter": "python",
   "pygments_lexer": "ipython3",
   "version": "3.8.5"
  },
  "widgets": {
   "application/vnd.jupyter.widget-state+json": {
    "state": {
     "06edf07d86644aaf8873d44b5c021ed9": {
      "model_module": "@jupyter-widgets/base",
      "model_module_version": "1.2.0",
      "model_name": "LayoutModel",
      "state": {}
     },
     "253bee65899e48569c51706b8b9dbf18": {
      "model_module": "mitosheet",
      "model_module_version": "^0.1.55",
      "model_name": "ExampleModel",
      "state": {
       "_model_module_version": "^0.1.55",
       "_view_module_version": "^0.1.55",
       "analysis_name": "UUID-33f6a623-5808-412b-bcba-1f33a055da84",
       "code_json": "{\"imports\": \"from mitosheet import *\", \"code\": [\"# Step 1\", \"df['B'] = df['score'] - OFFSET(df['score'], -1)\", \"# Step 2\", \"df['C'] = IF(df['B'] > 50, 1, 0)\", \"# Step 3\", \"df = df[df['C'] == 1]\", \"df = df.reset_index(drop=True)\"]}",
       "column_filters_json": "[{\"day\": {\"operator\": \"And\", \"filters\": []}, \"score\": {\"operator\": \"And\", \"filters\": []}, \"B\": {\"operator\": \"And\", \"filters\": []}, \"C\": {\"operator\": \"And\", \"filters\": [{\"type\": \"number\", \"condition\": \"number_exactly\", \"value\": 1}]}}]",
       "column_spreadsheet_code_json": "[{\"day\": \"\", \"score\": \"\", \"B\": \"=score - OFFSET(score, -1)\", \"C\": \"=if(B > 50, 1, 0) \"}]",
       "column_type_json": "[{\"day\": \"number\", \"score\": \"number\", \"B\": \"number\", \"C\": \"number\"}]",
       "df_names_json": "{\"df_names\": [\"df\"]}",
       "df_shape_json": "[{\"rows\": 3, \"cols\": 4}]",
       "layout": "IPY_MODEL_06edf07d86644aaf8873d44b5c021ed9",
       "saved_analysis_names_json": "[\"Testing\"]",
       "sheet_json": "[{\"columns\": [\"day\", \"score\", \"B\", \"C\"], \"index\": [0, 1, 2], \"data\": [[5, 61, 51.0, 1], [7, 151, 51.0, 1], [8, 1000, 849.0, 1]]}]",
       "user_id": "nate",
       "value": "Hello World"
      }
     },
     "3a228eb9dfa24903a8b3d5b5c6adcbd9": {
      "model_module": "mitosheet",
      "model_module_version": "^0.1.55",
      "model_name": "ExampleModel",
      "state": {
       "_model_module_version": "^0.1.55",
       "_view_module_version": "^0.1.55",
       "analysis_name": "UUID-d9481c25-5a2e-420a-908e-811ab42aa23d",
       "code_json": "{\"imports\": \"from mitosheet import *\", \"code\": [\"# Step 1\", \"df['B'] = df['score'] - OFFSET(df['score'], -1)\", \"# Step 2\", \"df['C'] = IF(df['B'] > 50, 1, 0)\", \"# Step 3\", \"df = df[df['C'] == 1]\", \"df = df.reset_index(drop=True)\"]}",
       "column_filters_json": "[{\"score\": {\"operator\": \"And\", \"filters\": []}, \"B\": {\"operator\": \"And\", \"filters\": []}, \"C\": {\"operator\": \"And\", \"filters\": [{\"type\": \"number\", \"condition\": \"number_exactly\", \"value\": 1}]}}]",
       "column_spreadsheet_code_json": "[{\"score\": \"\", \"B\": \"=score - OFFSET(score, -1)\", \"C\": \"=if(B > 50, 1, 0) \"}]",
       "column_type_json": "[{\"score\": \"number\", \"B\": \"number\", \"C\": \"number\"}]",
       "df_names_json": "{\"df_names\": [\"df\"]}",
       "df_shape_json": "[{\"rows\": 3, \"cols\": 3}]",
       "layout": "IPY_MODEL_9c9f0bc7a6c44510997d134291097744",
       "saved_analysis_names_json": "[\"Testing\"]",
       "sheet_json": "[{\"columns\": [\"score\", \"B\", \"C\"], \"index\": [0, 1, 2], \"data\": [[61, 51.0, 1], [151, 51.0, 1], [1000, 849.0, 1]]}]",
       "user_id": "nate",
       "value": "Hello World"
      }
     },
     "4b1786aea35e438e8d869617a4af7d1b": {
      "model_module": "@jupyter-widgets/base",
      "model_module_version": "1.2.0",
      "model_name": "LayoutModel",
      "state": {}
     },
     "5a428227a929472a931fab27762b21c2": {
      "model_module": "mitosheet",
      "model_module_version": "^0.1.55",
      "model_name": "ExampleModel",
      "state": {
       "_model_module_version": "^0.1.55",
       "_view_module_version": "^0.1.55",
       "analysis_name": "UUID-67793613-fada-4da8-9ffe-d6919a8ada5f",
       "code_json": "{\"imports\": \"from mitosheet import *\", \"code\": [\"# Step 1\", \"df['B'] = df['score'] - OFFSET(df['score'], -1)\", \"# Step 2\", \"df['C'] = IF(df['B'] > 50, 1, 0)\"]}",
       "column_filters_json": "[{\"score\": {\"operator\": \"And\", \"filters\": []}, \"B\": {\"operator\": \"And\", \"filters\": []}, \"C\": {\"operator\": \"And\", \"filters\": []}}]",
       "column_spreadsheet_code_json": "[{\"score\": \"\", \"B\": \"=score - OFFSET(score, -1)\", \"C\": \"=if(B > 50, 1, 0) \"}]",
       "column_type_json": "[{\"score\": \"number\", \"B\": \"number\", \"C\": \"number\"}]",
       "df_names_json": "{\"df_names\": [\"df\"]}",
       "df_shape_json": "[{\"rows\": 8, \"cols\": 3}]",
       "layout": "IPY_MODEL_4b1786aea35e438e8d869617a4af7d1b",
       "saved_analysis_names_json": "[\"Testing\"]",
       "sheet_json": "[{\"columns\": [\"score\", \"B\", \"C\"], \"index\": [0, 1, 2, 3, 4, 5, 6, 7], \"data\": [[-100, \"NaN\", 0], [-50, 50.0, 0], [0, 50.0, 0], [10, 10.0, 0], [61, 51.0, 1], [100, 39.0, 0], [150, 50.0, 0], [1000, 850.0, 1]]}]",
       "user_id": "nate",
       "value": "Hello World"
      }
     },
     "5d49dd1f55dd4f57aa74d2820d48a449": {
      "model_module": "mitosheet",
      "model_module_version": "^0.1.55",
      "model_name": "ExampleModel",
      "state": {
       "_model_module_version": "^0.1.55",
       "_view_module_version": "^0.1.55",
       "analysis_name": "UUID-965e442b-a3fb-4546-9bdc-3eb9b0c735b8",
       "code_json": "{\"imports\": \"from mitosheet import *\", \"code\": []}",
       "column_filters_json": "[{\"day\": {\"operator\": \"And\", \"filters\": []}, \"score\": {\"operator\": \"And\", \"filters\": []}}]",
       "column_spreadsheet_code_json": "[{\"day\": \"\", \"score\": \"\"}]",
       "column_type_json": "[{\"day\": \"number\", \"score\": \"number\"}]",
       "df_names_json": "{\"df_names\": [\"df\"]}",
       "df_shape_json": "[{\"rows\": 8, \"cols\": 2}]",
       "layout": "IPY_MODEL_9238692049d345c988f1396e7ae71ce8",
       "saved_analysis_names_json": "[\"Testing\"]",
       "sheet_json": "[{\"columns\": [\"day\", \"score\"], \"index\": [0, 1, 2, 3, 4, 5, 6, 7], \"data\": [[1, -100], [2, -50], [3, 0], [4, 10], [5, 61], [6, 100], [7, 151], [8, 1000]]}]",
       "user_id": "nate",
       "value": "Hello World"
      }
     },
     "9238692049d345c988f1396e7ae71ce8": {
      "model_module": "@jupyter-widgets/base",
      "model_module_version": "1.2.0",
      "model_name": "LayoutModel",
      "state": {}
     },
     "9c9f0bc7a6c44510997d134291097744": {
      "model_module": "@jupyter-widgets/base",
      "model_module_version": "1.2.0",
      "model_name": "LayoutModel",
      "state": {}
     }
    },
    "version_major": 2,
    "version_minor": 0
   }
  }
 },
 "nbformat": 4,
 "nbformat_minor": 4
}
