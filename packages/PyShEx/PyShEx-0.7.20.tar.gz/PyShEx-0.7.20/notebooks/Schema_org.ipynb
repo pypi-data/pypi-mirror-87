{
 "cells": [
  {
   "cell_type": "code",
   "execution_count": 9,
   "metadata": {
    "pycharm": {
     "is_executing": false
    }
   },
   "outputs": [],
   "source": [
    "!pip install -q PyShEx\n",
    "!pip install -q rdflib"
   ]
  },
  {
   "cell_type": "code",
   "execution_count": 25,
   "metadata": {
    "pycharm": {
     "is_executing": true,
     "name": "#%%\n"
    }
   },
   "outputs": [],
   "source": [
    "from pyshex import ShExEvaluator\n"
   ]
  },
  {
   "cell_type": "markdown",
   "metadata": {},
   "source": [
    "## Basic shex evaluation"
   ]
  },
  {
   "cell_type": "code",
   "execution_count": 26,
   "metadata": {},
   "outputs": [],
   "source": [
    "ds_shex = \"\"\"\n",
    "\n",
    "PREFIX :   <http://example.org/>\n",
    "PREFIX schema: <http://schema.org/>\n",
    "PREFIX techdoc: <http://schema.org/>\n",
    "BASE <http://schema.org/shex>\n",
    "\n",
    "# Basic utilities\n",
    "# Note that we aren't attempting general domain/range checks here: \n",
    "\n",
    "<#BasicUrlSh> ((IRI OR LITERAL) AND CLOSED {}  AND /^(https?|gopher|ftps?):/)\n",
    "\n",
    "<#SchemaText> LITERAL OR xsd:string \n",
    "\n",
    "# assumes we have loaded the subClassOf type hierarchy:\n",
    "<#SubDataset> <#SubDatasetKnownClosure> OR { rdfs:subClassOf @<#SubDataset> }\n",
    "\n",
    "# doesn’t assume we have loaded the subClassOf type hierarchy:\n",
    "<#SubDatasetKnownClosure> [schema:Dataset schema:DataFeed]\n",
    "\n",
    "<#SubWork> [schema:CreativeWork] OR { rdfs:subClassOf @<#SubWork> }\n",
    "\n",
    "#####################\n",
    "\n",
    "# minimal Dataset shape: an identified type with a name and url\n",
    "<#BasicDatasetShape> EXTRA a\n",
    "  {   \n",
    "    a [<http://schema.org/DataSet>];\n",
    "    schema:name @<#SchemaText> +;\n",
    "    schema:url @<#BasicUrlSh> +;\n",
    "\n",
    "    # Anything agreed here by all the more needy shapes below\n",
    "    # ...\n",
    "    schema:sameAs @<#BasicUrlSh> *;\n",
    "    schema:thumbnailUrl @<#BasicUrlSh> *;\n",
    "  }  \n",
    "\n",
    "\"\"\"\n",
    "\n",
    "basic_evaluator = ShExEvaluator(schema=ds_shex, start=\"http://schema.org/shex#BasicDatasetShape\")"
   ]
  },
  {
   "cell_type": "markdown",
   "metadata": {},
   "source": [
    "## A valid bit 'o RDF"
   ]
  },
  {
   "cell_type": "code",
   "execution_count": 27,
   "metadata": {},
   "outputs": [],
   "source": [
    "good_eg_1 = \"\"\"    {\n",
    "      \"@context\":\"https://schema.org/\",\n",
    "      \"@type\":\"http://schema.org/DataSet\",\n",
    "      \"@id\": \"http://example.org/good_ds\",\n",
    "      \"name\":\"NCDC Storm Events Database\",\n",
    "      \"description\":\"Storm Data is provided by the National Weather Service (NWS) and contain statistics on...\",\n",
    "      \"url\":\"https://catalog.data.gov/dataset/ncdc-storm-events-database\",\n",
    "      \"sameAs\":\"https://gis.ncdc.noaa.gov/geoportal/catalog/search/resource/details.page?id=gov.noaa.ncdc:C00510\",\n",
    "      \"identifier\": [\"https://doi.org/10.1000/182\",\n",
    "                     \"https://identifiers.org/ark:/12345/fk1234\"],\n",
    "      \"keywords\":[\n",
    "         \"ATMOSPHERE > ATMOSPHERIC PHENOMENA > CYCLONES\",\n",
    "         \"ATMOSPHERE > ATMOSPHERIC PHENOMENA > DROUGHT\",\n",
    "         \"ATMOSPHERE > ATMOSPHERIC PHENOMENA > FOG\",\n",
    "         \"ATMOSPHERE > ATMOSPHERIC PHENOMENA > FREEZE\"\n",
    "      ],\n",
    "      \"license\" : \"https://creativecommons.org/publicdomain/zero/1.0/\",\n",
    "      \"hasPart\" : [\n",
    "        {\n",
    "          \"@type\": \"Dataset\",\n",
    "          \"name\": \"Sub dataset 01\",\n",
    "          \"description\": \"Informative description of the first subdataset...\",\n",
    "          \"license\" : \"https://creativecommons.org/publicdomain/zero/1.0/\"\n",
    "        },\n",
    "        {\n",
    "          \"@type\": \"Dataset\",\n",
    "          \"name\": \"Sub dataset 02\",\n",
    "          \"description\": \"Informative description of the second subdataset...\",\n",
    "          \"license\" : \"https://creativecommons.org/publicdomain/zero/1.0/\"\n",
    "        }\n",
    "      ],\n",
    "      \"creator\":{\n",
    "         \"@type\":\"Organization\",\n",
    "         \"url\": \"https://www.ncei.noaa.gov/\",\n",
    "         \"name\":\"OC/NOAA/NESDIS/NCEI > National Centers for Environmental Information, NESDIS, NOAA, U.S. Department of Commerce\",\n",
    "         \"contactPoint\":{\n",
    "            \"@type\":\"ContactPoint\",\n",
    "            \"contactType\": \"customer service\",\n",
    "            \"telephone\":\"+1-828-271-4800\",\n",
    "            \"email\":\"ncei.orders@noaa.gov\"\n",
    "         }\n",
    "      },\n",
    "      \"includedInDataCatalog\":{\n",
    "         \"@type\":\"DataCatalog\",\n",
    "         \"name\":\"data.gov\"\n",
    "      },\n",
    "      \"distribution\":[\n",
    "         {\n",
    "            \"@type\":\"DataDownload\",\n",
    "            \"encodingFormat\":\"CSV\",\n",
    "            \"contentUrl\":\"http://www.ncdc.noaa.gov/stormevents/ftp.jsp\"\n",
    "         },\n",
    "         {\n",
    "            \"@type\":\"DataDownload\",\n",
    "            \"encodingFormat\":\"XML\",\n",
    "            \"contentUrl\":\"http://gis.ncdc.noaa.gov/all-records/catalog/search/resource/details.page?id=gov.noaa.ncdc:C00510\"\n",
    "         }\n",
    "      ],\n",
    "      \"temporalCoverage\":\"1950-01-01/2013-12-18\",\n",
    "      \"spatialCoverage\":{\n",
    "         \"@type\":\"Place\",\n",
    "         \"geo\":{\n",
    "            \"@type\":\"GeoShape\",\n",
    "            \"box\":\"18.0 -65.0 72.0 172.0\"\n",
    "         }\n",
    "      }\n",
    "    }\n",
    "    \"\"\""
   ]
  },
  {
   "cell_type": "code",
   "execution_count": 28,
   "metadata": {},
   "outputs": [
    {
     "name": "stdout",
     "output_type": "stream",
     "text": [
      "Success\n"
     ]
    }
   ],
   "source": [
    "results = basic_evaluator.evaluate(good_eg_1, focus=\"http://example.org/good_ds\", rdf_format=\"json-ld\")\n",
    "for r in results:\n",
    "    if not r.result:\n",
    "        print(r.reason)\n",
    "        break\n",
    "else:\n",
    "    print(\"Success\")"
   ]
  },
  {
   "cell_type": "markdown",
   "metadata": {},
   "source": [
    "## A more elaborate example"
   ]
  },
  {
   "cell_type": "code",
   "execution_count": 45,
   "metadata": {},
   "outputs": [],
   "source": [
    "ds_shex_2 = \"\"\"\n",
    "PREFIX :   <http://example.org/>\n",
    "PREFIX schema: <http://schema.org/>\n",
    "PREFIX techdoc: <http://schema.org/>\n",
    "BASE <http://schema.org/shex>\n",
    "\n",
    "<#BasicUrlSh> ((IRI OR LITERAL) AND CLOSED {}  AND /^(https?|gopher|ftps?):/)\n",
    "\n",
    "<#SchemaText> LITERAL OR xsd:string \n",
    "\n",
    "# assumes we have loaded the subClassOf type hierarchy:\n",
    "<#SubDataset> <#SubDatasetKnownClosure> OR { rdfs:subClassOf @<#SubDataset> }\n",
    "\n",
    "# doesn’t assume we have loaded the subClassOf type hierarchy:\n",
    "<#SubDatasetKnownClosure> [schema:Dataset schema:DataFeed]\n",
    "\n",
    "<#SubWork> [schema:CreativeWork] OR { rdfs:subClassOf @<#SubWork> }\n",
    "\n",
    "#####################\n",
    "\n",
    "# minimal Dataset shape: an identified type with a name and url\n",
    "<#BasicDatasetShape> EXTRA a\n",
    "  { &<#BasicDatasetShape_tes> ;\n",
    "    a [<http://schema.org/DataSet>];\n",
    "    schema:name @<#SchemaText> +;\n",
    "    schema:url @<#BasicUrlSh> +;\n",
    "\n",
    "    # Anything agreed here by all the more needy shapes below\n",
    "    # ...\n",
    "    schema:sameAs @<#BasicUrlSh> *;\n",
    "    schema:thumbnailUrl @<#BasicUrlSh> *;\n",
    "  }  \n",
    "\n",
    "<#IdealGoogleDatasetShape> ( { (\n",
    "    $<#BasicDatasetShape_tes> \n",
    "\n",
    "    schema:license (@<#BasicUrlSh> OR { a [schema:CreativeWork] }) + ;\n",
    "\n",
    "    # note the techdoc: comment properties below attach arbitrary info to each constraint:\n",
    "\n",
    "    schema:sameAs @<#BasicUrlSh> + ;\n",
    "\n",
    "\n",
    "    schema:creator { a [schema:Person schema:Organization] } ;\n",
    "    schema:provider { a [schema:Person schema:Organization] } ;\n",
    "    schema:publisher { a [schema:Person schema:Organization] } ;\n",
    "\n",
    "    schema:includedInDataCatalog { a [schema:DataCatalog] ; ( schema:name @<#SchemaText> | schema:url @<#BasicUrlSh>) } ;\n",
    "\n",
    "   schema:citation {\n",
    "     a [schema:CreativeWork] ;\n",
    "     ( schema:name @<#SchemaText> | schema:url @<#BasicUrlSh> )\n",
    "   } OR @<#SchemaText> ;\n",
    "\n",
    "    schema:distribution {\n",
    "      a [schema:DataDownload] ;\n",
    "      schema:encodingFormat @<#SchemaText> ;\n",
    "      schema:contentUrl @<#BasicUrlSh>\n",
    "    } ;\n",
    "\n",
    "\n",
    "   schema:spatialCoverage { a [schema:Place] } ;\n",
    "\n",
    ") } )\n",
    "\"\"\"\n",
    "needy_evaluator = ShExEvaluator(schema=ds_shex_2, start=\"http://schema.org/shex#IdealGoogleDatasetShape\")"
   ]
  },
  {
   "cell_type": "code",
   "execution_count": 46,
   "metadata": {},
   "outputs": [
    {
     "name": "stdout",
     "output_type": "stream",
     "text": [
      "  Testing <http://example.org/good_ds> against shape http://schema.org/shex#IdealGoogleDatasetShape\n",
      "       No matching triples found for predicate techdoc:provider\n"
     ]
    }
   ],
   "source": [
    "results = needy_evaluator.evaluate(good_eg_1, focus=\"http://example.org/good_ds\", rdf_format=\"json-ld\")\n",
    "for r in results:\n",
    "    if not r.result:\n",
    "        print(r.reason)\n",
    "        break\n",
    "else:\n",
    "    print(\"Success\")"
   ]
  },
  {
   "cell_type": "code",
   "execution_count": null,
   "metadata": {},
   "outputs": [],
   "source": []
  }
 ],
 "metadata": {
  "kernelspec": {
   "display_name": "Python 3",
   "language": "python",
   "name": "python3"
  },
  "language_info": {
   "codemirror_mode": {
    "name": "ipython",
    "version": 3
   },
   "file_extension": ".py",
   "mimetype": "text/x-python",
   "name": "python",
   "nbconvert_exporter": "python",
   "pygments_lexer": "ipython3",
   "version": "3.8.1"
  },
  "pycharm": {
   "stem_cell": {
    "cell_type": "raw",
    "metadata": {
     "collapsed": false
    },
    "source": []
   }
  }
 },
 "nbformat": 4,
 "nbformat_minor": 1
}
