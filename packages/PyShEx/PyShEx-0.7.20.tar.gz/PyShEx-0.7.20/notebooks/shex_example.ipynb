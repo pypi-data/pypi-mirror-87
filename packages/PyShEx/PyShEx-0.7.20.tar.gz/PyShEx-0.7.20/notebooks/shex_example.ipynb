{
 "cells": [
  {
   "cell_type": "markdown",
   "metadata": {},
   "source": [
    "This example assumes that PyShEx has been installed in jupyter environment"
   ]
  },
  {
   "cell_type": "code",
   "execution_count": 1,
   "metadata": {},
   "outputs": [
    {
     "name": "stdout",
     "output_type": "stream",
     "text": [
      "CONFORMS\n"
     ]
    }
   ],
   "source": [
    "from pyshex.evaluate import evaluate\n",
    "from rdflib import Graph, Namespace, XSD\n",
    "\n",
    "EX = Namespace(\"http://our.org/example#\")\n",
    "FHIR = Namespace(\"http://hl7.org/fhir/\")\n",
    "\n",
    "shex = f\"\"\"PREFIX : <{FHIR}>\n",
    "PREFIX xsd: <{XSD}>\n",
    "BASE <{EX}>\n",
    "\n",
    "start = @:ObservationShape\n",
    "\n",
    ":ObservationShape {{               # An Observation has:\n",
    "  :status [\"preliminary\" \"final\"]; #   status in this value set\n",
    "  :subject @:PatientShape         #   a subject matching <PatientShape>.\n",
    "}}\n",
    "\n",
    ":PatientShape {{                  # A Patient has:\n",
    " :name xsd:string*;                #   one or more names\n",
    " :birthdate xsd:date?              #   and an optional birthdate.\n",
    "}}\n",
    "\"\"\"\n",
    "\n",
    "ttl = f\"\"\"PREFIX : <{FHIR}>\n",
    "PREFIX xsd: <{XSD}>\n",
    "PREFIX ex: <{EX}>\n",
    "\n",
    "ex:Obs1\n",
    "  :status    \"final\" ;\n",
    "  :subject   ex:Patient2 .\n",
    "\n",
    "ex:Patient2\n",
    "  :name \"Bob\" ;\n",
    "  :birthdate \"1999-12-31\"^^xsd:date .\"\"\"\n",
    "\n",
    "g = Graph()\n",
    "g.parse(data=ttl, format=\"turtle\")\n",
    "\n",
    "rslt, reason = evaluate(g, shex, EX.Obs1)\n",
    "if rslt:\n",
    "    print(\"CONFORMS\")\n",
    "else:\n",
    "    print(f\"{reason if reason else 'DOES NOT CONFORM'}\")\n"
   ]
  },
  {
   "cell_type": "code",
   "execution_count": null,
   "metadata": {},
   "outputs": [],
   "source": []
  }
 ],
 "metadata": {
  "kernelspec": {
   "display_name": "Python 3",
   "language": "python",
   "name": "python3"
  },
  "language_info": {
   "codemirror_mode": {
    "name": "ipython",
    "version": 3
   },
   "file_extension": ".py",
   "mimetype": "text/x-python",
   "name": "python",
   "nbconvert_exporter": "python",
   "pygments_lexer": "ipython3",
   "version": "3.7.5"
  }
 },
 "nbformat": 4,
 "nbformat_minor": 1
}
