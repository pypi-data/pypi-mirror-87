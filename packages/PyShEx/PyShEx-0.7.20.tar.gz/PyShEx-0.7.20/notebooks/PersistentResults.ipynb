{
 "cells": [
  {
   "cell_type": "markdown",
   "metadata": {},
   "source": [
    "# Using the SPARQL Slurper to build graphs\n",
    "The following example uses a Wikidata ShEx definition to construct the minimal conforming graph from Wikidata.  The graph (`permagraph`) is then displayed\n",
    "\n",
    "Details:\n",
    "* -ss     - use the SparqlSlurper\n",
    "* -sq     - a query to find the first 100 items that are instances of wd:Q7397\n",
    "* http://query.wikidata.org/sparql   -- Wikidata SPARQL endpoint\n",
    "* https://raw.githubusercontent.com/shexSpec/schemas/master/Wikidata/DigitalPreservation/SWIB/software.shex - ShEx\n",
    "* --stopafter 1    -- only process one node (testing)\n",
    "* -ps              -- Print SPARQL queries"
   ]
  },
  {
   "cell_type": "code",
   "execution_count": 1,
   "metadata": {},
   "outputs": [],
   "source": [
    "from pyshex.shex_evaluator import evaluate_cli as shexeval\n",
    "from pyshex import shex_evaluator\n",
    "from sparql_slurper import SlurpyGraph"
   ]
  },
  {
   "cell_type": "code",
   "execution_count": 2,
   "metadata": {},
   "outputs": [
    {
     "name": "stdout",
     "output_type": "stream",
     "text": [
      "SPARQL:\n",
      "\n",
      "PREFIX wdt: <http://www.wikidata.org/prop/direct/>\n",
      "PREFIX wd: <http://www.wikidata.org/entity/>\n",
      "\n",
      "SELECT ?item WHERE { ?item (wdt:P31/wdt:P279*) wd:Q7397.} LIMIT 100\n",
      "\n",
      "SPARQL: (SELECT ?s ?p ?o {<http://www.wikidata.org/entity/Q2374> ?p ?o}) (0.72 secs) - 195 triples\n",
      "Errors:\n",
      "  Focus: http://www.wikidata.org/entity/Q2374\n",
      "  Start: #wikidata-software\n",
      "  Reason:   Testing <http://www.wikidata.org/entity/Q2374> against shape #wikidata-software\n",
      "    Triples:\n",
      "      <http://www.wikidata.org/entity/Q2374> p:P178 <http://www.wikidata.org/entity/statement/q2374-04C1F298-5F3D-4220-8714-B0C4587A0282> .\n",
      "      <http://www.wikidata.org/entity/Q2374> p:P178 <http://www.wikidata.org/entity/statement/q2374-66140209-9732-4C37-BFC4-BDB02A5D0803> .\n",
      "      <http://www.wikidata.org/entity/Q2374> p:P178 <http://www.wikidata.org/entity/statement/q2374-E713580E-6144-484C-9A86-42B3D7829ED3> .\n",
      "   3 triples exceeds max {1,1}\n",
      "\n",
      "RESULT Graph:\n"
     ]
    },
    {
     "ename": "AttributeError",
     "evalue": "'NoneType' object has no attribute 'serialize'",
     "output_type": "error",
     "traceback": [
      "\u001b[0;31m---------------------------------------------------------------------------\u001b[0m",
      "\u001b[0;31mAttributeError\u001b[0m                            Traceback (most recent call last)",
      "\u001b[0;32m<ipython-input-2-23a90241c7af>\u001b[0m in \u001b[0;36m<module>\u001b[0;34m\u001b[0m\n\u001b[1;32m     26\u001b[0m \u001b[0mprint\u001b[0m\u001b[0;34m(\u001b[0m\u001b[0;34m)\u001b[0m\u001b[0;34m\u001b[0m\u001b[0;34m\u001b[0m\u001b[0m\n\u001b[1;32m     27\u001b[0m \u001b[0mprint\u001b[0m\u001b[0;34m(\u001b[0m\u001b[0;34m\"RESULT Graph:\"\u001b[0m\u001b[0;34m)\u001b[0m\u001b[0;34m\u001b[0m\u001b[0;34m\u001b[0m\u001b[0m\n\u001b[0;32m---> 28\u001b[0;31m \u001b[0mprint\u001b[0m\u001b[0;34m(\u001b[0m\u001b[0mpermagraph\u001b[0m\u001b[0;34m.\u001b[0m\u001b[0mserialize\u001b[0m\u001b[0;34m(\u001b[0m\u001b[0mformat\u001b[0m\u001b[0;34m=\u001b[0m\u001b[0;34m\"turtle\"\u001b[0m\u001b[0;34m)\u001b[0m\u001b[0;34m.\u001b[0m\u001b[0mdecode\u001b[0m\u001b[0;34m(\u001b[0m\u001b[0;34m)\u001b[0m\u001b[0;34m)\u001b[0m\u001b[0;34m\u001b[0m\u001b[0;34m\u001b[0m\u001b[0m\n\u001b[0m",
      "\u001b[0;31mAttributeError\u001b[0m: 'NoneType' object has no attribute 'serialize'"
     ]
    }
   ],
   "source": [
    "from pyshex.user_agent import SlurpyGraphWithAgent\n",
    "permagraph = None\n",
    "\n",
    "def persistent_slurper(rdf: str) -> SlurpyGraph:\n",
    "    global permagraph\n",
    "    permagraph = SlurpyGraphWithAgent(rdf)\n",
    "    return permagraph\n",
    "\n",
    "shex_evaluator.SlurpyGraph = persistent_slurper\n",
    "\n",
    "sparql_query = \"\"\"\n",
    "PREFIX wdt: <http://www.wikidata.org/prop/direct/>\n",
    "PREFIX wd: <http://www.wikidata.org/entity/>\n",
    "\n",
    "SELECT ?item WHERE { ?item (wdt:P31/wdt:P279*) wd:Q7397.} LIMIT 100\n",
    "\"\"\"\n",
    "\n",
    "\n",
    "x = [\"-ss\",\n",
    "     \"-sq\", sparql_query,\n",
    "     \"http://query.wikidata.org/sparql\",\n",
    "     \"https://raw.githubusercontent.com/shexSpec/schemas/master/Wikidata/DigitalPreservation/SWIB/software.shex\",\n",
    "     \"--stopafter\", \"1\",\n",
    "     \"-ps\"]\n",
    "shexeval(x)\n",
    "print()\n",
    "print(\"RESULT Graph:\")\n",
    "print(permagraph.serialize(format=\"turtle\").decode())\n"
   ]
  },
  {
   "cell_type": "code",
   "execution_count": null,
   "metadata": {},
   "outputs": [],
   "source": []
  }
 ],
 "metadata": {
  "kernelspec": {
   "display_name": "Python 3",
   "language": "python",
   "name": "python3"
  },
  "language_info": {
   "codemirror_mode": {
    "name": "ipython",
    "version": 3
   },
   "file_extension": ".py",
   "mimetype": "text/x-python",
   "name": "python",
   "nbconvert_exporter": "python",
   "pygments_lexer": "ipython3",
   "version": "3.7.5"
  },
  "pycharm": {
   "stem_cell": {
    "cell_type": "raw",
    "metadata": {
     "collapsed": false
    },
    "source": []
   }
  }
 },
 "nbformat": 4,
 "nbformat_minor": 2
}
