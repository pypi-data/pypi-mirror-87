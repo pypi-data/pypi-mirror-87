{
 "cells": [
  {
   "cell_type": "markdown",
   "metadata": {},
   "source": [
    "# Explore the connectivity structure for fast synapse computation"
   ]
  },
  {
   "cell_type": "code",
   "execution_count": null,
   "metadata": {
    "pycharm": {
     "name": "#%%\n"
    }
   },
   "outputs": [],
   "source": [
    "import time\n",
    "import numpy as np\n",
    "import numba as nb\n",
    "\n",
    "import npbrain as nn"
   ]
  },
  {
   "cell_type": "code",
   "execution_count": null,
   "metadata": {
    "pycharm": {
     "name": "#%%\n"
    }
   },
   "outputs": [],
   "source": [
    "def run(f, num=10, *args):\n",
    "    t0 = time.time()\n",
    "    for _ in range(num):\n",
    "        f(*args)\n",
    "    t1 = time.time()\n",
    "    return t1 - t0"
   ]
  },
  {
   "cell_type": "markdown",
   "metadata": {},
   "source": [
    "Let's first generate the connection between two neuron groups."
   ]
  },
  {
   "cell_type": "code",
   "execution_count": null,
   "metadata": {
    "pycharm": {
     "name": "#%%\n"
    }
   },
   "outputs": [],
   "source": [
    "N = pre_num = post_num = 5000\n",
    "pre_indexes, post_indexes, pre_anchors = nn.connect.fixed_prob(N, N, 0.1)\n",
    "conn_mat = np.zeros((N, N))\n",
    "conn_mat[pre_indexes, post_indexes] = 1.\n",
    "\n",
    "pre_spike = np.zeros(N)\n",
    "spike_idx = np.random.randint(0, N, 1000)\n",
    "pre_spike[spike_idx] = 1."
   ]
  },
  {
   "cell_type": "markdown",
   "metadata": {},
   "source": [
    "## Method 1"
   ]
  },
  {
   "cell_type": "markdown",
   "metadata": {},
   "source": [
    "The first method is to use `np.dot` to compute spike numbers for each post-synaptic neuron."
   ]
  },
  {
   "cell_type": "code",
   "execution_count": null,
   "metadata": {
    "pycharm": {
     "name": "#%%\n"
    }
   },
   "outputs": [],
   "source": [
    "def np_syn1(pre_spike, conn_mat):\n",
    "    return np.dot(pre_spike, conn_mat)"
   ]
  },
  {
   "cell_type": "code",
   "execution_count": null,
   "metadata": {
    "pycharm": {
     "name": "#%%\n"
    }
   },
   "outputs": [],
   "source": [
    "@nb.njit\n",
    "def nb_syn1(pre_spike, conn_mat):\n",
    "    return np.dot(pre_spike, conn_mat)"
   ]
  },
  {
   "cell_type": "code",
   "execution_count": null,
   "metadata": {
    "lines_to_end_of_cell_marker": 2,
    "pycharm": {
     "name": "#%%\n"
    }
   },
   "outputs": [],
   "source": [
    "run_num = 1000\n",
    "# time_np_syn1 = run(np_syn1, run_num, pre_spike, conn_mat)\n",
    "# print('np_syn1 : {} s'.format(time_np_syn1))\n",
    "# time_nb_syn1 = run(nb_syn1, run_num, pre_spike, conn_mat)\n",
    "# print('nb_syn1 : {} s'.format(time_nb_syn1))"
   ]
  },
  {
   "cell_type": "markdown",
   "metadata": {},
   "source": [
    "The advantage of this method is that it can use the auto-parallelism of `np.dot` method. \n",
    "However, when the `pre_spike` is highly sparse, or, none of pre-synaptic neuron produces spike,\n",
    "this method will waste too much time to compute useless and trivial results.The complexity of \n",
    "this method is O(`pre_num`) * O(`pre_num`) * O(`post_num`)."
   ]
  },
  {
   "cell_type": "markdown",
   "metadata": {},
   "source": [
    "## Method 2"
   ]
  },
  {
   "cell_type": "markdown",
   "metadata": {},
   "source": [
    "The second method is to use `dict` data structure to accommodate the correspondence between \n",
    "pre-synaptic neurons and post-synaptic neurons. This method is intutive, becanse whenever you\n",
    "want to get the `post-synaptic neuron indeces`, you can directly call `pre2post_dict[pre_idx]`.\n",
    "\n",
    "So, let's first generate the corresponding data structure."
   ]
  },
  {
   "cell_type": "code",
   "execution_count": null,
   "metadata": {
    "pycharm": {
     "name": "#%%\n"
    }
   },
   "outputs": [],
   "source": [
    "def correspondence(num_pre, num_post, i, j):\n",
    "    assert len(i) == len(j)\n",
    "    pre_indexes = {i_: [] for i_ in range(num_pre)}\n",
    "    post_indexes = {j_: [] for j_ in range(num_post)}\n",
    "    for index, i_ in enumerate(i):\n",
    "        i_ = i_\n",
    "        j_ = j[index]\n",
    "        pre_indexes[i_].append(index)\n",
    "        post_indexes[j_].append(index)\n",
    "    return pre_indexes, post_indexes"
   ]
  },
  {
   "cell_type": "code",
   "execution_count": null,
   "metadata": {
    "pycharm": {
     "name": "#%%\n"
    }
   },
   "outputs": [],
   "source": [
    "pre2syn, post2syn = correspondence(N, N, pre_indexes, post_indexes)\n",
    "pre2syn = [v for _, v in sorted(pre2syn.items())]\n",
    "post2syn = [v for _, v in sorted(post2syn.items())]"
   ]
  },
  {
   "cell_type": "code",
   "execution_count": null,
   "metadata": {
    "pycharm": {
     "name": "#%%\n"
    }
   },
   "outputs": [],
   "source": [
    "def np_syn2():\n",
    "    syn_val = np.zeros((len(post_indexes),))\n",
    "    for i_ in spike_idx:\n",
    "        syn_val[pre2syn[i_]] = 1.\n",
    "    post_val = np.zeros(N)\n",
    "    for i, j_ in enumerate(post2syn):\n",
    "        post_val[i] = np.sum(syn_val[j_])"
   ]
  },
  {
   "cell_type": "code",
   "execution_count": null,
   "metadata": {
    "pycharm": {
     "name": "#%%\n"
    }
   },
   "outputs": [],
   "source": [
    "# time_np_syn2 = run(np_syn2, run_num // 10)\n",
    "# print('np_syn2 : {} s'.format(time_np_syn2))"
   ]
  },
  {
   "cell_type": "markdown",
   "metadata": {},
   "source": [
    "As you can see, this method is higly computation ineffective. More importantly, this method cannot be accelerated by `Numba` technology, for `dict` is not well supported in `Numba`."
   ]
  },
  {
   "cell_type": "markdown",
   "metadata": {},
   "source": [
    "## Method 3"
   ]
  },
  {
   "cell_type": "markdown",
   "metadata": {},
   "source": [
    "The third method is use `tuple` or `list` structure to accommodate the correspondence \n",
    "between pre-synaptic neurons and post-synaptic neurons.\n",
    "\n",
    "For `pre2post` object, the first position `pre2post[0]` retrives the post-synaptic neurons \n",
    "connected with pre-neuron 0.\n",
    "\n",
    "Similarly, `post2pre` object contains the pre-synaptic neuron indices corresponding to the \n",
    "post-synaptic neurons. Get the pre-neurons connectd to post-neuron `x`, you can directly \n",
    "call `post2pre[x]`."
   ]
  },
  {
   "cell_type": "code",
   "execution_count": null,
   "metadata": {
    "pycharm": {
     "name": "#%%\n"
    }
   },
   "outputs": [],
   "source": [
    "pre2post = [np.where(conn_mat[i] > 0.)[0] for i in range(N)]\n",
    "post2pre = [np.where(conn_mat[:, i] > 0.)[0] for i in range(N)]"
   ]
  },
  {
   "cell_type": "code",
   "execution_count": null,
   "metadata": {
    "lines_to_next_cell": 2,
    "pycharm": {
     "name": "#%%\n"
    }
   },
   "outputs": [],
   "source": [
    "def np_syn3(post_num, pre_spike, post2pre):\n",
    "    post_val = np.zeros(post_num)\n",
    "    for i in range(post_num):\n",
    "        post_val[i] = np.sum(pre_spike[post2pre[i]])\n",
    "    return post_val"
   ]
  },
  {
   "cell_type": "code",
   "execution_count": null,
   "metadata": {
    "lines_to_end_of_cell_marker": 2,
    "pycharm": {
     "name": "#%%\n"
    }
   },
   "outputs": [],
   "source": [
    "# time_np_syn3 = run(np_syn3, run_num, post_num, pre_spike, post2pre)\n",
    "# print('np_syn3 : {} s'.format(time_np_syn3))"
   ]
  },
  {
   "cell_type": "markdown",
   "metadata": {},
   "source": [
    "In general terms, this kind of data structure can be highly effective. However, when the user \n",
    "greedily interates `post_num`, too much time will be wasted on the neurons which do not produce \n",
    "spikes. So, this method is not a good choice. "
   ]
  },
  {
   "cell_type": "markdown",
   "metadata": {},
   "source": [
    "## Method 4"
   ]
  },
  {
   "cell_type": "markdown",
   "metadata": {},
   "source": [
    "Instead of grid-search the post-synpatic neurons, we use the pre-synpatic neuron which produce spikes.\n",
    "When one neuron produces a spike, we retrive its connected post-synaptic neurons, and add a spike-induced\n",
    "value to the post-neurons. "
   ]
  },
  {
   "cell_type": "code",
   "execution_count": null,
   "metadata": {
    "pycharm": {
     "name": "#%%\n"
    }
   },
   "outputs": [],
   "source": [
    "def np_syn4(post_num, pre_spike, pre2post):\n",
    "    post_val = np.zeros(post_num)\n",
    "    spike_idx = np.where(pre_spike > 0)[0]\n",
    "    for i in spike_idx:\n",
    "        post_idx = pre2post[i]\n",
    "        post_val[post_idx] += 1\n",
    "    return post_val"
   ]
  },
  {
   "cell_type": "code",
   "execution_count": null,
   "metadata": {
    "pycharm": {
     "name": "#%%\n"
    }
   },
   "outputs": [],
   "source": [
    "time_np_syn4 = run(np_syn4, run_num, post_num, pre_spike, pre2post)\n",
    "print('np_syn4 : {} s'.format(time_np_syn4))"
   ]
  },
  {
   "cell_type": "markdown",
   "metadata": {},
   "source": [
    "As you can see, this method is highly efficient for synapse computation. \n",
    "\n",
    "However, its problem is the data structure of `pre2post` or `post2pre` is hard\n",
    "to be compiled by Numba. As you can see in the follows:"
   ]
  },
  {
   "cell_type": "code",
   "execution_count": null,
   "metadata": {},
   "outputs": [],
   "source": [
    "pre2post_nb = nb.typed.List()\n",
    "for l in pre2post:\n",
    "    if len(l):\n",
    "        pre2post_nb.append(nb.typed.List(l))\n",
    "    else:\n",
    "        pre2post_nb.append(nb.typed.List.empty_list(nb.types.int64))"
   ]
  },
  {
   "cell_type": "code",
   "execution_count": null,
   "metadata": {
    "pycharm": {
     "name": "#%%\n"
    }
   },
   "outputs": [],
   "source": [
    "@nb.njit\n",
    "def nb_syn4(post_num, pre_spike, pre2post):\n",
    "    post_val = np.zeros(post_num)\n",
    "    spike_idx = np.where(pre_spike > 0)[0]\n",
    "    for i in spike_idx:\n",
    "        post_idx = pre2post[i]\n",
    "        for j in post_idx:\n",
    "            post_val[j] += 1\n",
    "    return post_val"
   ]
  },
  {
   "cell_type": "code",
   "execution_count": null,
   "metadata": {},
   "outputs": [],
   "source": [
    "time_nb_syn4 = run(nb_syn4, run_num, post_num, pre_spike, pre2post_nb)\n",
    "print('nb_syn4 : {} s'.format(time_nb_syn4))"
   ]
  },
  {
   "cell_type": "code",
   "execution_count": null,
   "metadata": {},
   "outputs": [],
   "source": [
    "time_nb_syn4 = run(nb_syn4, run_num, post_num, pre_spike, pre2post_nb)\n",
    "print('nb_syn4 again : {} s'.format(time_nb_syn4))"
   ]
  },
  {
   "cell_type": "markdown",
   "metadata": {},
   "source": [
    "## Method 5"
   ]
  },
  {
   "cell_type": "markdown",
   "metadata": {},
   "source": [
    "An alternative way is to use `numpy array` to wrap the pre2post or post2pre correspondence.\n",
    "For example, 1-D array `pre_indexes` presents the connected pre-synaptic neurons, \n",
    "1-D array `post_indexes` denotes the connected post-synaptic neurons. This means\n",
    "`(pre_indexes[x], post_indexes[x])` is a pair of connected neurons. \n",
    "In order to conveniently get post-indices by a pre-synaptic id, we can also contruct a 2-D \n",
    "array `pre_anchors` with the dimension of `(2, num_pre)`. `num_pre` is the number of the \n",
    "pre-synaptic neurons, and `2` is the `start` and the `end` positions in the `post_indexes`. \n",
    "`idx = pre_anchors[x]` extracts the start and end position of `post_indexes`.\n",
    "\n",
    "Let's see our experimental results:"
   ]
  },
  {
   "cell_type": "code",
   "execution_count": null,
   "metadata": {
    "lines_to_end_of_cell_marker": 2,
    "pycharm": {
     "name": "#%%\n"
    }
   },
   "outputs": [],
   "source": [
    "def np_syn5(post_num, pre_spike, post_indexes, pre_anchors):\n",
    "    post_val = np.zeros(post_num)\n",
    "    spike_idx = np.where(pre_spike > 0)[0]\n",
    "    for i_ in spike_idx:\n",
    "        index = pre_anchors[:, i_]\n",
    "        post_idx = post_indexes[index[0]: index[1]]\n",
    "        post_val[post_idx] += 1\n",
    "    return post_val"
   ]
  },
  {
   "cell_type": "markdown",
   "metadata": {
    "lines_to_next_cell": 2
   },
   "source": [
    "time_np_syn5 = run(np_syn5, run_num, post_num, pre_spike, post_indexes, pre_anchors)\n",
    "print('np_syn5 : {} s'.format(time_np_syn5))"
   ]
  },
  {
   "cell_type": "code",
   "execution_count": null,
   "metadata": {
    "lines_to_next_cell": 2
   },
   "outputs": [],
   "source": [
    "def np_syn5_2(post_num, pre_spike, post_indexes, pre_anchors):\n",
    "    post_val = np.zeros(post_num)\n",
    "    spike_idx = np.where(pre_spike > 0)[0]\n",
    "    for i_ in spike_idx:\n",
    "        start, end = pre_anchors[:, i_]\n",
    "        post_idx = post_indexes[start: end]\n",
    "        post_val[post_idx] += 1\n",
    "    return post_val"
   ]
  },
  {
   "cell_type": "markdown",
   "metadata": {
    "lines_to_next_cell": 2
   },
   "source": [
    "time_np_syn5_2 = run(np_syn5_2, run_num, post_num, pre_spike, post_indexes, pre_anchors)\n",
    "print('np_syn5_2 : {} s'.format(time_np_syn5_2))"
   ]
  },
  {
   "cell_type": "code",
   "execution_count": null,
   "metadata": {
    "lines_to_next_cell": 2,
    "pycharm": {
     "name": "#%%\n"
    }
   },
   "outputs": [],
   "source": [
    "@nb.njit\n",
    "def nb_syn5(post_num, pre_spike, post_indexes, pre_anchors):\n",
    "    post_val = np.zeros(post_num)\n",
    "    spike_idx = np.where(pre_spike > 0)[0]\n",
    "    for i_ in spike_idx:\n",
    "        index = pre_anchors[:, i_]\n",
    "        post_idx = post_indexes[index[0]: index[1]]\n",
    "        post_val[post_idx] += 1\n",
    "    return post_val"
   ]
  },
  {
   "cell_type": "code",
   "execution_count": null,
   "metadata": {
    "lines_to_end_of_cell_marker": 2,
    "pycharm": {
     "name": "#%%\n"
    }
   },
   "outputs": [],
   "source": [
    "# time_nb_syn5 = run(nb_syn5, run_num, post_num, pre_spike, post_indexes, pre_anchors)\n",
    "# print('nb_syn5 : {} s'.format(time_nb_syn5))"
   ]
  },
  {
   "cell_type": "markdown",
   "metadata": {},
   "source": [
    "As you can see, the kind of synaptic data sturcture is highly efficient. Most importantly, \n",
    "it can be accelerated by Numba."
   ]
  },
  {
   "cell_type": "markdown",
   "metadata": {},
   "source": [
    "## Systermatic comparison"
   ]
  },
  {
   "cell_type": "markdown",
   "metadata": {},
   "source": [
    "Finnaly, let's synatermically compare the different synaptic data structures under \n",
    "the different number of pre-synaptic spikes."
   ]
  },
  {
   "cell_type": "code",
   "execution_count": null,
   "metadata": {
    "pycharm": {
     "name": "#%%\n"
    }
   },
   "outputs": [],
   "source": [
    "def single_run(num_spike_neuron, pre_num=5000, post_num=5000):\n",
    "    pre_indexes, post_indexes, pre_anchors = nn.conn.fixed_prob(pre_num, post_num, 0.1)\n",
    "    conn_mat = np.zeros((pre_num, post_num))\n",
    "    conn_mat[pre_indexes, post_indexes] = 1.\n",
    "    \n",
    "    pre2post = [np.where(conn_mat[i] > 0.)[0] for i in range(N)]\n",
    "    post2pre = [np.where(conn_mat[:, i] > 0.)[0] for i in range(N)]\n",
    "\n",
    "    pre_spike = np.zeros(pre_num)\n",
    "    spike_idx = list(range(num_spike_neuron))\n",
    "    pre_spike[spike_idx] = 1.\n",
    "    \n",
    "    time_np_syn1 = run(np_syn1, run_num, pre_spike, conn_mat)\n",
    "    time_nb_syn1 = run(nb_syn1, run_num, pre_spike, conn_mat)\n",
    "    time_np_syn3 = run(np_syn3, run_num, post_num, pre_spike, post2pre)\n",
    "    time_np_syn4 = run(np_syn4, run_num, post_num, pre_spike, pre2post)\n",
    "    time_np_syn5 = run(np_syn5, run_num, post_num, pre_spike, post_indexes, pre_anchors)\n",
    "    time_nb_syn5 = run(nb_syn5, run_num, post_num, pre_spike, post_indexes, pre_anchors)\n",
    "    \n",
    "    return time_np_syn1, time_nb_syn1, time_np_syn3, time_np_syn4, time_np_syn5, time_nb_syn5"
   ]
  },
  {
   "cell_type": "code",
   "execution_count": null,
   "metadata": {
    "pycharm": {
     "name": "#%%\n"
    }
   },
   "outputs": [],
   "source": [
    "import matplotlib.pyplot as plt"
   ]
  },
  {
   "cell_type": "code",
   "execution_count": null,
   "metadata": {
    "lines_to_next_cell": 0,
    "pycharm": {
     "name": "#%%\n"
    }
   },
   "outputs": [],
   "source": [
    "# all_num_pre_spike = list(range(0, 5000+1, 200))\n",
    "# all_np_syn1 = []\n",
    "# all_nb_syn1 = []\n",
    "# all_np_syn3 = []\n",
    "# all_np_syn4 = []\n",
    "# all_np_syn5 = []\n",
    "# all_nb_syn5 = []\n",
    "# for num in all_num_pre_spike:\n",
    "#     res = single_run(num)\n",
    "#     all_np_syn1.append(res[0])\n",
    "#     all_nb_syn1.append(res[1])\n",
    "#     all_np_syn3.append(res[2])\n",
    "#     all_np_syn4.append(res[3])\n",
    "#     all_np_syn5.append(res[4])\n",
    "#     all_nb_syn5.append(res[5])\n",
    "#\n",
    "# plt.figure(figsize=(14, 6))\n",
    "# plt.plot(all_num_pre_spike, all_np_syn1, label='np_syn1')\n",
    "# plt.plot(all_num_pre_spike, all_nb_syn1, label='nb_syn1')\n",
    "# plt.plot(all_num_pre_spike, all_np_syn3, label='np_syn3')\n",
    "# plt.plot(all_num_pre_spike, all_np_syn4, label='np_syn4')\n",
    "# plt.plot(all_num_pre_spike, all_np_syn5, label='np_syn5')\n",
    "# plt.plot(all_num_pre_spike, all_nb_syn5, label='nb_syn5')\n",
    "# plt.legend()\n",
    "# plt.ylabel('Time (s)')\n",
    "# plt.xlabel('Number of pre-synaptic spikes')\n",
    "# plt.tight_layout()\n",
    "# plt.show()"
   ]
  },
  {
   "cell_type": "code",
   "execution_count": null,
   "metadata": {
    "lines_to_next_cell": 2
   },
   "outputs": [],
   "source": []
  }
 ],
 "metadata": {
  "jupytext": {
   "formats": "ipynb,py:light",
   "text_representation": {
    "extension": ".py",
    "format_name": "light",
    "format_version": "1.5",
    "jupytext_version": "1.5.1"
   }
  },
  "kernelspec": {
   "display_name": "Python 3",
   "language": "python",
   "name": "python3"
  },
  "language_info": {
   "codemirror_mode": {
    "name": "ipython",
    "version": 3
   },
   "file_extension": ".py",
   "mimetype": "text/x-python",
   "name": "python",
   "nbconvert_exporter": "python",
   "pygments_lexer": "ipython3",
   "version": "3.7.7"
  },
  "toc": {
   "base_numbering": 1,
   "nav_menu": {},
   "number_sections": false,
   "sideBar": true,
   "skip_h1_title": false,
   "title_cell": "Table of Contents",
   "title_sidebar": "Contents",
   "toc_cell": false,
   "toc_position": {},
   "toc_section_display": true,
   "toc_window_display": false
  }
 },
 "nbformat": 4,
 "nbformat_minor": 4
}
