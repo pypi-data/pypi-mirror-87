{
 "cells": [
  {
   "cell_type": "markdown",
   "metadata": {},
   "source": [
    "# fitting a SSC spectrum with sherpa"
   ]
  },
  {
   "cell_type": "code",
   "execution_count": 1,
   "metadata": {},
   "outputs": [],
   "source": [
    "import sys\n",
    "sys.path.append(\"../../\")\n",
    "import numpy as np\n",
    "import astropy.units as u\n",
    "from astropy.coordinates import Distance\n",
    "from astropy.table import Table\n",
    "from agnpy.spectra import LogParabola\n",
    "from agnpy.synchrotron import Synchrotron\n",
    "from agnpy.compton import SynchrotronSelfCompton\n",
    "from sherpa.models import model\n",
    "from sherpa import data\n",
    "import matplotlib.pyplot as plt\n",
    "from sherpa.fit import Fit\n",
    "from sherpa.stats import Chi2\n",
    "from sherpa.optmethods import LevMar"
   ]
  },
  {
   "cell_type": "markdown",
   "metadata": {},
   "source": [
    "### function to rebin the data \n",
    "There is a lot of overlapping X-ray data, let us define a function to rebin the spectral points.\n",
    "We'll just perform the mean of the flux points in a bin weighted with their errors."
   ]
  },
  {
   "cell_type": "code",
   "execution_count": 2,
   "metadata": {},
   "outputs": [],
   "source": [
    "def rebin_sed(nu, nuFnu, nuFnu_err, nu_bins):\n",
    "    \"\"\"rebin the SED\"\"\"\n",
    "    nu_bins_ctr = []\n",
    "    nuFnu_binned = []\n",
    "    nuFnu_err_binned = []\n",
    "    for i in range(len(nu_bins) - 1):\n",
    "        nu_min, nu_max = nu_bins[i], nu_bins[i + 1]\n",
    "        # which points in this bin?\n",
    "        condition = (nu_min <= nu) * (nu <= nu_max)\n",
    "        # go to the next bin if there are no spectral points in this\n",
    "        if not np.any(condition):\n",
    "            continue\n",
    "        else:\n",
    "            y = nuFnu[condition]\n",
    "            y_err = nuFnu_err[condition]\n",
    "            y_new = np.sum(y / np.power(y_err, 2)) / np.sum(np.power(y_err, -2))\n",
    "            y_err_new = 1 / np.sqrt(np.sum(np.power(y_err, -2)))\n",
    "            nu_bins_ctr.append(np.sqrt(nu_min * nu_max))\n",
    "            nuFnu_binned.append(y_new)\n",
    "            nuFnu_err_binned.append(y_err_new)\n",
    "    return (\n",
    "        np.asarray(nu_bins_ctr),\n",
    "        np.asarray(nuFnu_binned),\n",
    "        np.asarray(nuFnu_err_binned),\n",
    "    )"
   ]
  },
  {
   "cell_type": "markdown",
   "metadata": {},
   "source": [
    "### sherpa wrapper of agnpy synchrotron"
   ]
  },
  {
   "cell_type": "code",
   "execution_count": 3,
   "metadata": {},
   "outputs": [],
   "source": [
    "class LogParabolaSSC(model.RegriddableModel1D):\n",
    "    \"\"\"wrapper of agnpy.synchrotron\"\"\"\n",
    "    \n",
    "    def __init__(self, name=\"lp_synch\"):\n",
    "        self.k_e = model.Parameter(name, \"k_e\", 1e-11, min=1e-15, max=1e-3)\n",
    "        self.p = model.Parameter(name, \"p\", 2.1, min=1.0, max=5.0)\n",
    "        self.q = model.Parameter(name, \"q\", 0.1, min=-2.0, max=2.0)\n",
    "        self.gamma_0 = model.Parameter(name, \"gamma_0\", 1e3, min=1e2, max=1e6) \n",
    "        self.gamma_min = model.Parameter(name, \"gamma_min\", 10, min=1, max=1e3)\n",
    "        self.gamma_max = model.Parameter(name, \"gamma_max\", 1e5, min=1e4, max=1e9)\n",
    "        self.z = model.Parameter(name, \"z\", 0.1, min=0.01, max=1)\n",
    "        self.d_L = model.Parameter(name, \"d_L\", 1e27, min=1e25, max=1e33)\n",
    "        self.delta_D = model.Parameter(name, \"delta_D\", 10, min=0, max=50)\n",
    "        self.B = model.Parameter(name, \"B\", 2, min=0.001, max=10)\n",
    "        self.R_b = model.Parameter(name, \"R_b\", 1e16, min=1e14, max=1e18)\n",
    "        \n",
    "        model.RegriddableModel1D.__init__(self, name,\n",
    "                                          (self.k_e, self.p, self.q, self.gamma_0, self.gamma_min, self.gamma_max,\n",
    "                                           self.z, self.d_L, self.delta_D, self.B, self.R_b))\n",
    "\n",
    "    def calc(self, pars, x):\n",
    "        \"\"\"Evaluate the model\"\"\"\n",
    "        (k_e, p, q, gamma_0, gamma_min, gamma_max,z, d_L, delta_D, B, R_b) = pars\n",
    "        # add units\n",
    "        k_e *= u.Unit(\"cm-3\")\n",
    "        d_L *= u.cm\n",
    "        B *= u.G\n",
    "        R_b *= u.cm\n",
    "        x *= u.Hz\n",
    "        \n",
    "        sed_synch = Synchrotron.evaluate_sed_flux(\n",
    "            x, z, d_L, delta_D, B, R_b, LogParabola, k_e, p, q, gamma_0, gamma_min, gamma_max\n",
    "        )\n",
    "        sed_ssc = SynchrotronSelfCompton.evaluate_sed_flux(\n",
    "            x, z, d_L, delta_D, B, R_b, LogParabola, k_e, p, q, gamma_0, gamma_min, gamma_max\n",
    "        )\n",
    "        return sed_synch + sed_ssc"
   ]
  },
  {
   "cell_type": "markdown",
   "metadata": {},
   "source": [
    "### fitting with sherpa"
   ]
  },
  {
   "cell_type": "code",
   "execution_count": 4,
   "metadata": {},
   "outputs": [
    {
     "data": {
      "image/png": "[encoded data removed]",
      "text/plain": [
       "<Figure size 432x288 with 1 Axes>"
      ]
     },
     "metadata": {
      "needs_background": "light"
     },
     "output_type": "display_data"
    }
   ],
   "source": [
    "# read the 1D data\n",
    "sed_table = Table.read(\"../../data/mwl_sed/Mrk421_2011.ecsv\")\n",
    "x = sed_table[\"nu\"]\n",
    "y = sed_table[\"nuFnu\"] \n",
    "y_err = sed_table[\"nuFnu_err\"]\n",
    "# rebin\n",
    "nu_bins = np.logspace(9, 30, 60)\n",
    "x_new, y_new, y_err_new = rebin_sed(x, y, y_err, nu_bins)\n",
    "\n",
    "plt.errorbar(x, y, yerr=y_err, ls=\"\", marker=\".\", color=\"gray\", alpha=0.6)\n",
    "plt.errorbar(x_new, y_new, yerr=y_err_new, ls=\"\", marker=\"o\", color=\"k\")\n",
    "plt.yscale(\"log\")\n",
    "plt.xscale(\"log\")\n",
    "plt.show()"
   ]
  },
  {
   "cell_type": "code",
   "execution_count": 5,
   "metadata": {},
   "outputs": [
    {
     "name": "stdout",
     "output_type": "stream",
     "text": [
      "name      = sed\n",
      "x         = Float64[29]\n",
      "y         = Float64[29]\n",
      "staterror = Float64[29]\n",
      "syserror  = None\n"
     ]
    }
   ],
   "source": [
    "# load them in a sherpa data object\n",
    "sed = data.Data1D(\"sed\", x_new, y_new, staterror=y_err_new)\n",
    "print(sed)"
   ]
  },
  {
   "cell_type": "code",
   "execution_count": 6,
   "metadata": {},
   "outputs": [
    {
     "name": "stdout",
     "output_type": "stream",
     "text": [
      "lp_synch\n",
      "   Param        Type          Value          Min          Max      Units\n",
      "   -----        ----          -----          ---          ---      -----\n",
      "   lp_synch.k_e thawed        1e-11        1e-15        0.001           \n",
      "   lp_synch.p   thawed          2.1            1            5           \n",
      "   lp_synch.q   thawed          0.1           -2            2           \n",
      "   lp_synch.gamma_0 thawed        50000          100        1e+06           \n",
      "   lp_synch.gamma_min frozen           10            1         1000           \n",
      "   lp_synch.gamma_max frozen        1e+08        10000        1e+09           \n",
      "   lp_synch.z   frozen       0.0308         0.01            1           \n",
      "   lp_synch.d_L frozen  4.30448e+26        1e+25        1e+33           \n",
      "   lp_synch.delta_D frozen           21            0           50           \n",
      "   lp_synch.B   thawed            2        0.001           10           \n",
      "   lp_synch.R_b frozen        1e+15        1e+14        1e+18           \n"
     ]
    }
   ],
   "source": [
    "# define the model\n",
    "model = LogParabolaSSC()\n",
    "# freeze some of the parameters\n",
    "R_b = 1e15 * u.cm\n",
    "z = 0.0308\n",
    "d_L = Distance(z=z).to(\"cm\")\n",
    "# load the fixed parameters and freeze them\n",
    "model.delta_D = 21\n",
    "model.delta_D.freeze()\n",
    "model.z = z\n",
    "model.z.freeze()\n",
    "model.d_L = d_L.cgs.value\n",
    "model.d_L.freeze()\n",
    "model.R_b = R_b.cgs.value\n",
    "model.R_b.freeze()\n",
    "model.gamma_0 = 5e4\n",
    "#model.gamma_0.freeze()\n",
    "model.gamma_min = 10\n",
    "model.gamma_min.freeze()\n",
    "model.gamma_max = 1e8\n",
    "model.gamma_max.freeze()\n",
    "print(model)"
   ]
  },
  {
   "cell_type": "code",
   "execution_count": 7,
   "metadata": {},
   "outputs": [
    {
     "name": "stdout",
     "output_type": "stream",
     "text": [
      "data      = sed\n",
      "model     = lp_synch\n",
      "stat      = Chi2\n",
      "method    = LevMar\n",
      "estmethod = Covariance\n",
      "\n",
      "** fit succesful? True\n",
      "Method                = levmar\n",
      "Statistic             = chi2\n",
      "Initial fit statistic = 4.25944e+06\n",
      "Final fit statistic   = 39533.4 at function evaluation 348\n",
      "Data points           = 24\n",
      "Degrees of freedom    = 19\n",
      "Probability [Q-value] = 0\n",
      "Reduced statistic     = 2080.7\n",
      "Change in statistic   = 4.21991e+06\n",
      "   lp_synch.k_e   2.12941e-09  +/- 1.03627e-12 \n",
      "   lp_synch.p     4.36869      +/- 0           \n",
      "   lp_synch.q     0.603953     +/- 0           \n",
      "   lp_synch.gamma_0   235376       +/- 0           \n",
      "   lp_synch.B     3.21303      +/- 0           \n"
     ]
    }
   ],
   "source": [
    "# fit!\n",
    "fitter = Fit(sed, model, stat=Chi2(), method=LevMar())\n",
    "min_x = 1e12\n",
    "max_x = 1e30\n",
    "sed.notice(min_x, max_x)\n",
    "print(fitter)\n",
    "res = fitter.fit()\n",
    "print(\"\\n** fit succesful?\", res.succeeded)\n",
    "print(res.format())"
   ]
  },
  {
   "cell_type": "code",
   "execution_count": 8,
   "metadata": {},
   "outputs": [
    {
     "data": {
      "image/png": "[encoded data removed]",
      "text/plain": [
       "<Figure size 432x288 with 1 Axes>"
      ]
     },
     "metadata": {
      "needs_background": "light"
     },
     "output_type": "display_data"
    }
   ],
   "source": [
    "# plot the results\n",
    "x = np.logspace(np.log10(min_x), np.log10(max_x), 200)\n",
    "plt.errorbar(sed.x, sed.y, yerr=sed.staterror, marker=\"o\", ls=\"\", color=\"k\")\n",
    "plt.plot(x, model(x), ls=\"-\", color=\"crimson\")\n",
    "plt.xscale(\"log\")\n",
    "plt.yscale(\"log\")\n",
    "plt.show()"
   ]
  }
 ],
 "metadata": {
  "kernelspec": {
   "display_name": "Python 3",
   "language": "python",
   "name": "python3"
  },
  "language_info": {
   "codemirror_mode": {
    "name": "ipython",
    "version": 3
   },
   "file_extension": ".py",
   "mimetype": "text/x-python",
   "name": "python",
   "nbconvert_exporter": "python",
   "pygments_lexer": "ipython3",
   "version": "3.7.7"
  }
 },
 "nbformat": 4,
 "nbformat_minor": 4
}
