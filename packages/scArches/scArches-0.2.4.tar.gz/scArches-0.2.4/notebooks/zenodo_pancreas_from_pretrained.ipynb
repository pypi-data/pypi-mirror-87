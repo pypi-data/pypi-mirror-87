{
 "cells": [
  {
   "cell_type": "markdown",
   "metadata": {},
   "source": [
    "# Update a reference atlas using a new query data and share the updated atlas"
   ]
  },
  {
   "cell_type": "markdown",
   "metadata": {},
   "source": [
    "In this notebook, we re going to demonstrate how to downlod a reference model, add new qeury data to the model\n",
    "and share the updated model as a new reference atlas"
   ]
  },
  {
   "cell_type": "code",
   "execution_count": 2,
   "metadata": {},
   "outputs": [
    {
     "name": "stderr",
     "output_type": "stream",
     "text": [
      "/home/mohsen/anaconda3/envs/mohsen/lib/python3.7/site-packages/anndata/_core/anndata.py:21: FutureWarning: pandas.core.index is deprecated and will be removed in a future version.  The public classes are available in the top-level namespace.\n",
      "  from pandas.core.index import RangeIndex\n",
      "Using TensorFlow backend.\n"
     ]
    }
   ],
   "source": [
    "import scarches as sca\n",
    "import scanpy as sc\n",
    "sc.settings.set_figure_params(dpi=100, frameon=False, facecolor='white')"
   ]
  },
  {
   "cell_type": "markdown",
   "metadata": {},
   "source": [
    "`condition_key` is the column name which stores batch id in your `adata.obs`"
   ]
  },
  {
   "cell_type": "code",
   "execution_count": 3,
   "metadata": {},
   "outputs": [],
   "source": [
    "condition_key = \"study\""
   ]
  },
  {
   "cell_type": "markdown",
   "metadata": {},
   "source": [
    "### load query data"
   ]
  },
  {
   "cell_type": "code",
   "execution_count": 4,
   "metadata": {},
   "outputs": [],
   "source": [
    "target_conditions = [\"Pancreas SS2\", \"Pancreas CelSeq2\"]"
   ]
  },
  {
   "cell_type": "code",
   "execution_count": 5,
   "metadata": {},
   "outputs": [
    {
     "data": {
      "text/plain": [
       "View of AnnData object with n_obs × n_vars = 5387 × 1000 \n",
       "    obs: 'batch', 'study', 'cell_type', 'size_factors'"
      ]
     },
     "execution_count": 5,
     "metadata": {},
     "output_type": "execute_result"
    }
   ],
   "source": [
    "adata = sca.datasets.pancreas()\n",
    "adata = adata[adata.obs[condition_key].isin(target_conditions)]\n",
    "adata"
   ]
  },
  {
   "cell_type": "markdown",
   "metadata": {},
   "source": [
    "### create scArches network from pre-trained model "
   ]
  },
  {
   "cell_type": "markdown",
   "metadata": {},
   "source": [
    "There are some parameters that worth to be mentioned here:\n",
    "\n",
    "- __path_or_link__: Path to downloaded zip file of scArches' model or a direct downloadable link.\n",
    "- __prev_task_name__: If `path_or_link` is a link, `prev_task_name` is used for the name of downloaded file.\n",
    "- __model_path__: path to save downloaded file from link and new trained scArches' model.\n",
    "- __new_task__: name of the new task to be solved.\n",
    "- __target_conditions__: list of target conditions (i.e. batch ids) used to append to scArches' `condition_encoder`. These are the batch id for your new query data"
   ]
  },
  {
   "cell_type": "code",
   "execution_count": 6,
   "metadata": {},
   "outputs": [],
   "source": [
    "link = \"https://zenodo.org/record/3930127/files/scNet-pancreas_inDropCelSeqFC1.zip?download=1\""
   ]
  },
  {
   "cell_type": "code",
   "execution_count": 7,
   "metadata": {},
   "outputs": [
    {
     "name": "stderr",
     "output_type": "stream",
     "text": [
      "WARNING: Logging before flag parsing goes to stderr.\n",
      "W0723 13:16:26.516248 140427113645888 module_wrapper.py:139] From /home/mohsen/anaconda3/envs/mohsen/lib/python3.7/site-packages/keras/backend/tensorflow_backend.py:174: The name tf.get_default_session is deprecated. Please use tf.compat.v1.get_default_session instead.\n",
      "\n",
      "W0723 13:16:26.517966 140427113645888 module_wrapper.py:139] From /home/mohsen/anaconda3/envs/mohsen/lib/python3.7/site-packages/keras/backend/tensorflow_backend.py:181: The name tf.ConfigProto is deprecated. Please use tf.compat.v1.ConfigProto instead.\n",
      "\n",
      "W0723 13:16:26.519210 140427113645888 module_wrapper.py:139] From /home/mohsen/anaconda3/envs/mohsen/lib/python3.7/site-packages/keras/backend/tensorflow_backend.py:186: The name tf.Session is deprecated. Please use tf.compat.v1.Session instead.\n",
      "\n"
     ]
    },
    {
     "name": "stdout",
     "output_type": "stream",
     "text": [
      "File already exists!\n"
     ]
    },
    {
     "name": "stderr",
     "output_type": "stream",
     "text": [
      "W0723 13:16:28.894318 140427113645888 module_wrapper.py:139] From /home/mohsen/anaconda3/envs/mohsen/lib/python3.7/site-packages/keras/backend/tensorflow_backend.py:190: The name tf.global_variables is deprecated. Please use tf.compat.v1.global_variables instead.\n",
      "\n",
      "W0723 13:16:28.897551 140427113645888 module_wrapper.py:139] From /home/mohsen/anaconda3/envs/mohsen/lib/python3.7/site-packages/keras/backend/tensorflow_backend.py:517: The name tf.placeholder is deprecated. Please use tf.compat.v1.placeholder instead.\n",
      "\n",
      "W0723 13:16:28.905348 140427113645888 module_wrapper.py:139] From /home/mohsen/anaconda3/envs/mohsen/lib/python3.7/site-packages/keras/backend/tensorflow_backend.py:4185: The name tf.truncated_normal is deprecated. Please use tf.random.truncated_normal instead.\n",
      "\n",
      "W0723 13:16:28.929416 140427113645888 module_wrapper.py:139] From /home/mohsen/anaconda3/envs/mohsen/lib/python3.7/site-packages/keras/backend/tensorflow_backend.py:74: The name tf.get_default_graph is deprecated. Please use tf.compat.v1.get_default_graph instead.\n",
      "\n",
      "W0723 13:16:28.932134 140427113645888 module_wrapper.py:139] From /home/mohsen/anaconda3/envs/mohsen/lib/python3.7/site-packages/keras/backend/tensorflow_backend.py:133: The name tf.placeholder_with_default is deprecated. Please use tf.compat.v1.placeholder_with_default instead.\n",
      "\n",
      "W0723 13:16:28.941498 140427113645888 deprecation.py:506] From /home/mohsen/anaconda3/envs/mohsen/lib/python3.7/site-packages/keras/backend/tensorflow_backend.py:3445: calling dropout (from tensorflow.python.ops.nn_ops) with keep_prob is deprecated and will be removed in a future version.\n",
      "Instructions for updating:\n",
      "Please use `rate` instead of `keep_prob`. Rate should be set to `rate = 1 - keep_prob`.\n",
      "W0723 13:16:29.016152 140427113645888 module_wrapper.py:139] From /home/mohsen/anaconda3/envs/mohsen/lib/python3.7/site-packages/keras/backend/tensorflow_backend.py:4115: The name tf.random_normal is deprecated. Please use tf.random.normal instead.\n",
      "\n",
      "W0723 13:16:29.243754 140427113645888 module_wrapper.py:139] From /home/mohsen/anaconda3/envs/mohsen/lib/python3.7/site-packages/keras/optimizers.py:790: The name tf.train.Optimizer is deprecated. Please use tf.compat.v1.train.Optimizer instead.\n",
      "\n",
      "W0723 13:16:29.271207 140427113645888 module_wrapper.py:139] From /home/mohsen/projects/scarches/scarches/models/_losses.py:46: The name tf.variable_scope is deprecated. Please use tf.compat.v1.variable_scope instead.\n",
      "\n",
      "W0723 13:16:29.272074 140427113645888 module_wrapper.py:139] From /home/mohsen/projects/scarches/scarches/models/_losses.py:46: The name tf.AUTO_REUSE is deprecated. Please use tf.compat.v1.AUTO_REUSE instead.\n",
      "\n",
      "W0723 13:16:29.332970 140427113645888 module_wrapper.py:139] From /home/mohsen/projects/scarches/scarches/models/_utils.py:84: The name tf.is_nan is deprecated. Please use tf.math.is_nan instead.\n",
      "\n",
      "W0723 13:16:29.335768 140427113645888 deprecation.py:323] From /home/mohsen/projects/scarches/scarches/models/_utils.py:84: where (from tensorflow.python.ops.array_ops) is deprecated and will be removed in a future version.\n",
      "Instructions for updating:\n",
      "Use tf.where in 2.0, which has the same broadcast rule as np.where\n"
     ]
    },
    {
     "name": "stdout",
     "output_type": "stream",
     "text": [
      "scArches' network has been successfully constructed!\n"
     ]
    },
    {
     "name": "stderr",
     "output_type": "stream",
     "text": [
      "W0723 13:16:29.501647 140427113645888 module_wrapper.py:139] From /home/mohsen/anaconda3/envs/mohsen/lib/python3.7/site-packages/keras/backend/tensorflow_backend.py:199: The name tf.is_variable_initialized is deprecated. Please use tf.compat.v1.is_variable_initialized instead.\n",
      "\n"
     ]
    },
    {
     "name": "stdout",
     "output_type": "stream",
     "text": [
      "scArches' network has been successfully compiled!\n"
     ]
    },
    {
     "name": "stderr",
     "output_type": "stream",
     "text": [
      "W0723 13:16:29.933264 140427113645888 module_wrapper.py:139] From /home/mohsen/anaconda3/envs/mohsen/lib/python3.7/site-packages/keras/backend/tensorflow_backend.py:206: The name tf.variables_initializer is deprecated. Please use tf.compat.v1.variables_initializer instead.\n",
      "\n"
     ]
    },
    {
     "name": "stdout",
     "output_type": "stream",
     "text": [
      "scArches' network has been successfully compiled!\n",
      "cvae's weights has been successfully restored!\n",
      "scArches' network has been successfully constructed!\n",
      "scArches' network has been successfully compiled!\n",
      "scArches' network has been successfully compiled!\n"
     ]
    }
   ],
   "source": [
    "network = sca.create_scArches_from_pretrained_task(\n",
    "    path_or_link=link,\n",
    "    prev_task_name='pancreas-inDropCelSeqFC1',\n",
    "    model_path=\"./models/scArches/pancreas/\",\n",
    "    new_task=\"pancreas-CelSeq2,SS2\",\n",
    "    target_conditions=target_conditions,\n",
    "    version='scArches',\n",
    ")"
   ]
  },
  {
   "cell_type": "markdown",
   "metadata": {},
   "source": [
    "### fine-tune pre-trained scArches "
   ]
  },
  {
   "cell_type": "markdown",
   "metadata": {},
   "source": [
    "You can train scArches with `train` function with the following parameters:\n",
    "\n",
    "1. __adata__: Annotated dataset used for training and evaluating scArches.\n",
    "2. __condition_key__: name of the column in `obs` matrix in `adata` which contains the conditions for each sample.\n",
    "3. __n_epochs__: number of epochs used to train scArches.\n",
    "4. __batch_size__: number of sample used to sample as mini-batches in order to optmize scArches. \n",
    "8. __save__: whether to save scArches' model and configs after training phase or not. \n",
    "9. __retrain__: if `False` and scArches' pretrained model exists in `model_path`, will restore scArches' weights. Otherwise will train and validate scArches on `adata`. "
   ]
  },
  {
   "cell_type": "code",
   "execution_count": 8,
   "metadata": {},
   "outputs": [
    {
     "name": "stderr",
     "output_type": "stream",
     "text": [
      "W0723 13:16:38.007126 140427113645888 module_wrapper.py:139] From /home/mohsen/anaconda3/envs/mohsen/lib/python3.7/site-packages/keras/backend/tensorflow_backend.py:986: The name tf.assign_add is deprecated. Please use tf.compat.v1.assign_add instead.\n",
      "\n",
      "W0723 13:16:38.071523 140427113645888 module_wrapper.py:139] From /home/mohsen/anaconda3/envs/mohsen/lib/python3.7/site-packages/keras/backend/tensorflow_backend.py:973: The name tf.assign is deprecated. Please use tf.compat.v1.assign instead.\n",
      "\n"
     ]
    },
    {
     "name": "stdout",
     "output_type": "stream",
     "text": [
      " |████████████████████| 100.0%  - loss: 115.3315 - mmd_loss: 0.6198 - reconstruction_loss: 114.7117 - val_loss: 108.0416 - val_mmd_loss: 0.6793 - val_reconstruction_loss: 107.3623\n",
      "\n",
      "scArches has been successfully saved in ./models/scArches/pancreas/pancreas-CelSeq2,SS2/.\n"
     ]
    }
   ],
   "source": [
    "network.train(adata,\n",
    "              condition_key=condition_key,\n",
    "              n_epochs=100,\n",
    "              batch_size=128, \n",
    "              save=True, \n",
    "              retrain=True)"
   ]
  },
  {
   "cell_type": "markdown",
   "metadata": {},
   "source": [
    "### share your trained scArches (new reference) or new adaptors with other researchers using [Zenodo](https://zenodo.org/)"
   ]
  },
  {
   "cell_type": "markdown",
   "metadata": {},
   "source": [
    "You can easily get TOKEN by signing up in [**Zenodo**](https://zenodo.org/) Website and creating an app in the settings. You just have to following these steps for creating a new TOKEN: \n",
    "\n",
    "1. Sign in/Register in [__Zenodo__](https://zenodo.org/)\n",
    "2. Go to __Applications__ page.\n",
    "3. Click on __new_token__ in __Personal access tokens__ panel.\n",
    "4. Give it access for `deposit:actions` and `deposit:write`.\n",
    "\n",
    "__NOTE__: Zenodo will show the created TOKEN only once so be careful in preserving it. If you lost your TOKEN you have to create new one."
   ]
  },
  {
   "cell_type": "code",
   "execution_count": 9,
   "metadata": {},
   "outputs": [],
   "source": [
    "ACCESS_TOKEN = \"YOUR_TOKEN\""
   ]
  },
  {
   "cell_type": "markdown",
   "metadata": {},
   "source": [
    "### 1. Create a Deposition in your zenodo account"
   ]
  },
  {
   "cell_type": "markdown",
   "metadata": {},
   "source": [
    "You can use wrapper functions in `zenodo` module in scArches package to interact with your depositions and uploaded files in Zenodo. In Zenodo, A deposition is a cloud space for a publication, poster, etc which contains multiple files."
   ]
  },
  {
   "cell_type": "markdown",
   "metadata": {},
   "source": [
    "In order to create a deposition in Zenodo, You can call our `create_deposition` function with the following parameters:\n",
    "\n",
    "-  __access_token__: Your access token\n",
    "-  __upload_type__: Type of the deposition, has to be one of the following types defined in [here](https://developers.zenodo.org/#representation).\n",
    "-  __title__: Title of the deposition.\n",
    "-  __description__: Description of the deposition.\n",
    "-  __creators__: List of creators of this deposition. Each item in the list has to be in the following form:\n",
    "\n",
    "```\n",
    "{\n",
    "    \"name\": \"LASTNAME, FIRSTNAME\", (Has to be in this format)\n",
    "    \"affiliation\": \"AFFILIATION\", (Optional)\n",
    "    \"orcid\": \"ORCID\" (Optional, has to be a valid ORCID)\n",
    "}\n",
    "```\n",
    "\n",
    "\n",
    "\n"
   ]
  },
  {
   "cell_type": "code",
   "execution_count": 17,
   "metadata": {},
   "outputs": [
    {
     "name": "stdout",
     "output_type": "stream",
     "text": [
      "New Deposition has been successfully created!\n"
     ]
    }
   ],
   "source": [
    "deposition_id = sca.zenodo.create_deposition(ACCESS_TOKEN, \n",
    "                                             upload_type=\"other\", \n",
    "                                             title='scArches-pancreasCelSeq2,SS2',\n",
    "                                             description='pre-trained scArches on CelSeq2, SmartSeq2',                                            \n",
    "                                             creators=[\n",
    "                                                 {\"name\": \"Naghipourfar, Mohsen\", \"affiliation\": \"SUT\"},\n",
    "                                             ],\n",
    "                                             )"
   ]
  },
  {
   "cell_type": "markdown",
   "metadata": {},
   "source": [
    "### 2. upload scArches(new reference) or new adaptors to your deposition"
   ]
  },
  {
   "cell_type": "markdown",
   "metadata": {},
   "source": [
    "#### 2.1 Uploading scArches (new reference)"
   ]
  },
  {
   "cell_type": "markdown",
   "metadata": {},
   "source": [
    "After creating a deposition, you can easily upload your pre-trained scArches model using `upload_model` function in `zenodo` module. This function accepts the following parameters:\n",
    "\n",
    "- __model__: Instance of scArches' class which is trained on your task\n",
    "- __deposition_id__: ID of the deposition you want to upload the model in.\n",
    "- __access_token__: Your TOKEN.\n",
    "\n",
    "The function will return the generated `download_link` containing network's direct downloadable link."
   ]
  },
  {
   "cell_type": "code",
   "execution_count": 22,
   "metadata": {},
   "outputs": [
    {
     "name": "stdout",
     "output_type": "stream",
     "text": [
      "Model has been successfully uploaded\n"
     ]
    }
   ],
   "source": [
    "download_link = sca.zenodo.upload_model(network, \n",
    "                                        deposition_id=deposition_id, \n",
    "                                        access_token=ACCESS_TOKEN)"
   ]
  },
  {
   "cell_type": "code",
   "execution_count": 23,
   "metadata": {},
   "outputs": [
    {
     "data": {
      "text/plain": [
       "'https://zenodo.org/record/3957738/files/scNet-pancreas-CelSeq2SS2.zip?download=1'"
      ]
     },
     "execution_count": 23,
     "metadata": {},
     "output_type": "execute_result"
    }
   ],
   "source": [
    "download_link"
   ]
  },
  {
   "cell_type": "markdown",
   "metadata": {},
   "source": [
    "#### 2.2 Uploading query adaptors to your deposition"
   ]
  },
  {
   "cell_type": "markdown",
   "metadata": {},
   "source": [
    "You need to extract query adaptors from your trained model to be used for uploading. In order to do this, you can use `extract_adaptors` function in the package with the following arguments:\n",
    "\n",
    "* __network__: Instance of scArches' class which is trained on your task\n",
    "* __conditions__: list of (query) conditions. "
   ]
  },
  {
   "cell_type": "code",
   "execution_count": 20,
   "metadata": {},
   "outputs": [],
   "source": [
    "adaptors = sca.extract_adaptors(network, target_conditions)"
   ]
  },
  {
   "cell_type": "markdown",
   "metadata": {},
   "source": [
    "After extracting all query adaptors, you can easily upload them using `upload_adaptors` function in `zenodo` module. This function accepts the following parameters:\n",
    "\n",
    "- __adaptors__: List of instances of Adaptor class. \n",
    "- __deposition_id__: ID of the deposition you want to upload the model in.\n",
    "- __access_token__: Your TOKEN.\n",
    "\n",
    "The function will return the generated direct `download_links` for each adaptor."
   ]
  },
  {
   "cell_type": "code",
   "execution_count": 19,
   "metadata": {},
   "outputs": [
    {
     "name": "stdout",
     "output_type": "stream",
     "text": [
      "Adaptor-Pancreas SS2 has been successfully uploaded\n",
      "Adaptor-Pancreas CelSeq2 has been successfully uploaded\n"
     ]
    },
    {
     "data": {
      "text/plain": [
       "{'Pancreas SS2': 'https://zenodo.org/record/3957738/files/adaptor-Pancreas_SS2.pkl?download=1',\n",
       " 'Pancreas CelSeq2': 'https://zenodo.org/record/3957738/files/adaptor-Pancreas_CelSeq2.pkl?download=1'}"
      ]
     },
     "execution_count": 19,
     "metadata": {},
     "output_type": "execute_result"
    }
   ],
   "source": [
    "download_links = sca.zenodo.upload_adaptors(adaptors, deposition_id, ACCESS_TOKEN)\n",
    "download_links"
   ]
  },
  {
   "cell_type": "code",
   "execution_count": 21,
   "metadata": {},
   "outputs": [
    {
     "data": {
      "text/plain": [
       "{'Pancreas SS2': 'https://zenodo.org/record/3957738/files/adaptor-Pancreas_SS2.pkl?download=1',\n",
       " 'Pancreas CelSeq2': 'https://zenodo.org/record/3957738/files/adaptor-Pancreas_CelSeq2.pkl?download=1'}"
      ]
     },
     "execution_count": 21,
     "metadata": {},
     "output_type": "execute_result"
    }
   ],
   "source": [
    "download_links"
   ]
  },
  {
   "cell_type": "markdown",
   "metadata": {},
   "source": [
    "### 3. publish the created deposition"
   ]
  },
  {
   "cell_type": "code",
   "execution_count": 15,
   "metadata": {},
   "outputs": [
    {
     "name": "stdout",
     "output_type": "stream",
     "text": [
      "Deposition with id = 3930132 has been successfully published!\n"
     ]
    }
   ],
   "source": [
    "sca.zenodo.publish_deposition(deposition_id, ACCESS_TOKEN)"
   ]
  },
  {
   "cell_type": "markdown",
   "metadata": {},
   "source": [
    "Congrats! Your model is ready to be downloaded by others researchers!"
   ]
  }
 ],
 "metadata": {
  "kernelspec": {
   "display_name": "Python 3",
   "language": "python",
   "name": "python3"
  },
  "language_info": {
   "codemirror_mode": {
    "name": "ipython",
    "version": 3
   },
   "file_extension": ".py",
   "mimetype": "text/x-python",
   "name": "python",
   "nbconvert_exporter": "python",
   "pygments_lexer": "ipython3",
   "version": "3.7.6"
  }
 },
 "nbformat": 4,
 "nbformat_minor": 4
}
