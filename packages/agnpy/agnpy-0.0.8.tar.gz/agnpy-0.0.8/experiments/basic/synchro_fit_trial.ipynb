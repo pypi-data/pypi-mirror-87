{
 "cells": [
  {
   "cell_type": "code",
   "execution_count": 1,
   "metadata": {},
   "outputs": [],
   "source": [
    "import sys\n",
    "sys.path.append(\"../../\")\n",
    "import numpy as np\n",
    "import astropy.units as u\n",
    "from agnpy.emission_regions import Blob\n",
    "from agnpy.synchrotron import Synchrotron\n",
    "from agnpy.spectra import PowerLaw\n",
    "from agnpy.utils.math import trapz_loglog\n",
    "import matplotlib.pyplot as plt"
   ]
  },
  {
   "cell_type": "code",
   "execution_count": 2,
   "metadata": {},
   "outputs": [],
   "source": [
    "blob = Blob()\n",
    "synchro = Synchrotron(blob)"
   ]
  },
  {
   "cell_type": "code",
   "execution_count": 3,
   "metadata": {},
   "outputs": [],
   "source": [
    "nu = np.logspace(9, 20)* u.Hz"
   ]
  },
  {
   "cell_type": "code",
   "execution_count": 4,
   "metadata": {},
   "outputs": [
    {
     "name": "stdout",
     "output_type": "stream",
     "text": [
      "_gamma shape:  (200, 1)\n",
      "_epsilon shape:  (1, 50)\n",
      "_N_e shape:  (200, 1)\n",
      "R(x) shape:  (200, 50)\n"
     ]
    }
   ],
   "source": [
    "sed_from_class = synchro.sed_flux(nu)"
   ]
  },
  {
   "cell_type": "code",
   "execution_count": 8,
   "metadata": {},
   "outputs": [],
   "source": [
    "sed_from_func = Synchrotron.evaluate_sed_flux(\n",
    "    nu,\n",
    "    blob.z,\n",
    "    blob.d_L,\n",
    "    blob.delta_D,\n",
    "    blob.B,\n",
    "    blob.R_b, \n",
    "    blob.gamma,\n",
    "    trapz_loglog,\n",
    "    PowerLaw,\n",
    "    blob.n_e.k_e.quantity,\n",
    "    blob.n_e.p.value,\n",
    "    blob.n_e.gamma_min.value,\n",
    "    blob.n_e.gamma_max.value,\n",
    ")"
   ]
  },
  {
   "cell_type": "code",
   "execution_count": 9,
   "metadata": {},
   "outputs": [
    {
     "data": {
      "image/png": "[encoded data removed]",
      "text/plain": [
       "<Figure size 432x288 with 1 Axes>"
      ]
     },
     "metadata": {
      "needs_background": "light"
     },
     "output_type": "display_data"
    }
   ],
   "source": [
    "plt.loglog(nu, sed_from_class, marker=\"o\")\n",
    "plt.loglog(nu, sed_from_func, marker=\".\", ls=\"--\")\n",
    "plt.show()"
   ]
  },
  {
   "cell_type": "code",
   "execution_count": null,
   "metadata": {},
   "outputs": [],
   "source": []
  }
 ],
 "metadata": {
  "kernelspec": {
   "display_name": "Python 3",
   "language": "python",
   "name": "python3"
  },
  "language_info": {
   "codemirror_mode": {
    "name": "ipython",
    "version": 3
   },
   "file_extension": ".py",
   "mimetype": "text/x-python",
   "name": "python",
   "nbconvert_exporter": "python",
   "pygments_lexer": "ipython3",
   "version": "3.7.7"
  }
 },
 "nbformat": 4,
 "nbformat_minor": 4
}
