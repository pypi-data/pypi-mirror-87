{
 "cells": [
  {
   "cell_type": "code",
   "execution_count": null,
   "metadata": {},
   "outputs": [],
   "source": [
    "\"\"\"\n",
    "This file should tests all the filter conditions on\n",
    "\n",
    "Instructions:\n",
    "- Run this cell. \n",
    "- For each column, sort is ascending and descending and make sure its correct\n",
    "    - Note: the mixed column should throw an 'invalid sort' error\n",
    "- Check that the code is being generated and updated as you cycle through conditions.\n",
    "- Print out the resulting df and make sure it matches\n",
    "\"\"\"\n",
    "import mitosheet\n",
    "import pandas as pd\n",
    "df1 = pd.DataFrame(data={'String': [\"123\", \"1\", \"2\", \"3\", \"4\", \"5\"], \n",
    "                        'Number': [123, 1, 2, 3, 4, 5],\n",
    "                         'Date': ['2001-01-01', '2002-01-01', '2003-01-01','2004-01-01', '2005-01-01', '2006-01-01'],\n",
    "                        'Mixed': [123, \"1\", \"2\", \"3\", 4, 5]})\n",
    "\n",
    "mitosheet.sheet(df1)"
   ]
  }
 ],
 "metadata": {
  "kernelspec": {
   "display_name": "Python 3",
   "language": "python",
   "name": "python3"
  },
  "language_info": {
   "codemirror_mode": {
    "name": "ipython",
    "version": 3
   },
   "file_extension": ".py",
   "mimetype": "text/x-python",
   "name": "python",
   "nbconvert_exporter": "python",
   "pygments_lexer": "ipython3",
   "version": "3.8.5"
  },
  "widgets": {
   "application/vnd.jupyter.widget-state+json": {
    "state": {},
    "version_major": 2,
    "version_minor": 0
   }
  }
 },
 "nbformat": 4,
 "nbformat_minor": 4
}
