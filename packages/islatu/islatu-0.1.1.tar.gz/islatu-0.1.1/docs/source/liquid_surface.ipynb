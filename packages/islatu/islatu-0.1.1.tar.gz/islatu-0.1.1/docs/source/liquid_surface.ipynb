{
 "cells": [
  {
   "cell_type": "markdown",
   "metadata": {},
   "source": [
    "# Liquid surface\n",
    "\n",
    "Detailed here is the reduction of reflectometry from a liquid surface, such that the sample surface is horizontally oriented and the I07 double crystal deflector system is used to position the X-ray beam.\n",
    "Here, we show the reduction of reflectometry collected from a water-surface in air (note that the water was slightly \"dirty\" so the curve does not perfectly match pure water). \n",
    "\n",
    "The first task is to enure that the necessary modules and packages have been imported."
   ]
  },
  {
   "cell_type": "code",
   "execution_count": 1,
   "metadata": {},
   "outputs": [],
   "source": [
    "# Import plotting and numpy libraries\n",
    "import matplotlib.pyplot as plt\n",
    "import numpy as np\n",
    "\n",
    "# islatu uses the uncertainties library for \n",
    "# uncertainty propagation\n",
    "from uncertainties import ufloat\n",
    "from uncertainties import unumpy as unp\n",
    "\n",
    "# islatu is the data reduction pacakge\n",
    "from islatu.refl_data import Profile\n",
    "from islatu.io import i07_dat_parser\n",
    "from islatu.cropping import crop_around_peak_2d\n",
    "from islatu.background import fit_gaussian_1d\n",
    "from islatu.corrections import get_interpolator\n",
    "from islatu.image import Image"
   ]
  },
  {
   "cell_type": "markdown",
   "metadata": {},
   "source": [
    "## Parsing data\n",
    "\n",
    "Once everything has been imported, we must define the files, in this case they are I07 `.dat` files, that will be reduced. \n",
    "Remember that due to the changes in attenutation a full reflectometry curve typically contains 3-5 scans. \n",
    "In this example, five scans where performed and the files are called `refl_1.dat` to `refl_5.dat`. "
   ]
  },
  {
   "cell_type": "code",
   "execution_count": 2,
   "metadata": {},
   "outputs": [],
   "source": [
    "files = ['refl_{}.dat'.format(i) for i in range(1, 6)]"
   ]
  },
  {
   "cell_type": "code",
   "execution_count": 3,
   "metadata": {},
   "outputs": [
    {
     "name": "stdout",
     "output_type": "stream",
     "text": [
      "['refl_1.dat', 'refl_2.dat', 'refl_3.dat', 'refl_4.dat', 'refl_5.dat']\n"
     ]
    }
   ],
   "source": [
    "print(files)"
   ]
  },
  {
   "cell_type": "markdown",
   "metadata": {},
   "source": [
    "This list of files is passed to the `islatu.refl_data.Profile` object, we must also inform this function what parsing function should be used. \n",
    "In this case, as we are detailing with I07 `.dat` files, we use `islatu.io.i07_dat_parser`. "
   ]
  },
  {
   "cell_type": "code",
   "execution_count": 4,
   "metadata": {},
   "outputs": [
    {
     "name": "stderr",
     "output_type": "stream",
     "text": [
      "100%|██████████| 61/61 [01:01<00:00,  1.01s/it]\n",
      "100%|██████████| 15/15 [00:20<00:00,  1.34s/it]\n",
      "100%|██████████| 14/14 [00:08<00:00,  1.57it/s]\n",
      "100%|██████████| 19/19 [00:44<00:00,  2.37s/it]\n",
      "100%|██████████| 16/16 [01:35<00:00,  5.98s/it]\n"
     ]
    }
   ],
   "source": [
    "refl = Profile(files, i07_dat_parser)"
   ]
  },
  {
   "cell_type": "markdown",
   "metadata": {},
   "source": [
    "The `refl` object possesses a class object called `scans`, which is a list of the scan contained in the `.dat` files."
   ]
  },
  {
   "cell_type": "code",
   "execution_count": 5,
   "metadata": {},
   "outputs": [
    {
     "data": {
      "image/png": "[encoded data removed]",
      "text/plain": [
       "<Figure size 432x288 with 1 Axes>"
      ]
     },
     "metadata": {
      "needs_background": "light"
     },
     "output_type": "display_data"
    },
    {
     "name": "stdout",
     "output_type": "stream",
     "text": [
      "[[0. 0. 0. ... 0. 0. 0.]\n",
      " [0. 0. 0. ... 0. 0. 0.]\n",
      " [0. 0. 0. ... 0. 0. 0.]\n",
      " ...\n",
      " [0. 0. 0. ... 0. 0. 0.]\n",
      " [0. 0. 0. ... 0. 0. 0.]\n",
      " [0. 0. 0. ... 0. 0. 0.]]\n",
      "94965\n"
     ]
    }
   ],
   "source": [
    "for i in refl.scans:\n",
    "    im = Image(i.data[\"file\"][0], i.data, i.metadata)\n",
    "    plt.imshow(im.n)\n",
    "    plt.show()\n",
    "    print(im.n)\n",
    "    print(im.n.size)\n",
    "    break"
   ]
  },
  {
   "cell_type": "markdown",
   "metadata": {},
   "source": [
    "In total, we have data ranging from $q=0.01$ Å<sup>-1</sup> to $q = 0.6$ Å<sup>-1</sup>. \n",
    "\n",
    "## Reducing images\n",
    "\n",
    "Reflectometry data is collected at I07 as a series of detector images, like that shown below."
   ]
  },
  {
   "cell_type": "code",
   "execution_count": 6,
   "metadata": {},
   "outputs": [
    {
     "data": {
      "image/png": "[encoded data removed]",
      "text/plain": [
       "<Figure size 432x288 with 1 Axes>"
      ]
     },
     "metadata": {
      "needs_background": "light"
     },
     "output_type": "display_data"
    },
    {
     "name": "stdout",
     "output_type": "stream",
     "text": [
      "q = 0.5 Å\n"
     ]
    }
   ],
   "source": [
    "im = Image(refl.scans[-1].data['file'][10])\n",
    "plt.imshow(im.n)\n",
    "plt.xlabel('x-Pixel')\n",
    "plt.ylabel('y-Pixel')\n",
    "plt.show()\n",
    "print('q = {} Å'.format(refl.scans[-1].q[10].n))"
   ]
  },
  {
   "cell_type": "markdown",
   "metadata": {},
   "source": [
    "This is data from $q = 0.5$ Å<sup>-1</sup>. \n",
    "The point in the middle of this image is the reflected intensity peak that we want to obtain, therefore it is necessary to crop this image down (to get rid of the unnecessary, blank pixels)."
   ]
  },
  {
   "cell_type": "code",
   "execution_count": 7,
   "metadata": {},
   "outputs": [
    {
     "data": {
      "image/png": "[encoded data removed]",
      "text/plain": [
       "<Figure size 432x288 with 1 Axes>"
      ]
     },
     "metadata": {
      "needs_background": "light"
     },
     "output_type": "display_data"
    }
   ],
   "source": [
    "im.crop(crop_around_peak_2d)\n",
    "plt.imshow(im.n)\n",
    "plt.xlabel('x-Pixel')\n",
    "plt.ylabel('y-Pixel')\n",
    "plt.show()"
   ]
  },
  {
   "cell_type": "markdown",
   "metadata": {},
   "source": [
    "Having reduced the size of the image and focused on the peak, we now need to perform a subtraction of the background signals. \n",
    "This signal can be seen if we reduce the dimensionality of the plot by summing along the y-axis of the image."
   ]
  },
  {
   "cell_type": "code",
   "execution_count": 8,
   "metadata": {},
   "outputs": [
    {
     "data": {
      "image/png": "[encoded data removed]",
      "text/plain": [
       "<Figure size 432x288 with 1 Axes>"
      ]
     },
     "metadata": {
      "needs_background": "light"
     },
     "output_type": "display_data"
    }
   ],
   "source": [
    "plt.plot(im.n.mean(axis=0))\n",
    "plt.xlabel('x-Pixel')\n",
    "plt.ylabel('Average intensity')\n",
    "plt.ylim(0, 2000)\n",
    "plt.show()"
   ]
  },
  {
   "cell_type": "markdown",
   "metadata": {},
   "source": [
    "Notice that the background level is around 250 counts.\n",
    "It is necessary to remove this for our data to be accurate when modelling is applied later. \n",
    "\n",
    "The background subtraction is performed by fitting a one-dimensional Gaussian function, with some offset from the ordinate, to the image. \n",
    "The dimension that the Gaussian should be fitted in is perpendicular to the $q_z$ on the detector, in this example this is dimension `0`.\n",
    "The amount by which the fit is offset from the ordinate is then subtracted from each pixel of the image."
   ]
  },
  {
   "cell_type": "code",
   "execution_count": 9,
   "metadata": {},
   "outputs": [
    {
     "data": {
      "image/png": "[encoded data removed]",
      "text/plain": [
       "<Figure size 432x288 with 1 Axes>"
      ]
     },
     "metadata": {
      "needs_background": "light"
     },
     "output_type": "display_data"
    }
   ],
   "source": [
    "im.background_subtraction(fit_gaussian_1d, axis=0)\n",
    "plt.imshow(im.n)\n",
    "plt.xlabel('x-Pixel')\n",
    "plt.ylabel('y-Pixel')\n",
    "plt.show()"
   ]
  },
  {
   "cell_type": "markdown",
   "metadata": {},
   "source": [
    "The image above does not appear to have changed, but the background subtraction is visible when the dimensionality is reduced again. "
   ]
  },
  {
   "cell_type": "code",
   "execution_count": 10,
   "metadata": {},
   "outputs": [
    {
     "data": {
      "image/png": "[encoded data removed]",
      "text/plain": [
       "<Figure size 432x288 with 1 Axes>"
      ]
     },
     "metadata": {
      "needs_background": "light"
     },
     "output_type": "display_data"
    }
   ],
   "source": [
    "plt.plot(im.n.mean(axis=0))\n",
    "plt.xlabel('x-Pixel')\n",
    "plt.ylabel('Average intensity')\n",
    "plt.ylim(0, 2000)\n",
    "plt.show()"
   ]
  },
  {
   "cell_type": "markdown",
   "metadata": {},
   "source": [
    "The background level is stored in the `image.Image` object. "
   ]
  },
  {
   "cell_type": "code",
   "execution_count": 11,
   "metadata": {},
   "outputs": [
    {
     "name": "stdout",
     "output_type": "stream",
     "text": [
      "220.6+/-3.4\n"
     ]
    }
   ],
   "source": [
    "print(im.bkg)"
   ]
  },
  {
   "cell_type": "markdown",
   "metadata": {},
   "source": [
    "Above, we have performed the cropping and background subtraction on a single image, a single $q$-vector. \n",
    "However, it is necessary to perform this operation on all of the images, this is achieved through the `crop`  and `bkg_sub` class methods for the `refl` object.\n",
    "So to perform this process on each `.dat` file we run the following. "
   ]
  },
  {
   "cell_type": "code",
   "execution_count": 12,
   "metadata": {},
   "outputs": [
    {
     "name": "stderr",
     "output_type": "stream",
     "text": [
      "100%|██████████| 61/61 [00:17<00:00,  3.57it/s]\n",
      "100%|██████████| 15/15 [00:02<00:00,  5.25it/s]\n",
      "100%|██████████| 14/14 [00:04<00:00,  2.82it/s]\n",
      "100%|██████████| 19/19 [00:04<00:00,  4.30it/s]\n",
      "100%|██████████| 16/16 [00:04<00:00,  3.44it/s]\n"
     ]
    }
   ],
   "source": [
    "refl.crop(crop_around_peak_2d)"
   ]
  },
  {
   "cell_type": "markdown",
   "metadata": {},
   "source": [
    "To pass the correct axis to the `fit_gaussian_1d` function, this should be passed as an element of a dictionary. "
   ]
  },
  {
   "cell_type": "code",
   "execution_count": 13,
   "metadata": {},
   "outputs": [
    {
     "name": "stderr",
     "output_type": "stream",
     "text": [
      "100%|██████████| 61/61 [00:23<00:00,  2.56it/s]\n",
      "100%|██████████| 15/15 [00:03<00:00,  3.99it/s]\n",
      "100%|██████████| 14/14 [00:03<00:00,  4.38it/s]\n",
      "100%|██████████| 19/19 [00:03<00:00,  6.28it/s]\n",
      "100%|██████████| 16/16 [00:02<00:00,  7.37it/s]\n"
     ]
    }
   ],
   "source": [
    "refl.bkg_sub(fit_gaussian_1d, {'axis':0})"
   ]
  },
  {
   "cell_type": "markdown",
   "metadata": {},
   "source": [
    "The width of the Gaussian resolution may be estimated from the detector image, where the value of `qz_dimension` is the axis that corresponds to $q_z$. \n",
    "Since the `fit_gaussian_1d` is performed in axis dimension `0`, the $q_z$ axis is `1`. "
   ]
  },
  {
   "cell_type": "code",
   "execution_count": 14,
   "metadata": {},
   "outputs": [
    {
     "name": "stderr",
     "output_type": "stream",
     "text": [
      "100%|██████████| 61/61 [00:09<00:00,  6.71it/s]\n",
      "100%|██████████| 15/15 [00:02<00:00,  6.87it/s]\n",
      "100%|██████████| 14/14 [00:01<00:00,  7.52it/s]\n",
      "100%|██████████| 19/19 [00:04<00:00,  3.98it/s]\n",
      "100%|██████████| 16/16 [00:04<00:00,  3.81it/s]\n"
     ]
    }
   ],
   "source": [
    "refl.resolution_function(qz_dimension=1, progress=True)"
   ]
  },
  {
   "cell_type": "markdown",
   "metadata": {},
   "source": [
    "## Intensity reduction\n",
    "\n",
    "The image intensity is the summed to give the *unnormalised* reflected intensity, and associated uncertainties."
   ]
  },
  {
   "cell_type": "code",
   "execution_count": 15,
   "metadata": {},
   "outputs": [
    {
     "data": {
      "image/png": "[encoded data removed]",
      "text/plain": [
       "<Figure size 432x288 with 1 Axes>"
      ]
     },
     "metadata": {
      "needs_background": "light"
     },
     "output_type": "display_data"
    }
   ],
   "source": [
    "for s in refl.scans:\n",
    "    plt.errorbar(unp.nominal_values(s.q), \n",
    "                 unp.nominal_values(s.R), \n",
    "                 yerr=unp.std_devs(s.R),\n",
    "                 xerr=unp.std_devs(s.q), \n",
    "                 ls='',\n",
    "                 marker='o')\n",
    "plt.xlabel(r'$q$/Å')\n",
    "plt.ylabel(r'Intensity')\n",
    "plt.yscale('log')\n",
    "plt.show()"
   ]
  },
  {
   "cell_type": "markdown",
   "metadata": {},
   "source": [
    "The first correction is due to the DCD $q$-dependence, this is due to slight deviations in the DCD crystals that lead to changes in the incident radiation intensity.\n",
    "The normalisation curve should have been collected during your beamtime, the `.dat` file that contains this curve should be assigned below."
   ]
  },
  {
   "cell_type": "code",
   "execution_count": 16,
   "metadata": {},
   "outputs": [],
   "source": [
    "normalisation_file = 'qdcd_norm.dat'"
   ]
  },
  {
   "cell_type": "markdown",
   "metadata": {},
   "source": [
    "This normalisation curve is interpolated, as it consists of discrete points which may not match perfectly to the measured $q$, again the `i07_dat_parser` is used as this `.dat` file is from I07.\n",
    "Once interpolated, we can perform the DCD-normalisation"
   ]
  },
  {
   "cell_type": "code",
   "execution_count": 17,
   "metadata": {},
   "outputs": [],
   "source": [
    "itp = get_interpolator(normalisation_file, i07_dat_parser)\n",
    "refl.qdcd_normalisation(itp)"
   ]
  },
  {
   "cell_type": "markdown",
   "metadata": {},
   "source": [
    "The next correction is the [footprint correction](https://doi.org/10.1107/S0021889807030403) which accounts for the sample being smaller than the beam footprint (due to the shallow angle).\n",
    "Where the first argument is the beam width at half maximum, and the second argument is the sample size and uncertainty. "
   ]
  },
  {
   "cell_type": "code",
   "execution_count": 18,
   "metadata": {},
   "outputs": [],
   "source": [
    "refl.footprint_correction(100e-6, ufloat(180e-3, 10e-3))"
   ]
  },
  {
   "cell_type": "markdown",
   "metadata": {},
   "source": [
    "The final correction is the first is due to the transmission of radiation in collection. \n",
    "This brings the intensity of the different scans (which is different due to attenuation variances in data collection) together, to give a familiar reflectometry curve. "
   ]
  },
  {
   "cell_type": "code",
   "execution_count": 19,
   "metadata": {},
   "outputs": [],
   "source": [
    "refl.transmission_normalisation()"
   ]
  },
  {
   "cell_type": "code",
   "execution_count": 20,
   "metadata": {},
   "outputs": [
    {
     "data": {
      "image/png": "[encoded data removed]",
      "text/plain": [
       "<Figure size 432x288 with 1 Axes>"
      ]
     },
     "metadata": {
      "needs_background": "light"
     },
     "output_type": "display_data"
    }
   ],
   "source": [
    "for s in refl.scans:\n",
    "    plt.errorbar(unp.nominal_values(s.q), \n",
    "                 unp.nominal_values(s.R), \n",
    "                 yerr=unp.std_devs(s.R),\n",
    "                 xerr=unp.std_devs(s.q), \n",
    "                 ls='',\n",
    "                 marker='o')\n",
    "plt.xlabel(r'$q$/Å')\n",
    "plt.ylabel(r'Intensity')\n",
    "plt.yscale('log')\n",
    "plt.show()"
   ]
  },
  {
   "cell_type": "markdown",
   "metadata": {},
   "source": [
    "## Stitching and normalisation\n",
    "\n",
    "The main reduction steps are now complete, however the scans must be brought together in a coherent dataset, normalised such that this y-axis reads the Reflectivity ($R$) (where the total external reflection is brought to $R = 1$). "
   ]
  },
  {
   "cell_type": "code",
   "execution_count": 21,
   "metadata": {},
   "outputs": [],
   "source": [
    "refl.concatenate()\n",
    "refl.normalise_ter()"
   ]
  },
  {
   "cell_type": "code",
   "execution_count": 22,
   "metadata": {},
   "outputs": [
    {
     "data": {
      "image/png": "[encoded data removed]",
      "text/plain": [
       "<Figure size 432x288 with 1 Axes>"
      ]
     },
     "metadata": {
      "needs_background": "light"
     },
     "output_type": "display_data"
    }
   ],
   "source": [
    "plt.errorbar(refl.q, refl.R, yerr=refl.dR, xerr=refl.dq, marker='o', ls='')\n",
    "plt.xlabel(r'$q$/Å')\n",
    "plt.ylabel(r'$R$')\n",
    "plt.yscale('log')\n",
    "plt.show()"
   ]
  },
  {
   "cell_type": "markdown",
   "metadata": {},
   "source": [
    "Now, we have the option to rebin the data. \n",
    "The code below will rebin the data onto 50, logarithmically distributed points in $q$. "
   ]
  },
  {
   "cell_type": "code",
   "execution_count": 23,
   "metadata": {},
   "outputs": [],
   "source": [
    "refl.rebin(number_of_q_vectors=50)"
   ]
  },
  {
   "cell_type": "code",
   "execution_count": 24,
   "metadata": {},
   "outputs": [
    {
     "data": {
      "image/png": "[encoded data removed]",
      "text/plain": [
       "<Figure size 432x288 with 1 Axes>"
      ]
     },
     "metadata": {
      "needs_background": "light"
     },
     "output_type": "display_data"
    }
   ],
   "source": [
    "plt.errorbar(refl.q, refl.R, yerr=refl.dR, xerr=refl.dq, marker='o', ls='')\n",
    "plt.xlabel(r'$q$/Å')\n",
    "plt.ylabel(r'$R$')\n",
    "plt.yscale('log')\n",
    "plt.show()"
   ]
  },
  {
   "cell_type": "markdown",
   "metadata": {},
   "source": [
    "## Saving data\n",
    "\n",
    "The last step is to save the data, this can be achieved with the `np.savetxt` function, and will output a four column text file that can be read in to most analysis packages."
   ]
  },
  {
   "cell_type": "code",
   "execution_count": 25,
   "metadata": {},
   "outputs": [],
   "source": [
    "data = np.array([refl.q, refl.R, refl.dR, refl.dq]).T\n",
    "np.savetxt('refl_reduced.txt', data, header='q R dR dq')"
   ]
  }
 ],
 "metadata": {
  "kernelspec": {
   "display_name": "Python 3",
   "language": "python",
   "name": "python3"
  },
  "language_info": {
   "codemirror_mode": {
    "name": "ipython",
    "version": 3
   },
   "file_extension": ".py",
   "mimetype": "text/x-python",
   "name": "python",
   "nbconvert_exporter": "python",
   "pygments_lexer": "ipython3",
   "version": "3.7.6"
  }
 },
 "nbformat": 4,
 "nbformat_minor": 4
}
