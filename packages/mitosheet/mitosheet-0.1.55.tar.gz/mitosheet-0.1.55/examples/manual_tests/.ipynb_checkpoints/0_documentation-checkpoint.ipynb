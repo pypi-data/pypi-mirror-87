{
 "cells": [
  {
   "cell_type": "code",
   "execution_count": null,
   "metadata": {},
   "outputs": [],
   "source": [
    "\"\"\"\n",
    "This file should test the documentation is working as expected.\n",
    "\n",
    "Instructions:\n",
    "1. Click the documentation button in the toolbar. \n",
    "2. Scroll through the documentation and select 2 random functions, and make sure they have the correct information.\n",
    "    - Read the documentation in full, see if you notice any errors!\n",
    "    - Mark down what functions you look at.\n",
    "3. Close the documentation.\n",
    "4. Create three new columns, named Column1, Column2, and AVG. Set Column1 =1\n",
    "5. In AVG, write =Column and see both columns appear in the suggestion box. Take Column1, and then press enter (and the formula should submit).\n",
    "6. In Column2, write =AVG, and see both the average function and the average column. Try taking both respectively, and make sure they autofill the column correctly. \n",
    "\"\"\"\n",
    "import mitosheet\n",
    "import pandas as pd\n",
    "\n",
    "df = pd.DataFrame(data={'Names': [\"Jake Diamond-Revich\", \"Aaron Diamond-Reivich\", \"Nate Rush\"]})\n",
    "mitosheet.sheet(df)"
   ]
  }
 ],
 "metadata": {
  "kernelspec": {
   "display_name": "Python 3",
   "language": "python",
   "name": "python3"
  },
  "language_info": {
   "codemirror_mode": {
    "name": "ipython",
    "version": 3
   },
   "file_extension": ".py",
   "mimetype": "text/x-python",
   "name": "python",
   "nbconvert_exporter": "python",
   "pygments_lexer": "ipython3",
   "version": "3.8.5"
  },
  "widgets": {
   "application/vnd.jupyter.widget-state+json": {
    "state": {
     "4fe34c4406b04ebab739007ad47e146c": {
      "model_module": "@jupyter-widgets/base",
      "model_module_version": "1.2.0",
      "model_name": "LayoutModel",
      "state": {}
     },
     "cf966ff4dd3d4246a604293fb69c2113": {
      "model_module": "mitosheet",
      "model_module_version": "^0.1.47",
      "model_name": "ExampleModel",
      "state": {
       "_model_module_version": "^0.1.47",
       "_view_module_version": "^0.1.47",
       "analysis_name": "UUID-5d655dfc-2168-4bff-9bea-7d44b29ba17a",
       "code_json": "{\"imports\": \"from mitosheet import *\", \"code\": []}",
       "column_filters_json": "[{\"Names\": {\"operator\": \"And\", \"filters\": []}}]",
       "column_spreadsheet_code_json": "[{\"Names\": \"\"}]",
       "column_type_json": "[{\"Names\": \"string\"}]",
       "df_names_json": "{\"df_names\": [\"df\"]}",
       "df_shape_json": "[{\"rows\": 3, \"cols\": 1}]",
       "layout": "IPY_MODEL_4fe34c4406b04ebab739007ad47e146c",
       "saved_analysis_names_json": "[\"Test\"]",
       "sheet_json": "[{\"columns\": [\"Names\"], \"index\": [0, 1, 2], \"data\": [[\"Jake Diamond-Revich\"], [\"Aaron Diamond-Reivich\"], [\"Nate Rush\"]]}]",
       "user_id": "nate",
       "value": "Hello World"
      }
     }
    },
    "version_major": 2,
    "version_minor": 0
   }
  }
 },
 "nbformat": 4,
 "nbformat_minor": 4
}
